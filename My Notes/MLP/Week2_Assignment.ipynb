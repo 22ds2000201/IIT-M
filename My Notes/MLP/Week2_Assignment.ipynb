{
 "cells": [
  {
   "cell_type": "code",
   "execution_count": 1,
   "id": "52b2f636",
   "metadata": {},
   "outputs": [],
   "source": [
    "import matplotlib.pyplot as plt\n",
    "import numpy as np\n",
    "import pandas as pd"
   ]
  },
  {
   "cell_type": "code",
   "execution_count": 2,
   "id": "46ddd8d7",
   "metadata": {},
   "outputs": [],
   "source": [
    "cols = [\"V1\",\"V2\",\"V3\",\"V4\", \"V5\", \"Target\"]\n",
    "assignment = pd.read_csv(\"Assignment.csv\", encoding='utf-8', header=None, names=cols)"
   ]
  },
  {
   "cell_type": "code",
   "execution_count": 3,
   "id": "5bddb3dd",
   "metadata": {
    "scrolled": false
   },
   "outputs": [],
   "source": [
    "assignment = assignment.iloc[1:,:-1] # to skip the header and label"
   ]
  },
  {
   "cell_type": "code",
   "execution_count": 4,
   "id": "1be81ef2",
   "metadata": {},
   "outputs": [
    {
     "data": {
      "text/html": [
       "<div>\n",
       "<style scoped>\n",
       "    .dataframe tbody tr th:only-of-type {\n",
       "        vertical-align: middle;\n",
       "    }\n",
       "\n",
       "    .dataframe tbody tr th {\n",
       "        vertical-align: top;\n",
       "    }\n",
       "\n",
       "    .dataframe thead th {\n",
       "        text-align: right;\n",
       "    }\n",
       "</style>\n",
       "<table border=\"1\" class=\"dataframe\">\n",
       "  <thead>\n",
       "    <tr style=\"text-align: right;\">\n",
       "      <th></th>\n",
       "      <th>V1</th>\n",
       "      <th>V2</th>\n",
       "      <th>V3</th>\n",
       "      <th>V4</th>\n",
       "      <th>V5</th>\n",
       "    </tr>\n",
       "  </thead>\n",
       "  <tbody>\n",
       "    <tr>\n",
       "      <th>count</th>\n",
       "      <td>748</td>\n",
       "      <td>748</td>\n",
       "      <td>748</td>\n",
       "      <td>748</td>\n",
       "      <td>748</td>\n",
       "    </tr>\n",
       "    <tr>\n",
       "      <th>unique</th>\n",
       "      <td>32</td>\n",
       "      <td>33</td>\n",
       "      <td>33</td>\n",
       "      <td>78</td>\n",
       "      <td>1</td>\n",
       "    </tr>\n",
       "    <tr>\n",
       "      <th>top</th>\n",
       "      <td>2.0</td>\n",
       "      <td>1.0</td>\n",
       "      <td>250.0</td>\n",
       "      <td>4.0</td>\n",
       "      <td>NEGATIVE</td>\n",
       "    </tr>\n",
       "    <tr>\n",
       "      <th>freq</th>\n",
       "      <td>171</td>\n",
       "      <td>158</td>\n",
       "      <td>158</td>\n",
       "      <td>57</td>\n",
       "      <td>748</td>\n",
       "    </tr>\n",
       "  </tbody>\n",
       "</table>\n",
       "</div>"
      ],
      "text/plain": [
       "         V1   V2     V3   V4        V5\n",
       "count   748  748    748  748       748\n",
       "unique   32   33     33   78         1\n",
       "top     2.0  1.0  250.0  4.0  NEGATIVE\n",
       "freq    171  158    158   57       748"
      ]
     },
     "execution_count": 4,
     "metadata": {},
     "output_type": "execute_result"
    }
   ],
   "source": [
    "assignment.describe() # why is this not showing all details?"
   ]
  },
  {
   "cell_type": "code",
   "execution_count": 5,
   "id": "817ef0be",
   "metadata": {
    "scrolled": true
   },
   "outputs": [
    {
     "name": "stdout",
     "output_type": "stream",
     "text": [
      "5\n",
      "5\n",
      "0\n",
      "0\n",
      "0\n"
     ]
    }
   ],
   "source": [
    "#how many features have unknowns; and what's the total number of unknowns\n",
    "print((assignment['V1'] == \"?\").sum())\n",
    "print((assignment['V2'] == \"?\").sum())\n",
    "print((assignment['V3'] == \"?\").sum())\n",
    "print((assignment['V4'] == \"?\").sum())\n",
    "print((assignment['V5'] == \"?\").sum())"
   ]
  },
  {
   "cell_type": "code",
   "execution_count": 6,
   "id": "a64ecb5b",
   "metadata": {},
   "outputs": [],
   "source": [
    "assignment.replace(\"?\", 0, inplace=True) # replace all ? by np.nan\n",
    "assignment.replace('NEGATIVE', 1, inplace=True)"
   ]
  },
  {
   "cell_type": "code",
   "execution_count": 7,
   "id": "cdf7d887",
   "metadata": {},
   "outputs": [],
   "source": [
    "V1 = assignment['V1'].astype(float)\n",
    "V2 = assignment['V2'].astype(float)\n",
    "V3 = assignment['V3'].astype(float)\n",
    "V4 = assignment['V4'].astype(float)\n",
    "V5 = assignment['V5'].astype(float)"
   ]
  },
  {
   "cell_type": "code",
   "execution_count": 8,
   "id": "a1d69147",
   "metadata": {
    "scrolled": true
   },
   "outputs": [
    {
     "name": "stdout",
     "output_type": "stream",
     "text": [
      "65.5868966084245 33.565643855986664 2128245.173403577 593.4297860247633 0.0\n"
     ]
    }
   ],
   "source": [
    "print(np.var(V1), np.var(V2), np.var(V3), np.var(V4), np.var(V5))"
   ]
  },
  {
   "cell_type": "code",
   "execution_count": 9,
   "id": "faba7ff2",
   "metadata": {},
   "outputs": [
    {
     "data": {
      "text/plain": [
       "5.427807486631016"
      ]
     },
     "execution_count": 9,
     "metadata": {},
     "output_type": "execute_result"
    }
   ],
   "source": [
    "from sklearn.impute import SimpleImputer\n",
    "si = SimpleImputer(strategy='median')\n",
    "si.fit_transform(assignment)[:,1].mean()"
   ]
  },
  {
   "cell_type": "code",
   "execution_count": 10,
   "id": "01e5047e",
   "metadata": {
    "scrolled": true
   },
   "outputs": [
    {
     "data": {
      "text/plain": [
       "9.498663101604278"
      ]
     },
     "execution_count": 10,
     "metadata": {},
     "output_type": "execute_result"
    }
   ],
   "source": [
    "from sklearn.impute import KNNImputer\n",
    "knn = KNNImputer(n_neighbors=3)\n",
    "knn.fit_transform(assignment)[:,0].mean()"
   ]
  },
  {
   "cell_type": "code",
   "execution_count": 11,
   "id": "d0caf588",
   "metadata": {
    "scrolled": true
   },
   "outputs": [
    {
     "data": {
      "text/plain": [
       "{'whiskers': [<matplotlib.lines.Line2D at 0x28437073d90>,\n",
       "  <matplotlib.lines.Line2D at 0x2843708e0a0>],\n",
       " 'caps': [<matplotlib.lines.Line2D at 0x2843708e430>,\n",
       "  <matplotlib.lines.Line2D at 0x2843708e7c0>],\n",
       " 'boxes': [<matplotlib.lines.Line2D at 0x28437073940>],\n",
       " 'medians': [<matplotlib.lines.Line2D at 0x2843708eb50>],\n",
       " 'fliers': [<matplotlib.lines.Line2D at 0x2843708eee0>],\n",
       " 'means': []}"
      ]
     },
     "execution_count": 11,
     "metadata": {},
     "output_type": "execute_result"
    },
    {
     "data": {
      "image/png": "[encoded data removed]",
      "text/plain": [
       "<Figure size 432x288 with 1 Axes>"
      ]
     },
     "metadata": {
      "needs_background": "light"
     },
     "output_type": "display_data"
    }
   ],
   "source": [
    "plt.boxplot(V2) #has the least number of outliers compared to V2 and V3"
   ]
  }
 ],
 "metadata": {
  "kernelspec": {
   "display_name": "Python 3 (ipykernel)",
   "language": "python",
   "name": "python3"
  },
  "language_info": {
   "codemirror_mode": {
    "name": "ipython",
    "version": 3
   },
   "file_extension": ".py",
   "mimetype": "text/x-python",
   "name": "python",
   "nbconvert_exporter": "python",
   "pygments_lexer": "ipython3",
   "version": "3.9.7"
  }
 },
 "nbformat": 4,
 "nbformat_minor": 5
}
