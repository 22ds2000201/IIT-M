{
 "cells": [
  {
   "cell_type": "markdown",
   "metadata": {},
   "source": [
    "### Practice Programming"
   ]
  },
  {
   "cell_type": "markdown",
   "metadata": {},
   "source": [
    "1. Define a function `ConfusionMatrix(y,y_hat)` for binary classification and return a matrix in the following format: `[[TN,FP],[FN,TP]]`\n",
    " \n",
    "  1. Inputs:  y: 1 x n, y_hat: 1 x n \n",
    "  2. Output: 2D numpy array."
   ]
  },
  {
   "cell_type": "code",
   "execution_count": 1,
   "metadata": {},
   "outputs": [],
   "source": [
    "import numpy as np\n",
    "def ConfusionMatrix(y_hat,y):\n",
    "    TP = np.where((y == 1) & (y_hat == 1), 1, 0).sum()\n",
    "    TN = np.where((y == 0) & (y_hat == 0), 1, 0).sum()\n",
    "    FN = np.where((y == 1) & (y_hat == 0), 1, 0).sum()\n",
    "    FP = np.where((y == 0) & (y_hat == 1), 1, 0).sum()\n",
    "\n",
    "    return np.array([[TN, FP],[FN, TP]])"
   ]
  },
  {
   "cell_type": "markdown",
   "metadata": {},
   "source": [
    "2. Define a function `is_binary(y)` to check whether the label vector y belongs to binary classification or not. If the labels are binary then return True (i.e., state=True (Boolean))  else return False (i.e., state = False).\n",
    "\n",
    "All elements in y are integer numbers (not the datatype)."
   ]
  },
  {
   "cell_type": "code",
   "execution_count": 2,
   "metadata": {},
   "outputs": [],
   "source": [
    "import numpy as np\n",
    "def is_binary(y):\n",
    "    if len(np.unique(y)) == 2:\n",
    "        state = True\n",
    "    else:\n",
    "        state = False\n",
    "\n",
    "    return state"
   ]
  },
  {
   "cell_type": "markdown",
   "metadata": {},
   "source": [
    "3. Write a function `percep_loss(X,w,y,i)` to compute the perceptron loss for all \n",
    "the sample in $X$ and return the loss for individual samples in a vector."
   ]
  },
  {
   "cell_type": "code",
   "execution_count": 3,
   "metadata": {},
   "outputs": [],
   "source": [
    "import numpy as np\n",
    "def percep_loss(x,w,y):\n",
    "    z = x @ w\n",
    "    y_predict = np.where (z >= 0, 1, -1)\n",
    "    \n",
    "    samplewise_loss = np.maximum(-1 * y_predict * y, np.zeros(y.shape[0]))\n",
    "    return samplewise_loss"
   ]
  },
  {
   "cell_type": "markdown",
   "metadata": {},
   "source": [
    "### Graded Programming"
   ]
  },
  {
   "cell_type": "markdown",
   "metadata": {},
   "source": [
    "1. Write a function OneHotEncode(y) to convert integer labels to one hot-encoded labels."
   ]
  },
  {
   "cell_type": "code",
   "execution_count": 4,
   "metadata": {},
   "outputs": [
    {
     "ename": "SyntaxError",
     "evalue": "invalid syntax (<ipython-input-4-efa3239ba51b>, line 1)",
     "output_type": "error",
     "traceback": [
      "\u001b[1;36m  File \u001b[1;32m\"<ipython-input-4-efa3239ba51b>\"\u001b[1;36m, line \u001b[1;32m1\u001b[0m\n\u001b[1;33m    lpsruw qxpsb dv qs\u001b[0m\n\u001b[1;37m               ^\u001b[0m\n\u001b[1;31mSyntaxError\u001b[0m\u001b[1;31m:\u001b[0m invalid syntax\n"
     ]
    }
   ],
   "source": [
    "lpsruw qxpsb dv qs\n",
    "ghi OqhHrwEqfrgh(b):\n",
    "  # Wulwh brxu frgh khuh\n",
    "  qxp_fodvvhv = qs.pda(b) + 1\n",
    "  hqfrghu = qs.hbh(qxp_fodvvhv)\n",
    "  uhwxuq hqfrghu[b]"
   ]
  },
  {
   "cell_type": "markdown",
   "metadata": {},
   "source": [
    "Implement the perceptron weight update rule. Name the function as `update(x,w,y,epoch)` to update the weight vector over n epochs and returns the history of the weight updates as a matrix (or a vector if there is only one feature). \n",
    "* The row represents the weight values at ith epoch. The zeroth row represents the weight value at epoch zero (that is the one directly passed an argument to the function).\n",
    "\n",
    "[Note: Keep learning rate alpha as 1.0]"
   ]
  },
  {
   "cell_type": "code",
   "execution_count": 5,
   "metadata": {
    "scrolled": false
   },
   "outputs": [],
   "source": [
    "def predict(X, w):\n",
    "    z = X @ w\n",
    "    return np.where (z >= 0, 1, -1)\n",
    "\n",
    "def update(x,w,y,epochs):\n",
    "    #print(x.shape, w.shape, y.shape)\n",
    "    history = []\n",
    "    for i in np.arange(0, epochs):\n",
    "        for xi, target in zip(x, y):\n",
    "            #print(f'{i}. x is {xi.shape}, target is {target} and of shape {target.shape}')\n",
    "            w += (target - predict(xi, w)) * xi\n",
    "        history.append(w)\n",
    "    return np.array(history)"
   ]
  },
  {
   "cell_type": "code",
   "execution_count": 6,
   "metadata": {
    "scrolled": false
   },
   "outputs": [
    {
     "name": "stdout",
     "output_type": "stream",
     "text": [
      "[[ 38.09832599 -15.50276503]\n",
      " [ 38.09832599 -15.50276503]\n",
      " [ 38.09832599 -15.50276503]\n",
      " [ 38.09832599 -15.50276503]\n",
      " [ 38.09832599 -15.50276503]\n",
      " [ 38.09832599 -15.50276503]\n",
      " [ 38.09832599 -15.50276503]\n",
      " [ 38.09832599 -15.50276503]\n",
      " [ 38.09832599 -15.50276503]\n",
      " [ 38.09832599 -15.50276503]\n",
      " [ 38.09832599 -15.50276503]\n",
      " [ 38.09832599 -15.50276503]\n",
      " [ 38.09832599 -15.50276503]\n",
      " [ 38.09832599 -15.50276503]\n",
      " [ 38.09832599 -15.50276503]\n",
      " [ 38.09832599 -15.50276503]\n",
      " [ 38.09832599 -15.50276503]\n",
      " [ 38.09832599 -15.50276503]\n",
      " [ 38.09832599 -15.50276503]\n",
      " [ 38.09832599 -15.50276503]\n",
      " [ 38.09832599 -15.50276503]\n",
      " [ 38.09832599 -15.50276503]\n",
      " [ 38.09832599 -15.50276503]\n",
      " [ 38.09832599 -15.50276503]\n",
      " [ 38.09832599 -15.50276503]\n",
      " [ 38.09832599 -15.50276503]\n",
      " [ 38.09832599 -15.50276503]\n",
      " [ 38.09832599 -15.50276503]\n",
      " [ 38.09832599 -15.50276503]\n",
      " [ 38.09832599 -15.50276503]\n",
      " [ 38.09832599 -15.50276503]\n",
      " [ 38.09832599 -15.50276503]\n",
      " [ 38.09832599 -15.50276503]\n",
      " [ 38.09832599 -15.50276503]\n",
      " [ 38.09832599 -15.50276503]\n",
      " [ 38.09832599 -15.50276503]\n",
      " [ 38.09832599 -15.50276503]\n",
      " [ 38.09832599 -15.50276503]\n",
      " [ 38.09832599 -15.50276503]\n",
      " [ 38.09832599 -15.50276503]\n",
      " [ 38.09832599 -15.50276503]\n",
      " [ 38.09832599 -15.50276503]\n",
      " [ 38.09832599 -15.50276503]\n",
      " [ 38.09832599 -15.50276503]\n",
      " [ 38.09832599 -15.50276503]\n",
      " [ 38.09832599 -15.50276503]\n",
      " [ 38.09832599 -15.50276503]\n",
      " [ 38.09832599 -15.50276503]\n",
      " [ 38.09832599 -15.50276503]\n",
      " [ 38.09832599 -15.50276503]\n",
      " [ 38.09832599 -15.50276503]\n",
      " [ 38.09832599 -15.50276503]\n",
      " [ 38.09832599 -15.50276503]\n",
      " [ 38.09832599 -15.50276503]\n",
      " [ 38.09832599 -15.50276503]\n",
      " [ 38.09832599 -15.50276503]\n",
      " [ 38.09832599 -15.50276503]\n",
      " [ 38.09832599 -15.50276503]\n",
      " [ 38.09832599 -15.50276503]\n",
      " [ 38.09832599 -15.50276503]\n",
      " [ 38.09832599 -15.50276503]\n",
      " [ 38.09832599 -15.50276503]\n",
      " [ 38.09832599 -15.50276503]\n",
      " [ 38.09832599 -15.50276503]\n",
      " [ 38.09832599 -15.50276503]\n",
      " [ 38.09832599 -15.50276503]\n",
      " [ 38.09832599 -15.50276503]\n",
      " [ 38.09832599 -15.50276503]\n",
      " [ 38.09832599 -15.50276503]\n",
      " [ 38.09832599 -15.50276503]\n",
      " [ 38.09832599 -15.50276503]\n",
      " [ 38.09832599 -15.50276503]\n",
      " [ 38.09832599 -15.50276503]\n",
      " [ 38.09832599 -15.50276503]\n",
      " [ 38.09832599 -15.50276503]\n",
      " [ 38.09832599 -15.50276503]\n",
      " [ 38.09832599 -15.50276503]\n",
      " [ 38.09832599 -15.50276503]\n",
      " [ 38.09832599 -15.50276503]\n",
      " [ 38.09832599 -15.50276503]\n",
      " [ 38.09832599 -15.50276503]\n",
      " [ 38.09832599 -15.50276503]\n",
      " [ 38.09832599 -15.50276503]\n",
      " [ 38.09832599 -15.50276503]\n",
      " [ 38.09832599 -15.50276503]\n",
      " [ 38.09832599 -15.50276503]\n",
      " [ 38.09832599 -15.50276503]\n",
      " [ 38.09832599 -15.50276503]\n",
      " [ 38.09832599 -15.50276503]\n",
      " [ 38.09832599 -15.50276503]\n",
      " [ 38.09832599 -15.50276503]\n",
      " [ 38.09832599 -15.50276503]\n",
      " [ 38.09832599 -15.50276503]\n",
      " [ 38.09832599 -15.50276503]\n",
      " [ 38.09832599 -15.50276503]\n",
      " [ 38.09832599 -15.50276503]\n",
      " [ 38.09832599 -15.50276503]\n",
      " [ 38.09832599 -15.50276503]\n",
      " [ 38.09832599 -15.50276503]\n",
      " [ 38.09832599 -15.50276503]]\n"
     ]
    }
   ],
   "source": [
    "#Testing it\n",
    "x = np.linspace(1,10,100).reshape(50,2)\n",
    "w = np.array([-0.44712856,  1.2245077])\n",
    "y = np.concatenate(((np.zeros(25) - 1), np.ones(25)))\n",
    "print(update(x, w, y, 100))"
   ]
  },
  {
   "cell_type": "markdown",
   "metadata": {},
   "source": [
    "3. Implement a function with a name `is_linearly_separable()` that takes in data matrix with a dummy feature (X) and label vector (y). The function returns True if the datapoints are linearly separable, False otherwise.\n",
    "\n",
    "Note: The maximum number of epochs should not exceed 10."
   ]
  },
  {
   "cell_type": "code",
   "execution_count": 7,
   "metadata": {},
   "outputs": [],
   "source": [
    "class Perceptron(object):\n",
    "    def __init__(self):\n",
    "        pass\n",
    "    \n",
    "    def predict(self, X):\n",
    "        z = X @ self.w\n",
    "        return np.where (z >= 0, 1, -1)\n",
    "    \n",
    "    def train(self, X, y, num_epochs, lr=0.001):\n",
    "        self.w = np.linalg.solve(X.T @ X + lr * np.eye(X.shape[-1]), X.T@y)\n",
    "        self.w_all = []\n",
    "        for i in np.arange(0, num_epochs):\n",
    "            for xi, target in zip(X, y):\n",
    "                self.w += lr * (target - self.predict(xi)) * xi\n",
    "            self.w_all.append(self.w)\n",
    "        return self.w_all"
   ]
  },
  {
   "cell_type": "code",
   "execution_count": 9,
   "metadata": {},
   "outputs": [],
   "source": [
    "def is_linearly_separable(X,y):\n",
    "  # write your code here\n",
    "    p = Perceptron()\n",
    "    w_all = p.train(X, y, num_epochs=10)\n",
    "    return np.allclose(w_all[-1], w_all[-2])"
   ]
  }
 ],
 "metadata": {
  "kernelspec": {
   "display_name": "Python 3",
   "language": "python",
   "name": "python3"
  },
  "language_info": {
   "codemirror_mode": {
    "name": "ipython",
    "version": 3
   },
   "file_extension": ".py",
   "mimetype": "text/x-python",
   "name": "python",
   "nbconvert_exporter": "python",
   "pygments_lexer": "ipython3",
   "version": "3.7.4"
  }
 },
 "nbformat": 4,
 "nbformat_minor": 2
}
