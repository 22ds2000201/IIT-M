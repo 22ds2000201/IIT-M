{
 "cells": [
  {
   "cell_type": "code",
   "execution_count": 1,
   "metadata": {},
   "outputs": [
    {
     "name": "stderr",
     "output_type": "stream",
     "text": [
      "D:\\Anaconda3\\lib\\site-packages\\statsmodels\\tools\\_testing.py:19: FutureWarning: pandas.util.testing is deprecated. Use the functions in the public API at pandas.testing instead.\n",
      "  import pandas.util.testing as tm\n"
     ]
    }
   ],
   "source": [
    "import numpy as np\n",
    "import seaborn as sns\n",
    "import matplotlib.pyplot as plt"
   ]
  },
  {
   "cell_type": "code",
   "execution_count": 2,
   "metadata": {},
   "outputs": [],
   "source": [
    "#Parameters\n",
    "w0 = 3\n",
    "w1 = 4\n",
    "n = 100"
   ]
  },
  {
   "cell_type": "code",
   "execution_count": 3,
   "metadata": {},
   "outputs": [
    {
     "data": {
      "text/plain": [
       "array([7.38607933, 9.13283971, 3.37627704, 0.4782115 , 5.88186651,\n",
       "       8.19449177, 5.03672778, 4.97168548, 7.97828306, 5.51646707,\n",
       "       3.35732915, 7.81174882, 3.93486276, 2.06783924, 8.94165754,\n",
       "       7.46440485, 9.22051249, 3.15132487, 3.02087338, 4.96158462,\n",
       "       5.16013797, 9.65007166, 9.82296593, 2.1290948 , 1.85233282,\n",
       "       9.76063686, 8.54780871, 4.05139275, 0.49870733, 0.90111392,\n",
       "       9.6455881 , 1.73119371, 5.92278684, 4.55736853, 8.62608816,\n",
       "       0.79545271, 0.18019982, 9.27128991, 7.57483297, 3.30258072,\n",
       "       7.2486728 , 2.08693991, 2.27640073, 1.57511315, 3.39420102,\n",
       "       6.39263938, 8.56139699, 8.91647185, 2.69973289, 7.57767453,\n",
       "       6.58233518, 9.22870318, 4.5704311 , 9.10105707, 6.08456045,\n",
       "       5.98821083, 7.07536763, 6.94089982, 8.97551121, 7.53148627,\n",
       "       5.71645459, 2.8026149 , 3.34828769, 6.24067134, 2.39306811,\n",
       "       7.8317752 , 5.95678185, 6.66857619, 3.5230906 , 5.52260818,\n",
       "       9.00515308, 5.54371245, 1.7047802 , 5.54916627, 2.91520385,\n",
       "       9.17538133, 6.61273238, 1.37628771, 1.96349635, 3.13545058,\n",
       "       2.16261761, 9.71060867, 4.49530619, 7.68932801, 2.76694236,\n",
       "       1.93552626, 7.37350409, 4.16846593, 2.50419922, 8.05224348,\n",
       "       7.76682249, 8.79474001, 3.74348137, 1.67552335, 2.72975653,\n",
       "       0.76685285, 0.83482902, 7.24747211, 5.87935799, 6.19452668])"
      ]
     },
     "execution_count": 3,
     "metadata": {},
     "output_type": "execute_result"
    }
   ],
   "source": [
    "#Creates a column vector with 100 rows.\n",
    "X = 10 * np.random.random(n, )\n",
    "X"
   ]
  },
  {
   "cell_type": "code",
   "execution_count": 4,
   "metadata": {},
   "outputs": [
    {
     "data": {
      "text/plain": [
       "array([33.38211998, 39.66035143, 17.00342099,  5.51545533, 26.53847948,\n",
       "       36.61344444, 24.05574671, 23.00877478, 35.58497593, 25.46318857,\n",
       "       17.24439249, 34.97497434, 19.00298716, 11.87087452, 39.24631359,\n",
       "       33.38805517, 40.4236701 , 16.4565941 , 15.82479225, 23.5246319 ,\n",
       "       24.03613944, 41.64064446, 42.5143796 , 11.79326669, 10.62928572,\n",
       "       42.54708197, 37.51491163, 20.06638684,  5.61754286,  7.33128173,\n",
       "       42.29696618, 10.80838657, 27.30374585, 21.47003131, 37.79279651,\n",
       "        6.9815055 ,  4.42680442, 40.22019782, 33.88396993, 16.50277959,\n",
       "       32.31289825, 12.23375965, 12.28922994, 10.06715351, 16.88813151,\n",
       "       28.59982662, 37.64448862, 39.5838812 , 13.99591675, 33.83510114,\n",
       "       29.57303004, 40.68826104, 21.35201731, 40.38602646, 27.3998404 ,\n",
       "       27.11059398, 32.04932638, 30.95910515, 39.73612448, 34.0727499 ,\n",
       "       26.80346711, 14.59880706, 16.44485171, 28.6285379 , 13.35619946,\n",
       "       35.1770123 , 27.61415574, 30.64491676, 17.45226384, 25.76338972,\n",
       "       39.65789548, 25.83544279, 10.16324185, 25.91138317, 15.33780439,\n",
       "       39.76664505, 30.30650731,  9.44214352, 11.26183931, 16.06280727,\n",
       "       12.313803  , 41.92608962, 21.50965182, 34.20229336, 14.11165923,\n",
       "       11.34813578, 33.43918207, 20.11744987, 13.37334622, 35.6175746 ,\n",
       "       34.8839825 , 38.91866463, 18.53047599, 10.37889536, 14.28415277,\n",
       "        6.99244957,  6.41520115, 32.96835121, 27.11056982, 28.01514311])"
      ]
     },
     "execution_count": 4,
     "metadata": {},
     "output_type": "execute_result"
    }
   ],
   "source": [
    "y = w0 + w1 * X + np.random.random(n,)\n",
    "y"
   ]
  },
  {
   "cell_type": "code",
   "execution_count": 5,
   "metadata": {},
   "outputs": [
    {
     "name": "stdout",
     "output_type": "stream",
     "text": [
      "Shape of feature matrix(X) is (100,)\n",
      "Shape of labels(y) is (100,)\n"
     ]
    }
   ],
   "source": [
    "print(f'Shape of feature matrix(X) is {X.shape}')\n",
    "print(f'Shape of labels(y) is {y.shape}')"
   ]
  },
  {
   "cell_type": "code",
   "execution_count": 6,
   "metadata": {},
   "outputs": [],
   "source": [
    "from sklearn.model_selection import train_test_split\n",
    "#42 is the seed, and allows same split to occur everytime the function is executed.\n",
    "X_train, X_test, y_train, y_test = train_test_split(X, y, test_size=0.2, random_state=42) "
   ]
  },
  {
   "cell_type": "code",
   "execution_count": 7,
   "metadata": {},
   "outputs": [
    {
     "name": "stdout",
     "output_type": "stream",
     "text": [
      "80% of examples is assigned to feature training set\n",
      "\n",
      "[5.98821083 2.50419922 8.54780871 2.27640073 5.52260818 7.46440485\n",
      " 7.2486728  0.83482902 5.51646707 1.7047802  7.81174882 8.91647185\n",
      " 1.93552626 0.49870733 1.67552335 8.19449177 5.95678185 7.8317752\n",
      " 0.79545271 9.22051249 7.57767453 8.62608816 4.97168548 0.76685285\n",
      " 4.05139275 4.96158462 9.71060867 9.76063686 3.34828769 2.06783924\n",
      " 1.85233282 0.4782115  3.15132487 7.57483297 7.97828306 1.96349635\n",
      " 5.03672778 2.39306811 0.18019982 8.05224348 7.07536763 6.19452668\n",
      " 6.08456045 1.57511315 6.58233518 6.66857619 8.56139699 3.5230906\n",
      " 2.8026149  7.24747211 3.13545058 2.08693991 8.97551121 2.69973289\n",
      " 5.87935799 6.94089982 9.17538133 5.92278684 2.72975653 7.53148627\n",
      " 6.24067134 2.76694236 9.27128991 0.90111392 9.13283971 4.5704311\n",
      " 9.65007166 3.37627704 2.1290948  4.16846593 8.79474001 2.91520385\n",
      " 7.37350409 4.49530619 5.16013797 5.71645459 5.54371245 8.94165754\n",
      " 3.74348137 9.22870318]\n"
     ]
    }
   ],
   "source": [
    "print(f\"{int(100 * len(X_train)/len(X))}% of examples is assigned to feature training set\\n\")\n",
    "\n",
    "print(X_train)"
   ]
  },
  {
   "cell_type": "code",
   "execution_count": 8,
   "metadata": {},
   "outputs": [
    {
     "name": "stdout",
     "output_type": "stream",
     "text": [
      "20% of examples is assigned to feature test set\n",
      "\n"
     ]
    },
    {
     "data": {
      "text/plain": [
       "array([7.68932801, 9.10105707, 9.00515308, 6.39263938, 3.39420102,\n",
       "       3.30258072, 9.82296593, 2.16261761, 3.35732915, 7.38607933,\n",
       "       3.02087338, 9.6455881 , 5.54916627, 4.55736853, 7.76682249,\n",
       "       5.88186651, 6.61273238, 1.37628771, 3.93486276, 1.73119371])"
      ]
     },
     "execution_count": 8,
     "metadata": {},
     "output_type": "execute_result"
    }
   ],
   "source": [
    "print(f\"{int(100 * len(X_test)/len(X))}% of examples is assigned to feature test set\\n\")\n",
    "\n",
    "X_test"
   ]
  },
  {
   "cell_type": "code",
   "execution_count": 9,
   "metadata": {},
   "outputs": [
    {
     "name": "stdout",
     "output_type": "stream",
     "text": [
      "80% of labels is assigned to label training set\n",
      "\n"
     ]
    },
    {
     "data": {
      "text/plain": [
       "array([27.11059398, 13.37334622, 37.51491163, 12.28922994, 25.76338972,\n",
       "       33.38805517, 32.31289825,  6.41520115, 25.46318857, 10.16324185,\n",
       "       34.97497434, 39.5838812 , 11.34813578,  5.61754286, 10.37889536,\n",
       "       36.61344444, 27.61415574, 35.1770123 ,  6.9815055 , 40.4236701 ,\n",
       "       33.83510114, 37.79279651, 23.00877478,  6.99244957, 20.06638684,\n",
       "       23.5246319 , 41.92608962, 42.54708197, 16.44485171, 11.87087452,\n",
       "       10.62928572,  5.51545533, 16.4565941 , 33.88396993, 35.58497593,\n",
       "       11.26183931, 24.05574671, 13.35619946,  4.42680442, 35.6175746 ,\n",
       "       32.04932638, 28.01514311, 27.3998404 , 10.06715351, 29.57303004,\n",
       "       30.64491676, 37.64448862, 17.45226384, 14.59880706, 32.96835121,\n",
       "       16.06280727, 12.23375965, 39.73612448, 13.99591675, 27.11056982,\n",
       "       30.95910515, 39.76664505, 27.30374585, 14.28415277, 34.0727499 ,\n",
       "       28.6285379 , 14.11165923, 40.22019782,  7.33128173, 39.66035143,\n",
       "       21.35201731, 41.64064446, 17.00342099, 11.79326669, 20.11744987,\n",
       "       38.91866463, 15.33780439, 33.43918207, 21.50965182, 24.03613944,\n",
       "       26.80346711, 25.83544279, 39.24631359, 18.53047599, 40.68826104])"
      ]
     },
     "execution_count": 9,
     "metadata": {},
     "output_type": "execute_result"
    }
   ],
   "source": [
    "print(f\"{int(100 * len(y_train)/len(y))}% of labels is assigned to label training set\\n\")\n",
    "\n",
    "y_train"
   ]
  },
  {
   "cell_type": "code",
   "execution_count": 10,
   "metadata": {
    "scrolled": true
   },
   "outputs": [
    {
     "name": "stdout",
     "output_type": "stream",
     "text": [
      "20% of labels is assigned to label test set\n",
      "\n"
     ]
    },
    {
     "data": {
      "text/plain": [
       "array([34.20229336, 40.38602646, 39.65789548, 28.59982662, 16.88813151,\n",
       "       16.50277959, 42.5143796 , 12.313803  , 17.24439249, 33.38211998,\n",
       "       15.82479225, 42.29696618, 25.91138317, 21.47003131, 34.8839825 ,\n",
       "       26.53847948, 30.30650731,  9.44214352, 19.00298716, 10.80838657])"
      ]
     },
     "execution_count": 10,
     "metadata": {},
     "output_type": "execute_result"
    }
   ],
   "source": [
    "print(f\"{int(100 * len(y_test)/len(y))}% of labels is assigned to label test set\\n\")\n",
    "\n",
    "y_test"
   ]
  },
  {
   "cell_type": "code",
   "execution_count": 11,
   "metadata": {
    "scrolled": true
   },
   "outputs": [
    {
     "name": "stdout",
     "output_type": "stream",
     "text": [
      "Shape of feature training set is (80,)\n",
      "Shape of label training set is (80,)\n",
      "Shape of feature test set is (20,)\n",
      "Shape of label test set is (20,)\n"
     ]
    }
   ],
   "source": [
    "print(f'Shape of feature training set is {X_train.shape}')\n",
    "print(f'Shape of label training set is {y_train.shape}')\n",
    "\n",
    "print(f'Shape of feature test set is {X_test.shape}')\n",
    "print(f'Shape of label test set is {y_test.shape}')"
   ]
  },
  {
   "cell_type": "code",
   "execution_count": 12,
   "metadata": {},
   "outputs": [
    {
     "data": {
      "image/png": "[encoded data removed]",
      "text/plain": [
       "<Figure size 576x576 with 1 Axes>"
      ]
     },
     "metadata": {},
     "output_type": "display_data"
    }
   ],
   "source": [
    "sns.set_style('white')\n",
    "f = plt.figure(figsize=(8,8))\n",
    "sns.set_context(context='notebook',font_scale=1.5,rc={\"lines.linewidth\":2.5})\n",
    "\n",
    "plt.plot(X_train, y_train, \"b.\") #blue dots\n",
    "plt.title(\"Data points\")\n",
    "plt.grid(True)\n",
    "plt.xlabel(\"$x_1$\", fontsize=18)\n",
    "plt.ylabel(\"y\", rotation=0,fontsize=18)\n",
    "plt.axis([0,10,0,40])  # Sets start/end of X and Y axis in the same order.\n",
    "\n",
    "plt.show()"
   ]
  },
  {
   "cell_type": "code",
   "execution_count": 13,
   "metadata": {},
   "outputs": [
    {
     "data": {
      "text/plain": [
       "array([[1.        , 7.38607933],\n",
       "       [1.        , 9.13283971],\n",
       "       [1.        , 3.37627704],\n",
       "       [1.        , 0.4782115 ],\n",
       "       [1.        , 5.88186651],\n",
       "       [1.        , 8.19449177],\n",
       "       [1.        , 5.03672778],\n",
       "       [1.        , 4.97168548],\n",
       "       [1.        , 7.97828306],\n",
       "       [1.        , 5.51646707],\n",
       "       [1.        , 3.35732915],\n",
       "       [1.        , 7.81174882],\n",
       "       [1.        , 3.93486276],\n",
       "       [1.        , 2.06783924],\n",
       "       [1.        , 8.94165754],\n",
       "       [1.        , 7.46440485],\n",
       "       [1.        , 9.22051249],\n",
       "       [1.        , 3.15132487],\n",
       "       [1.        , 3.02087338],\n",
       "       [1.        , 4.96158462],\n",
       "       [1.        , 5.16013797],\n",
       "       [1.        , 9.65007166],\n",
       "       [1.        , 9.82296593],\n",
       "       [1.        , 2.1290948 ],\n",
       "       [1.        , 1.85233282],\n",
       "       [1.        , 9.76063686],\n",
       "       [1.        , 8.54780871],\n",
       "       [1.        , 4.05139275],\n",
       "       [1.        , 0.49870733],\n",
       "       [1.        , 0.90111392],\n",
       "       [1.        , 9.6455881 ],\n",
       "       [1.        , 1.73119371],\n",
       "       [1.        , 5.92278684],\n",
       "       [1.        , 4.55736853],\n",
       "       [1.        , 8.62608816],\n",
       "       [1.        , 0.79545271],\n",
       "       [1.        , 0.18019982],\n",
       "       [1.        , 9.27128991],\n",
       "       [1.        , 7.57483297],\n",
       "       [1.        , 3.30258072],\n",
       "       [1.        , 7.2486728 ],\n",
       "       [1.        , 2.08693991],\n",
       "       [1.        , 2.27640073],\n",
       "       [1.        , 1.57511315],\n",
       "       [1.        , 3.39420102],\n",
       "       [1.        , 6.39263938],\n",
       "       [1.        , 8.56139699],\n",
       "       [1.        , 8.91647185],\n",
       "       [1.        , 2.69973289],\n",
       "       [1.        , 7.57767453],\n",
       "       [1.        , 6.58233518],\n",
       "       [1.        , 9.22870318],\n",
       "       [1.        , 4.5704311 ],\n",
       "       [1.        , 9.10105707],\n",
       "       [1.        , 6.08456045],\n",
       "       [1.        , 5.98821083],\n",
       "       [1.        , 7.07536763],\n",
       "       [1.        , 6.94089982],\n",
       "       [1.        , 8.97551121],\n",
       "       [1.        , 7.53148627],\n",
       "       [1.        , 5.71645459],\n",
       "       [1.        , 2.8026149 ],\n",
       "       [1.        , 3.34828769],\n",
       "       [1.        , 6.24067134],\n",
       "       [1.        , 2.39306811],\n",
       "       [1.        , 7.8317752 ],\n",
       "       [1.        , 5.95678185],\n",
       "       [1.        , 6.66857619],\n",
       "       [1.        , 3.5230906 ],\n",
       "       [1.        , 5.52260818],\n",
       "       [1.        , 9.00515308],\n",
       "       [1.        , 5.54371245],\n",
       "       [1.        , 1.7047802 ],\n",
       "       [1.        , 5.54916627],\n",
       "       [1.        , 2.91520385],\n",
       "       [1.        , 9.17538133],\n",
       "       [1.        , 6.61273238],\n",
       "       [1.        , 1.37628771],\n",
       "       [1.        , 1.96349635],\n",
       "       [1.        , 3.13545058],\n",
       "       [1.        , 2.16261761],\n",
       "       [1.        , 9.71060867],\n",
       "       [1.        , 4.49530619],\n",
       "       [1.        , 7.68932801],\n",
       "       [1.        , 2.76694236],\n",
       "       [1.        , 1.93552626],\n",
       "       [1.        , 7.37350409],\n",
       "       [1.        , 4.16846593],\n",
       "       [1.        , 2.50419922],\n",
       "       [1.        , 8.05224348],\n",
       "       [1.        , 7.76682249],\n",
       "       [1.        , 8.79474001],\n",
       "       [1.        , 3.74348137],\n",
       "       [1.        , 1.67552335],\n",
       "       [1.        , 2.72975653],\n",
       "       [1.        , 0.76685285],\n",
       "       [1.        , 0.83482902],\n",
       "       [1.        , 7.24747211],\n",
       "       [1.        , 5.87935799],\n",
       "       [1.        , 6.19452668]])"
      ]
     },
     "execution_count": 13,
     "metadata": {},
     "output_type": "execute_result"
    }
   ],
   "source": [
    "np.column_stack((np.ones(X.shape[0]), X))"
   ]
  },
  {
   "cell_type": "code",
   "execution_count": 14,
   "metadata": {},
   "outputs": [],
   "source": [
    "# Converting above logic to a function\n",
    "def add_dummy_feature(x):\n",
    "    return np.column_stack((np.ones(x.shape[0]), x))"
   ]
  },
  {
   "cell_type": "code",
   "execution_count": 15,
   "metadata": {},
   "outputs": [
    {
     "data": {
      "text/plain": [
       "array([[1., 1., 2., 3.],\n",
       "       [1., 4., 5., 6.]])"
      ]
     },
     "execution_count": 15,
     "metadata": {},
     "output_type": "execute_result"
    }
   ],
   "source": [
    "# testing the above function\n",
    "train_matrix = np.array([[1,2,3], [4,5,6]]) # each feature is a 3-d vector.\n",
    "train_matrix = add_dummy_feature(train_matrix)\n",
    "train_matrix"
   ]
  },
  {
   "cell_type": "code",
   "execution_count": 16,
   "metadata": {},
   "outputs": [
    {
     "data": {
      "text/plain": [
       "array([[1.        , 5.98821083],\n",
       "       [1.        , 2.50419922],\n",
       "       [1.        , 8.54780871],\n",
       "       [1.        , 2.27640073],\n",
       "       [1.        , 5.52260818],\n",
       "       [1.        , 7.46440485],\n",
       "       [1.        , 7.2486728 ],\n",
       "       [1.        , 0.83482902],\n",
       "       [1.        , 5.51646707],\n",
       "       [1.        , 1.7047802 ],\n",
       "       [1.        , 7.81174882],\n",
       "       [1.        , 8.91647185],\n",
       "       [1.        , 1.93552626],\n",
       "       [1.        , 0.49870733],\n",
       "       [1.        , 1.67552335],\n",
       "       [1.        , 8.19449177],\n",
       "       [1.        , 5.95678185],\n",
       "       [1.        , 7.8317752 ],\n",
       "       [1.        , 0.79545271],\n",
       "       [1.        , 9.22051249],\n",
       "       [1.        , 7.57767453],\n",
       "       [1.        , 8.62608816],\n",
       "       [1.        , 4.97168548],\n",
       "       [1.        , 0.76685285],\n",
       "       [1.        , 4.05139275],\n",
       "       [1.        , 4.96158462],\n",
       "       [1.        , 9.71060867],\n",
       "       [1.        , 9.76063686],\n",
       "       [1.        , 3.34828769],\n",
       "       [1.        , 2.06783924],\n",
       "       [1.        , 1.85233282],\n",
       "       [1.        , 0.4782115 ],\n",
       "       [1.        , 3.15132487],\n",
       "       [1.        , 7.57483297],\n",
       "       [1.        , 7.97828306],\n",
       "       [1.        , 1.96349635],\n",
       "       [1.        , 5.03672778],\n",
       "       [1.        , 2.39306811],\n",
       "       [1.        , 0.18019982],\n",
       "       [1.        , 8.05224348],\n",
       "       [1.        , 7.07536763],\n",
       "       [1.        , 6.19452668],\n",
       "       [1.        , 6.08456045],\n",
       "       [1.        , 1.57511315],\n",
       "       [1.        , 6.58233518],\n",
       "       [1.        , 6.66857619],\n",
       "       [1.        , 8.56139699],\n",
       "       [1.        , 3.5230906 ],\n",
       "       [1.        , 2.8026149 ],\n",
       "       [1.        , 7.24747211],\n",
       "       [1.        , 3.13545058],\n",
       "       [1.        , 2.08693991],\n",
       "       [1.        , 8.97551121],\n",
       "       [1.        , 2.69973289],\n",
       "       [1.        , 5.87935799],\n",
       "       [1.        , 6.94089982],\n",
       "       [1.        , 9.17538133],\n",
       "       [1.        , 5.92278684],\n",
       "       [1.        , 2.72975653],\n",
       "       [1.        , 7.53148627],\n",
       "       [1.        , 6.24067134],\n",
       "       [1.        , 2.76694236],\n",
       "       [1.        , 9.27128991],\n",
       "       [1.        , 0.90111392],\n",
       "       [1.        , 9.13283971],\n",
       "       [1.        , 4.5704311 ],\n",
       "       [1.        , 9.65007166],\n",
       "       [1.        , 3.37627704],\n",
       "       [1.        , 2.1290948 ],\n",
       "       [1.        , 4.16846593],\n",
       "       [1.        , 8.79474001],\n",
       "       [1.        , 2.91520385],\n",
       "       [1.        , 7.37350409],\n",
       "       [1.        , 4.49530619],\n",
       "       [1.        , 5.16013797],\n",
       "       [1.        , 5.71645459],\n",
       "       [1.        , 5.54371245],\n",
       "       [1.        , 8.94165754],\n",
       "       [1.        , 3.74348137],\n",
       "       [1.        , 9.22870318]])"
      ]
     },
     "execution_count": 16,
     "metadata": {},
     "output_type": "execute_result"
    }
   ],
   "source": [
    "#apply the function to X_train\n",
    "X_train = add_dummy_feature(X_train)\n",
    "X_train"
   ]
  }
 ],
 "metadata": {
  "kernelspec": {
   "display_name": "Python 3",
   "language": "python",
   "name": "python3"
  },
  "language_info": {
   "codemirror_mode": {
    "name": "ipython",
    "version": 3
   },
   "file_extension": ".py",
   "mimetype": "text/x-python",
   "name": "python",
   "nbconvert_exporter": "python",
   "pygments_lexer": "ipython3",
   "version": "3.7.4"
  }
 },
 "nbformat": 4,
 "nbformat_minor": 2
}
