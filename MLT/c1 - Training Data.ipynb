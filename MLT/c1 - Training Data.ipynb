{
 "cells": [
  {
   "cell_type": "code",
   "execution_count": 1,
   "metadata": {},
   "outputs": [
    {
     "name": "stderr",
     "output_type": "stream",
     "text": [
      "D:\\Anaconda3\\lib\\site-packages\\statsmodels\\tools\\_testing.py:19: FutureWarning: pandas.util.testing is deprecated. Use the functions in the public API at pandas.testing instead.\n",
      "  import pandas.util.testing as tm\n"
     ]
    }
   ],
   "source": [
    "import numpy as np\n",
    "import seaborn as sns\n",
    "import matplotlib.pyplot as plt"
   ]
  },
  {
   "cell_type": "markdown",
   "metadata": {},
   "source": [
    "### Training Data"
   ]
  },
  {
   "cell_type": "code",
   "execution_count": 2,
   "metadata": {},
   "outputs": [],
   "source": [
    "#Parameters\n",
    "w0 = 3\n",
    "w1 = 4\n",
    "n = 100"
   ]
  },
  {
   "cell_type": "code",
   "execution_count": 3,
   "metadata": {},
   "outputs": [
    {
     "data": {
      "text/plain": [
       "array([7.19456195, 5.52071689, 4.07739685, 9.07469318, 5.26940934,\n",
       "       0.93375788, 0.90171448, 6.54461192, 5.88340383, 5.89716964,\n",
       "       7.76733567, 6.3827694 , 0.15636819, 1.11269232, 7.8751965 ,\n",
       "       9.33669199, 0.16859304, 6.6251454 , 3.7198575 , 1.69921035,\n",
       "       0.2158308 , 4.47312687, 3.34819711, 9.38570263, 2.09658225,\n",
       "       8.11615899, 1.02750223, 3.00210678, 0.24934998, 4.32991805,\n",
       "       1.93911431, 6.03858899, 9.27256287, 6.48641703, 7.11367686,\n",
       "       6.50465183, 9.95997052, 8.1159312 , 6.43543579, 5.52943524,\n",
       "       2.59022415, 0.23222658, 9.94794475, 4.05640857, 3.68731772,\n",
       "       2.25350697, 1.3064404 , 5.96075903, 1.74149644, 1.97279753,\n",
       "       2.57301889, 6.38790237, 8.17887288, 3.87860163, 7.03399729,\n",
       "       3.95527645, 9.96577686, 6.55474131, 5.77729145, 4.20104446,\n",
       "       8.56606929, 5.15314563, 6.83058377, 7.10585962, 2.35344416,\n",
       "       6.74392922, 1.78400874, 9.71121355, 1.97094387, 0.88255808,\n",
       "       0.73211417, 6.45321871, 8.30049013, 8.85439217, 2.76140811,\n",
       "       6.04086898, 3.18690239, 2.28723558, 9.36443444, 8.86385943,\n",
       "       7.28888097, 4.05821083, 8.08426792, 2.04701343, 1.94708526,\n",
       "       5.4259505 , 7.30997101, 2.06174881, 1.57017833, 0.84305927,\n",
       "       7.47985518, 2.11828981, 1.77273933, 7.0447957 , 4.83089343,\n",
       "       5.44266952, 7.81119959, 1.30417537, 8.78628165, 6.36862822])"
      ]
     },
     "execution_count": 3,
     "metadata": {},
     "output_type": "execute_result"
    }
   ],
   "source": [
    "#Creates a column vector with 100 rows.\n",
    "X = 10 * np.random.random(n, )\n",
    "X"
   ]
  },
  {
   "cell_type": "code",
   "execution_count": 4,
   "metadata": {},
   "outputs": [
    {
     "data": {
      "text/plain": [
       "array([32.05245309, 25.6952084 , 19.84790867, 39.82844142, 24.38023734,\n",
       "        7.11385411,  6.67453589, 29.66405431, 27.40979137, 27.26193067,\n",
       "       34.66325369, 28.99875249,  4.59365036,  8.08081209, 35.25630847,\n",
       "       40.38304336,  4.55658945, 29.56278646, 18.41947775, 10.48274057,\n",
       "        4.42755914, 21.76869443, 17.10663636, 40.5636468 , 12.07423598,\n",
       "       36.32849779,  7.88060732, 15.02855602,  4.55732625, 20.45105695,\n",
       "       11.05283012, 27.26716016, 40.20904015, 29.52524611, 32.36093507,\n",
       "       29.41498882, 43.30519212, 36.18760654, 29.39059273, 26.0356965 ,\n",
       "       13.38402005,  4.46916291, 43.25380106, 19.86098238, 18.13357005,\n",
       "       12.42111028,  8.63460206, 27.53917783, 10.29384075, 11.15784882,\n",
       "       13.40709933, 28.60836768, 36.24581685, 19.06441628, 31.18198233,\n",
       "       19.41084338, 43.13413711, 30.11672106, 26.49576098, 20.07438547,\n",
       "       38.09138746, 24.25006155, 31.29774752, 32.03628778, 13.20395166,\n",
       "       30.39207886, 10.82890236, 42.26217812, 11.44037065,  7.39698579,\n",
       "        6.73374025, 29.12776629, 36.67801204, 38.84965186, 14.52841944,\n",
       "       27.49452689, 16.41954533, 12.67131781, 40.71487991, 38.828126  ,\n",
       "       32.52037008, 20.01725856, 35.52277686, 11.19710362, 11.66503791,\n",
       "       24.87093053, 32.79234815, 11.6469445 ,  9.29103148,  6.39870158,\n",
       "       33.89672806, 11.55278607, 10.99132912, 31.54773538, 23.03430745,\n",
       "       24.94924478, 35.03882254,  8.56748854, 38.47339384, 29.45829012])"
      ]
     },
     "execution_count": 4,
     "metadata": {},
     "output_type": "execute_result"
    }
   ],
   "source": [
    "y = w0 + w1 * X + np.random.random(n,)\n",
    "y"
   ]
  },
  {
   "cell_type": "code",
   "execution_count": 5,
   "metadata": {},
   "outputs": [
    {
     "name": "stdout",
     "output_type": "stream",
     "text": [
      "Shape of feature matrix(X) is (100,)\n",
      "Shape of labels(y) is (100,)\n"
     ]
    }
   ],
   "source": [
    "print(f'Shape of feature matrix(X) is {X.shape}')\n",
    "print(f'Shape of labels(y) is {y.shape}')"
   ]
  },
  {
   "cell_type": "code",
   "execution_count": 6,
   "metadata": {},
   "outputs": [],
   "source": [
    "from sklearn.model_selection import train_test_split\n",
    "#42 is the seed, and allows same split to occur everytime the function is executed.\n",
    "X_train, X_test, y_train, y_test = train_test_split(X, y, test_size=0.2, random_state=42) "
   ]
  },
  {
   "cell_type": "code",
   "execution_count": 7,
   "metadata": {},
   "outputs": [
    {
     "name": "stdout",
     "output_type": "stream",
     "text": [
      "80% of examples is assigned to feature training set\n",
      "\n",
      "[3.95527645 1.57017833 1.02750223 9.94794475 0.88255808 9.33669199\n",
      " 2.59022415 7.81119959 5.89716964 8.30049013 6.3827694  5.96075903\n",
      " 5.4259505  0.24934998 7.0447957  0.93375788 1.78400874 6.74392922\n",
      " 6.50465183 0.16859304 1.97279753 7.11367686 6.54461192 5.44266952\n",
      " 3.00210678 1.69921035 4.05821083 8.11615899 6.83058377 1.11269232\n",
      " 2.09658225 9.07469318 6.6251454  6.43543579 5.88340383 9.36443444\n",
      " 0.90171448 2.35344416 9.95997052 0.84305927 9.96577686 6.36862822\n",
      " 7.03399729 4.05640857 2.57301889 9.71121355 1.3064404  1.97094387\n",
      " 5.15314563 1.30417537 8.86385943 0.23222658 5.77729145 1.74149644\n",
      " 8.78628165 6.55474131 6.04086898 9.27256287 4.83089343 4.20104446\n",
      " 7.10585962 1.94708526 8.1159312  4.32991805 5.52071689 8.17887288\n",
      " 4.47312687 4.07739685 9.38570263 2.06174881 2.11828981 2.76140811\n",
      " 7.30997101 8.08426792 0.2158308  8.56606929 6.45321871 7.8751965\n",
      " 1.77273933 6.38790237]\n"
     ]
    }
   ],
   "source": [
    "print(f\"{int(100 * len(X_train)/len(X))}% of examples is assigned to feature training set\\n\")\n",
    "\n",
    "print(X_train)"
   ]
  },
  {
   "cell_type": "code",
   "execution_count": 8,
   "metadata": {},
   "outputs": [
    {
     "name": "stdout",
     "output_type": "stream",
     "text": [
      "20% of examples is assigned to feature test set\n",
      "\n"
     ]
    },
    {
     "data": {
      "text/plain": [
       "array([2.04701343, 3.87860163, 0.73211417, 2.25350697, 3.68731772,\n",
       "       5.52943524, 3.34819711, 7.28888097, 7.76733567, 7.19456195,\n",
       "       3.7198575 , 1.93911431, 8.85439217, 6.48641703, 7.47985518,\n",
       "       5.26940934, 3.18690239, 2.28723558, 0.15636819, 6.03858899])"
      ]
     },
     "execution_count": 8,
     "metadata": {},
     "output_type": "execute_result"
    }
   ],
   "source": [
    "print(f\"{int(100 * len(X_test)/len(X))}% of examples is assigned to feature test set\\n\")\n",
    "\n",
    "X_test"
   ]
  },
  {
   "cell_type": "code",
   "execution_count": 9,
   "metadata": {},
   "outputs": [
    {
     "name": "stdout",
     "output_type": "stream",
     "text": [
      "80% of labels is assigned to label training set\n",
      "\n"
     ]
    },
    {
     "data": {
      "text/plain": [
       "array([19.41084338,  9.29103148,  7.88060732, 43.25380106,  7.39698579,\n",
       "       40.38304336, 13.38402005, 35.03882254, 27.26193067, 36.67801204,\n",
       "       28.99875249, 27.53917783, 24.87093053,  4.55732625, 31.54773538,\n",
       "        7.11385411, 10.82890236, 30.39207886, 29.41498882,  4.55658945,\n",
       "       11.15784882, 32.36093507, 29.66405431, 24.94924478, 15.02855602,\n",
       "       10.48274057, 20.01725856, 36.32849779, 31.29774752,  8.08081209,\n",
       "       12.07423598, 39.82844142, 29.56278646, 29.39059273, 27.40979137,\n",
       "       40.71487991,  6.67453589, 13.20395166, 43.30519212,  6.39870158,\n",
       "       43.13413711, 29.45829012, 31.18198233, 19.86098238, 13.40709933,\n",
       "       42.26217812,  8.63460206, 11.44037065, 24.25006155,  8.56748854,\n",
       "       38.828126  ,  4.46916291, 26.49576098, 10.29384075, 38.47339384,\n",
       "       30.11672106, 27.49452689, 40.20904015, 23.03430745, 20.07438547,\n",
       "       32.03628778, 11.66503791, 36.18760654, 20.45105695, 25.6952084 ,\n",
       "       36.24581685, 21.76869443, 19.84790867, 40.5636468 , 11.6469445 ,\n",
       "       11.55278607, 14.52841944, 32.79234815, 35.52277686,  4.42755914,\n",
       "       38.09138746, 29.12776629, 35.25630847, 10.99132912, 28.60836768])"
      ]
     },
     "execution_count": 9,
     "metadata": {},
     "output_type": "execute_result"
    }
   ],
   "source": [
    "print(f\"{int(100 * len(y_train)/len(y))}% of labels is assigned to label training set\\n\")\n",
    "\n",
    "y_train"
   ]
  },
  {
   "cell_type": "code",
   "execution_count": 10,
   "metadata": {
    "scrolled": true
   },
   "outputs": [
    {
     "name": "stdout",
     "output_type": "stream",
     "text": [
      "20% of labels is assigned to label test set\n",
      "\n"
     ]
    },
    {
     "data": {
      "text/plain": [
       "array([11.19710362, 19.06441628,  6.73374025, 12.42111028, 18.13357005,\n",
       "       26.0356965 , 17.10663636, 32.52037008, 34.66325369, 32.05245309,\n",
       "       18.41947775, 11.05283012, 38.84965186, 29.52524611, 33.89672806,\n",
       "       24.38023734, 16.41954533, 12.67131781,  4.59365036, 27.26716016])"
      ]
     },
     "execution_count": 10,
     "metadata": {},
     "output_type": "execute_result"
    }
   ],
   "source": [
    "print(f\"{int(100 * len(y_test)/len(y))}% of labels is assigned to label test set\\n\")\n",
    "\n",
    "y_test"
   ]
  },
  {
   "cell_type": "code",
   "execution_count": 11,
   "metadata": {
    "scrolled": true
   },
   "outputs": [
    {
     "name": "stdout",
     "output_type": "stream",
     "text": [
      "Shape of feature training set is (80,)\n",
      "Shape of label training set is (80,)\n",
      "Shape of feature test set is (20,)\n",
      "Shape of label test set is (20,)\n"
     ]
    }
   ],
   "source": [
    "print(f'Shape of feature training set is {X_train.shape}')\n",
    "print(f'Shape of label training set is {y_train.shape}')\n",
    "\n",
    "print(f'Shape of feature test set is {X_test.shape}')\n",
    "print(f'Shape of label test set is {y_test.shape}')"
   ]
  },
  {
   "cell_type": "code",
   "execution_count": 12,
   "metadata": {},
   "outputs": [
    {
     "data": {
      "image/png": "[encoded data removed]",
      "text/plain": [
       "<Figure size 576x576 with 1 Axes>"
      ]
     },
     "metadata": {},
     "output_type": "display_data"
    }
   ],
   "source": [
    "sns.set_style('white')\n",
    "f = plt.figure(figsize=(8,8))\n",
    "sns.set_context(context='notebook',font_scale=1.5,rc={\"lines.linewidth\":2.5})\n",
    "\n",
    "plt.plot(X_train, y_train, \"b.\") #blue dots\n",
    "plt.title(\"Data points\")\n",
    "plt.grid(True)\n",
    "plt.xlabel(\"$x_1$\", fontsize=18)\n",
    "plt.ylabel(\"y\", rotation=0,fontsize=18)\n",
    "plt.axis([0,10,0,40])  # Sets start/end of X and Y axis in the same order.\n",
    "\n",
    "plt.show()"
   ]
  },
  {
   "cell_type": "code",
   "execution_count": 13,
   "metadata": {},
   "outputs": [
    {
     "data": {
      "text/plain": [
       "array([[1.        , 7.19456195],\n",
       "       [1.        , 5.52071689],\n",
       "       [1.        , 4.07739685],\n",
       "       [1.        , 9.07469318],\n",
       "       [1.        , 5.26940934],\n",
       "       [1.        , 0.93375788],\n",
       "       [1.        , 0.90171448],\n",
       "       [1.        , 6.54461192],\n",
       "       [1.        , 5.88340383],\n",
       "       [1.        , 5.89716964],\n",
       "       [1.        , 7.76733567],\n",
       "       [1.        , 6.3827694 ],\n",
       "       [1.        , 0.15636819],\n",
       "       [1.        , 1.11269232],\n",
       "       [1.        , 7.8751965 ],\n",
       "       [1.        , 9.33669199],\n",
       "       [1.        , 0.16859304],\n",
       "       [1.        , 6.6251454 ],\n",
       "       [1.        , 3.7198575 ],\n",
       "       [1.        , 1.69921035],\n",
       "       [1.        , 0.2158308 ],\n",
       "       [1.        , 4.47312687],\n",
       "       [1.        , 3.34819711],\n",
       "       [1.        , 9.38570263],\n",
       "       [1.        , 2.09658225],\n",
       "       [1.        , 8.11615899],\n",
       "       [1.        , 1.02750223],\n",
       "       [1.        , 3.00210678],\n",
       "       [1.        , 0.24934998],\n",
       "       [1.        , 4.32991805],\n",
       "       [1.        , 1.93911431],\n",
       "       [1.        , 6.03858899],\n",
       "       [1.        , 9.27256287],\n",
       "       [1.        , 6.48641703],\n",
       "       [1.        , 7.11367686],\n",
       "       [1.        , 6.50465183],\n",
       "       [1.        , 9.95997052],\n",
       "       [1.        , 8.1159312 ],\n",
       "       [1.        , 6.43543579],\n",
       "       [1.        , 5.52943524],\n",
       "       [1.        , 2.59022415],\n",
       "       [1.        , 0.23222658],\n",
       "       [1.        , 9.94794475],\n",
       "       [1.        , 4.05640857],\n",
       "       [1.        , 3.68731772],\n",
       "       [1.        , 2.25350697],\n",
       "       [1.        , 1.3064404 ],\n",
       "       [1.        , 5.96075903],\n",
       "       [1.        , 1.74149644],\n",
       "       [1.        , 1.97279753],\n",
       "       [1.        , 2.57301889],\n",
       "       [1.        , 6.38790237],\n",
       "       [1.        , 8.17887288],\n",
       "       [1.        , 3.87860163],\n",
       "       [1.        , 7.03399729],\n",
       "       [1.        , 3.95527645],\n",
       "       [1.        , 9.96577686],\n",
       "       [1.        , 6.55474131],\n",
       "       [1.        , 5.77729145],\n",
       "       [1.        , 4.20104446],\n",
       "       [1.        , 8.56606929],\n",
       "       [1.        , 5.15314563],\n",
       "       [1.        , 6.83058377],\n",
       "       [1.        , 7.10585962],\n",
       "       [1.        , 2.35344416],\n",
       "       [1.        , 6.74392922],\n",
       "       [1.        , 1.78400874],\n",
       "       [1.        , 9.71121355],\n",
       "       [1.        , 1.97094387],\n",
       "       [1.        , 0.88255808],\n",
       "       [1.        , 0.73211417],\n",
       "       [1.        , 6.45321871],\n",
       "       [1.        , 8.30049013],\n",
       "       [1.        , 8.85439217],\n",
       "       [1.        , 2.76140811],\n",
       "       [1.        , 6.04086898],\n",
       "       [1.        , 3.18690239],\n",
       "       [1.        , 2.28723558],\n",
       "       [1.        , 9.36443444],\n",
       "       [1.        , 8.86385943],\n",
       "       [1.        , 7.28888097],\n",
       "       [1.        , 4.05821083],\n",
       "       [1.        , 8.08426792],\n",
       "       [1.        , 2.04701343],\n",
       "       [1.        , 1.94708526],\n",
       "       [1.        , 5.4259505 ],\n",
       "       [1.        , 7.30997101],\n",
       "       [1.        , 2.06174881],\n",
       "       [1.        , 1.57017833],\n",
       "       [1.        , 0.84305927],\n",
       "       [1.        , 7.47985518],\n",
       "       [1.        , 2.11828981],\n",
       "       [1.        , 1.77273933],\n",
       "       [1.        , 7.0447957 ],\n",
       "       [1.        , 4.83089343],\n",
       "       [1.        , 5.44266952],\n",
       "       [1.        , 7.81119959],\n",
       "       [1.        , 1.30417537],\n",
       "       [1.        , 8.78628165],\n",
       "       [1.        , 6.36862822]])"
      ]
     },
     "execution_count": 13,
     "metadata": {},
     "output_type": "execute_result"
    }
   ],
   "source": [
    "np.column_stack((np.ones(X.shape[0]), X))"
   ]
  },
  {
   "cell_type": "code",
   "execution_count": 14,
   "metadata": {},
   "outputs": [],
   "source": [
    "# Converting above logic to a function\n",
    "def add_dummy_feature(x):\n",
    "    return np.column_stack((np.ones(x.shape[0]), x))"
   ]
  },
  {
   "cell_type": "code",
   "execution_count": 15,
   "metadata": {},
   "outputs": [
    {
     "data": {
      "text/plain": [
       "array([[1., 1., 2., 3.],\n",
       "       [1., 4., 5., 6.]])"
      ]
     },
     "execution_count": 15,
     "metadata": {},
     "output_type": "execute_result"
    }
   ],
   "source": [
    "# testing the above function\n",
    "train_matrix = np.array([[1,2,3], [4,5,6]]) # each feature is a 3-d vector.\n",
    "train_matrix = add_dummy_feature(train_matrix)\n",
    "train_matrix"
   ]
  },
  {
   "cell_type": "code",
   "execution_count": 16,
   "metadata": {
    "scrolled": true
   },
   "outputs": [
    {
     "data": {
      "text/plain": [
       "array([[1.        , 3.95527645],\n",
       "       [1.        , 1.57017833],\n",
       "       [1.        , 1.02750223],\n",
       "       [1.        , 9.94794475],\n",
       "       [1.        , 0.88255808],\n",
       "       [1.        , 9.33669199],\n",
       "       [1.        , 2.59022415],\n",
       "       [1.        , 7.81119959],\n",
       "       [1.        , 5.89716964],\n",
       "       [1.        , 8.30049013],\n",
       "       [1.        , 6.3827694 ],\n",
       "       [1.        , 5.96075903],\n",
       "       [1.        , 5.4259505 ],\n",
       "       [1.        , 0.24934998],\n",
       "       [1.        , 7.0447957 ],\n",
       "       [1.        , 0.93375788],\n",
       "       [1.        , 1.78400874],\n",
       "       [1.        , 6.74392922],\n",
       "       [1.        , 6.50465183],\n",
       "       [1.        , 0.16859304],\n",
       "       [1.        , 1.97279753],\n",
       "       [1.        , 7.11367686],\n",
       "       [1.        , 6.54461192],\n",
       "       [1.        , 5.44266952],\n",
       "       [1.        , 3.00210678],\n",
       "       [1.        , 1.69921035],\n",
       "       [1.        , 4.05821083],\n",
       "       [1.        , 8.11615899],\n",
       "       [1.        , 6.83058377],\n",
       "       [1.        , 1.11269232],\n",
       "       [1.        , 2.09658225],\n",
       "       [1.        , 9.07469318],\n",
       "       [1.        , 6.6251454 ],\n",
       "       [1.        , 6.43543579],\n",
       "       [1.        , 5.88340383],\n",
       "       [1.        , 9.36443444],\n",
       "       [1.        , 0.90171448],\n",
       "       [1.        , 2.35344416],\n",
       "       [1.        , 9.95997052],\n",
       "       [1.        , 0.84305927],\n",
       "       [1.        , 9.96577686],\n",
       "       [1.        , 6.36862822],\n",
       "       [1.        , 7.03399729],\n",
       "       [1.        , 4.05640857],\n",
       "       [1.        , 2.57301889],\n",
       "       [1.        , 9.71121355],\n",
       "       [1.        , 1.3064404 ],\n",
       "       [1.        , 1.97094387],\n",
       "       [1.        , 5.15314563],\n",
       "       [1.        , 1.30417537],\n",
       "       [1.        , 8.86385943],\n",
       "       [1.        , 0.23222658],\n",
       "       [1.        , 5.77729145],\n",
       "       [1.        , 1.74149644],\n",
       "       [1.        , 8.78628165],\n",
       "       [1.        , 6.55474131],\n",
       "       [1.        , 6.04086898],\n",
       "       [1.        , 9.27256287],\n",
       "       [1.        , 4.83089343],\n",
       "       [1.        , 4.20104446],\n",
       "       [1.        , 7.10585962],\n",
       "       [1.        , 1.94708526],\n",
       "       [1.        , 8.1159312 ],\n",
       "       [1.        , 4.32991805],\n",
       "       [1.        , 5.52071689],\n",
       "       [1.        , 8.17887288],\n",
       "       [1.        , 4.47312687],\n",
       "       [1.        , 4.07739685],\n",
       "       [1.        , 9.38570263],\n",
       "       [1.        , 2.06174881],\n",
       "       [1.        , 2.11828981],\n",
       "       [1.        , 2.76140811],\n",
       "       [1.        , 7.30997101],\n",
       "       [1.        , 8.08426792],\n",
       "       [1.        , 0.2158308 ],\n",
       "       [1.        , 8.56606929],\n",
       "       [1.        , 6.45321871],\n",
       "       [1.        , 7.8751965 ],\n",
       "       [1.        , 1.77273933],\n",
       "       [1.        , 6.38790237]])"
      ]
     },
     "execution_count": 16,
     "metadata": {},
     "output_type": "execute_result"
    }
   ],
   "source": [
    "#apply the function to X_train\n",
    "X_train = add_dummy_feature(X_train)\n",
    "X_train"
   ]
  },
  {
   "cell_type": "markdown",
   "metadata": {},
   "source": [
    "### Model "
   ]
  },
  {
   "cell_type": "code",
   "execution_count": 17,
   "metadata": {},
   "outputs": [],
   "source": [
    "#Predicting label follows the equation y = Xw, in its vectorized form.\n",
    "def predict(X, w):\n",
    "    if X.shape[1] == w.shape[0]:\n",
    "        return X @ w\n",
    "    else:\n",
    "        return None"
   ]
  },
  {
   "cell_type": "code",
   "execution_count": 18,
   "metadata": {},
   "outputs": [],
   "source": [
    "def generate_examples():\n",
    "    X = 10 * np.random.random(n, )\n",
    "    y = w0 + w1 * X\n",
    "    X_train, X_test, y_train, y_test = train_test_split(X, y, test_size=0.2, random_state=42) \n",
    "    X_train = add_dummy_feature(X_train)\n",
    "    return X_train, X_test, y_train, y_test"
   ]
  },
  {
   "cell_type": "code",
   "execution_count": 19,
   "metadata": {},
   "outputs": [
    {
     "data": {
      "text/plain": [
       "array([2.05439323, 2.32977534, 1.28012733, 1.61605937, 1.91803462,\n",
       "       1.39361938, 0.95726511, 0.60623441, 1.74225319, 0.71153733,\n",
       "       0.67382194, 0.65312081, 0.71060488, 1.40698441, 1.87154542,\n",
       "       2.21560635, 2.18646377, 1.80212237, 2.41041392, 1.1452848 ,\n",
       "       0.65040354, 1.8604793 , 1.4011924 , 0.56678649, 0.63861205,\n",
       "       0.80712056, 1.41052655, 2.09230286, 0.48909495, 1.10084944,\n",
       "       2.43885831, 2.27638088, 1.23679869, 1.0053493 , 0.59622401,\n",
       "       2.33989806, 1.09477096, 0.64058953, 2.02676051, 2.46384714,\n",
       "       1.42008251, 2.2689646 , 0.56928822, 2.43642263, 2.44539149,\n",
       "       1.30573398, 2.27575976, 1.69933071, 2.21625262, 1.57169924,\n",
       "       1.03848685, 0.94831965, 2.14822672, 1.57012604, 2.03554346,\n",
       "       2.05431956, 1.51923607, 0.82599341, 0.621332  , 1.27138289,\n",
       "       2.04822361, 1.73479561, 0.92475407, 1.90532368, 2.08401396,\n",
       "       1.06831686, 2.35122816, 2.49762481, 1.52516821, 0.82282094,\n",
       "       1.31737756, 1.70693904, 1.58261132, 0.96444117, 1.66407451,\n",
       "       1.21591509, 0.70925549, 0.64531609, 1.32509166, 0.65312598])"
      ]
     },
     "execution_count": 19,
     "metadata": {},
     "output_type": "execute_result"
    }
   ],
   "source": [
    "# test it with the examples generated using above function\n",
    "X_train, X_test, y_train, y_test = generate_examples()\n",
    "y_hat =  predict (X_train, np.random.rand(2,))\n",
    "y_hat"
   ]
  },
  {
   "cell_type": "markdown",
   "metadata": {},
   "source": [
    "### Loss"
   ]
  },
  {
   "cell_type": "code",
   "execution_count": 20,
   "metadata": {},
   "outputs": [],
   "source": [
    "def loss (X, y, w):\n",
    "    print(X.shape, y.shape, w.shape)\n",
    "    e = X @ w - y\n",
    "    return 0.5 * e.T @ e"
   ]
  },
  {
   "cell_type": "code",
   "execution_count": 21,
   "metadata": {},
   "outputs": [
    {
     "name": "stdout",
     "output_type": "stream",
     "text": [
      "(2, 4) (2,) (4,)\n"
     ]
    },
    {
     "data": {
      "text/plain": [
       "184.5"
      ]
     },
     "execution_count": 21,
     "metadata": {},
     "output_type": "execute_result"
    }
   ],
   "source": [
    "X = np.array([[1,3,2,5],[1,9,4,7]])\n",
    "y = np.array([6,11])\n",
    "w = np.array([1,1,1,1])\n",
    "\n",
    "X=np.array([[1,2,2,1],[1,1,3,2]])\n",
    "y=np.array([3,5])\n",
    "w=np.array([1,2,3,4])\n",
    "\n",
    "loss(X, y,w)"
   ]
  },
  {
   "cell_type": "code",
   "execution_count": 22,
   "metadata": {},
   "outputs": [],
   "source": [
    "#Generate weight vector\n",
    "w = np.random.rand(2,)"
   ]
  },
  {
   "cell_type": "code",
   "execution_count": 26,
   "metadata": {
    "scrolled": true
   },
   "outputs": [
    {
     "name": "stdout",
     "output_type": "stream",
     "text": [
      "(80, 2) (80,) (2,)\n"
     ]
    },
    {
     "data": {
      "text/plain": [
       "24066.81146771449"
      ]
     },
     "execution_count": 26,
     "metadata": {},
     "output_type": "execute_result"
    }
   ],
   "source": [
    "X_train, X_test, y_train, y_test = generate_examples()\n",
    "loss(X_train, y_train, w)"
   ]
  },
  {
   "cell_type": "code",
   "execution_count": 28,
   "metadata": {},
   "outputs": [
    {
     "name": "stdout",
     "output_type": "stream",
     "text": [
      "7.7308540082588495 3.2324591963876026\n"
     ]
    }
   ],
   "source": [
    "#Generate weight vector\n",
    "w = 10 * np.random.rand(2,)\n",
    "print(w[0], w[1])"
   ]
  },
  {
   "cell_type": "code",
   "execution_count": 29,
   "metadata": {},
   "outputs": [
    {
     "data": {
      "text/plain": [
       "<matplotlib.collections.LineCollection at 0x264259508c8>"
      ]
     },
     "execution_count": 29,
     "metadata": {},
     "output_type": "execute_result"
    },
    {
     "data": {
      "image/png": "[encoded data removed]",
      "text/plain": [
       "<Figure size 576x576 with 1 Axes>"
      ]
     },
     "metadata": {},
     "output_type": "display_data"
    }
   ],
   "source": [
    "y_new = predict(X_train, w)\n",
    "fig, axes = plt.subplots(figsize=(8,8))\n",
    "axes.plot(X_train[:,1], y_train, c='b', label='Training')\n",
    "axes.scatter(X_train[:,1], y_new, c='g', label='Error')\n",
    "axes.vlines(X_train[:,1], y_new, y_train, colors=\"r\", label=\"loss\")"
   ]
  }
 ],
 "metadata": {
  "kernelspec": {
   "display_name": "Python 3",
   "language": "python",
   "name": "python3"
  },
  "language_info": {
   "codemirror_mode": {
    "name": "ipython",
    "version": 3
   },
   "file_extension": ".py",
   "mimetype": "text/x-python",
   "name": "python",
   "nbconvert_exporter": "python",
   "pygments_lexer": "ipython3",
   "version": "3.7.4"
  }
 },
 "nbformat": 4,
 "nbformat_minor": 2
}
