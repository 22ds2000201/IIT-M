{
 "cells": [
  {
   "cell_type": "code",
   "execution_count": 1,
   "metadata": {},
   "outputs": [],
   "source": [
    "class LinReg():\n",
    "    def __init__(self):\n",
    "        self.t0 = 200\n",
    "        self.t1 = 100000\n",
    "    def predict (self, X):\n",
    "        y = X @ self.w\n",
    "        return y\n",
    "    def loss (self, X, y):\n",
    "        e = y - self.predict(X)\n",
    "        return 0.5 *(e.T @ e)\n",
    "    def rmse(self,X, y):\n",
    "        return np.sqrt(2/X.shape[0] * self.loss(X, y))\n",
    "    def fit(self, X, y):\n",
    "        self.w = np.linalg.pinv(X) @ y\n",
    "        return self.w\n",
    "    def calculate_gradient(self, X, y):\n",
    "        return X.T @ (self.predict(X) - y)\n",
    "    def update_weights(self, grad, lr):\n",
    "        return (self.w - lr * grad)\n",
    "    def learning_schedule(self, t):\n",
    "        return self.t0 / (self.t0 + self.t1)\n",
    "    def gd(self, X, y, num_epochs, lr):\n",
    "        self.w = np.zeros(X.shape[1])\n",
    "        self.w_all = list() \n",
    "        self.err_all = list()\n",
    "        for i in range(epochs):\n",
    "            dJdw = calculate_gradient(X, y)\n",
    "            self.w_all.append(self.w)\n",
    "            self.err_all.append(self.loss(X, y))\n",
    "            self.w = self.update_weights(dJdw, lr)\n",
    "        return self.w\n",
    "    def mbgd(self, X, y, num_epochs, batch_size):\n",
    "        mini_batch_id = 0\n",
    "        self.w = np.zeros(X.shape[1])  #initializing arbitrary values.\n",
    "        self.w_all = list() \n",
    "        self.err_all = list()\n",
    "\n",
    "        for epoch in range(num_epochs):\n",
    "            shuffled_indices = np.random.permutation(X.shape[0])\n",
    "            X_shuffled = X[shuffled_indices]\n",
    "            y_shuffled = y[shuffled_indices]\n",
    "\n",
    "            for i in range(0, X.shape[0], batch_size):\n",
    "                mini_batch_id += 1\n",
    "                x1 = X_shuffled[i:i+batch_size]\n",
    "                y1 = y_shuffled[i:i+batch_size]\n",
    "\n",
    "                self.w_all.append(self.w)\n",
    "                self.err_all.append(self.loss(X, y))\n",
    "\n",
    "                dJdw = 2/batch_size * self.calculate_gradient(x1, y1)\n",
    "                self.w = self.update_weights(dJdw, self.learning_schedule(mini_batch_id))\n",
    "\n",
    "        return self.w\n",
    "    \n",
    "    def sgd(self, X, y, num_epochs):\n",
    "        batch_size = 1\n",
    "        mini_batch_id = 0\n",
    "        self.w = np.zeros(X.shape[1])  #initializing arbitrary values.\n",
    "        self.w_all = list() \n",
    "        self.err_all = list()\n",
    "\n",
    "        for epoch in range(num_epochs):\n",
    "            shuffled_indices = np.random.permutation(X.shape[0])\n",
    "            X_shuffled = X[shuffled_indices]\n",
    "            y_shuffled = y[shuffled_indices]\n",
    "\n",
    "            for i in range(0, X.shape[0], batch_size):\n",
    "                mini_batch_id += 1\n",
    "                x1 = X_shuffled[i:i+batch_size]\n",
    "                y1 = y_shuffled[i:i+batch_size]\n",
    "\n",
    "                self.w_all.append(self.w)\n",
    "                self.err_all.append(self.loss(X, y))\n",
    "\n",
    "                dJdw = 2/batch_size * self.calculate_gradient(x1, y1)\n",
    "                self.w = self.update_weights(dJdw, self.learning_schedule(mini_batch_id))\n",
    "\n",
    "        return self.w"
   ]
  },
  {
   "cell_type": "code",
   "execution_count": 2,
   "metadata": {},
   "outputs": [],
   "source": [
    "import itertools\n",
    "import functools\n",
    "import numpy as np\n",
    "from matplotlib import pyplot as plt"
   ]
  },
  {
   "cell_type": "code",
   "execution_count": 3,
   "metadata": {},
   "outputs": [],
   "source": [
    "def combinations(x, degree):\n",
    "    return itertools.combinations_with_replacement(x, degree)"
   ]
  },
  {
   "cell_type": "code",
   "execution_count": 4,
   "metadata": {},
   "outputs": [],
   "source": [
    "def compute_new_features(items):\n",
    "    return functools.reduce(lambda x, y: x * y, items)"
   ]
  },
  {
   "cell_type": "code",
   "execution_count": 5,
   "metadata": {},
   "outputs": [
    {
     "data": {
      "text/plain": [
       "{(2, 2): 4, (2, 3): 6, (3, 3): 9}"
      ]
     },
     "execution_count": 5,
     "metadata": {},
     "output_type": "execute_result"
    }
   ],
   "source": [
    "{each:compute_new_features(each) for each in combinations([2,3], 2)} #running a test"
   ]
  },
  {
   "cell_type": "code",
   "execution_count": 6,
   "metadata": {},
   "outputs": [
    {
     "data": {
      "text/plain": [
       "[4, 6, 9]"
      ]
     },
     "execution_count": 6,
     "metadata": {},
     "output_type": "execute_result"
    }
   ],
   "source": [
    "[compute_new_features(each) for each in combinations(np.array([2,3]), 2)] #running a test"
   ]
  },
  {
   "cell_type": "code",
   "execution_count": 7,
   "metadata": {},
   "outputs": [],
   "source": [
    "def polynomial_transform(x, degree, logging=True):\n",
    "    if x.ndim == 1:\n",
    "        x = x[:, None]\n",
    "\n",
    "    features = [np.ones(len(x))] #a list of np-arrays with all 1.\n",
    "\n",
    "    if logging:\n",
    "        print(features)\n",
    "    for degree in range(1, degree + 1):\n",
    "        for item in combinations(x.T, degree):\n",
    "            if logging:\n",
    "                print(item)\n",
    "            features.append(compute_new_features(item))\n",
    "    if logging:\n",
    "        print(features)\n",
    "            \n",
    "    return np.asarray(features).T"
   ]
  },
  {
   "cell_type": "code",
   "execution_count": 8,
   "metadata": {
    "scrolled": false
   },
   "outputs": [
    {
     "name": "stdout",
     "output_type": "stream",
     "text": [
      "[array([1., 1.])]\n",
      "(array([2, 3]),)\n",
      "(array([2, 3]), array([2, 3]))\n",
      "[array([1., 1.]), array([2, 3]), array([4, 9])]\n"
     ]
    },
    {
     "data": {
      "text/plain": [
       "array([[1., 2., 4.],\n",
       "       [1., 3., 9.]])"
      ]
     },
     "execution_count": 8,
     "metadata": {},
     "output_type": "execute_result"
    }
   ],
   "source": [
    "#feature vector [2,3] gets converted into two examples, \n",
    "#first with weight 2 and second with weight 3 [[2],[3]]\n",
    "polynomial_transform(np.array([2, 3]), 2) # Want combinations of 2."
   ]
  },
  {
   "cell_type": "code",
   "execution_count": 9,
   "metadata": {
    "scrolled": false
   },
   "outputs": [
    {
     "name": "stdout",
     "output_type": "stream",
     "text": [
      "[array([1.])]\n",
      "(array([2]),)\n",
      "(array([3]),)\n",
      "(array([2]), array([2]))\n",
      "(array([2]), array([3]))\n",
      "(array([3]), array([3]))\n",
      "[array([1.]), array([2]), array([3]), array([4]), array([6]), array([9])]\n"
     ]
    },
    {
     "data": {
      "text/plain": [
       "array([[1., 2., 3., 4., 6., 9.]])"
      ]
     },
     "execution_count": 9,
     "metadata": {},
     "output_type": "execute_result"
    }
   ],
   "source": [
    "#Here, in a single example, we've 2 and 3 as two weights.  Want combinations of 2.\n",
    "polynomial_transform(np.array([[2, 3]]), 2)"
   ]
  },
  {
   "cell_type": "code",
   "execution_count": 10,
   "metadata": {
    "scrolled": false
   },
   "outputs": [
    {
     "name": "stdout",
     "output_type": "stream",
     "text": [
      "[array([1., 1.])]\n",
      "(array([2, 4]),)\n",
      "(array([3, 5]),)\n",
      "(array([2, 4]), array([2, 4]))\n",
      "(array([2, 4]), array([3, 5]))\n",
      "(array([3, 5]), array([3, 5]))\n",
      "[array([1., 1.]), array([2, 4]), array([3, 5]), array([ 4, 16]), array([ 6, 20]), array([ 9, 25])]\n"
     ]
    },
    {
     "data": {
      "text/plain": [
       "array([[ 1.,  2.,  3.,  4.,  6.,  9.],\n",
       "       [ 1.,  4.,  5., 16., 20., 25.]])"
      ]
     },
     "execution_count": 10,
     "metadata": {},
     "output_type": "execute_result"
    }
   ],
   "source": [
    "#Here, in a single example, we've two examples, each with two weights.  Want combinations of 2.\n",
    "polynomial_transform(np.array([[2, 3],[4, 5]]), 2)"
   ]
  },
  {
   "cell_type": "code",
   "execution_count": 11,
   "metadata": {
    "scrolled": false
   },
   "outputs": [
    {
     "name": "stdout",
     "output_type": "stream",
     "text": [
      "[array([1., 1.])]\n",
      "(array([2, 4]),)\n",
      "(array([3, 5]),)\n",
      "(array([2, 4]), array([2, 4]))\n",
      "(array([2, 4]), array([3, 5]))\n",
      "(array([3, 5]), array([3, 5]))\n",
      "(array([2, 4]), array([2, 4]), array([2, 4]))\n",
      "(array([2, 4]), array([2, 4]), array([3, 5]))\n",
      "(array([2, 4]), array([3, 5]), array([3, 5]))\n",
      "(array([3, 5]), array([3, 5]), array([3, 5]))\n",
      "[array([1., 1.]), array([2, 4]), array([3, 5]), array([ 4, 16]), array([ 6, 20]), array([ 9, 25]), array([ 8, 64]), array([12, 80]), array([ 18, 100]), array([ 27, 125])]\n"
     ]
    },
    {
     "data": {
      "text/plain": [
       "array([[  1.,   2.,   3.,   4.,   6.,   9.,   8.,  12.,  18.,  27.],\n",
       "       [  1.,   4.,   5.,  16.,  20.,  25.,  64.,  80., 100., 125.]])"
      ]
     },
     "execution_count": 11,
     "metadata": {},
     "output_type": "execute_result"
    }
   ],
   "source": [
    "#Here, in a single example, we've two examples, each with two weights.  Want combinations of 3.\n",
    "polynomial_transform(np.array([[2, 3],[4, 5]]), 3)"
   ]
  },
  {
   "cell_type": "code",
   "execution_count": 12,
   "metadata": {
    "scrolled": false
   },
   "outputs": [
    {
     "name": "stdout",
     "output_type": "stream",
     "text": [
      "[array([1., 1., 1.])]\n",
      "(array([2, 4, 6]),)\n",
      "(array([3, 5, 7]),)\n",
      "(array([2, 4, 6]), array([2, 4, 6]))\n",
      "(array([2, 4, 6]), array([3, 5, 7]))\n",
      "(array([3, 5, 7]), array([3, 5, 7]))\n",
      "(array([2, 4, 6]), array([2, 4, 6]), array([2, 4, 6]))\n",
      "(array([2, 4, 6]), array([2, 4, 6]), array([3, 5, 7]))\n",
      "(array([2, 4, 6]), array([3, 5, 7]), array([3, 5, 7]))\n",
      "(array([3, 5, 7]), array([3, 5, 7]), array([3, 5, 7]))\n",
      "[array([1., 1., 1.]), array([2, 4, 6]), array([3, 5, 7]), array([ 4, 16, 36]), array([ 6, 20, 42]), array([ 9, 25, 49]), array([  8,  64, 216]), array([ 12,  80, 252]), array([ 18, 100, 294]), array([ 27, 125, 343])]\n"
     ]
    },
    {
     "data": {
      "text/plain": [
       "array([[  1.,   2.,   3.,   4.,   6.,   9.,   8.,  12.,  18.,  27.],\n",
       "       [  1.,   4.,   5.,  16.,  20.,  25.,  64.,  80., 100., 125.],\n",
       "       [  1.,   6.,   7.,  36.,  42.,  49., 216., 252., 294., 343.]])"
      ]
     },
     "execution_count": 12,
     "metadata": {},
     "output_type": "execute_result"
    }
   ],
   "source": [
    "#Here, in a single example, we've two examples, each with two weights.  Want combinations of 3.\n",
    "polynomial_transform(np.array([[2, 3],[4, 5],[6,7]]), 3)"
   ]
  },
  {
   "cell_type": "code",
   "execution_count": 13,
   "metadata": {
    "scrolled": false
   },
   "outputs": [
    {
     "name": "stdout",
     "output_type": "stream",
     "text": [
      "[array([1.])]\n",
      "[array([1.])]\n"
     ]
    },
    {
     "data": {
      "text/plain": [
       "array([[1.]])"
      ]
     },
     "execution_count": 13,
     "metadata": {},
     "output_type": "execute_result"
    }
   ],
   "source": [
    "#Here, in a single example, we've one example, with one weight.  Want combinations of 0.\n",
    "polynomial_transform(np.array([2]), 0)"
   ]
  },
  {
   "cell_type": "code",
   "execution_count": 14,
   "metadata": {},
   "outputs": [],
   "source": [
    "def create_nonlin_training_set(func, sample_size, std):\n",
    "    x = np.linspace(0, 1, sample_size)\n",
    "    y = func(x) + np.random.normal(scale=std, size=x.shape)\n",
    "    return x, y\n",
    "\n",
    "def nonlin(x):\n",
    "    return np.sin(2 * np.pi * x)"
   ]
  },
  {
   "cell_type": "code",
   "execution_count": 15,
   "metadata": {},
   "outputs": [],
   "source": [
    "def visualize_training_data(X_train, y_train):\n",
    "    points = np.linspace(0, 1, 100)\n",
    "    output = nonlin(points)\n",
    "    \n",
    "    plt.scatter(X_train, y_train, s=50, label=\"training data\")\n",
    "    plt.plot(points, output, c='g', label='$\\sin(2 \\pi x)$')\n",
    "    \n",
    "    plt.xlabel = \"$x_1$\"\n",
    "    plt.ylabel = \"y\"\n",
    "    plt.legend()\n",
    "    plt.show()"
   ]
  },
  {
   "cell_type": "code",
   "execution_count": 16,
   "metadata": {},
   "outputs": [],
   "source": [
    "def visualize_model_fit(X, y, lin_reg, degree):\n",
    "    points = np.linspace(0, 1, 100)\n",
    "    output = nonlin(points)\n",
    "    \n",
    "    if degree  > 0:\n",
    "        plt.scatter(X, y, s=50, label=\"training data\")\n",
    "    plt.plot(points, output, c='g', label='$\\sin(2 \\pi x)$')\n",
    "    \n",
    "    y_hat = lin_reg.predict(polynomial_transform(points, degree,logging=False)) #predict function's second parameter is w.  What value should be used?\n",
    "    plt.plot(points, y_hat, c='r', label='predicted')\n",
    "    plt.xlabel = \"$x_1$\"\n",
    "    plt.ylabel = \"y\"\n",
    "    plt.legend()\n",
    "#     plt.ylim(-1,5,1.5)\n",
    "    plt.show()"
   ]
  },
  {
   "cell_type": "code",
   "execution_count": 17,
   "metadata": {
    "scrolled": false
   },
   "outputs": [
    {
     "data": {
      "image/png": "[encoded data removed]",
      "text/plain": [
       "<Figure size 432x288 with 1 Axes>"
      ]
     },
     "metadata": {
      "needs_background": "light"
     },
     "output_type": "display_data"
    }
   ],
   "source": [
    "num_samples = 10\n",
    "x, y = create_nonlin_training_set(nonlin, num_samples, 0.2)\n",
    "visualize_training_data(x, y)"
   ]
  },
  {
   "cell_type": "code",
   "execution_count": 18,
   "metadata": {
    "scrolled": false
   },
   "outputs": [
    {
     "data": {
      "image/png": "[encoded data removed]",
      "text/plain": [
       "<Figure size 432x288 with 1 Axes>"
      ]
     },
     "metadata": {
      "needs_background": "light"
     },
     "output_type": "display_data"
    }
   ],
   "source": [
    "degree = 3\n",
    "X_transform = polynomial_transform(x, degree,logging=False)\n",
    "lin_reg = LinReg()\n",
    "lin_reg.fit(X_transform, y)\n",
    "visualize_model_fit(x, y, lin_reg, degree)"
   ]
  },
  {
   "cell_type": "markdown",
   "metadata": {},
   "source": [
    "As the degree goes up, the overfitting problems appears.  However, overfitting can be reduced by increasing the number of samples."
   ]
  },
  {
   "cell_type": "code",
   "execution_count": 19,
   "metadata": {},
   "outputs": [
    {
     "data": {
      "image/png": "[encoded data removed]",
      "text/plain": [
       "<Figure size 432x288 with 1 Axes>"
      ]
     },
     "metadata": {
      "needs_background": "light"
     },
     "output_type": "display_data"
    }
   ],
   "source": [
    "num_samples = 1000\n",
    "x, y = create_nonlin_training_set(nonlin, num_samples, 0.2)\n",
    "\n",
    "degree = 14\n",
    "X_transform = polynomial_transform(x, degree,logging=False)\n",
    "lin_reg = LinReg()\n",
    "lin_reg.fit(X_transform, y)\n",
    "visualize_model_fit(x, y, lin_reg, degree)"
   ]
  }
 ],
 "metadata": {
  "kernelspec": {
   "display_name": "Python 3",
   "language": "python",
   "name": "python3"
  },
  "language_info": {
   "codemirror_mode": {
    "name": "ipython",
    "version": 3
   },
   "file_extension": ".py",
   "mimetype": "text/x-python",
   "name": "python",
   "nbconvert_exporter": "python",
   "pygments_lexer": "ipython3",
   "version": "3.7.4"
  }
 },
 "nbformat": 4,
 "nbformat_minor": 2
}
