{
 "cells": [
  {
   "cell_type": "code",
   "execution_count": 1,
   "metadata": {},
   "outputs": [],
   "source": [
    "import numpy as np"
   ]
  },
  {
   "cell_type": "markdown",
   "metadata": {},
   "source": [
    "#### Element-by-element"
   ]
  },
  {
   "cell_type": "markdown",
   "metadata": {},
   "source": [
    "Using a normal operation between arrays does element-by-element operation.  For example, matrix multiplication cannot be done using normal multiplication operator."
   ]
  },
  {
   "cell_type": "code",
   "execution_count": 2,
   "metadata": {},
   "outputs": [
    {
     "data": {
      "text/plain": [
       "array([[18., 18.],\n",
       "       [18., 18.]])"
      ]
     },
     "execution_count": 2,
     "metadata": {},
     "output_type": "execute_result"
    }
   ],
   "source": [
    "A = 3 * np.ones((2,2)) #3 is multiplied with every element in the array\n",
    "B = 6 * np.ones((2,2)) #6 is multiplied with every element in the array\n",
    "A * B"
   ]
  },
  {
   "cell_type": "markdown",
   "metadata": {},
   "source": [
    "#### Is it matmul or dot?"
   ]
  },
  {
   "cell_type": "markdown",
   "metadata": {},
   "source": [
    "Both will give same result for a 2D array, but 3D and above the results are different.  In the case of 2D arrays, matmul should be preferred over dot operation."
   ]
  },
  {
   "cell_type": "code",
   "execution_count": 3,
   "metadata": {},
   "outputs": [
    {
     "data": {
      "text/plain": [
       "array([[36., 36.],\n",
       "       [36., 36.]])"
      ]
     },
     "execution_count": 3,
     "metadata": {},
     "output_type": "execute_result"
    }
   ],
   "source": [
    "np.matmul(A, B)"
   ]
  },
  {
   "cell_type": "code",
   "execution_count": 4,
   "metadata": {},
   "outputs": [
    {
     "data": {
      "text/plain": [
       "array([[36., 36.],\n",
       "       [36., 36.]])"
      ]
     },
     "execution_count": 4,
     "metadata": {},
     "output_type": "execute_result"
    }
   ],
   "source": [
    "A @ B"
   ]
  },
  {
   "cell_type": "code",
   "execution_count": 5,
   "metadata": {
    "scrolled": true
   },
   "outputs": [
    {
     "data": {
      "text/plain": [
       "array([[36., 36.],\n",
       "       [36., 36.]])"
      ]
     },
     "execution_count": 5,
     "metadata": {},
     "output_type": "execute_result"
    }
   ],
   "source": [
    "np.dot(A, B) #same as matrix multiplication for 2 x 2 arrays."
   ]
  },
  {
   "cell_type": "markdown",
   "metadata": {},
   "source": [
    "Between matmul and dot, always prefer to use matmul"
   ]
  },
  {
   "cell_type": "code",
   "execution_count": 6,
   "metadata": {},
   "outputs": [
    {
     "name": "stdout",
     "output_type": "stream",
     "text": [
      "(2, 3, 2, 3)\n",
      "(2, 3, 3)\n"
     ]
    }
   ],
   "source": [
    "#matrix multiplication and dot product are not same for higher dimensional arrays (more than 2D)\n",
    "A = np.random.rand(2,3,3)\n",
    "B = np.random.rand(2,3,3)\n",
    "print(np.dot(A, B).shape)\n",
    "print((A @ B).shape)"
   ]
  },
  {
   "cell_type": "markdown",
   "metadata": {},
   "source": [
    "#### Broadcasting an entire row?"
   ]
  },
  {
   "cell_type": "markdown",
   "metadata": {},
   "source": [
    "The entire first (and only) row of A, is entirely broadcast during multiplication operation with B.  This works only since the number of columns in A and B are equal."
   ]
  },
  {
   "cell_type": "code",
   "execution_count": 7,
   "metadata": {},
   "outputs": [
    {
     "data": {
      "text/plain": [
       "array([[18., 18.],\n",
       "       [18., 18.],\n",
       "       [18., 18.]])"
      ]
     },
     "execution_count": 7,
     "metadata": {},
     "output_type": "execute_result"
    }
   ],
   "source": [
    "A = 3 * np.ones((1,2))\n",
    "B = 6 *np.ones((3,2))\n",
    "A * B"
   ]
  },
  {
   "cell_type": "markdown",
   "metadata": {},
   "source": [
    "#### Broadcasting an entire column?"
   ]
  },
  {
   "cell_type": "markdown",
   "metadata": {},
   "source": [
    "The entire first (and only) column of A, is entirely broadcast during multiplication operation with B.  This works only since the number of rows in A and B are equal."
   ]
  },
  {
   "cell_type": "code",
   "execution_count": 8,
   "metadata": {},
   "outputs": [
    {
     "data": {
      "text/plain": [
       "array([[18., 18., 18.],\n",
       "       [18., 18., 18.]])"
      ]
     },
     "execution_count": 8,
     "metadata": {},
     "output_type": "execute_result"
    }
   ],
   "source": [
    "A = 3 * np.ones((2,1))\n",
    "B = 6 *np.ones((2,3))\n",
    "A * B"
   ]
  },
  {
   "cell_type": "markdown",
   "metadata": {},
   "source": [
    "#### What is np.argmax function?"
   ]
  },
  {
   "cell_type": "markdown",
   "metadata": {},
   "source": [
    "Finds the index of the maximum in a row/column of given array"
   ]
  },
  {
   "cell_type": "code",
   "execution_count": 9,
   "metadata": {},
   "outputs": [
    {
     "name": "stdout",
     "output_type": "stream",
     "text": [
      "[[0.79810013 8.36760337 5.3643186  1.30690837 7.10767716 6.61642046\n",
      "  8.93274459]\n",
      " [9.15502014 5.35401857 2.18344306 3.70083678 7.68736931 8.72585365\n",
      "  9.01619659]\n",
      " [1.10400585 3.03714355 4.67866116 1.0230112  5.31199255 9.1228265\n",
      "  0.75589361]\n",
      " [6.71714011 5.13280581 9.64117978 9.82871591 4.04428512 8.86553752\n",
      "  3.53632162]\n",
      " [3.35121428 6.1667634  0.5325857  6.52655115 7.99855417 2.47634102\n",
      "  1.72361607]\n",
      " [8.53953555 6.61167142 2.24199903 6.40111621 7.48004394 4.57480373\n",
      "  3.41910018]\n",
      " [0.56801848 5.55718508 6.59990463 8.8860317  3.25468349 5.92788591\n",
      "  5.8986734 ]]\n"
     ]
    }
   ],
   "source": [
    "A = 10 * np.random.random((7, 7))\n",
    "print(A)"
   ]
  },
  {
   "cell_type": "code",
   "execution_count": 10,
   "metadata": {},
   "outputs": [
    {
     "data": {
      "text/plain": [
       "24"
      ]
     },
     "execution_count": 10,
     "metadata": {},
     "output_type": "execute_result"
    }
   ],
   "source": [
    "np.argmax(A) #Flattens the array before returning the index of the max.element."
   ]
  },
  {
   "cell_type": "code",
   "execution_count": 11,
   "metadata": {},
   "outputs": [
    {
     "data": {
      "text/plain": [
       "array([1, 0, 3, 3, 4, 2, 1], dtype=int64)"
      ]
     },
     "execution_count": 11,
     "metadata": {},
     "output_type": "execute_result"
    }
   ],
   "source": [
    "np.argmax(A, axis=0) #Finds index of the max. element down each column."
   ]
  },
  {
   "cell_type": "code",
   "execution_count": 12,
   "metadata": {},
   "outputs": [
    {
     "data": {
      "text/plain": [
       "array([6, 0, 5, 3, 4, 0, 3], dtype=int64)"
      ]
     },
     "execution_count": 12,
     "metadata": {},
     "output_type": "execute_result"
    }
   ],
   "source": [
    "np.argmax(A, axis=1) #Finds index of the max. element across each row."
   ]
  },
  {
   "cell_type": "markdown",
   "metadata": {},
   "source": [
    "#### Ok, so, how does this axis parameter work?"
   ]
  },
  {
   "cell_type": "markdown",
   "metadata": {},
   "source": [
    "For example, using axis parameter with np.sum, sums up all elements of the array down the column when axis=0, and across row when axis=1"
   ]
  },
  {
   "cell_type": "code",
   "execution_count": 13,
   "metadata": {},
   "outputs": [
    {
     "name": "stdout",
     "output_type": "stream",
     "text": [
      "[[5 6 8 9]\n",
      " [6 6 7 8]\n",
      " [3 6 8 6]]\n"
     ]
    }
   ],
   "source": [
    "A = np.random.randint(1, 10, size=12).reshape(3,4)\n",
    "print(A)"
   ]
  },
  {
   "cell_type": "code",
   "execution_count": 14,
   "metadata": {},
   "outputs": [
    {
     "data": {
      "text/plain": [
       "array([14, 18, 23, 23])"
      ]
     },
     "execution_count": 14,
     "metadata": {},
     "output_type": "execute_result"
    }
   ],
   "source": [
    "np.sum(A, axis=0) #sums down the column"
   ]
  },
  {
   "cell_type": "code",
   "execution_count": 15,
   "metadata": {},
   "outputs": [
    {
     "data": {
      "text/plain": [
       "array([28, 27, 23])"
      ]
     },
     "execution_count": 15,
     "metadata": {},
     "output_type": "execute_result"
    }
   ],
   "source": [
    "np.sum(A, axis=1) #sums across the row"
   ]
  },
  {
   "cell_type": "markdown",
   "metadata": {},
   "source": [
    "#### Stack or concatentate?"
   ]
  },
  {
   "cell_type": "markdown",
   "metadata": {},
   "source": [
    "Both can achieve the same result, but while using concatenate parameter must a tuple, and axis must be specified.  Thus, concatenating along 0th axis stacks vertically, and along 1st axis stacks horizontally."
   ]
  },
  {
   "cell_type": "code",
   "execution_count": 16,
   "metadata": {},
   "outputs": [
    {
     "name": "stdout",
     "output_type": "stream",
     "text": [
      "[[1. 1. 2. 2.]\n",
      " [1. 1. 2. 2.]]\n"
     ]
    }
   ],
   "source": [
    "A = np.ones((2,2))\n",
    "B = 2*np.ones((2,2))\n",
    "A_B = np.hstack((A,B))\n",
    "# A_B = np.concatenate((A, B), axis=1) # same as above\n",
    "print(A_B)"
   ]
  },
  {
   "cell_type": "code",
   "execution_count": 17,
   "metadata": {},
   "outputs": [
    {
     "name": "stdout",
     "output_type": "stream",
     "text": [
      "[[3. 3. 4. 4.]\n",
      " [3. 3. 4. 4.]]\n"
     ]
    }
   ],
   "source": [
    "C = 3*np.ones((2,2))\n",
    "D = 4*np.ones((2,2))\n",
    "C_D = np.hstack((C,D))\n",
    "# C_D = np.concatenate((C, D), axis=1) # same as above\n",
    "print(C_D)"
   ]
  },
  {
   "cell_type": "code",
   "execution_count": 18,
   "metadata": {
    "scrolled": false
   },
   "outputs": [
    {
     "name": "stdout",
     "output_type": "stream",
     "text": [
      "[[1. 1. 2. 2.]\n",
      " [1. 1. 2. 2.]\n",
      " [3. 3. 4. 4.]\n",
      " [3. 3. 4. 4.]]\n"
     ]
    }
   ],
   "source": [
    "T = np.vstack((A_B,C_D))\n",
    "# T = np.concatenate((A_B, C_D), axis=0) # same as above\n",
    "print(T)"
   ]
  }
 ],
 "metadata": {
  "kernelspec": {
   "display_name": "Python 3",
   "language": "python",
   "name": "python3"
  },
  "language_info": {
   "codemirror_mode": {
    "name": "ipython",
    "version": 3
   },
   "file_extension": ".py",
   "mimetype": "text/x-python",
   "name": "python",
   "nbconvert_exporter": "python",
   "pygments_lexer": "ipython3",
   "version": "3.7.4"
  }
 },
 "nbformat": 4,
 "nbformat_minor": 2
}
