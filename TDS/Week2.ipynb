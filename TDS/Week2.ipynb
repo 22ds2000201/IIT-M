{
 "cells": [
  {
   "cell_type": "markdown",
   "metadata": {},
   "source": [
    "### Geopy"
   ]
  },
  {
   "cell_type": "markdown",
   "metadata": {},
   "source": [
    "https://geopy.readthedocs.io/"
   ]
  },
  {
   "cell_type": "code",
   "execution_count": 1,
   "metadata": {},
   "outputs": [],
   "source": [
    "from geopy.geocoders import Nominatim"
   ]
  },
  {
   "cell_type": "code",
   "execution_count": 2,
   "metadata": {},
   "outputs": [],
   "source": [
    "locator = Nominatim(user_agent=\"myGeocoder\")"
   ]
  },
  {
   "cell_type": "code",
   "execution_count": 3,
   "metadata": {},
   "outputs": [],
   "source": [
    "# How many IITs are there in India?\n",
    "locations = locator.geocode(\"IIT\", country_codes=['IN'], exactly_one=False)"
   ]
  },
  {
   "cell_type": "code",
   "execution_count": 4,
   "metadata": {},
   "outputs": [
    {
     "name": "stdout",
     "output_type": "stream",
     "text": [
      "1 .  IIT(BHU) Road, Kabir Colony, Varanasi, Sadar, Varanasi, Uttar Pradesh, 221008, India\n",
      "(25.2596997, 82.9929621)\n",
      "25 15m 34.9189s N, 82 59m 34.6636s E\n",
      "\n",
      "\n",
      "2 .  Post Office, IIT, Boundary Road, Kharagpur, Kharagpur-I, Paschim Medinipur, West Bengal, 721301, India\n",
      "(22.321480049999998, 87.31042396115888)\n",
      "22 19m 17.3282s N, 87 18m 37.5263s E\n",
      "\n",
      "\n",
      "3 .  IIT, Outer Ring Road, Hauz Khas Tehsil, South Delhi, Delhi, 110016, India\n",
      "(28.5465734, 77.1954752)\n",
      "28 32m 47.6642s N, 77 11m 43.7107s E\n",
      "\n",
      "\n",
      "4 .  IIT, Khordha Town to IIT Road, Jatani, Khordha, Odisha, 752050, India\n",
      "(20.14924045, 85.66525399014657)\n",
      "20 8m 57.2656s N, 85 39m 54.9144s E\n",
      "\n",
      "\n",
      "5 .  IIT(BHU) Proctor Office, IIT(BHU) Road, Kabir Colony, Varanasi, Sadar, Varanasi, Uttar Pradesh, 221008, India\n",
      "(25.2602026, 82.9923635)\n",
      "25 15m 36.7294s N, 82 59m 32.5086s E\n",
      "\n",
      "\n",
      "6 .  IIT(BHU) Main Library, Radial Road 10, Hyderabad Colony, BHU, Kabir Colony, Varanasi, Sadar, Varanasi, Uttar Pradesh, 221005, India\n",
      "(25.261846650000003, 82.98917357869134)\n",
      "25 15m 42.6479s N, 82 59m 21.0249s E\n",
      "\n",
      "\n",
      "7 .  Geoinformatics Laboratory, IIT(BHU), Civil Engineering Road, Kabir Colony, Varanasi, Sadar, Varanasi, Uttar Pradesh, 221005, India\n",
      "(25.263124, 82.9917063)\n",
      "25 15m 47.2464s N, 82 59m 30.1427s E\n",
      "\n",
      "\n",
      "8 .  Department of Mechanical Engineering, IIT(BHU), Civil Engineering Road, Kabir Colony, Varanasi, Sadar, Varanasi, Uttar Pradesh, 221005, India\n",
      "(25.2617284, 82.9916482699685)\n",
      "25 15m 42.2222s N, 82 59m 29.9338s E\n",
      "\n",
      "\n",
      "9 .  Central Instrumentation Facility, IIT(BHU) Varanasi, Radial Road 11, Kabir Colony, Varanasi, Sadar, Varanasi, Uttar Pradesh, 221008, India\n",
      "(25.2601704, 82.9908449)\n",
      "25 15m 36.6134s N, 82 59m 27.0416s E\n",
      "\n",
      "\n",
      "10 .  Aryabhatta Hostel, IIT(BHU), Aryabhatt Hostel Road, Kabir Colony, Varanasi, Sadar, Varanasi, Uttar Pradesh, 221005, India\n",
      "(25.264820450000002, 82.98420096336447)\n",
      "25 15m 53.3536s N, 82 59m 3.12347s E\n",
      "\n",
      "\n"
     ]
    }
   ],
   "source": [
    "index = 1\n",
    "for location in locations:\n",
    "    print(index, \".  \", end='')\n",
    "    for each in (location.address, (location.latitude, location.longitude), location.point):\n",
    "        print(each)\n",
    "    print(\"\\n\")\n",
    "    index += 1"
   ]
  }
 ],
 "metadata": {
  "kernelspec": {
   "display_name": "Python 3",
   "language": "python",
   "name": "python3"
  },
  "language_info": {
   "codemirror_mode": {
    "name": "ipython",
    "version": 3
   },
   "file_extension": ".py",
   "mimetype": "text/x-python",
   "name": "python",
   "nbconvert_exporter": "python",
   "pygments_lexer": "ipython3",
   "version": "3.7.4"
  }
 },
 "nbformat": 4,
 "nbformat_minor": 2
}
