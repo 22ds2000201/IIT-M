{
 "cells": [
  {
   "cell_type": "code",
   "execution_count": 1,
   "metadata": {},
   "outputs": [],
   "source": [
    "import numpy as np\n",
    "import seaborn as sns\n",
    "from matplotlib import pyplot as plt\n",
    "%matplotlib inline"
   ]
  },
  {
   "cell_type": "code",
   "execution_count": 2,
   "metadata": {},
   "outputs": [],
   "source": [
    "def linear_combination(X, w):\n",
    "    return X @ w"
   ]
  },
  {
   "cell_type": "code",
   "execution_count": 3,
   "metadata": {},
   "outputs": [],
   "source": [
    "def sigmoid(z):\n",
    "    return 1 / (1 + np.exp(-z))"
   ]
  },
  {
   "cell_type": "code",
   "execution_count": 4,
   "metadata": {},
   "outputs": [],
   "source": [
    "def activation(X, w):\n",
    "    return sigmoid(linear_combination(X, w))"
   ]
  },
  {
   "cell_type": "code",
   "execution_count": 5,
   "metadata": {},
   "outputs": [],
   "source": [
    "def predict(X, w, threshold):\n",
    "    return np.where(activation(X, w) > threshold, 1, 0)"
   ]
  },
  {
   "cell_type": "markdown",
   "metadata": {},
   "source": [
    "Testing the above functions..."
   ]
  },
  {
   "cell_type": "code",
   "execution_count": 6,
   "metadata": {},
   "outputs": [
    {
     "name": "stdout",
     "output_type": "stream",
     "text": [
      "[1 1]\n"
     ]
    }
   ],
   "source": [
    "X = np.array([[1,20,2],[1,2,2]])\n",
    "w = np.array([-1,0,1])\n",
    "class_labels = predict(X, w, threshold=0.5)\n",
    "print(class_labels)"
   ]
  },
  {
   "cell_type": "markdown",
   "metadata": {},
   "source": [
    "Setting both L1 and L2 regularization rates such that their sum equals 1, allows to perform elastic regularization.  If either/both regularization isn't needed, set the corresponding rates to 0."
   ]
  },
  {
   "cell_type": "code",
   "execution_count": 7,
   "metadata": {},
   "outputs": [],
   "source": [
    "def loss(y, sigmoid_vector, weight_vector, l1_reg_rate, l2_reg_rate):\n",
    "    loss_orig = -1 * np.sum(y * np.log(sigmoid_vector) + (1 - y) * np.log(1 - sigmoid_vector))\n",
    "    l2_reg = l2_reg_rate * np.dot(weight_vector.T, weight_vector)\n",
    "    l1_reg = l1_reg_rate * np.sum(np.abs(weight_vector))\n",
    "    return loss_orig + l1_reg + l2_reg"
   ]
  },
  {
   "cell_type": "code",
   "execution_count": 8,
   "metadata": {},
   "outputs": [],
   "source": [
    "def calculate_gradient(X, y, w, reg_rate):\n",
    "    return X.T @ (sigmoid(linear_combination(X, w)) - y) + reg_rate * w"
   ]
  },
  {
   "cell_type": "code",
   "execution_count": 9,
   "metadata": {},
   "outputs": [],
   "source": [
    "class LogisticRegression():\n",
    "    def set_weight_vector(self, w):\n",
    "        self.w = w\n",
    "    def linear_combination(self, X):\n",
    "        return X @ self.w\n",
    "    def sigmoid(self, z):\n",
    "        return 1 / (1 + np.exp(-z))\n",
    "    def activation(self, X):\n",
    "        return sigmoid(linear_combination(X))\n",
    "    def predict(self, X, w, threshold):\n",
    "        return np.where(activation(X) > threshold, 1, 0)\n",
    "    def loss(X, y, reg_rate):\n",
    "        sigmoid_vector = self.activation(X)\n",
    "        loss_orig = -1 * np.sum(y * np.log(sigmoid_vector) + (1 - y) * np.log(1 - sigmoid_vector))\n",
    "        reg = reg_rate * np.dot(self.w.T, self.w)\n",
    "        return loss_orig + reg\n",
    "    def calculate_gradient(X, y, reg_rate):\n",
    "        return X.T @ (self.activation(X) - y) + reg_rate * self.w\n",
    "    def update_weights(self, grad, lr):\n",
    "        return self.w - grad * lr\n",
    "    def gd(self, X, y, num_epochs, lr, reg_rate):\n",
    "        self.w = np.zeros(X.shape[1])\n",
    "        self.w_all = []\n",
    "        self.err_all = []\n",
    "        for i in range(num_epochs):\n",
    "            grad = self.calculate_gradient(X, y, reg_rate)\n",
    "            self.w_all.append(self.w)\n",
    "            self.err_all.append(self.loss(X, y, reg_rate))\n",
    "            self.w = self.update_weights(grad, lr)\n",
    "        return self.w"
   ]
  }
 ],
 "metadata": {
  "kernelspec": {
   "display_name": "Python 3",
   "language": "python",
   "name": "python3"
  },
  "language_info": {
   "codemirror_mode": {
    "name": "ipython",
    "version": 3
   },
   "file_extension": ".py",
   "mimetype": "text/x-python",
   "name": "python",
   "nbconvert_exporter": "python",
   "pygments_lexer": "ipython3",
   "version": "3.7.4"
  }
 },
 "nbformat": 4,
 "nbformat_minor": 2
}
