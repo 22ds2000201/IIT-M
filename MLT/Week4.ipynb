{
 "cells": [
  {
   "cell_type": "code",
   "execution_count": 1,
   "metadata": {},
   "outputs": [],
   "source": [
    "import itertools\n",
    "import functools\n",
    "import numpy as np\n",
    "import seaborn as sns\n",
    "import matplotlib.pyplot as plt\n",
    "from sklearn.model_selection import train_test_split"
   ]
  },
  {
   "cell_type": "code",
   "execution_count": 2,
   "metadata": {},
   "outputs": [],
   "source": [
    "def combinations(x, degree):\n",
    "    return itertools.combinations_with_replacement(x, degree)"
   ]
  },
  {
   "cell_type": "code",
   "execution_count": 3,
   "metadata": {},
   "outputs": [],
   "source": [
    "def compute_new_features(items):\n",
    "    return functools.reduce(lambda x, y: x * y, items)"
   ]
  },
  {
   "cell_type": "code",
   "execution_count": 4,
   "metadata": {},
   "outputs": [],
   "source": [
    "def polynomial_transform(x, degree):\n",
    "    if x.ndim == 1:\n",
    "        x = x[:, None]\n",
    "\n",
    "    features = [np.ones(len(x))] #a list of np-arrays with all 1.\n",
    "\n",
    "    for degree in range(1, degree + 1):\n",
    "        for item in combinations(x.T, degree):\n",
    "            features.append(compute_new_features(item))\n",
    "            \n",
    "    return np.asarray(features).T"
   ]
  },
  {
   "cell_type": "code",
   "execution_count": 5,
   "metadata": {},
   "outputs": [],
   "source": [
    "def create_toy_data(add_outliers=False, add_class=False):\n",
    "    x0 = np.random.normal(size=50).reshape(-1,2) - 1\n",
    "    x1 = np.random.normal(size=50).reshape(-1,2) + 1\n",
    "    if add_outliers:\n",
    "        x_1 = np.random.normal(size=10).reshape(-1,2) + np.array([5., 10.])\n",
    "        return np.concatenate((x0, x1, x_1)), np.concatenate((np.zeros(25), np.ones(30))).astype(int)\n",
    "    if add_class:\n",
    "        x2 = np.random.normal(size=50).reshape(-1,2) + 2\n",
    "        return np.concatenate((x0, x1, x2)), np.concatenate((np.zeros(25), np.ones(25), 2 + np.zeros(25))).astype(int)\n",
    "    return np.concatenate((x0, x1)), np.concatenate((np.zeros(25), np.ones(25))).astype(int)"
   ]
  },
  {
   "cell_type": "markdown",
   "metadata": {},
   "source": [
    "https://github.com/ctgk/PRML/blob/8f8270cbae986c607f3cc6f89afefd58fa69fadd/prml/preprocess/label_transformer.py"
   ]
  },
  {
   "cell_type": "code",
   "execution_count": 6,
   "metadata": {},
   "outputs": [],
   "source": [
    "class LabelTransformer(object):\n",
    "    def __init__(self, n_classes:int=None):\n",
    "        self.n_classes = n_classes\n",
    "\n",
    "    @property\n",
    "    def n_classes(self):\n",
    "        return self.__n_classes\n",
    "\n",
    "    @n_classes.setter\n",
    "    def n_classes(self, K):\n",
    "        self.__n_classes = K\n",
    "        self.__encoder = None if K is None else np.eye(K)\n",
    "    @property\n",
    "    def encoder(self):\n",
    "        return self.__encoder\n",
    "\n",
    "    def encode(self, class_indices:np.ndarray):\n",
    "        if self.n_classes is None:\n",
    "            self.n_classes = np.max(class_indices) + 1\n",
    "\n",
    "        return self.encoder[class_indices]\n",
    "\n",
    "    def decode(self, onehot:np.ndarray):\n",
    "        return np.argmax(onehot, axis=1)"
   ]
  },
  {
   "cell_type": "code",
   "execution_count": 7,
   "metadata": {},
   "outputs": [
    {
     "name": "stdout",
     "output_type": "stream",
     "text": [
      "2\n",
      "[[1. 0.]\n",
      " [0. 1.]\n",
      " [1. 0.]\n",
      " [0. 1.]]\n"
     ]
    }
   ],
   "source": [
    "# Testing LabelTranformer\n",
    "l = LabelTransformer(2)\n",
    "print(l.n_classes)\n",
    "print(l.encoder[[0,1,0,1]])"
   ]
  },
  {
   "cell_type": "code",
   "execution_count": 8,
   "metadata": {
    "scrolled": false
   },
   "outputs": [
    {
     "data": {
      "text/plain": [
       "array([[1., 0.],\n",
       "       [0., 1.],\n",
       "       [1., 0.],\n",
       "       [0., 1.]])"
      ]
     },
     "execution_count": 8,
     "metadata": {},
     "output_type": "execute_result"
    }
   ],
   "source": [
    "LabelTransformer(2).encode(np.array([0,1,0,1]))"
   ]
  },
  {
   "cell_type": "code",
   "execution_count": 9,
   "metadata": {},
   "outputs": [],
   "source": [
    "def preprocess(add_class=False, add_outliers=False, degree=1):\n",
    "    x, y = create_toy_data(add_outliers, add_class)\n",
    "    x_poly = polynomial_transform(x, degree=degree)\n",
    "    x_train, x_test, y_train, y_test = train_test_split(x_poly, y) \n",
    "    y_train_trans = LabelTransformer().encode(y_train)\n",
    "    y_test_trans = LabelTransformer().encode(y_test)\n",
    "    return x_train , x_test, y_train, y_test, y_train_trans, y_test_trans "
   ]
  },
  {
   "cell_type": "code",
   "execution_count": 10,
   "metadata": {},
   "outputs": [],
   "source": [
    "x_train , x_test, y_train, y_test, y_train_trans, y_test_trans = preprocess()"
   ]
  },
  {
   "cell_type": "code",
   "execution_count": 11,
   "metadata": {},
   "outputs": [],
   "source": [
    "assert x_train.shape[0] == y_train.shape[0], \"Not enough labels for all training samples\""
   ]
  },
  {
   "cell_type": "code",
   "execution_count": 12,
   "metadata": {},
   "outputs": [],
   "source": [
    "assert x_test.shape[0] == y_test.shape[0], \"Not enough labels for all test samples\""
   ]
  },
  {
   "cell_type": "code",
   "execution_count": 13,
   "metadata": {},
   "outputs": [],
   "source": [
    "sns.set_context(context='notebook',font_scale=1.5,rc={\"lines.linewidth\":2.5})\n",
    "\n",
    "def visualize_model(X_train, labels, lsc, degree=1):\n",
    "#     sns.set_style(\"white\")\n",
    "    f = plt.figure(figsize=(8,8))\n",
    "\n",
    "    x1_min = np.min(x_train[:,1])\n",
    "    x1_max = np.max(x_train[:,1])\n",
    "    x2_min = np.min(x_train[:,2])\n",
    "    x2_max = np.min(x_train[:,2])\n",
    "    \n",
    "    x1_test, x2_test = np.meshgrid(np.linspace(x1_min, x1_max, 100), np.linspace(x2_min, x2_max, 100)) \n",
    "    x_test = np.array([x1_test, x2_test]).reshape(2,-1).T\n",
    "    x_test_poly = polynomial_transform(x_test, degree=degree)\n",
    "    y_test = lsc.predict(x_test_poly)\n",
    "    \n",
    "    sns.scatterplot(data=x_train, x=x_train[:,-2], y=x_train[:,-1], hue=labels)\n",
    "    plt.contourf(x1_test, x2_test, y_test.reshape(100,100), alpha=0.5, levels=np.linspace(0,1,3))\n",
    "    plt.gca().set_aspect('equal', adjustable='box')"
   ]
  },
  {
   "cell_type": "code",
   "execution_count": 14,
   "metadata": {},
   "outputs": [],
   "source": [
    "import numpy as np\n",
    "class LeastSquareClassification(object): \n",
    "  def __init__(self): \n",
    "    self.t0 = 20 \n",
    "    self.t1 = 1000\n",
    "  \n",
    "  def predict(self, X):\n",
    "    return np.argmax( X @ self.w, axis=1)\n",
    "\n",
    "  def loss(self, X,y, reg_rate):\n",
    "    e = y - self.predict(X) \n",
    "    return (1/2)* (e.T @ e) + (reg_rate / 2) * (self.w).T @ (self.w)\n",
    "\n",
    "  def predict_internal (self, x): \n",
    "     return X@self.w  \n",
    "  \n",
    "  def rmse(self, X, y):\n",
    "    return np.sqrt(2 / X.shape[0] * self.loss(X,y,0))\n",
    "\n",
    "  def fit(self, X, y,reg_rate):\n",
    "    eye = np.eye(X.shape[1])\n",
    "    self.w = np.linalg.solve(\n",
    "        reg_rate * eye + X.T @ X, X.T @ y\n",
    "    )\n",
    "    return self.w\n",
    "\n",
    "  def calculate_gradient(self,X, y,reg_rate):\n",
    "    grad = X.T @  (self.predict(X) - y) + reg_rate * self.w\n",
    "    return  grad\n",
    "\n",
    "  def update_weight(self, grad, lr):\n",
    "    returns (self.w - lr * grad)\n",
    "\n",
    "  def learning_schedule(self, t):\n",
    "     return self.t0 / (t + self.t1) \n",
    "\n",
    "  def gd(self, X, y, num_epochs, lr, reg_rate):\n",
    "    self.w = np.zeros(X.shape[1])\n",
    "    self.w_all = [] \n",
    "    self.err_all = [] \n",
    "    for i in np.arange(0, num_epochs):\n",
    "      djdw = self.calculate_gradient(X, y, reg_rate)\n",
    "      self.w_all.append(w)\n",
    "      self.err_all.append(self.loss(X, y, reg_rate))\n",
    "      self.w = self.update_weights(djdw, lr) \n",
    "    return self.w"
   ]
  },
  {
   "cell_type": "code",
   "execution_count": 15,
   "metadata": {
    "scrolled": true
   },
   "outputs": [
    {
     "data": {
      "image/png": "[encoded data removed]",
      "text/plain": [
       "<Figure size 576x576 with 1 Axes>"
      ]
     },
     "metadata": {
      "needs_background": "light"
     },
     "output_type": "display_data"
    }
   ],
   "source": [
    "lsc = LeastSquareClassification()\n",
    "lsc.fit(x_train, y_train_trans, reg_rate=0)\n",
    "visualize_model(x_train, y_train, lsc)"
   ]
  }
 ],
 "metadata": {
  "kernelspec": {
   "display_name": "Python 3",
   "language": "python",
   "name": "python3"
  },
  "language_info": {
   "codemirror_mode": {
    "name": "ipython",
    "version": 3
   },
   "file_extension": ".py",
   "mimetype": "text/x-python",
   "name": "python",
   "nbconvert_exporter": "python",
   "pygments_lexer": "ipython3",
   "version": "3.7.4"
  }
 },
 "nbformat": 4,
 "nbformat_minor": 2
}
