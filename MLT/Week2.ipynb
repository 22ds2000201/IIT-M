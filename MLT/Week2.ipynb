{
 "cells": [
  {
   "cell_type": "code",
   "execution_count": 1,
   "metadata": {},
   "outputs": [
    {
     "name": "stderr",
     "output_type": "stream",
     "text": [
      "D:\\Anaconda3\\lib\\site-packages\\statsmodels\\tools\\_testing.py:19: FutureWarning: pandas.util.testing is deprecated. Use the functions in the public API at pandas.testing instead.\n",
      "  import pandas.util.testing as tm\n"
     ]
    }
   ],
   "source": [
    "import numpy as np\n",
    "import seaborn as sns\n",
    "import matplotlib.pyplot as plt"
   ]
  },
  {
   "cell_type": "markdown",
   "metadata": {},
   "source": [
    "### Training Data"
   ]
  },
  {
   "cell_type": "code",
   "execution_count": 2,
   "metadata": {},
   "outputs": [],
   "source": [
    "#Parameters\n",
    "w0 = 3\n",
    "w1 = 4\n",
    "n = 100"
   ]
  },
  {
   "cell_type": "code",
   "execution_count": 3,
   "metadata": {},
   "outputs": [
    {
     "data": {
      "text/plain": [
       "array([2.81888059, 6.73866765, 1.23757057, 3.30745758, 7.76037126,\n",
       "       6.56112796, 9.07516234, 4.52272234, 9.86790767, 0.61326056,\n",
       "       0.64109861, 7.81776251, 9.17225169, 2.88707043, 8.37820581,\n",
       "       3.64858327, 8.44973283, 2.67604912, 2.79552087, 6.83090247,\n",
       "       3.94206144, 6.48377109, 7.86913426, 5.29823481, 4.09944965,\n",
       "       8.61456889, 1.86348259, 0.53835545, 6.93504881, 0.66132945,\n",
       "       4.11356763, 7.79910171, 5.54068385, 2.80313198, 4.35858798,\n",
       "       8.1526222 , 1.1651559 , 1.67273426, 9.48570861, 5.36816237,\n",
       "       8.4403885 , 3.82995285, 7.65182715, 5.28593355, 8.69917917,\n",
       "       7.06684983, 9.71458147, 3.23718716, 1.2884975 , 0.30853379,\n",
       "       1.19231377, 0.29925073, 1.41316481, 3.14508691, 9.36577291,\n",
       "       1.35766221, 5.16792492, 9.67675121, 9.36420153, 1.81927541,\n",
       "       5.73057157, 6.77486684, 7.0138136 , 4.04998059, 1.39593224,\n",
       "       3.40439331, 9.64360875, 6.65485748, 4.86602831, 4.83139822,\n",
       "       4.6486099 , 3.78163961, 3.71466305, 6.76753185, 6.09011939,\n",
       "       3.28857828, 1.81306994, 6.29546853, 8.22828298, 9.75552086,\n",
       "       3.98816561, 1.95703271, 7.22567159, 0.18460135, 8.27865798,\n",
       "       0.48442032, 3.78466676, 8.86358367, 2.09420677, 7.19460883,\n",
       "       8.43491027, 2.57960326, 7.47348462, 4.46342145, 6.27220567,\n",
       "       9.67267159, 9.6303756 , 4.71677975, 2.52854177, 2.39858996])"
      ]
     },
     "execution_count": 3,
     "metadata": {},
     "output_type": "execute_result"
    }
   ],
   "source": [
    "#Creates a column vector with 100 rows.\n",
    "X = 10 * np.random.random(n, )\n",
    "X"
   ]
  },
  {
   "cell_type": "code",
   "execution_count": 4,
   "metadata": {},
   "outputs": [
    {
     "data": {
      "text/plain": [
       "array([14.70429903, 30.54201299,  8.58732901, 16.92179282, 34.84201732,\n",
       "       29.41777757, 39.77750208, 21.63870693, 42.60082962,  5.65670774,\n",
       "        6.30282777, 34.44135457, 40.47821003, 15.32295429, 36.54288941,\n",
       "       18.53739408, 37.69619478, 13.90020447, 14.66162622, 31.2877508 ,\n",
       "       19.03018842, 29.08869452, 35.39226182, 24.88627881, 19.46032959,\n",
       "       37.4754195 , 10.47509303,  5.69918305, 31.69016599,  6.33579183,\n",
       "       19.83401073, 34.76531567, 26.0743123 , 14.2801514 , 20.720492  ,\n",
       "       36.54375121,  8.02383101, 10.20944391, 41.51998429, 24.9168158 ,\n",
       "       36.84641382, 18.50183199, 34.53635166, 24.64227231, 38.49985784,\n",
       "       31.79061784, 42.84480007, 16.2389287 ,  8.15735938,  4.74897278,\n",
       "        8.00330682,  4.42869138,  9.43994993, 16.04107315, 40.99600129,\n",
       "        8.68281588, 24.47915396, 42.60400091, 41.38390641, 10.91565371,\n",
       "       26.9036854 , 31.04717305, 31.84530259, 19.96373273,  8.81749232,\n",
       "       17.00231257, 41.65133466, 30.48249695, 23.45685233, 22.68114564,\n",
       "       21.96421825, 18.45750375, 18.57854223, 30.08438317, 27.75293075,\n",
       "       16.64574029, 10.65260556, 28.6787602 , 36.50095189, 42.03167941,\n",
       "       19.23817713, 10.95911661, 32.76017864,  3.76054843, 36.80159945,\n",
       "        5.77127338, 18.65449532, 39.05951185, 11.52588813, 32.2595407 ,\n",
       "       37.44647267, 14.2435009 , 33.85610002, 21.73859673, 28.97719696,\n",
       "       41.76652152, 42.17344744, 21.94702237, 13.66487057, 13.17011848])"
      ]
     },
     "execution_count": 4,
     "metadata": {},
     "output_type": "execute_result"
    }
   ],
   "source": [
    "y = w0 + w1 * X + np.random.random(n,)\n",
    "y"
   ]
  },
  {
   "cell_type": "code",
   "execution_count": 5,
   "metadata": {},
   "outputs": [
    {
     "name": "stdout",
     "output_type": "stream",
     "text": [
      "Shape of feature matrix(X) is (100,)\n",
      "Shape of labels(y) is (100,)\n"
     ]
    }
   ],
   "source": [
    "print(f'Shape of feature matrix(X) is {X.shape}')\n",
    "print(f'Shape of labels(y) is {y.shape}')"
   ]
  },
  {
   "cell_type": "code",
   "execution_count": 6,
   "metadata": {},
   "outputs": [],
   "source": [
    "from sklearn.model_selection import train_test_split\n",
    "#42 is the seed, and allows same split to occur everytime the function is executed.\n",
    "X_train, X_test, y_train, y_test = train_test_split(X, y, test_size=0.2, random_state=42) "
   ]
  },
  {
   "cell_type": "code",
   "execution_count": 7,
   "metadata": {},
   "outputs": [
    {
     "name": "stdout",
     "output_type": "stream",
     "text": [
      "80% of examples is assigned to feature training set\n",
      "\n",
      "[1.35766221 2.09420677 1.86348259 7.65182715 4.83139822 3.64858327\n",
      " 8.4403885  9.6303756  0.61326056 3.71466305 7.81776251 3.23718716\n",
      " 0.48442032 6.93504881 4.46342145 6.56112796 9.64360875 3.40439331\n",
      " 8.1526222  8.44973283 0.30853379 4.35858798 4.52272234 9.67267159\n",
      " 0.53835545 6.83090247 1.95703271 8.61456889 7.0138136  2.88707043\n",
      " 4.09944965 3.30745758 2.67604912 9.48570861 9.86790767 8.22828298\n",
      " 9.07516234 1.39593224 1.1651559  7.19460883 5.16792492 2.39858996\n",
      " 9.36577291 5.28593355 1.19231377 6.65485748 9.71458147 4.86602831\n",
      " 6.77486684 4.71677975 9.75552086 3.82995285 9.36420153 1.2884975\n",
      " 2.52854177 9.67675121 3.28857828 5.54068385 6.27220567 1.81927541\n",
      " 4.04998059 8.27865798 1.67273426 0.66132945 6.73866765 1.41316481\n",
      " 6.48377109 1.23757057 5.29823481 8.86358367 2.57960326 6.09011939\n",
      " 3.78466676 7.22567159 3.94206144 5.73057157 3.78163961 8.37820581\n",
      " 7.47348462 0.29925073]\n"
     ]
    }
   ],
   "source": [
    "print(f\"{int(100 * len(X_train)/len(X))}% of examples is assigned to feature training set\\n\")\n",
    "\n",
    "print(X_train)"
   ]
  },
  {
   "cell_type": "code",
   "execution_count": 8,
   "metadata": {},
   "outputs": [
    {
     "name": "stdout",
     "output_type": "stream",
     "text": [
      "20% of examples is assigned to feature test set\n",
      "\n"
     ]
    },
    {
     "data": {
      "text/plain": [
       "array([0.18460135, 3.14508691, 4.6486099 , 7.06684983, 8.69917917,\n",
       "       5.36816237, 7.86913426, 3.98816561, 0.64109861, 2.81888059,\n",
       "       2.79552087, 4.11356763, 6.76753185, 2.80313198, 8.43491027,\n",
       "       7.76037126, 1.81306994, 6.29546853, 9.17225169, 7.79910171])"
      ]
     },
     "execution_count": 8,
     "metadata": {},
     "output_type": "execute_result"
    }
   ],
   "source": [
    "print(f\"{int(100 * len(X_test)/len(X))}% of examples is assigned to feature test set\\n\")\n",
    "\n",
    "X_test"
   ]
  },
  {
   "cell_type": "code",
   "execution_count": 9,
   "metadata": {},
   "outputs": [
    {
     "name": "stdout",
     "output_type": "stream",
     "text": [
      "80% of labels is assigned to label training set\n",
      "\n"
     ]
    },
    {
     "data": {
      "text/plain": [
       "array([ 8.68281588, 11.52588813, 10.47509303, 34.53635166, 22.68114564,\n",
       "       18.53739408, 36.84641382, 42.17344744,  5.65670774, 18.57854223,\n",
       "       34.44135457, 16.2389287 ,  5.77127338, 31.69016599, 21.73859673,\n",
       "       29.41777757, 41.65133466, 17.00231257, 36.54375121, 37.69619478,\n",
       "        4.74897278, 20.720492  , 21.63870693, 41.76652152,  5.69918305,\n",
       "       31.2877508 , 10.95911661, 37.4754195 , 31.84530259, 15.32295429,\n",
       "       19.46032959, 16.92179282, 13.90020447, 41.51998429, 42.60082962,\n",
       "       36.50095189, 39.77750208,  8.81749232,  8.02383101, 32.2595407 ,\n",
       "       24.47915396, 13.17011848, 40.99600129, 24.64227231,  8.00330682,\n",
       "       30.48249695, 42.84480007, 23.45685233, 31.04717305, 21.94702237,\n",
       "       42.03167941, 18.50183199, 41.38390641,  8.15735938, 13.66487057,\n",
       "       42.60400091, 16.64574029, 26.0743123 , 28.97719696, 10.91565371,\n",
       "       19.96373273, 36.80159945, 10.20944391,  6.33579183, 30.54201299,\n",
       "        9.43994993, 29.08869452,  8.58732901, 24.88627881, 39.05951185,\n",
       "       14.2435009 , 27.75293075, 18.65449532, 32.76017864, 19.03018842,\n",
       "       26.9036854 , 18.45750375, 36.54288941, 33.85610002,  4.42869138])"
      ]
     },
     "execution_count": 9,
     "metadata": {},
     "output_type": "execute_result"
    }
   ],
   "source": [
    "print(f\"{int(100 * len(y_train)/len(y))}% of labels is assigned to label training set\\n\")\n",
    "\n",
    "y_train"
   ]
  },
  {
   "cell_type": "code",
   "execution_count": 10,
   "metadata": {
    "scrolled": true
   },
   "outputs": [
    {
     "name": "stdout",
     "output_type": "stream",
     "text": [
      "20% of labels is assigned to label test set\n",
      "\n"
     ]
    },
    {
     "data": {
      "text/plain": [
       "array([ 3.76054843, 16.04107315, 21.96421825, 31.79061784, 38.49985784,\n",
       "       24.9168158 , 35.39226182, 19.23817713,  6.30282777, 14.70429903,\n",
       "       14.66162622, 19.83401073, 30.08438317, 14.2801514 , 37.44647267,\n",
       "       34.84201732, 10.65260556, 28.6787602 , 40.47821003, 34.76531567])"
      ]
     },
     "execution_count": 10,
     "metadata": {},
     "output_type": "execute_result"
    }
   ],
   "source": [
    "print(f\"{int(100 * len(y_test)/len(y))}% of labels is assigned to label test set\\n\")\n",
    "\n",
    "y_test"
   ]
  },
  {
   "cell_type": "code",
   "execution_count": 11,
   "metadata": {
    "scrolled": true
   },
   "outputs": [
    {
     "name": "stdout",
     "output_type": "stream",
     "text": [
      "Shape of feature training set is (80,)\n",
      "Shape of label training set is (80,)\n",
      "Shape of feature test set is (20,)\n",
      "Shape of label test set is (20,)\n"
     ]
    }
   ],
   "source": [
    "print(f'Shape of feature training set is {X_train.shape}')\n",
    "print(f'Shape of label training set is {y_train.shape}')\n",
    "\n",
    "print(f'Shape of feature test set is {X_test.shape}')\n",
    "print(f'Shape of label test set is {y_test.shape}')"
   ]
  },
  {
   "cell_type": "code",
   "execution_count": 12,
   "metadata": {},
   "outputs": [
    {
     "data": {
      "image/png": "[encoded data removed]",
      "text/plain": [
       "<Figure size 576x576 with 1 Axes>"
      ]
     },
     "metadata": {},
     "output_type": "display_data"
    }
   ],
   "source": [
    "sns.set_style('white')\n",
    "f = plt.figure(figsize=(8,8))\n",
    "sns.set_context(context='notebook',font_scale=1.5,rc={\"lines.linewidth\":2.5})\n",
    "\n",
    "plt.plot(X_train, y_train, \"b.\") #blue dots\n",
    "plt.title(\"Data points\")\n",
    "plt.grid(True)\n",
    "plt.xlabel(\"$x_1$\", fontsize=18)\n",
    "plt.ylabel(\"y\", rotation=0,fontsize=18)\n",
    "plt.axis([0,10,0,40])  # Sets start/end of X and Y axis in the same order.\n",
    "\n",
    "plt.show()"
   ]
  },
  {
   "cell_type": "code",
   "execution_count": 13,
   "metadata": {},
   "outputs": [
    {
     "data": {
      "text/plain": [
       "array([[1.        , 2.81888059],\n",
       "       [1.        , 6.73866765],\n",
       "       [1.        , 1.23757057],\n",
       "       [1.        , 3.30745758],\n",
       "       [1.        , 7.76037126],\n",
       "       [1.        , 6.56112796],\n",
       "       [1.        , 9.07516234],\n",
       "       [1.        , 4.52272234],\n",
       "       [1.        , 9.86790767],\n",
       "       [1.        , 0.61326056],\n",
       "       [1.        , 0.64109861],\n",
       "       [1.        , 7.81776251],\n",
       "       [1.        , 9.17225169],\n",
       "       [1.        , 2.88707043],\n",
       "       [1.        , 8.37820581],\n",
       "       [1.        , 3.64858327],\n",
       "       [1.        , 8.44973283],\n",
       "       [1.        , 2.67604912],\n",
       "       [1.        , 2.79552087],\n",
       "       [1.        , 6.83090247],\n",
       "       [1.        , 3.94206144],\n",
       "       [1.        , 6.48377109],\n",
       "       [1.        , 7.86913426],\n",
       "       [1.        , 5.29823481],\n",
       "       [1.        , 4.09944965],\n",
       "       [1.        , 8.61456889],\n",
       "       [1.        , 1.86348259],\n",
       "       [1.        , 0.53835545],\n",
       "       [1.        , 6.93504881],\n",
       "       [1.        , 0.66132945],\n",
       "       [1.        , 4.11356763],\n",
       "       [1.        , 7.79910171],\n",
       "       [1.        , 5.54068385],\n",
       "       [1.        , 2.80313198],\n",
       "       [1.        , 4.35858798],\n",
       "       [1.        , 8.1526222 ],\n",
       "       [1.        , 1.1651559 ],\n",
       "       [1.        , 1.67273426],\n",
       "       [1.        , 9.48570861],\n",
       "       [1.        , 5.36816237],\n",
       "       [1.        , 8.4403885 ],\n",
       "       [1.        , 3.82995285],\n",
       "       [1.        , 7.65182715],\n",
       "       [1.        , 5.28593355],\n",
       "       [1.        , 8.69917917],\n",
       "       [1.        , 7.06684983],\n",
       "       [1.        , 9.71458147],\n",
       "       [1.        , 3.23718716],\n",
       "       [1.        , 1.2884975 ],\n",
       "       [1.        , 0.30853379],\n",
       "       [1.        , 1.19231377],\n",
       "       [1.        , 0.29925073],\n",
       "       [1.        , 1.41316481],\n",
       "       [1.        , 3.14508691],\n",
       "       [1.        , 9.36577291],\n",
       "       [1.        , 1.35766221],\n",
       "       [1.        , 5.16792492],\n",
       "       [1.        , 9.67675121],\n",
       "       [1.        , 9.36420153],\n",
       "       [1.        , 1.81927541],\n",
       "       [1.        , 5.73057157],\n",
       "       [1.        , 6.77486684],\n",
       "       [1.        , 7.0138136 ],\n",
       "       [1.        , 4.04998059],\n",
       "       [1.        , 1.39593224],\n",
       "       [1.        , 3.40439331],\n",
       "       [1.        , 9.64360875],\n",
       "       [1.        , 6.65485748],\n",
       "       [1.        , 4.86602831],\n",
       "       [1.        , 4.83139822],\n",
       "       [1.        , 4.6486099 ],\n",
       "       [1.        , 3.78163961],\n",
       "       [1.        , 3.71466305],\n",
       "       [1.        , 6.76753185],\n",
       "       [1.        , 6.09011939],\n",
       "       [1.        , 3.28857828],\n",
       "       [1.        , 1.81306994],\n",
       "       [1.        , 6.29546853],\n",
       "       [1.        , 8.22828298],\n",
       "       [1.        , 9.75552086],\n",
       "       [1.        , 3.98816561],\n",
       "       [1.        , 1.95703271],\n",
       "       [1.        , 7.22567159],\n",
       "       [1.        , 0.18460135],\n",
       "       [1.        , 8.27865798],\n",
       "       [1.        , 0.48442032],\n",
       "       [1.        , 3.78466676],\n",
       "       [1.        , 8.86358367],\n",
       "       [1.        , 2.09420677],\n",
       "       [1.        , 7.19460883],\n",
       "       [1.        , 8.43491027],\n",
       "       [1.        , 2.57960326],\n",
       "       [1.        , 7.47348462],\n",
       "       [1.        , 4.46342145],\n",
       "       [1.        , 6.27220567],\n",
       "       [1.        , 9.67267159],\n",
       "       [1.        , 9.6303756 ],\n",
       "       [1.        , 4.71677975],\n",
       "       [1.        , 2.52854177],\n",
       "       [1.        , 2.39858996]])"
      ]
     },
     "execution_count": 13,
     "metadata": {},
     "output_type": "execute_result"
    }
   ],
   "source": [
    "np.column_stack((np.ones(X.shape[0]), X))"
   ]
  },
  {
   "cell_type": "code",
   "execution_count": 14,
   "metadata": {},
   "outputs": [],
   "source": [
    "# Converting above logic to a function\n",
    "def add_dummy_feature(x):\n",
    "    return np.column_stack((np.ones(x.shape[0]), x))"
   ]
  },
  {
   "cell_type": "code",
   "execution_count": 15,
   "metadata": {},
   "outputs": [
    {
     "data": {
      "text/plain": [
       "array([[1., 1., 2., 3.],\n",
       "       [1., 4., 5., 6.]])"
      ]
     },
     "execution_count": 15,
     "metadata": {},
     "output_type": "execute_result"
    }
   ],
   "source": [
    "# testing the above function\n",
    "train_matrix = np.array([[1,2,3], [4,5,6]]) # each feature is a 3-d vector.\n",
    "train_matrix = add_dummy_feature(train_matrix)\n",
    "train_matrix"
   ]
  },
  {
   "cell_type": "code",
   "execution_count": 16,
   "metadata": {
    "scrolled": true
   },
   "outputs": [
    {
     "data": {
      "text/plain": [
       "array([[1.        , 1.35766221],\n",
       "       [1.        , 2.09420677],\n",
       "       [1.        , 1.86348259],\n",
       "       [1.        , 7.65182715],\n",
       "       [1.        , 4.83139822],\n",
       "       [1.        , 3.64858327],\n",
       "       [1.        , 8.4403885 ],\n",
       "       [1.        , 9.6303756 ],\n",
       "       [1.        , 0.61326056],\n",
       "       [1.        , 3.71466305],\n",
       "       [1.        , 7.81776251],\n",
       "       [1.        , 3.23718716],\n",
       "       [1.        , 0.48442032],\n",
       "       [1.        , 6.93504881],\n",
       "       [1.        , 4.46342145],\n",
       "       [1.        , 6.56112796],\n",
       "       [1.        , 9.64360875],\n",
       "       [1.        , 3.40439331],\n",
       "       [1.        , 8.1526222 ],\n",
       "       [1.        , 8.44973283],\n",
       "       [1.        , 0.30853379],\n",
       "       [1.        , 4.35858798],\n",
       "       [1.        , 4.52272234],\n",
       "       [1.        , 9.67267159],\n",
       "       [1.        , 0.53835545],\n",
       "       [1.        , 6.83090247],\n",
       "       [1.        , 1.95703271],\n",
       "       [1.        , 8.61456889],\n",
       "       [1.        , 7.0138136 ],\n",
       "       [1.        , 2.88707043],\n",
       "       [1.        , 4.09944965],\n",
       "       [1.        , 3.30745758],\n",
       "       [1.        , 2.67604912],\n",
       "       [1.        , 9.48570861],\n",
       "       [1.        , 9.86790767],\n",
       "       [1.        , 8.22828298],\n",
       "       [1.        , 9.07516234],\n",
       "       [1.        , 1.39593224],\n",
       "       [1.        , 1.1651559 ],\n",
       "       [1.        , 7.19460883],\n",
       "       [1.        , 5.16792492],\n",
       "       [1.        , 2.39858996],\n",
       "       [1.        , 9.36577291],\n",
       "       [1.        , 5.28593355],\n",
       "       [1.        , 1.19231377],\n",
       "       [1.        , 6.65485748],\n",
       "       [1.        , 9.71458147],\n",
       "       [1.        , 4.86602831],\n",
       "       [1.        , 6.77486684],\n",
       "       [1.        , 4.71677975],\n",
       "       [1.        , 9.75552086],\n",
       "       [1.        , 3.82995285],\n",
       "       [1.        , 9.36420153],\n",
       "       [1.        , 1.2884975 ],\n",
       "       [1.        , 2.52854177],\n",
       "       [1.        , 9.67675121],\n",
       "       [1.        , 3.28857828],\n",
       "       [1.        , 5.54068385],\n",
       "       [1.        , 6.27220567],\n",
       "       [1.        , 1.81927541],\n",
       "       [1.        , 4.04998059],\n",
       "       [1.        , 8.27865798],\n",
       "       [1.        , 1.67273426],\n",
       "       [1.        , 0.66132945],\n",
       "       [1.        , 6.73866765],\n",
       "       [1.        , 1.41316481],\n",
       "       [1.        , 6.48377109],\n",
       "       [1.        , 1.23757057],\n",
       "       [1.        , 5.29823481],\n",
       "       [1.        , 8.86358367],\n",
       "       [1.        , 2.57960326],\n",
       "       [1.        , 6.09011939],\n",
       "       [1.        , 3.78466676],\n",
       "       [1.        , 7.22567159],\n",
       "       [1.        , 3.94206144],\n",
       "       [1.        , 5.73057157],\n",
       "       [1.        , 3.78163961],\n",
       "       [1.        , 8.37820581],\n",
       "       [1.        , 7.47348462],\n",
       "       [1.        , 0.29925073]])"
      ]
     },
     "execution_count": 16,
     "metadata": {},
     "output_type": "execute_result"
    }
   ],
   "source": [
    "#apply the function to X_train\n",
    "X_train = add_dummy_feature(X_train)\n",
    "X_train"
   ]
  },
  {
   "cell_type": "markdown",
   "metadata": {},
   "source": [
    "### Model "
   ]
  },
  {
   "cell_type": "code",
   "execution_count": 17,
   "metadata": {},
   "outputs": [],
   "source": [
    "#Predicting label follows the equation y = Xw, in its vectorized form.\n",
    "def predict(X, w):\n",
    "    if X.shape[1] == w.shape[0]:\n",
    "        return X @ w\n",
    "    else:\n",
    "        return None"
   ]
  },
  {
   "cell_type": "code",
   "execution_count": 18,
   "metadata": {},
   "outputs": [],
   "source": [
    "def generate_examples():\n",
    "    X = 10 * np.random.random(n, )\n",
    "    y = w0 + w1 * X\n",
    "    X_train, X_test, y_train, y_test = train_test_split(X, y, test_size=0.2, random_state=42) \n",
    "    X_train = add_dummy_feature(X_train)\n",
    "    return X_train, X_test, y_train, y_test"
   ]
  },
  {
   "cell_type": "code",
   "execution_count": 19,
   "metadata": {},
   "outputs": [
    {
     "data": {
      "text/plain": [
       "array([4.49365289, 5.50120009, 1.2636917 , 1.59818666, 8.19469006,\n",
       "       5.34240582, 1.7854804 , 4.35081103, 2.25213457, 3.08037303,\n",
       "       6.07408495, 5.43151577, 2.90440737, 4.77472541, 3.59898787,\n",
       "       3.59775438, 4.01328116, 1.6490123 , 5.96332676, 4.51992263,\n",
       "       4.24576312, 5.18878137, 8.30768366, 4.76989775, 3.07996941,\n",
       "       3.34075318, 3.39497857, 7.18231088, 5.20743738, 4.40705556,\n",
       "       3.42316196, 5.89064727, 7.9795672 , 7.88702834, 3.18817421,\n",
       "       1.79187192, 7.37976871, 7.3252483 , 1.51590495, 8.54649224,\n",
       "       2.25110183, 3.26833935, 5.3204809 , 5.18961954, 3.82109492,\n",
       "       2.5896351 , 3.9542857 , 6.51647635, 7.8660169 , 6.25596407,\n",
       "       2.13899527, 2.98155098, 3.58056704, 6.64854812, 7.55505303,\n",
       "       7.45374824, 4.34732825, 2.52206586, 2.14609949, 3.68658637,\n",
       "       3.95504096, 8.55078403, 4.94957009, 7.28993779, 6.76895109,\n",
       "       3.88776656, 7.31203254, 5.75032918, 8.45523009, 2.63092902,\n",
       "       2.62572961, 1.10482256, 2.03254368, 6.86819922, 1.55480931,\n",
       "       0.94627734, 5.94849121, 7.76299852, 4.87205596, 8.27409466])"
      ]
     },
     "execution_count": 19,
     "metadata": {},
     "output_type": "execute_result"
    }
   ],
   "source": [
    "# test it with the examples generated using above function\n",
    "X_train, X_test, y_train, y_test = generate_examples()\n",
    "y_hat =  predict (X_train, np.random.rand(2,))\n",
    "y_hat"
   ]
  },
  {
   "cell_type": "markdown",
   "metadata": {},
   "source": [
    "### Loss"
   ]
  },
  {
   "cell_type": "code",
   "execution_count": 20,
   "metadata": {},
   "outputs": [],
   "source": [
    "def loss (X, y, w):\n",
    "    e = X @ w - y\n",
    "    return 0.5 * (e.T @ e)"
   ]
  },
  {
   "cell_type": "code",
   "execution_count": 21,
   "metadata": {},
   "outputs": [
    {
     "data": {
      "text/plain": [
       "62.5"
      ]
     },
     "execution_count": 21,
     "metadata": {},
     "output_type": "execute_result"
    }
   ],
   "source": [
    "X = np.array([[1,3,2,5],[1,9,4,7]])\n",
    "y = np.array([6,11])\n",
    "w = np.array([1,1,1,1])\n",
    "\n",
    "loss(X, y,w)"
   ]
  },
  {
   "cell_type": "code",
   "execution_count": 22,
   "metadata": {},
   "outputs": [],
   "source": [
    "#Generate weight vector\n",
    "w = np.random.rand(2,)"
   ]
  },
  {
   "cell_type": "code",
   "execution_count": 23,
   "metadata": {
    "scrolled": true
   },
   "outputs": [
    {
     "data": {
      "text/plain": [
       "0.0"
      ]
     },
     "execution_count": 23,
     "metadata": {},
     "output_type": "execute_result"
    }
   ],
   "source": [
    "X_train, X_test, y_train, y_test = generate_examples()\n",
    "loss(X_train, y_train, np.array([3,4]))  #Since weight vector is (3,4), there's no loss"
   ]
  },
  {
   "cell_type": "code",
   "execution_count": 24,
   "metadata": {},
   "outputs": [
    {
     "name": "stdout",
     "output_type": "stream",
     "text": [
      "5.946729094634209 4.752062802348458\n"
     ]
    }
   ],
   "source": [
    "#Generate weight vector\n",
    "w = 10 * np.random.rand(2,)\n",
    "print(w[0], w[1])"
   ]
  },
  {
   "cell_type": "code",
   "execution_count": 25,
   "metadata": {
    "scrolled": true
   },
   "outputs": [
    {
     "data": {
      "text/plain": [
       "<matplotlib.collections.LineCollection at 0x1f76a50aac8>"
      ]
     },
     "execution_count": 25,
     "metadata": {},
     "output_type": "execute_result"
    },
    {
     "data": {
      "image/png": "[encoded data removed]",
      "text/plain": [
       "<Figure size 576x576 with 1 Axes>"
      ]
     },
     "metadata": {},
     "output_type": "display_data"
    }
   ],
   "source": [
    "y_new = predict(X_train, w)\n",
    "fig, axes = plt.subplots(figsize=(8,8))\n",
    "axes.plot(X_train[:,1], y_train, c='b', label='Training')\n",
    "axes.scatter(X_train[:,1], y_new, c='g', label='Error')\n",
    "axes.vlines(X_train[:,1], y_new, y_train, colors=\"r\", label=\"loss\")"
   ]
  },
  {
   "cell_type": "markdown",
   "metadata": {},
   "source": [
    "### Optimization"
   ]
  },
  {
   "cell_type": "markdown",
   "metadata": {},
   "source": [
    "#### Normal equation method"
   ]
  },
  {
   "cell_type": "code",
   "execution_count": 26,
   "metadata": {},
   "outputs": [],
   "source": [
    "def normal_equation(X, y):\n",
    "    return np.linalg.pinv(X) @ y"
   ]
  },
  {
   "cell_type": "code",
   "execution_count": 27,
   "metadata": {},
   "outputs": [
    {
     "data": {
      "text/plain": [
       "array([3., 4.])"
      ]
     },
     "execution_count": 27,
     "metadata": {},
     "output_type": "execute_result"
    }
   ],
   "source": [
    "normal_equation(X_train, y_train)"
   ]
  },
  {
   "cell_type": "markdown",
   "metadata": {},
   "source": [
    "#### Gradient descent method"
   ]
  },
  {
   "cell_type": "code",
   "execution_count": 28,
   "metadata": {},
   "outputs": [],
   "source": [
    "lr = 0.0001 #learning rate"
   ]
  },
  {
   "cell_type": "code",
   "execution_count": 29,
   "metadata": {},
   "outputs": [],
   "source": [
    "def calculate_gradient(X, y, w):\n",
    "    return np.transpose(X) @ (predict(X, w) - y)"
   ]
  },
  {
   "cell_type": "code",
   "execution_count": 30,
   "metadata": {},
   "outputs": [
    {
     "data": {
      "text/plain": [
       "array([0., 0.])"
      ]
     },
     "execution_count": 30,
     "metadata": {},
     "output_type": "execute_result"
    }
   ],
   "source": [
    "g = calculate_gradient(X_train, y_train, np.array([3,4]))  #Since weight vector is (3,4), gradient is 0.\n",
    "g"
   ]
  },
  {
   "cell_type": "code",
   "execution_count": 31,
   "metadata": {},
   "outputs": [],
   "source": [
    "def weight_update(w, lr, g):\n",
    "    return w - lr * g"
   ]
  },
  {
   "cell_type": "code",
   "execution_count": 32,
   "metadata": {},
   "outputs": [],
   "source": [
    "def gradient_descent(X, y, epochs):\n",
    "    # Start with an arbitrary weight vector say, [0, 0].  \n",
    "    # After \"many\" iterations, we should reach the original weight vector [3,4]]\n",
    "    losses = list() \n",
    "    weights = list()\n",
    "    w = np.zeros(X.shape[1])\n",
    "    for i in range(epochs):\n",
    "        l = loss(X_train, y_train, w)\n",
    "        losses.append(l)\n",
    "        g = calculate_gradient(X, y, w)\n",
    "        w = weight_update(w, lr, g)\n",
    "        weights.append(w)\n",
    "    return weights, losses"
   ]
  },
  {
   "cell_type": "code",
   "execution_count": 33,
   "metadata": {},
   "outputs": [
    {
     "data": {
      "text/plain": [
       "array([2.99999996, 4.00000001])"
      ]
     },
     "execution_count": 33,
     "metadata": {},
     "output_type": "execute_result"
    }
   ],
   "source": [
    "epochs = 10000\n",
    "weights, losses = gradient_descent(X_train, y_train, epochs)\n",
    "weights[-1]# last weight from the <epochs> trials."
   ]
  },
  {
   "cell_type": "code",
   "execution_count": 34,
   "metadata": {
    "scrolled": false
   },
   "outputs": [
    {
     "data": {
      "image/png": "[encoded data removed]",
      "text/plain": [
       "<Figure size 432x288 with 1 Axes>"
      ]
     },
     "metadata": {},
     "output_type": "display_data"
    }
   ],
   "source": [
    "def plot_learning_curves(losses):\n",
    "    plt.plot(losses)\n",
    "    \n",
    "plot_learning_curves(losses)"
   ]
  },
  {
   "cell_type": "markdown",
   "metadata": {},
   "source": [
    "#### Mini-batch gradient descent"
   ]
  },
  {
   "cell_type": "code",
   "execution_count": 35,
   "metadata": {
    "scrolled": true
   },
   "outputs": [
    {
     "data": {
      "text/plain": [
       "0.0"
      ]
     },
     "execution_count": 35,
     "metadata": {},
     "output_type": "execute_result"
    }
   ],
   "source": [
    "X_train, X_test, y_train, y_test = generate_examples()\n",
    "loss(X_train, y_train, np.array([3,4]))  #Since weight vector is (3,4), there's no loss"
   ]
  },
  {
   "cell_type": "code",
   "execution_count": 36,
   "metadata": {},
   "outputs": [],
   "source": [
    "t1, t2 = 200, 10000\n",
    "def learning_schedule(t):\n",
    "    return t1 / (t + t2)"
   ]
  },
  {
   "cell_type": "code",
   "execution_count": 37,
   "metadata": {},
   "outputs": [],
   "source": [
    "def mini_batch_gd(X, y, iterations, mini_batch_size):\n",
    "    t = 0\n",
    "    w = np.zeros(X.shape[1])  #initializing arbitrary values.\n",
    "    weights, losses = list(), list()\n",
    "\n",
    "    for iteration in range(iterations):\n",
    "        shuffled_indices = np.random.permutation(X.shape[0])\n",
    "        X_shuffled = X[shuffled_indices]\n",
    "        y_shuffled = y[shuffled_indices]\n",
    "\n",
    "        for i in range(0, X.shape[0], mini_batch_size):\n",
    "            t += 1\n",
    "            x1 = X_shuffled[i:i+mini_batch_size]\n",
    "            y1 = y_shuffled[i:i+mini_batch_size]\n",
    "\n",
    "            l = loss(x1, y1, w)\n",
    "            losses.append(l)\n",
    "\n",
    "            g = 2/mini_batch_size * calculate_gradient(x1, y1, w)\n",
    "            w = weight_update(w, learning_schedule(t), g)\n",
    "            weights.append(w)\n",
    "\n",
    "    return weights, losses"
   ]
  },
  {
   "cell_type": "code",
   "execution_count": 38,
   "metadata": {},
   "outputs": [],
   "source": [
    "mini_batch_size = 8\n",
    "iterations = 20\n",
    "\n",
    "X_train, X_test, y_train, y_test = generate_examples()\n",
    "weights, losses = mini_batch_gd(X_train, y_train, iterations, mini_batch_size)"
   ]
  },
  {
   "cell_type": "code",
   "execution_count": 39,
   "metadata": {
    "scrolled": false
   },
   "outputs": [
    {
     "data": {
      "image/png": "[encoded data removed]",
      "text/plain": [
       "<Figure size 432x288 with 1 Axes>"
      ]
     },
     "metadata": {},
     "output_type": "display_data"
    }
   ],
   "source": [
    "plot_learning_curves(losses)"
   ]
  },
  {
   "cell_type": "markdown",
   "metadata": {},
   "source": [
    "#### Stochastic Gradient Descent (SGD)"
   ]
  },
  {
   "cell_type": "code",
   "execution_count": 40,
   "metadata": {},
   "outputs": [],
   "source": [
    "t1, t2 = 200, 10000\n",
    "def learning_schedule(t):\n",
    "    return t1 / (t + t2)"
   ]
  },
  {
   "cell_type": "code",
   "execution_count": 41,
   "metadata": {},
   "outputs": [],
   "source": [
    "def sgd(X, y, iterations):\n",
    "    t = 0\n",
    "    w = np.zeros(X.shape[1])  #initializing arbitrary values.\n",
    "    weights, losses = list(), list()\n",
    "    \n",
    "    for iteration in range(iterations):\n",
    "        shuffled_indices = np.random.permutation(X.shape[0])\n",
    "        X_shuffled = X[shuffled_indices]\n",
    "        y_shuffled = y[shuffled_indices]\n",
    "\n",
    "        for i in range(0, X.shape[0]):\n",
    "            t += 1\n",
    "            x1 = X_shuffled[i:i+1]\n",
    "            y1 = y_shuffled[i:i+1]\n",
    "\n",
    "            l = loss(x1, y1, w)\n",
    "            losses.append(l)\n",
    "\n",
    "            g = 2/mini_batch_size * calculate_gradient(x1, y1, w)\n",
    "            w = weight_update(w, learning_schedule(t), g)\n",
    "            weights.append(w)\n",
    "\n",
    "    return weights, losses"
   ]
  },
  {
   "cell_type": "code",
   "execution_count": 42,
   "metadata": {},
   "outputs": [],
   "source": [
    "iterations = 20\n",
    "\n",
    "X_train, X_test, y_train, y_test = generate_examples()\n",
    "weights, losses = sgd(X_train, y_train, iterations)"
   ]
  },
  {
   "cell_type": "code",
   "execution_count": 43,
   "metadata": {
    "scrolled": true
   },
   "outputs": [
    {
     "data": {
      "image/png": "[encoded data removed]",
      "text/plain": [
       "<Figure size 432x288 with 1 Axes>"
      ]
     },
     "metadata": {},
     "output_type": "display_data"
    }
   ],
   "source": [
    "plot_learning_curves(losses)"
   ]
  },
  {
   "cell_type": "markdown",
   "metadata": {},
   "source": [
    "### Handling more features"
   ]
  },
  {
   "cell_type": "code",
   "execution_count": 44,
   "metadata": {},
   "outputs": [],
   "source": [
    "from sklearn.datasets import make_regression\n",
    "\n",
    "X, y, weights = make_regression(n_samples=200, n_features=10, n_informative=10, n_targets=1, \n",
    "                shuffle=True, coef=True, noise=0.5, random_state=0)"
   ]
  },
  {
   "cell_type": "code",
   "execution_count": 45,
   "metadata": {},
   "outputs": [],
   "source": [
    "X = add_dummy_feature(X)"
   ]
  },
  {
   "cell_type": "code",
   "execution_count": 46,
   "metadata": {},
   "outputs": [],
   "source": [
    "from sklearn.model_selection import train_test_split\n",
    "#42 is the seed, and allows same split to occur everytime the function is executed.\n",
    "X_train, X_test, y_train, y_test = train_test_split(X, y, test_size=0.2, random_state=42) "
   ]
  },
  {
   "cell_type": "code",
   "execution_count": 47,
   "metadata": {
    "scrolled": true
   },
   "outputs": [
    {
     "data": {
      "text/plain": [
       "((160, 11), (160,))"
      ]
     },
     "execution_count": 47,
     "metadata": {},
     "output_type": "execute_result"
    }
   ],
   "source": [
    "X_train.shape, y_train.shape"
   ]
  },
  {
   "cell_type": "code",
   "execution_count": 48,
   "metadata": {},
   "outputs": [
    {
     "data": {
      "text/plain": [
       "array([40.05104636, 10.32532207, 51.90989393,  6.18447832, 41.09157343,\n",
       "       28.46940664, 88.97621358,  9.68032193, 15.48694157, 44.96944303])"
      ]
     },
     "execution_count": 48,
     "metadata": {},
     "output_type": "execute_result"
    }
   ],
   "source": [
    "weights"
   ]
  },
  {
   "cell_type": "code",
   "execution_count": 49,
   "metadata": {},
   "outputs": [
    {
     "data": {
      "text/plain": [
       "array([4.30868690e-03, 4.00335228e+01, 1.03086790e+01, 5.19091277e+01,\n",
       "       6.29286567e+00, 4.11625781e+01, 2.84422862e+01, 8.89543306e+01,\n",
       "       9.75752481e+00, 1.54723974e+01, 4.49980952e+01])"
      ]
     },
     "execution_count": 49,
     "metadata": {},
     "output_type": "execute_result"
    }
   ],
   "source": [
    "normal_equation(X_train, y_train)"
   ]
  },
  {
   "cell_type": "code",
   "execution_count": 50,
   "metadata": {
    "scrolled": true
   },
   "outputs": [
    {
     "data": {
      "text/plain": [
       "array([4.30868690e-03, 4.00335228e+01, 1.03086790e+01, 5.19091277e+01,\n",
       "       6.29286567e+00, 4.11625781e+01, 2.84422862e+01, 8.89543306e+01,\n",
       "       9.75752481e+00, 1.54723974e+01, 4.49980952e+01])"
      ]
     },
     "execution_count": 50,
     "metadata": {},
     "output_type": "execute_result"
    }
   ],
   "source": [
    "weights, losses = gradient_descent(X_train, y_train, 10000)\n",
    "weights[-1]"
   ]
  },
  {
   "cell_type": "code",
   "execution_count": 51,
   "metadata": {
    "scrolled": false
   },
   "outputs": [
    {
     "data": {
      "image/png": "[encoded data removed]",
      "text/plain": [
       "<Figure size 432x288 with 1 Axes>"
      ]
     },
     "metadata": {},
     "output_type": "display_data"
    }
   ],
   "source": [
    "plot_learning_curves(losses)"
   ]
  },
  {
   "cell_type": "code",
   "execution_count": 52,
   "metadata": {
    "scrolled": true
   },
   "outputs": [
    {
     "data": {
      "text/plain": [
       "array([5.25365844e-03, 4.00354886e+01, 1.03103528e+01, 5.19167880e+01,\n",
       "       6.29165547e+00, 4.11544459e+01, 2.84408403e+01, 8.89551297e+01,\n",
       "       9.76289375e+00, 1.54685339e+01, 4.49990717e+01])"
      ]
     },
     "execution_count": 52,
     "metadata": {},
     "output_type": "execute_result"
    }
   ],
   "source": [
    "weights, losses = mini_batch_gd(X_train, y_train, 20, 10)\n",
    "weights[-1]"
   ]
  },
  {
   "cell_type": "code",
   "execution_count": 53,
   "metadata": {
    "scrolled": false
   },
   "outputs": [
    {
     "data": {
      "image/png": "[encoded data removed]",
      "text/plain": [
       "<Figure size 432x288 with 1 Axes>"
      ]
     },
     "metadata": {},
     "output_type": "display_data"
    }
   ],
   "source": [
    "plot_learning_curves(losses)"
   ]
  }
 ],
 "metadata": {
  "kernelspec": {
   "display_name": "Python 3",
   "language": "python",
   "name": "python3"
  },
  "language_info": {
   "codemirror_mode": {
    "name": "ipython",
    "version": 3
   },
   "file_extension": ".py",
   "mimetype": "text/x-python",
   "name": "python",
   "nbconvert_exporter": "python",
   "pygments_lexer": "ipython3",
   "version": "3.7.4"
  }
 },
 "nbformat": 4,
 "nbformat_minor": 2
}
