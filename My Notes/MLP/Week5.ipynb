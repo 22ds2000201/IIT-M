{
 "cells": [
  {
   "cell_type": "code",
   "execution_count": 1,
   "id": "ddda9004",
   "metadata": {},
   "outputs": [],
   "source": [
    "from sklearn.utils.multiclass import type_of_target"
   ]
  },
  {
   "cell_type": "code",
   "execution_count": 2,
   "id": "a064fa3b",
   "metadata": {},
   "outputs": [
    {
     "data": {
      "text/plain": [
       "'binary'"
      ]
     },
     "execution_count": 2,
     "metadata": {},
     "output_type": "execute_result"
    }
   ],
   "source": [
    "type_of_target([0,1])"
   ]
  },
  {
   "cell_type": "code",
   "execution_count": 3,
   "id": "2d14e04d",
   "metadata": {},
   "outputs": [
    {
     "data": {
      "text/plain": [
       "'binary'"
      ]
     },
     "execution_count": 3,
     "metadata": {},
     "output_type": "execute_result"
    }
   ],
   "source": [
    "type_of_target([1,-1])"
   ]
  },
  {
   "cell_type": "code",
   "execution_count": 4,
   "id": "cc121999",
   "metadata": {},
   "outputs": [
    {
     "data": {
      "text/plain": [
       "'multiclass'"
      ]
     },
     "execution_count": 4,
     "metadata": {},
     "output_type": "execute_result"
    }
   ],
   "source": [
    "type_of_target([0,1,2])"
   ]
  },
  {
   "cell_type": "code",
   "execution_count": 5,
   "id": "59d8a788",
   "metadata": {},
   "outputs": [
    {
     "data": {
      "text/plain": [
       "'continuous'"
      ]
     },
     "execution_count": 5,
     "metadata": {},
     "output_type": "execute_result"
    }
   ],
   "source": [
    "type_of_target([1, 2.1, 3.4])"
   ]
  },
  {
   "cell_type": "code",
   "execution_count": 6,
   "id": "aaf1da73",
   "metadata": {},
   "outputs": [
    {
     "data": {
      "text/plain": [
       "'multilabel-indicator'"
      ]
     },
     "execution_count": 6,
     "metadata": {},
     "output_type": "execute_result"
    }
   ],
   "source": [
    "type_of_target([[-1,1],[1,-1]])"
   ]
  },
  {
   "cell_type": "code",
   "execution_count": 7,
   "id": "3f5d3197",
   "metadata": {},
   "outputs": [
    {
     "data": {
      "text/plain": [
       "'multilabel-indicator'"
      ]
     },
     "execution_count": 7,
     "metadata": {},
     "output_type": "execute_result"
    }
   ],
   "source": [
    "type_of_target([[0,1],[1,1],[1,0]])"
   ]
  },
  {
   "cell_type": "code",
   "execution_count": 8,
   "id": "a860525b",
   "metadata": {},
   "outputs": [
    {
     "data": {
      "text/plain": [
       "'multiclass-multioutput'"
      ]
     },
     "execution_count": 8,
     "metadata": {},
     "output_type": "execute_result"
    }
   ],
   "source": [
    "type_of_target([[0,1,2],[0,1,2]])"
   ]
  },
  {
   "cell_type": "code",
   "execution_count": 9,
   "id": "64d45bc3",
   "metadata": {
    "scrolled": true
   },
   "outputs": [
    {
     "data": {
      "text/plain": [
       "'multiclass-multioutput'"
      ]
     },
     "execution_count": 9,
     "metadata": {},
     "output_type": "execute_result"
    }
   ],
   "source": [
    "type_of_target([[0,1],[0,2]])"
   ]
  },
  {
   "cell_type": "code",
   "execution_count": 10,
   "id": "bfb0c13f",
   "metadata": {},
   "outputs": [
    {
     "data": {
      "text/plain": [
       "'continuous-multioutput'"
      ]
     },
     "execution_count": 10,
     "metadata": {},
     "output_type": "execute_result"
    }
   ],
   "source": [
    "type_of_target([[-1.2,1],[1,-1.2]])"
   ]
  },
  {
   "cell_type": "markdown",
   "id": "7d1758cb",
   "metadata": {},
   "source": [
    "### Predict digit from image"
   ]
  },
  {
   "cell_type": "code",
   "execution_count": 1,
   "id": "b0418b97",
   "metadata": {},
   "outputs": [],
   "source": [
    "import numpy as np\n",
    "import os\n",
    "import io\n",
    "import warnings\n",
    "\n",
    "from sklearn.datasets import fetch_openml\n",
    "from sklearn.preprocessing import MinMaxScaler\n",
    "from sklearn.pipeline import Pipeline\n",
    "from sklearn.dummy import DummyClassifier\n",
    "from sklearn.linear_model import Perceptron\n",
    "from sklearn.metrics import hinge_loss, ConfusionMatrixDisplay, confusion_matrix, make_scorer\n",
    "from sklearn.metrics import precision_score, recall_score, precision_recall_curve, classification_report\n",
    "from sklearn.model_selection import cross_validate, cross_val_predict, GridSearchCV\n",
    "from pprint import pprint\n"
   ]
  },
  {
   "cell_type": "markdown",
   "id": "35af6dc5",
   "metadata": {},
   "source": [
    "To start with, we will treat this as a binary classification problem."
   ]
  },
  {
   "cell_type": "code",
   "execution_count": 2,
   "id": "29f1583e",
   "metadata": {},
   "outputs": [],
   "source": [
    "X, y = fetch_openml('mnist_784', version=1, return_X_y=True)"
   ]
  }
 ],
 "metadata": {
  "kernelspec": {
   "display_name": "Python 3 (ipykernel)",
   "language": "python",
   "name": "python3"
  },
  "language_info": {
   "codemirror_mode": {
    "name": "ipython",
    "version": 3
   },
   "file_extension": ".py",
   "mimetype": "text/x-python",
   "name": "python",
   "nbconvert_exporter": "python",
   "pygments_lexer": "ipython3",
   "version": "3.9.7"
  }
 },
 "nbformat": 4,
 "nbformat_minor": 5
}
