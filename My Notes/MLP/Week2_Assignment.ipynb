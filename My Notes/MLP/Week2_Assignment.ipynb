{
 "cells": [
  {
   "cell_type": "code",
   "execution_count": 1,
   "id": "52b2f636",
   "metadata": {},
   "outputs": [],
   "source": [
    "import matplotlib.pyplot as plt\n",
    "import numpy as np\n",
    "import pandas as pd"
   ]
  },
  {
   "cell_type": "code",
   "execution_count": 2,
   "id": "46ddd8d7",
   "metadata": {},
   "outputs": [],
   "source": [
    "cols = [\"V1\",\"V2\",\"V3\",\"V4\", \"V5\", \"Target\"]\n",
    "assignment = pd.read_csv(\"Assignment.csv\", encoding='utf-8', header=None, names=cols)"
   ]
  },
  {
   "cell_type": "code",
   "execution_count": 3,
   "id": "5bddb3dd",
   "metadata": {
    "scrolled": false
   },
   "outputs": [],
   "source": [
    "assignment = assignment.iloc[1:,:-1] # to skip the header and label"
   ]
  },
  {
   "cell_type": "code",
   "execution_count": 4,
   "id": "1be81ef2",
   "metadata": {},
   "outputs": [
    {
     "data": {
      "text/html": [
       "<div>\n",
       "<style scoped>\n",
       "    .dataframe tbody tr th:only-of-type {\n",
       "        vertical-align: middle;\n",
       "    }\n",
       "\n",
       "    .dataframe tbody tr th {\n",
       "        vertical-align: top;\n",
       "    }\n",
       "\n",
       "    .dataframe thead th {\n",
       "        text-align: right;\n",
       "    }\n",
       "</style>\n",
       "<table border=\"1\" class=\"dataframe\">\n",
       "  <thead>\n",
       "    <tr style=\"text-align: right;\">\n",
       "      <th></th>\n",
       "      <th>V1</th>\n",
       "      <th>V2</th>\n",
       "      <th>V3</th>\n",
       "      <th>V4</th>\n",
       "      <th>V5</th>\n",
       "    </tr>\n",
       "  </thead>\n",
       "  <tbody>\n",
       "    <tr>\n",
       "      <th>count</th>\n",
       "      <td>748</td>\n",
       "      <td>748</td>\n",
       "      <td>748</td>\n",
       "      <td>748</td>\n",
       "      <td>748</td>\n",
       "    </tr>\n",
       "    <tr>\n",
       "      <th>unique</th>\n",
       "      <td>32</td>\n",
       "      <td>33</td>\n",
       "      <td>33</td>\n",
       "      <td>78</td>\n",
       "      <td>1</td>\n",
       "    </tr>\n",
       "    <tr>\n",
       "      <th>top</th>\n",
       "      <td>2.0</td>\n",
       "      <td>1.0</td>\n",
       "      <td>250.0</td>\n",
       "      <td>4.0</td>\n",
       "      <td>NEGATIVE</td>\n",
       "    </tr>\n",
       "    <tr>\n",
       "      <th>freq</th>\n",
       "      <td>171</td>\n",
       "      <td>158</td>\n",
       "      <td>158</td>\n",
       "      <td>57</td>\n",
       "      <td>748</td>\n",
       "    </tr>\n",
       "  </tbody>\n",
       "</table>\n",
       "</div>"
      ],
      "text/plain": [
       "         V1   V2     V3   V4        V5\n",
       "count   748  748    748  748       748\n",
       "unique   32   33     33   78         1\n",
       "top     2.0  1.0  250.0  4.0  NEGATIVE\n",
       "freq    171  158    158   57       748"
      ]
     },
     "execution_count": 4,
     "metadata": {},
     "output_type": "execute_result"
    }
   ],
   "source": [
    "assignment.describe() # why is this not showing all details?"
   ]
  },
  {
   "cell_type": "code",
   "execution_count": 5,
   "id": "817ef0be",
   "metadata": {
    "scrolled": true
   },
   "outputs": [
    {
     "name": "stdout",
     "output_type": "stream",
     "text": [
      "5\n",
      "5\n",
      "0\n",
      "0\n",
      "0\n"
     ]
    }
   ],
   "source": [
    "#how many features have unknowns; and what's the total number of unknowns\n",
    "print((assignment['V1'] == \"?\").sum())\n",
    "print((assignment['V2'] == \"?\").sum())\n",
    "print((assignment['V3'] == \"?\").sum())\n",
    "print((assignment['V4'] == \"?\").sum())\n",
    "print((assignment['V5'] == \"?\").sum())"
   ]
  },
  {
   "cell_type": "code",
   "execution_count": 6,
   "id": "a64ecb5b",
   "metadata": {},
   "outputs": [],
   "source": [
    "assignment.replace(\"?\", 0, inplace=True) # replace all ? by np.nan\n",
    "assignment.replace('NEGATIVE', 1, inplace=True)"
   ]
  },
  {
   "cell_type": "code",
   "execution_count": 7,
   "id": "cdf7d887",
   "metadata": {},
   "outputs": [],
   "source": [
    "V1 = assignment['V1'].astype(float)\n",
    "V2 = assignment['V2'].astype(float)\n",
    "V3 = assignment['V3'].astype(float)\n",
    "V4 = assignment['V4'].astype(float)\n",
    "V5 = assignment['V5'].astype(float)"
   ]
  },
  {
   "cell_type": "code",
   "execution_count": 8,
   "id": "a1d69147",
   "metadata": {
    "scrolled": true
   },
   "outputs": [
    {
     "name": "stdout",
     "output_type": "stream",
     "text": [
      "65.5868966084245 33.565643855986664 2128245.173403577 593.4297860247633 0.0\n"
     ]
    }
   ],
   "source": [
    "print(np.var(V1), np.var(V2), np.var(V3), np.var(V4), np.var(V5))"
   ]
  },
  {
   "cell_type": "code",
   "execution_count": 9,
   "id": "faba7ff2",
   "metadata": {},
   "outputs": [
    {
     "data": {
      "text/plain": [
       "5.427807486631016"
      ]
     },
     "execution_count": 9,
     "metadata": {},
     "output_type": "execute_result"
    }
   ],
   "source": [
    "from sklearn.impute import SimpleImputer\n",
    "si = SimpleImputer(strategy='median')\n",
    "si.fit_transform(assignment)[:,1].mean()"
   ]
  },
  {
   "cell_type": "code",
   "execution_count": 10,
   "id": "01e5047e",
   "metadata": {
    "scrolled": true
   },
   "outputs": [
    {
     "data": {
      "text/plain": [
       "9.498663101604278"
      ]
     },
     "execution_count": 10,
     "metadata": {},
     "output_type": "execute_result"
    }
   ],
   "source": [
    "from sklearn.impute import KNNImputer\n",
    "knn = KNNImputer(n_neighbors=3)\n",
    "knn.fit_transform(assignment)[:,0].mean()"
   ]
  },
  {
   "cell_type": "code",
   "execution_count": 11,
   "id": "d0caf588",
   "metadata": {
    "scrolled": false
   },
   "outputs": [
    {
     "data": {
      "text/plain": [
       "{'whiskers': [<matplotlib.lines.Line2D at 0x183fe90d6a0>,\n",
       "  <matplotlib.lines.Line2D at 0x183fe90d970>],\n",
       " 'caps': [<matplotlib.lines.Line2D at 0x183fe90dd00>,\n",
       "  <matplotlib.lines.Line2D at 0x183fe91b0d0>],\n",
       " 'boxes': [<matplotlib.lines.Line2D at 0x183fe90d250>],\n",
       " 'medians': [<matplotlib.lines.Line2D at 0x183fe91b460>],\n",
       " 'fliers': [<matplotlib.lines.Line2D at 0x183fe91b7f0>],\n",
       " 'means': []}"
      ]
     },
     "execution_count": 11,
     "metadata": {},
     "output_type": "execute_result"
    },
    {
     "data": {
      "image/png": "[encoded data removed]",
      "text/plain": [
       "<Figure size 432x288 with 1 Axes>"
      ]
     },
     "metadata": {
      "needs_background": "light"
     },
     "output_type": "display_data"
    }
   ],
   "source": [
    "plt.boxplot(V2) #has the least number of outliers compared to V2 and V3"
   ]
  },
  {
   "cell_type": "code",
   "execution_count": null,
   "id": "8f0142a7",
   "metadata": {},
   "outputs": [],
   "source": []
  },
  {
   "cell_type": "code",
   "execution_count": 12,
   "id": "94f37174",
   "metadata": {},
   "outputs": [],
   "source": [
    "cols = [\"V1\",\"V2\",\"V3\",\"V4\", \"V5\", \"Target\"]\n",
    "assignment = pd.read_csv(\"Assignment.csv\", encoding='utf-8', header=None, names=cols)"
   ]
  },
  {
   "cell_type": "code",
   "execution_count": 13,
   "id": "d3e992fc",
   "metadata": {
    "scrolled": false
   },
   "outputs": [],
   "source": [
    "assignment = assignment.iloc[1:,:-1] # to skip the header and label"
   ]
  },
  {
   "cell_type": "code",
   "execution_count": 14,
   "id": "124c0a54",
   "metadata": {},
   "outputs": [],
   "source": [
    "assignment.replace(\"?\", 0, inplace=True) # replace all ? by np.nan\n",
    "assignment.replace('NEGATIVE', 1, inplace=True)"
   ]
  },
  {
   "cell_type": "code",
   "execution_count": 15,
   "id": "5667cd13",
   "metadata": {},
   "outputs": [
    {
     "data": {
      "text/html": [
       "<style>#sk-30698f35-ae60-44f0-b94b-47cc55039db5 {color: black;background-color: white;}#sk-30698f35-ae60-44f0-b94b-47cc55039db5 pre{padding: 0;}#sk-30698f35-ae60-44f0-b94b-47cc55039db5 div.sk-toggleable {background-color: white;}#sk-30698f35-ae60-44f0-b94b-47cc55039db5 label.sk-toggleable__label {cursor: pointer;display: block;width: 100%;margin-bottom: 0;padding: 0.3em;box-sizing: border-box;text-align: center;}#sk-30698f35-ae60-44f0-b94b-47cc55039db5 label.sk-toggleable__label-arrow:before {content: \"▸\";float: left;margin-right: 0.25em;color: #696969;}#sk-30698f35-ae60-44f0-b94b-47cc55039db5 label.sk-toggleable__label-arrow:hover:before {color: black;}#sk-30698f35-ae60-44f0-b94b-47cc55039db5 div.sk-estimator:hover label.sk-toggleable__label-arrow:before {color: black;}#sk-30698f35-ae60-44f0-b94b-47cc55039db5 div.sk-toggleable__content {max-height: 0;max-width: 0;overflow: hidden;text-align: left;background-color: #f0f8ff;}#sk-30698f35-ae60-44f0-b94b-47cc55039db5 div.sk-toggleable__content pre {margin: 0.2em;color: black;border-radius: 0.25em;background-color: #f0f8ff;}#sk-30698f35-ae60-44f0-b94b-47cc55039db5 input.sk-toggleable__control:checked~div.sk-toggleable__content {max-height: 200px;max-width: 100%;overflow: auto;}#sk-30698f35-ae60-44f0-b94b-47cc55039db5 input.sk-toggleable__control:checked~label.sk-toggleable__label-arrow:before {content: \"▾\";}#sk-30698f35-ae60-44f0-b94b-47cc55039db5 div.sk-estimator input.sk-toggleable__control:checked~label.sk-toggleable__label {background-color: #d4ebff;}#sk-30698f35-ae60-44f0-b94b-47cc55039db5 div.sk-label input.sk-toggleable__control:checked~label.sk-toggleable__label {background-color: #d4ebff;}#sk-30698f35-ae60-44f0-b94b-47cc55039db5 input.sk-hidden--visually {border: 0;clip: rect(1px 1px 1px 1px);clip: rect(1px, 1px, 1px, 1px);height: 1px;margin: -1px;overflow: hidden;padding: 0;position: absolute;width: 1px;}#sk-30698f35-ae60-44f0-b94b-47cc55039db5 div.sk-estimator {font-family: monospace;background-color: #f0f8ff;border: 1px dotted black;border-radius: 0.25em;box-sizing: border-box;margin-bottom: 0.5em;}#sk-30698f35-ae60-44f0-b94b-47cc55039db5 div.sk-estimator:hover {background-color: #d4ebff;}#sk-30698f35-ae60-44f0-b94b-47cc55039db5 div.sk-parallel-item::after {content: \"\";width: 100%;border-bottom: 1px solid gray;flex-grow: 1;}#sk-30698f35-ae60-44f0-b94b-47cc55039db5 div.sk-label:hover label.sk-toggleable__label {background-color: #d4ebff;}#sk-30698f35-ae60-44f0-b94b-47cc55039db5 div.sk-serial::before {content: \"\";position: absolute;border-left: 1px solid gray;box-sizing: border-box;top: 2em;bottom: 0;left: 50%;}#sk-30698f35-ae60-44f0-b94b-47cc55039db5 div.sk-serial {display: flex;flex-direction: column;align-items: center;background-color: white;padding-right: 0.2em;padding-left: 0.2em;}#sk-30698f35-ae60-44f0-b94b-47cc55039db5 div.sk-item {z-index: 1;}#sk-30698f35-ae60-44f0-b94b-47cc55039db5 div.sk-parallel {display: flex;align-items: stretch;justify-content: center;background-color: white;}#sk-30698f35-ae60-44f0-b94b-47cc55039db5 div.sk-parallel::before {content: \"\";position: absolute;border-left: 1px solid gray;box-sizing: border-box;top: 2em;bottom: 0;left: 50%;}#sk-30698f35-ae60-44f0-b94b-47cc55039db5 div.sk-parallel-item {display: flex;flex-direction: column;position: relative;background-color: white;}#sk-30698f35-ae60-44f0-b94b-47cc55039db5 div.sk-parallel-item:first-child::after {align-self: flex-end;width: 50%;}#sk-30698f35-ae60-44f0-b94b-47cc55039db5 div.sk-parallel-item:last-child::after {align-self: flex-start;width: 50%;}#sk-30698f35-ae60-44f0-b94b-47cc55039db5 div.sk-parallel-item:only-child::after {width: 0;}#sk-30698f35-ae60-44f0-b94b-47cc55039db5 div.sk-dashed-wrapped {border: 1px dashed gray;margin: 0 0.4em 0.5em 0.4em;box-sizing: border-box;padding-bottom: 0.4em;background-color: white;position: relative;}#sk-30698f35-ae60-44f0-b94b-47cc55039db5 div.sk-label label {font-family: monospace;font-weight: bold;background-color: white;display: inline-block;line-height: 1.2em;}#sk-30698f35-ae60-44f0-b94b-47cc55039db5 div.sk-label-container {position: relative;z-index: 2;text-align: center;}#sk-30698f35-ae60-44f0-b94b-47cc55039db5 div.sk-container {/* jupyter's `normalize.less` sets `[hidden] { display: none; }` but bootstrap.min.css set `[hidden] { display: none !important; }` so we also need the `!important` here to be able to override the default hidden behavior on the sphinx rendered scikit-learn.org. See: https://github.com/scikit-learn/scikit-learn/issues/21755 */display: inline-block !important;position: relative;}#sk-30698f35-ae60-44f0-b94b-47cc55039db5 div.sk-text-repr-fallback {display: none;}</style><div id=\"sk-30698f35-ae60-44f0-b94b-47cc55039db5\" class=\"sk-top-container\"><div class=\"sk-text-repr-fallback\"><pre>Pipeline(steps=[(&#x27;fu&#x27;,\n",
       "                 FeatureUnion(transformer_list=[(&#x27;LHS&#x27;,\n",
       "                                                 Pipeline(steps=[(&#x27;pipe_1&#x27;,\n",
       "                                                                  ColumnTransformer(transformers=[(&#x27;1&#x27;,\n",
       "                                                                                                   SimpleImputer(),\n",
       "                                                                                                   [0,\n",
       "                                                                                                    1]),\n",
       "                                                                                                  (&#x27;2&#x27;,\n",
       "                                                                                                   StandardScaler(),\n",
       "                                                                                                   [0,\n",
       "                                                                                                    1,\n",
       "                                                                                                    2,\n",
       "                                                                                                    3])]))])),\n",
       "                                                (&#x27;RHS&#x27;,\n",
       "                                                 Pipeline(steps=[(&#x27;pipe_2&#x27;,\n",
       "                                                                  ColumnTransformer(transformers=[(&#x27;3&#x27;,\n",
       "                                                                                                   OrdinalEncoder(),\n",
       "                                                                                                   [4])]))]))])),\n",
       "                (&#x27;vt&#x27;, VarianceThreshold(threshold=0.1))])</pre><b>Please rerun this cell to show the HTML repr or trust the notebook.</b></div><div class=\"sk-container\" hidden><div class=\"sk-item sk-dashed-wrapped\"><div class=\"sk-label-container\"><div class=\"sk-label sk-toggleable\"><input class=\"sk-toggleable__control sk-hidden--visually\" id=\"322db2b8-c343-44f5-9642-375d8bcaf272\" type=\"checkbox\" ><label for=\"322db2b8-c343-44f5-9642-375d8bcaf272\" class=\"sk-toggleable__label sk-toggleable__label-arrow\">Pipeline</label><div class=\"sk-toggleable__content\"><pre>Pipeline(steps=[(&#x27;fu&#x27;,\n",
       "                 FeatureUnion(transformer_list=[(&#x27;LHS&#x27;,\n",
       "                                                 Pipeline(steps=[(&#x27;pipe_1&#x27;,\n",
       "                                                                  ColumnTransformer(transformers=[(&#x27;1&#x27;,\n",
       "                                                                                                   SimpleImputer(),\n",
       "                                                                                                   [0,\n",
       "                                                                                                    1]),\n",
       "                                                                                                  (&#x27;2&#x27;,\n",
       "                                                                                                   StandardScaler(),\n",
       "                                                                                                   [0,\n",
       "                                                                                                    1,\n",
       "                                                                                                    2,\n",
       "                                                                                                    3])]))])),\n",
       "                                                (&#x27;RHS&#x27;,\n",
       "                                                 Pipeline(steps=[(&#x27;pipe_2&#x27;,\n",
       "                                                                  ColumnTransformer(transformers=[(&#x27;3&#x27;,\n",
       "                                                                                                   OrdinalEncoder(),\n",
       "                                                                                                   [4])]))]))])),\n",
       "                (&#x27;vt&#x27;, VarianceThreshold(threshold=0.1))])</pre></div></div></div><div class=\"sk-serial\"><div class=\"sk-item sk-dashed-wrapped\"><div class=\"sk-label-container\"><div class=\"sk-label sk-toggleable\"><input class=\"sk-toggleable__control sk-hidden--visually\" id=\"63dd3d75-b970-414b-850e-27177a41a737\" type=\"checkbox\" ><label for=\"63dd3d75-b970-414b-850e-27177a41a737\" class=\"sk-toggleable__label sk-toggleable__label-arrow\">fu: FeatureUnion</label><div class=\"sk-toggleable__content\"><pre>FeatureUnion(transformer_list=[(&#x27;LHS&#x27;,\n",
       "                                Pipeline(steps=[(&#x27;pipe_1&#x27;,\n",
       "                                                 ColumnTransformer(transformers=[(&#x27;1&#x27;,\n",
       "                                                                                  SimpleImputer(),\n",
       "                                                                                  [0,\n",
       "                                                                                   1]),\n",
       "                                                                                 (&#x27;2&#x27;,\n",
       "                                                                                  StandardScaler(),\n",
       "                                                                                  [0,\n",
       "                                                                                   1,\n",
       "                                                                                   2,\n",
       "                                                                                   3])]))])),\n",
       "                               (&#x27;RHS&#x27;,\n",
       "                                Pipeline(steps=[(&#x27;pipe_2&#x27;,\n",
       "                                                 ColumnTransformer(transformers=[(&#x27;3&#x27;,\n",
       "                                                                                  OrdinalEncoder(),\n",
       "                                                                                  [4])]))]))])</pre></div></div></div><div class=\"sk-parallel\"><div class=\"sk-parallel-item\"><div class=\"sk-item\"><div class=\"sk-label-container\"><div class=\"sk-label sk-toggleable\"><label>LHS</label></div></div><div class=\"sk-serial\"><div class=\"sk-item\"><div class=\"sk-serial\"><div class=\"sk-item sk-dashed-wrapped\"><div class=\"sk-label-container\"><div class=\"sk-label sk-toggleable\"><input class=\"sk-toggleable__control sk-hidden--visually\" id=\"ec4ba8ba-019d-4422-8979-d65dd3ee4b55\" type=\"checkbox\" ><label for=\"ec4ba8ba-019d-4422-8979-d65dd3ee4b55\" class=\"sk-toggleable__label sk-toggleable__label-arrow\">pipe_1: ColumnTransformer</label><div class=\"sk-toggleable__content\"><pre>ColumnTransformer(transformers=[(&#x27;1&#x27;, SimpleImputer(), [0, 1]),\n",
       "                                (&#x27;2&#x27;, StandardScaler(), [0, 1, 2, 3])])</pre></div></div></div><div class=\"sk-parallel\"><div class=\"sk-parallel-item\"><div class=\"sk-item\"><div class=\"sk-label-container\"><div class=\"sk-label sk-toggleable\"><input class=\"sk-toggleable__control sk-hidden--visually\" id=\"c297eff7-d7e3-4709-a8db-5769f2995269\" type=\"checkbox\" ><label for=\"c297eff7-d7e3-4709-a8db-5769f2995269\" class=\"sk-toggleable__label sk-toggleable__label-arrow\">1</label><div class=\"sk-toggleable__content\"><pre>[0, 1]</pre></div></div></div><div class=\"sk-serial\"><div class=\"sk-item\"><div class=\"sk-estimator sk-toggleable\"><input class=\"sk-toggleable__control sk-hidden--visually\" id=\"0d9f6b10-3600-4b60-bf1a-9000517382f1\" type=\"checkbox\" ><label for=\"0d9f6b10-3600-4b60-bf1a-9000517382f1\" class=\"sk-toggleable__label sk-toggleable__label-arrow\">SimpleImputer</label><div class=\"sk-toggleable__content\"><pre>SimpleImputer()</pre></div></div></div></div></div></div><div class=\"sk-parallel-item\"><div class=\"sk-item\"><div class=\"sk-label-container\"><div class=\"sk-label sk-toggleable\"><input class=\"sk-toggleable__control sk-hidden--visually\" id=\"8e559aef-dfd5-4503-8916-745c71620d15\" type=\"checkbox\" ><label for=\"8e559aef-dfd5-4503-8916-745c71620d15\" class=\"sk-toggleable__label sk-toggleable__label-arrow\">2</label><div class=\"sk-toggleable__content\"><pre>[0, 1, 2, 3]</pre></div></div></div><div class=\"sk-serial\"><div class=\"sk-item\"><div class=\"sk-estimator sk-toggleable\"><input class=\"sk-toggleable__control sk-hidden--visually\" id=\"3c238d78-e84e-44fe-b6cd-29d013eceb23\" type=\"checkbox\" ><label for=\"3c238d78-e84e-44fe-b6cd-29d013eceb23\" class=\"sk-toggleable__label sk-toggleable__label-arrow\">StandardScaler</label><div class=\"sk-toggleable__content\"><pre>StandardScaler()</pre></div></div></div></div></div></div></div></div></div></div></div></div></div><div class=\"sk-parallel-item\"><div class=\"sk-item\"><div class=\"sk-label-container\"><div class=\"sk-label sk-toggleable\"><label>RHS</label></div></div><div class=\"sk-serial\"><div class=\"sk-item\"><div class=\"sk-serial\"><div class=\"sk-item sk-dashed-wrapped\"><div class=\"sk-label-container\"><div class=\"sk-label sk-toggleable\"><input class=\"sk-toggleable__control sk-hidden--visually\" id=\"dbc82f82-71c6-48fd-910a-1b0e68d1dcc2\" type=\"checkbox\" ><label for=\"dbc82f82-71c6-48fd-910a-1b0e68d1dcc2\" class=\"sk-toggleable__label sk-toggleable__label-arrow\">pipe_2: ColumnTransformer</label><div class=\"sk-toggleable__content\"><pre>ColumnTransformer(transformers=[(&#x27;3&#x27;, OrdinalEncoder(), [4])])</pre></div></div></div><div class=\"sk-parallel\"><div class=\"sk-parallel-item\"><div class=\"sk-item\"><div class=\"sk-label-container\"><div class=\"sk-label sk-toggleable\"><input class=\"sk-toggleable__control sk-hidden--visually\" id=\"cca00325-5f2c-4e0c-9b3f-e413f36e0bac\" type=\"checkbox\" ><label for=\"cca00325-5f2c-4e0c-9b3f-e413f36e0bac\" class=\"sk-toggleable__label sk-toggleable__label-arrow\">3</label><div class=\"sk-toggleable__content\"><pre>[4]</pre></div></div></div><div class=\"sk-serial\"><div class=\"sk-item\"><div class=\"sk-estimator sk-toggleable\"><input class=\"sk-toggleable__control sk-hidden--visually\" id=\"a02ed429-6e1d-4365-8a1e-201ed0589e00\" type=\"checkbox\" ><label for=\"a02ed429-6e1d-4365-8a1e-201ed0589e00\" class=\"sk-toggleable__label sk-toggleable__label-arrow\">OrdinalEncoder</label><div class=\"sk-toggleable__content\"><pre>OrdinalEncoder()</pre></div></div></div></div></div></div></div></div></div></div></div></div></div></div></div><div class=\"sk-item\"><div class=\"sk-estimator sk-toggleable\"><input class=\"sk-toggleable__control sk-hidden--visually\" id=\"203f4731-3843-4860-8374-72438a63b975\" type=\"checkbox\" ><label for=\"203f4731-3843-4860-8374-72438a63b975\" class=\"sk-toggleable__label sk-toggleable__label-arrow\">VarianceThreshold</label><div class=\"sk-toggleable__content\"><pre>VarianceThreshold(threshold=0.1)</pre></div></div></div></div></div></div></div>"
      ],
      "text/plain": [
       "Pipeline(steps=[('fu',\n",
       "                 FeatureUnion(transformer_list=[('LHS',\n",
       "                                                 Pipeline(steps=[('pipe_1',\n",
       "                                                                  ColumnTransformer(transformers=[('1',\n",
       "                                                                                                   SimpleImputer(),\n",
       "                                                                                                   [0,\n",
       "                                                                                                    1]),\n",
       "                                                                                                  ('2',\n",
       "                                                                                                   StandardScaler(),\n",
       "                                                                                                   [0,\n",
       "                                                                                                    1,\n",
       "                                                                                                    2,\n",
       "                                                                                                    3])]))])),\n",
       "                                                ('RHS',\n",
       "                                                 Pipeline(steps=[('pipe_2',\n",
       "                                                                  ColumnTransformer(transformers=[('3',\n",
       "                                                                                                   OrdinalEncoder(),\n",
       "                                                                                                   [4])]))]))])),\n",
       "                ('vt', VarianceThreshold(threshold=0.1))])"
      ]
     },
     "execution_count": 15,
     "metadata": {},
     "output_type": "execute_result"
    }
   ],
   "source": [
    "from sklearn.impute import SimpleImputer\n",
    "from sklearn.preprocessing import StandardScaler, OrdinalEncoder\n",
    "from sklearn.compose import ColumnTransformer\n",
    "from sklearn.pipeline import FeatureUnion, Pipeline\n",
    "from sklearn.feature_selection import VarianceThreshold\n",
    "\n",
    "si = SimpleImputer(strategy='mean')\n",
    "ss = StandardScaler()\n",
    "oe = OrdinalEncoder()\n",
    "\n",
    "SI = ('1', si, [0, 1])\n",
    "SS = ('2', ss, [0, 1, 2, 3])\n",
    "OE = ('3', oe, [4])\n",
    "\n",
    "PIPE_1 = ('pipe_1', ColumnTransformer([SI, SS]))\n",
    "PIPE_2 = ('pipe_2', ColumnTransformer([OE]))\n",
    "\n",
    "pipe_1 = Pipeline([PIPE_1])\n",
    "pipe_2 = Pipeline([PIPE_2])\n",
    "\n",
    "fu = FeatureUnion(transformer_list=[('LHS', pipe_1), \n",
    "                                    ('RHS', pipe_2)])\n",
    "\n",
    "vt = VarianceThreshold(threshold=0.1)\n",
    "\n",
    "from sklearn import set_config\n",
    "set_config(display='diagram')\n",
    "Final = Pipeline([('fu', fu), ('vt', vt)])\n",
    "Final"
   ]
  },
  {
   "cell_type": "code",
   "execution_count": 16,
   "id": "945a6601",
   "metadata": {},
   "outputs": [
    {
     "data": {
      "text/plain": [
       "array([[ 2.00000000e+00,  5.00000000e+01, -9.25923915e-01,\n",
       "         7.69336800e+00,  7.62334626e+00,  2.61563344e+00],\n",
       "       [ 0.00000000e+00,  1.30000000e+01, -1.17288098e+00,\n",
       "         1.30699569e+00,  1.28273826e+00, -2.57880900e-01],\n",
       "       [ 0.00000000e+00,  0.00000000e+00, -1.17288098e+00,\n",
       "        -9.36864849e-01,  1.79684161e+00,  2.94705348e-02],\n",
       "       ...,\n",
       "       [ 2.30000000e+01,  3.00000000e+00,  1.66712527e+00,\n",
       "        -4.19050878e-01, -4.30939574e-01,  1.13782607e+00],\n",
       "       [ 3.90000000e+01,  1.00000000e+00,  3.64278178e+00,\n",
       "        -7.64260192e-01, -7.73675141e-01,  1.93671355e-01],\n",
       "       [ 7.20000000e+01,  1.00000000e+00,  7.71757335e+00,\n",
       "        -7.64260192e-01, -7.73675141e-01,  1.54832812e+00]])"
      ]
     },
     "execution_count": 16,
     "metadata": {},
     "output_type": "execute_result"
    }
   ],
   "source": [
    "Final.fit_transform(assignment)"
   ]
  }
 ],
 "metadata": {
  "kernelspec": {
   "display_name": "Python 3 (ipykernel)",
   "language": "python",
   "name": "python3"
  },
  "language_info": {
   "codemirror_mode": {
    "name": "ipython",
    "version": 3
   },
   "file_extension": ".py",
   "mimetype": "text/x-python",
   "name": "python",
   "nbconvert_exporter": "python",
   "pygments_lexer": "ipython3",
   "version": "3.9.7"
  }
 },
 "nbformat": 4,
 "nbformat_minor": 5
}
