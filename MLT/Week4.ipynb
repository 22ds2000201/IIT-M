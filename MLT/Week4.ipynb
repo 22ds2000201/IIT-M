{
 "cells": [
  {
   "cell_type": "code",
   "execution_count": 1,
   "metadata": {},
   "outputs": [],
   "source": [
    "import numpy as np"
   ]
  },
  {
   "cell_type": "code",
   "execution_count": 2,
   "metadata": {},
   "outputs": [],
   "source": [
    "#https://github.com/ctgk/PRML/blob/8f8270cbae986c607f3cc6f89afefd58fa69fadd/prml/preprocess/label_transformer.py\n",
    "class LabelTransformer(object):\n",
    "    \"\"\"\n",
    "    Label encoder decoder\n",
    "    Attributes\n",
    "    ----------\n",
    "    n_classes : int\n",
    "        number of classes, K\n",
    "    \"\"\"\n",
    "\n",
    "    def __init__(self, n_classes:int=None):\n",
    "        self.n_classes = n_classes\n",
    "\n",
    "    @property\n",
    "    def n_classes(self):\n",
    "        return self.__n_classes\n",
    "\n",
    "    @n_classes.setter\n",
    "    def n_classes(self, K):\n",
    "        self.__n_classes = K\n",
    "        self.__encoder = None if K is None else np.eye(K)\n",
    "        print(self.__encoder)\n",
    "    @property\n",
    "    def encoder(self):\n",
    "        return self.__encoder\n",
    "\n",
    "    def encode(self, class_indices:np.ndarray):\n",
    "        \"\"\"\n",
    "        encode class index into one-of-k code\n",
    "        Parameters\n",
    "        ----------\n",
    "        class_indices : (N,) np.ndarray\n",
    "            non-negative class index\n",
    "            elements must be integer in [0, n_classes)\n",
    "        Returns\n",
    "        -------\n",
    "        (N, K) np.ndarray\n",
    "            one-of-k encoding of input\n",
    "        \"\"\"\n",
    "        if self.n_classes is None:\n",
    "            self.n_classes = np.max(class_indices) + 1\n",
    "\n",
    "        return self.encoder[class_indices]\n",
    "\n",
    "    def decode(self, onehot:np.ndarray):\n",
    "        \"\"\"\n",
    "        decode one-of-k code into class index\n",
    "        Parameters\n",
    "        ----------\n",
    "        onehot : (N, K) np.ndarray\n",
    "            one-of-k code\n",
    "        Returns\n",
    "        -------\n",
    "        (N,) np.ndarray\n",
    "            class index\n",
    "        \"\"\"\n",
    "\n",
    "        return np.argmax(onehot, axis=1)"
   ]
  },
  {
   "cell_type": "code",
   "execution_count": 3,
   "metadata": {},
   "outputs": [
    {
     "name": "stdout",
     "output_type": "stream",
     "text": [
      "[[1. 0.]\n",
      " [0. 1.]]\n",
      "2\n",
      "[[1. 0.]\n",
      " [0. 1.]\n",
      " [1. 0.]\n",
      " [0. 1.]]\n"
     ]
    }
   ],
   "source": [
    "l = LabelTransformer(2)\n",
    "print(l.n_classes)\n",
    "print(l.encoder[[0,1,0,1]])"
   ]
  },
  {
   "cell_type": "code",
   "execution_count": 4,
   "metadata": {
    "scrolled": true
   },
   "outputs": [
    {
     "name": "stdout",
     "output_type": "stream",
     "text": [
      "[[1. 0.]\n",
      " [0. 1.]]\n"
     ]
    },
    {
     "data": {
      "text/plain": [
       "array([[1., 0.],\n",
       "       [0., 1.],\n",
       "       [1., 0.],\n",
       "       [0., 1.]])"
      ]
     },
     "execution_count": 4,
     "metadata": {},
     "output_type": "execute_result"
    }
   ],
   "source": [
    "LabelTransformer(2).encode(np.array([0,1,0,1]))"
   ]
  }
 ],
 "metadata": {
  "kernelspec": {
   "display_name": "Python 3",
   "language": "python",
   "name": "python3"
  },
  "language_info": {
   "codemirror_mode": {
    "name": "ipython",
    "version": 3
   },
   "file_extension": ".py",
   "mimetype": "text/x-python",
   "name": "python",
   "nbconvert_exporter": "python",
   "pygments_lexer": "ipython3",
   "version": "3.7.4"
  }
 },
 "nbformat": 4,
 "nbformat_minor": 2
}
