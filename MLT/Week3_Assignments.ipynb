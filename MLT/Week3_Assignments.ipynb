{
 "cells": [
  {
   "cell_type": "markdown",
   "metadata": {},
   "source": [
    "### Practice Programming"
   ]
  },
  {
   "cell_type": "markdown",
   "metadata": {},
   "source": [
    "1. Consider input feature vector X. The shape of X is fixed (1 x 3) and the degree of the polynomial is a random number (between 2 to 10).\n",
    "\n",
    "Write a function named 'polynomial_transform' which takes the feature vector and degree of the polynomial as inputs and returns the transformed polynomial feature as output as a numpy array."
   ]
  },
  {
   "cell_type": "code",
   "execution_count": 1,
   "metadata": {},
   "outputs": [],
   "source": [
    "import numpy as np\n",
    "import itertools"
   ]
  },
  {
   "cell_type": "code",
   "execution_count": 2,
   "metadata": {},
   "outputs": [],
   "source": [
    "def compute_product(items):\n",
    "    p = 1\n",
    "    for item in items:\n",
    "        p *= item\n",
    "    return p"
   ]
  },
  {
   "cell_type": "code",
   "execution_count": 3,
   "metadata": {},
   "outputs": [],
   "source": [
    "def polynomial_transform(X, degree):\n",
    "    if X.ndim == 1:\n",
    "        X = X[:, None]\n",
    "\n",
    "    features = [np.ones(len(X))] #a list of np-arrays with all 1.\n",
    "\n",
    "    for d in range(1, degree + 1):\n",
    "        for each in itertools.combinations_with_replacement(X.T, d):\n",
    "            features.append(compute_product(each))\n",
    "\n",
    "    return np.array(features).T"
   ]
  },
  {
   "cell_type": "code",
   "execution_count": 4,
   "metadata": {
    "scrolled": true
   },
   "outputs": [
    {
     "data": {
      "text/plain": [
       "array([[ 1.,  8., 64.],\n",
       "       [ 1.,  6., 36.],\n",
       "       [ 1.,  2.,  4.]])"
      ]
     },
     "execution_count": 4,
     "metadata": {},
     "output_type": "execute_result"
    }
   ],
   "source": [
    "X = np.array([8,6,2])\n",
    "polynomial_transform(X, 2)"
   ]
  },
  {
   "cell_type": "markdown",
   "metadata": {},
   "source": [
    "2. Consider input feature matrix X, label y and weight w. The size of X, y and w are fixed to (10 x 3), (10 x 1) and (4 x 1).\n",
    "\n",
    "Write a loss function named 'ridge_loss' to compute ridge regression loss. This function should take the feature matrix (X), label vector (y), weight vector(w) and regularization rate (l) as inputs and return the loss value as output. Note: Add a dummy feature to X."
   ]
  },
  {
   "cell_type": "code",
   "execution_count": 5,
   "metadata": {},
   "outputs": [],
   "source": [
    "def ridge_loss(X, y, w, l):\n",
    "    X = np.column_stack((np.ones(X.shape[0]), X))\n",
    "    e = X @ w - y\n",
    "    return (0.5 * e.T @ e + l/2 * (w.T @ w))"
   ]
  },
  {
   "cell_type": "markdown",
   "metadata": {},
   "source": [
    "### Graded Programming"
   ]
  },
  {
   "cell_type": "markdown",
   "metadata": {},
   "source": [
    "1. Government of India is taking several steps to ensure that we are well prepared to face the challenges and threats posed by COVID-19. With active support of citizens of India, Goverment have been able to mitigate the spread of the virus so far.\n",
    "\n",
    "One of the most important factors in the fight with the virus is to vaccinate maximum people and enable them to take precautions as per the advisories being issued by different Ministries.\n",
    "\n",
    "Total 50 month's data and total vaccination in each month is given.\n",
    "\n",
    "After initial data exploration you got to know that the given data don't follow linear model.\n",
    "\n",
    "Now You have to define function \"model_error\" which will fit the given data on linear regression model with appropriate degree and return RMSE error."
   ]
  },
  {
   "cell_type": "code",
   "execution_count": 6,
   "metadata": {},
   "outputs": [],
   "source": [
    "def fit(X, y):\n",
    "    return np.linalg.pinv(X) @ y # weights\n",
    "\n",
    "def predict (X, w):\n",
    "    y = X @ w\n",
    "    return y\n",
    "def loss (X, y, w):\n",
    "    e = y - predict(X, w)\n",
    "    return 0.5 *(e.T @ e)\n",
    "def rmse(X, y, w):\n",
    "    return np.sqrt(2/X.shape[0] * loss(X, y, w))"
   ]
  },
  {
   "cell_type": "code",
   "execution_count": 7,
   "metadata": {},
   "outputs": [],
   "source": [
    "def compute_product(items):\n",
    "    p = 1\n",
    "    for item in items:\n",
    "        p *= item\n",
    "    return p\n",
    "\n",
    "def combinations(x, degree):\n",
    "    return itertools.combinations_with_replacement(x, degree)\n",
    "    \n",
    "def polynomial_transform(X, degree):\n",
    "    if X.ndim == 1:\n",
    "        X = X[:, None]\n",
    "\n",
    "    features = [np.ones(len(X))] #a list of np-arrays with all 1.\n",
    "\n",
    "    for d in range(1, degree + 1):\n",
    "        for each in itertools.combinations_with_replacement(X.T, d):\n",
    "            features.append(compute_product(each))\n",
    "\n",
    "    return np.array(features).T"
   ]
  },
  {
   "cell_type": "code",
   "execution_count": 8,
   "metadata": {},
   "outputs": [],
   "source": [
    "# Inputs for testing\n",
    "X = np.array(\n",
    "[0.,0.02040816,0.04081633,0.06122449,0.08163265,0.10204082\n",
    ",0.12244898,0.14285714,0.16326531,0.18367347,0.20408163,0.2244898\n",
    ",0.24489796,0.26530612,0.28571429,0.30612245,0.32653061,0.34693878\n",
    ",0.36734694,0.3877551,0.40816327,0.42857143,0.44897959,0.46938776\n",
    ",0.48979592,0.51020408,0.53061224,0.55102041,0.57142857,0.59183673\n",
    ",0.6122449,0.63265306,0.65306122,0.67346939,0.69387755,0.71428571\n",
    ",0.73469388,0.75510204,0.7755102,0.79591837,0.81632653,0.83673469\n",
    ",0.85714286,0.87755102,0.89795918,0.91836735,0.93877551,0.95918367\n",
    ",0.97959184,1.])\n",
    "\n",
    "y = np.array( \n",
    "[ 1.06067405,1.74367423,0.09429551,2.269534,1.08551448,-0.1610699\n",
    ",1.11906209,2.77368379,2.61662794,1.0071962,3.29677298,2.62320216\n",
    ",3.4177614,3.48999227,1.89170387,3.89491077,2.94477116,5.73447871\n",
    ",4.95718196,4.36185912,3.35074177,4.82625223,5.19042655,3.79271519\n",
    ",8.16391408,6.22925078,8.05518136,4.96552895,8.54890288,5.24675527\n",
    ",6.40141198,8.1461094,7.87463102,5.31901669,7.16376655,9.84796922\n",
    ",11.71069966,10.6765986,9.63198108,11.31523085,9.39446056,11.79839066\n",
    ",10.00112345,12.05080836,12.36179038,13.95062113,13.10718247,15.40916016\n",
    ",14.2403313,16.00383444])\n",
    "degree = 3"
   ]
  },
  {
   "cell_type": "code",
   "execution_count": 9,
   "metadata": {},
   "outputs": [
    {
     "data": {
      "text/plain": [
       "1.1725216381079504"
      ]
     },
     "execution_count": 9,
     "metadata": {},
     "output_type": "execute_result"
    }
   ],
   "source": [
    "def model_error(X, y, degree):\n",
    "    X = polynomial_transform(X, degree)\n",
    "    w = fit(X, y)\n",
    "    return rmse(X, y, w)\n",
    "\n",
    "model_error(X, y, degree)"
   ]
  }
 ],
 "metadata": {
  "kernelspec": {
   "display_name": "Python 3",
   "language": "python",
   "name": "python3"
  },
  "language_info": {
   "codemirror_mode": {
    "name": "ipython",
    "version": 3
   },
   "file_extension": ".py",
   "mimetype": "text/x-python",
   "name": "python",
   "nbconvert_exporter": "python",
   "pygments_lexer": "ipython3",
   "version": "3.7.4"
  }
 },
 "nbformat": 4,
 "nbformat_minor": 2
}
