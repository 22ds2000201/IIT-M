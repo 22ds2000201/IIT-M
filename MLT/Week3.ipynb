{
 "cells": [
  {
   "cell_type": "code",
   "execution_count": 1,
   "metadata": {},
   "outputs": [],
   "source": [
    "import itertools\n",
    "import functools\n",
    "import numpy as np"
   ]
  },
  {
   "cell_type": "code",
   "execution_count": 2,
   "metadata": {},
   "outputs": [],
   "source": [
    "def combinations(x, degree):\n",
    "    return itertools.combinations_with_replacement(x, degree)"
   ]
  },
  {
   "cell_type": "code",
   "execution_count": 3,
   "metadata": {},
   "outputs": [],
   "source": [
    "def compute_new_features(items):\n",
    "    return functools.reduce(lambda x, y: x * y, items)"
   ]
  },
  {
   "cell_type": "code",
   "execution_count": 4,
   "metadata": {},
   "outputs": [
    {
     "data": {
      "text/plain": [
       "{(2, 2): 4, (2, 3): 6, (3, 3): 9}"
      ]
     },
     "execution_count": 4,
     "metadata": {},
     "output_type": "execute_result"
    }
   ],
   "source": [
    "{each:compute_new_features(each) for each in combinations([2,3], 2)} #running a test"
   ]
  },
  {
   "cell_type": "code",
   "execution_count": 5,
   "metadata": {},
   "outputs": [
    {
     "data": {
      "text/plain": [
       "[4, 6, 9]"
      ]
     },
     "execution_count": 5,
     "metadata": {},
     "output_type": "execute_result"
    }
   ],
   "source": [
    "[compute_new_features(each) for each in combinations(np.array([2,3]), 2)] #running a test"
   ]
  },
  {
   "cell_type": "code",
   "execution_count": 6,
   "metadata": {},
   "outputs": [],
   "source": [
    "def polynomial_transform(x, degree):\n",
    "    if x.ndim == 1:\n",
    "        x = x[:, None]\n",
    "\n",
    "    features = [np.ones(len(x))] #a list of np-arrays with all 1.\n",
    "\n",
    "    print(features)\n",
    "    for degree in range(1, degree + 1):\n",
    "        for item in combinations(x.T, degree):\n",
    "            print(item)\n",
    "            features.append(compute_new_features(item))\n",
    "\n",
    "    print(features)\n",
    "            \n",
    "    return np.asarray(features).T"
   ]
  },
  {
   "cell_type": "code",
   "execution_count": 7,
   "metadata": {
    "scrolled": false
   },
   "outputs": [
    {
     "name": "stdout",
     "output_type": "stream",
     "text": [
      "[array([1., 1.])]\n",
      "(array([2, 3]),)\n",
      "(array([2, 3]), array([2, 3]))\n",
      "[array([1., 1.]), array([2, 3]), array([4, 9])]\n"
     ]
    },
    {
     "data": {
      "text/plain": [
       "array([[1., 2., 4.],\n",
       "       [1., 3., 9.]])"
      ]
     },
     "execution_count": 7,
     "metadata": {},
     "output_type": "execute_result"
    }
   ],
   "source": [
    "#feature vector [2,3] gets converted into two examples, first with 2 and second with 3 weights[[2],[3]]\n",
    "polynomial_transform(np.array([2, 3]), 2) # Want combinations of 2."
   ]
  },
  {
   "cell_type": "code",
   "execution_count": 8,
   "metadata": {
    "scrolled": false
   },
   "outputs": [
    {
     "name": "stdout",
     "output_type": "stream",
     "text": [
      "[array([1.])]\n",
      "(array([2]),)\n",
      "(array([3]),)\n",
      "(array([2]), array([2]))\n",
      "(array([2]), array([3]))\n",
      "(array([3]), array([3]))\n",
      "[array([1.]), array([2]), array([3]), array([4]), array([6]), array([9])]\n"
     ]
    },
    {
     "data": {
      "text/plain": [
       "array([[1., 2., 3., 4., 6., 9.]])"
      ]
     },
     "execution_count": 8,
     "metadata": {},
     "output_type": "execute_result"
    }
   ],
   "source": [
    "#Here, in a single example, we've 2 and 3 as two weights.  Want combinations of 2.\n",
    "polynomial_transform(np.array([[2, 3]]), 2)"
   ]
  },
  {
   "cell_type": "code",
   "execution_count": 9,
   "metadata": {
    "scrolled": false
   },
   "outputs": [
    {
     "name": "stdout",
     "output_type": "stream",
     "text": [
      "[array([1., 1.])]\n",
      "(array([2, 4]),)\n",
      "(array([3, 5]),)\n",
      "(array([2, 4]), array([2, 4]))\n",
      "(array([2, 4]), array([3, 5]))\n",
      "(array([3, 5]), array([3, 5]))\n",
      "[array([1., 1.]), array([2, 4]), array([3, 5]), array([ 4, 16]), array([ 6, 20]), array([ 9, 25])]\n"
     ]
    },
    {
     "data": {
      "text/plain": [
       "array([[ 1.,  2.,  3.,  4.,  6.,  9.],\n",
       "       [ 1.,  4.,  5., 16., 20., 25.]])"
      ]
     },
     "execution_count": 9,
     "metadata": {},
     "output_type": "execute_result"
    }
   ],
   "source": [
    "#Here, in a single example, we've two examples, each with two weights.  Want combinations of 2.\n",
    "polynomial_transform(np.array([[2, 3],[4, 5]]), 2)"
   ]
  },
  {
   "cell_type": "code",
   "execution_count": 10,
   "metadata": {
    "scrolled": false
   },
   "outputs": [
    {
     "name": "stdout",
     "output_type": "stream",
     "text": [
      "[array([1., 1.])]\n",
      "(array([2, 4]),)\n",
      "(array([3, 5]),)\n",
      "(array([2, 4]), array([2, 4]))\n",
      "(array([2, 4]), array([3, 5]))\n",
      "(array([3, 5]), array([3, 5]))\n",
      "(array([2, 4]), array([2, 4]), array([2, 4]))\n",
      "(array([2, 4]), array([2, 4]), array([3, 5]))\n",
      "(array([2, 4]), array([3, 5]), array([3, 5]))\n",
      "(array([3, 5]), array([3, 5]), array([3, 5]))\n",
      "[array([1., 1.]), array([2, 4]), array([3, 5]), array([ 4, 16]), array([ 6, 20]), array([ 9, 25]), array([ 8, 64]), array([12, 80]), array([ 18, 100]), array([ 27, 125])]\n"
     ]
    },
    {
     "data": {
      "text/plain": [
       "array([[  1.,   2.,   3.,   4.,   6.,   9.,   8.,  12.,  18.,  27.],\n",
       "       [  1.,   4.,   5.,  16.,  20.,  25.,  64.,  80., 100., 125.]])"
      ]
     },
     "execution_count": 10,
     "metadata": {},
     "output_type": "execute_result"
    }
   ],
   "source": [
    "#Here, in a single example, we've two examples, each with two weights.  Want combinations of 3.\n",
    "polynomial_transform(np.array([[2, 3],[4, 5]]), 3)"
   ]
  },
  {
   "cell_type": "code",
   "execution_count": 11,
   "metadata": {
    "scrolled": false
   },
   "outputs": [
    {
     "name": "stdout",
     "output_type": "stream",
     "text": [
      "[array([1., 1., 1.])]\n",
      "(array([2, 4, 6]),)\n",
      "(array([3, 5, 7]),)\n",
      "(array([2, 4, 6]), array([2, 4, 6]))\n",
      "(array([2, 4, 6]), array([3, 5, 7]))\n",
      "(array([3, 5, 7]), array([3, 5, 7]))\n",
      "(array([2, 4, 6]), array([2, 4, 6]), array([2, 4, 6]))\n",
      "(array([2, 4, 6]), array([2, 4, 6]), array([3, 5, 7]))\n",
      "(array([2, 4, 6]), array([3, 5, 7]), array([3, 5, 7]))\n",
      "(array([3, 5, 7]), array([3, 5, 7]), array([3, 5, 7]))\n",
      "[array([1., 1., 1.]), array([2, 4, 6]), array([3, 5, 7]), array([ 4, 16, 36]), array([ 6, 20, 42]), array([ 9, 25, 49]), array([  8,  64, 216]), array([ 12,  80, 252]), array([ 18, 100, 294]), array([ 27, 125, 343])]\n"
     ]
    },
    {
     "data": {
      "text/plain": [
       "array([[  1.,   2.,   3.,   4.,   6.,   9.,   8.,  12.,  18.,  27.],\n",
       "       [  1.,   4.,   5.,  16.,  20.,  25.,  64.,  80., 100., 125.],\n",
       "       [  1.,   6.,   7.,  36.,  42.,  49., 216., 252., 294., 343.]])"
      ]
     },
     "execution_count": 11,
     "metadata": {},
     "output_type": "execute_result"
    }
   ],
   "source": [
    "#Here, in a single example, we've two examples, each with two weights.  Want combinations of 3.\n",
    "polynomial_transform(np.array([[2, 3],[4, 5],[6,7]]), 3)"
   ]
  }
 ],
 "metadata": {
  "kernelspec": {
   "display_name": "Python 3",
   "language": "python",
   "name": "python3"
  },
  "language_info": {
   "codemirror_mode": {
    "name": "ipython",
    "version": 3
   },
   "file_extension": ".py",
   "mimetype": "text/x-python",
   "name": "python",
   "nbconvert_exporter": "python",
   "pygments_lexer": "ipython3",
   "version": "3.7.4"
  }
 },
 "nbformat": 4,
 "nbformat_minor": 2
}
