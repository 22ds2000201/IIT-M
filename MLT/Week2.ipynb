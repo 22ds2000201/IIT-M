{
 "cells": [
  {
   "cell_type": "code",
   "execution_count": 1,
   "metadata": {},
   "outputs": [],
   "source": [
    "import numpy as np\n",
    "import seaborn as sns\n",
    "import matplotlib.pyplot as plt\n",
    "from sklearn.model_selection import train_test_split"
   ]
  },
  {
   "cell_type": "markdown",
   "metadata": {},
   "source": [
    "### Training Data"
   ]
  },
  {
   "cell_type": "code",
   "execution_count": 2,
   "metadata": {},
   "outputs": [],
   "source": [
    "#Parameters\n",
    "w0 = 3\n",
    "w1 = 4\n",
    "n = 100"
   ]
  },
  {
   "cell_type": "code",
   "execution_count": 3,
   "metadata": {},
   "outputs": [
    {
     "data": {
      "text/plain": [
       "array([1.5604237 , 0.64284835, 4.38838994, 0.31268504, 8.58402869,\n",
       "       0.91820045, 3.66856593, 9.85514803, 4.80039591, 8.98963948,\n",
       "       8.32014322, 4.49925914, 4.0202784 , 0.73968209, 7.01080154,\n",
       "       0.66870571, 4.43054799, 8.71076773, 6.83285857, 2.8588252 ,\n",
       "       6.70075041, 4.28651006, 6.45137338, 4.39914128, 1.24872125,\n",
       "       1.13561145, 8.0672308 , 4.59997972, 1.68621652, 6.54826245,\n",
       "       3.87286655, 0.29868261, 7.64724864, 7.50590631, 4.60284734,\n",
       "       9.97546766, 6.78800823, 2.26701272, 4.86994573, 0.80747998,\n",
       "       1.81963658, 0.54119755, 2.40557942, 8.66717753, 2.53937808,\n",
       "       6.24399493, 4.91344592, 2.99160752, 2.76892789, 5.8830766 ,\n",
       "       3.35276233, 3.02400391, 2.85319998, 3.45962533, 7.69820923,\n",
       "       2.56586171, 5.77015643, 0.71582431, 1.06705476, 3.15239675,\n",
       "       7.8766216 , 9.66402576, 8.11575519, 9.74062161, 9.10214973,\n",
       "       5.86926098, 6.85550597, 6.35284861, 5.50771139, 9.79055865,\n",
       "       8.45476231, 3.61682258, 8.01384523, 0.56830867, 9.27399546,\n",
       "       2.86896079, 8.59025504, 1.90304056, 1.92932625, 4.77863426,\n",
       "       8.80851758, 8.37079816, 0.06657782, 2.5444043 , 5.58498005,\n",
       "       1.58498482, 8.84272799, 5.02037085, 6.4051229 , 6.69638245,\n",
       "       9.41653381, 8.12854969, 9.04289828, 7.52693851, 9.94338133,\n",
       "       7.72336515, 4.21539209, 8.30424767, 9.5917098 , 4.87484546])"
      ]
     },
     "execution_count": 3,
     "metadata": {},
     "output_type": "execute_result"
    }
   ],
   "source": [
    "#Creates a column vector with 100 rows.\n",
    "X = 10 * np.random.random(n, )\n",
    "X"
   ]
  },
  {
   "cell_type": "code",
   "execution_count": 4,
   "metadata": {},
   "outputs": [
    {
     "data": {
      "text/plain": [
       "array([10.0466433 ,  6.42996626, 20.56647018,  5.13172848, 38.24043405,\n",
       "        7.03878822, 17.77612974, 42.4455203 , 22.71135506, 39.88930439,\n",
       "       36.9611566 , 21.38290719, 19.8969646 ,  6.27703484, 31.65210587,\n",
       "        6.34816741, 21.33581377, 38.47052589, 30.65723423, 15.39441768,\n",
       "       30.09157237, 20.84101321, 29.38716051, 21.47722126,  8.40311166,\n",
       "        8.24861121, 35.61122538, 21.68967436, 10.35339414, 29.90404969,\n",
       "       19.38751879,  4.3865423 , 33.83785774, 33.24762596, 22.26259943,\n",
       "       43.60603809, 30.45948744, 12.67236626, 23.05460509,  6.60701288,\n",
       "       11.24829049,  6.03779719, 12.81507125, 37.77059368, 13.23931089,\n",
       "       28.57231146, 23.17916625, 15.26753007, 14.75373917, 27.3633343 ,\n",
       "       16.88148219, 15.27755886, 15.3137426 , 17.03353562, 34.65814709,\n",
       "       13.4446215 , 26.90114122,  6.48369752,  7.80912355, 15.73134135,\n",
       "       34.67668967, 42.53416975, 35.72185317, 42.335583  , 39.43254919,\n",
       "       26.52250009, 31.42059628, 28.8733834 , 25.9791131 , 42.38189603,\n",
       "       37.48228232, 17.47985664, 35.19451502,  5.80848785, 40.31345005,\n",
       "       15.11596471, 38.16087936, 11.07109619, 10.75257885, 22.75240987,\n",
       "       38.90704561, 36.80500395,  4.1764938 , 13.45779936, 26.18563613,\n",
       "        9.46910667, 38.50009367, 23.39329926, 29.43485373, 30.63624062,\n",
       "       41.034058  , 36.09040202, 39.37297976, 33.93960136, 43.6696537 ,\n",
       "       34.00474879, 20.14803195, 36.70804316, 41.75839426, 22.91241797])"
      ]
     },
     "execution_count": 4,
     "metadata": {},
     "output_type": "execute_result"
    }
   ],
   "source": [
    "y = w0 + w1 * X + np.random.random(n,)\n",
    "y"
   ]
  },
  {
   "cell_type": "code",
   "execution_count": 5,
   "metadata": {},
   "outputs": [
    {
     "name": "stdout",
     "output_type": "stream",
     "text": [
      "Shape of feature matrix(X) is (100,)\n",
      "Shape of labels(y) is (100,)\n"
     ]
    }
   ],
   "source": [
    "print(f'Shape of feature matrix(X) is {X.shape}')\n",
    "print(f'Shape of labels(y) is {y.shape}')"
   ]
  },
  {
   "cell_type": "code",
   "execution_count": 6,
   "metadata": {},
   "outputs": [],
   "source": [
    "#42 is the seed, and allows same split to occur everytime the function is executed.\n",
    "X_train, X_test, y_train, y_test = train_test_split(X, y, test_size=0.2, random_state=42) "
   ]
  },
  {
   "cell_type": "code",
   "execution_count": 7,
   "metadata": {},
   "outputs": [
    {
     "name": "stdout",
     "output_type": "stream",
     "text": [
      "80% of examples is assigned to feature training set\n",
      "\n",
      "[2.56586171 6.4051229  8.0672308  2.40557942 9.79055865 0.66870571\n",
      " 1.81963658 4.21539209 8.98963948 8.01384523 4.49925914 2.99160752\n",
      " 1.58498482 1.68621652 7.52693851 0.91820045 6.85550597 5.86926098\n",
      " 9.97546766 4.43054799 5.8830766  4.60284734 9.85514803 7.72336515\n",
      " 4.59997972 2.8588252  8.37079816 1.13561145 8.11575519 0.73968209\n",
      " 1.24872125 0.31268504 8.71076773 4.86994573 4.80039591 1.92932625\n",
      " 3.66856593 9.10214973 6.78800823 6.69638245 5.77015643 4.87484546\n",
      " 7.69820923 8.66717753 3.35276233 6.35284861 4.91344592 5.50771139\n",
      " 9.66402576 8.30424767 4.77863426 0.54119755 1.06705476 2.76892789\n",
      " 9.5917098  0.71582431 2.86896079 7.64724864 9.94338133 3.15239675\n",
      " 9.74062161 5.58498005 2.26701272 6.54826245 0.64284835 2.85319998\n",
      " 4.28651006 4.38838994 4.39914128 5.02037085 8.12854969 9.27399546\n",
      " 8.84272799 0.06657782 6.70075041 7.8766216  3.61682258 7.01080154\n",
      " 9.04289828 3.02400391]\n"
     ]
    }
   ],
   "source": [
    "print(f\"{int(100 * len(X_train)/len(X))}% of examples is assigned to feature training set\\n\")\n",
    "\n",
    "print(X_train)"
   ]
  },
  {
   "cell_type": "code",
   "execution_count": 8,
   "metadata": {},
   "outputs": [
    {
     "name": "stdout",
     "output_type": "stream",
     "text": [
      "20% of examples is assigned to feature test set\n",
      "\n"
     ]
    },
    {
     "data": {
      "text/plain": [
       "array([2.5444043 , 3.45962533, 8.45476231, 6.24399493, 2.53937808,\n",
       "       0.80747998, 6.45137338, 8.80851758, 8.32014322, 1.5604237 ,\n",
       "       6.83285857, 3.87286655, 0.56830867, 7.50590631, 9.41653381,\n",
       "       8.58402869, 8.59025504, 1.90304056, 4.0202784 , 0.29868261])"
      ]
     },
     "execution_count": 8,
     "metadata": {},
     "output_type": "execute_result"
    }
   ],
   "source": [
    "print(f\"{int(100 * len(X_test)/len(X))}% of examples is assigned to feature test set\\n\")\n",
    "\n",
    "X_test"
   ]
  },
  {
   "cell_type": "code",
   "execution_count": 9,
   "metadata": {},
   "outputs": [
    {
     "name": "stdout",
     "output_type": "stream",
     "text": [
      "80% of labels is assigned to label training set\n",
      "\n"
     ]
    },
    {
     "data": {
      "text/plain": [
       "array([13.4446215 , 29.43485373, 35.61122538, 12.81507125, 42.38189603,\n",
       "        6.34816741, 11.24829049, 20.14803195, 39.88930439, 35.19451502,\n",
       "       21.38290719, 15.26753007,  9.46910667, 10.35339414, 33.93960136,\n",
       "        7.03878822, 31.42059628, 26.52250009, 43.60603809, 21.33581377,\n",
       "       27.3633343 , 22.26259943, 42.4455203 , 34.00474879, 21.68967436,\n",
       "       15.39441768, 36.80500395,  8.24861121, 35.72185317,  6.27703484,\n",
       "        8.40311166,  5.13172848, 38.47052589, 23.05460509, 22.71135506,\n",
       "       10.75257885, 17.77612974, 39.43254919, 30.45948744, 30.63624062,\n",
       "       26.90114122, 22.91241797, 34.65814709, 37.77059368, 16.88148219,\n",
       "       28.8733834 , 23.17916625, 25.9791131 , 42.53416975, 36.70804316,\n",
       "       22.75240987,  6.03779719,  7.80912355, 14.75373917, 41.75839426,\n",
       "        6.48369752, 15.11596471, 33.83785774, 43.6696537 , 15.73134135,\n",
       "       42.335583  , 26.18563613, 12.67236626, 29.90404969,  6.42996626,\n",
       "       15.3137426 , 20.84101321, 20.56647018, 21.47722126, 23.39329926,\n",
       "       36.09040202, 40.31345005, 38.50009367,  4.1764938 , 30.09157237,\n",
       "       34.67668967, 17.47985664, 31.65210587, 39.37297976, 15.27755886])"
      ]
     },
     "execution_count": 9,
     "metadata": {},
     "output_type": "execute_result"
    }
   ],
   "source": [
    "print(f\"{int(100 * len(y_train)/len(y))}% of labels is assigned to label training set\\n\")\n",
    "\n",
    "y_train"
   ]
  },
  {
   "cell_type": "code",
   "execution_count": 10,
   "metadata": {
    "scrolled": true
   },
   "outputs": [
    {
     "name": "stdout",
     "output_type": "stream",
     "text": [
      "20% of labels is assigned to label test set\n",
      "\n"
     ]
    },
    {
     "data": {
      "text/plain": [
       "array([13.45779936, 17.03353562, 37.48228232, 28.57231146, 13.23931089,\n",
       "        6.60701288, 29.38716051, 38.90704561, 36.9611566 , 10.0466433 ,\n",
       "       30.65723423, 19.38751879,  5.80848785, 33.24762596, 41.034058  ,\n",
       "       38.24043405, 38.16087936, 11.07109619, 19.8969646 ,  4.3865423 ])"
      ]
     },
     "execution_count": 10,
     "metadata": {},
     "output_type": "execute_result"
    }
   ],
   "source": [
    "print(f\"{int(100 * len(y_test)/len(y))}% of labels is assigned to label test set\\n\")\n",
    "\n",
    "y_test"
   ]
  },
  {
   "cell_type": "code",
   "execution_count": 11,
   "metadata": {
    "scrolled": true
   },
   "outputs": [
    {
     "name": "stdout",
     "output_type": "stream",
     "text": [
      "Shape of feature training set is (80,)\n",
      "Shape of label training set is (80,)\n",
      "Shape of feature test set is (20,)\n",
      "Shape of label test set is (20,)\n"
     ]
    }
   ],
   "source": [
    "print(f'Shape of feature training set is {X_train.shape}')\n",
    "print(f'Shape of label training set is {y_train.shape}')\n",
    "\n",
    "print(f'Shape of feature test set is {X_test.shape}')\n",
    "print(f'Shape of label test set is {y_test.shape}')"
   ]
  },
  {
   "cell_type": "code",
   "execution_count": 12,
   "metadata": {},
   "outputs": [
    {
     "data": {
      "image/png": "[encoded data removed]",
      "text/plain": [
       "<Figure size 576x576 with 1 Axes>"
      ]
     },
     "metadata": {},
     "output_type": "display_data"
    }
   ],
   "source": [
    "sns.set_style('white')\n",
    "f = plt.figure(figsize=(8,8))\n",
    "sns.set_context(context='notebook',font_scale=1.5,rc={\"lines.linewidth\":2.5})\n",
    "\n",
    "plt.plot(X_train, y_train, \"b.\") #blue dots\n",
    "plt.title(\"Data points\")\n",
    "plt.grid(True)\n",
    "plt.xlabel(\"$x_1$\", fontsize=18)\n",
    "plt.ylabel(\"y\", rotation=0,fontsize=18)\n",
    "plt.axis([0,10,0,40])  # Sets start/end of X and Y axis in the same order.\n",
    "\n",
    "plt.show()"
   ]
  },
  {
   "cell_type": "code",
   "execution_count": 13,
   "metadata": {},
   "outputs": [
    {
     "data": {
      "text/plain": [
       "array([[1.        , 1.5604237 ],\n",
       "       [1.        , 0.64284835],\n",
       "       [1.        , 4.38838994],\n",
       "       [1.        , 0.31268504],\n",
       "       [1.        , 8.58402869],\n",
       "       [1.        , 0.91820045],\n",
       "       [1.        , 3.66856593],\n",
       "       [1.        , 9.85514803],\n",
       "       [1.        , 4.80039591],\n",
       "       [1.        , 8.98963948],\n",
       "       [1.        , 8.32014322],\n",
       "       [1.        , 4.49925914],\n",
       "       [1.        , 4.0202784 ],\n",
       "       [1.        , 0.73968209],\n",
       "       [1.        , 7.01080154],\n",
       "       [1.        , 0.66870571],\n",
       "       [1.        , 4.43054799],\n",
       "       [1.        , 8.71076773],\n",
       "       [1.        , 6.83285857],\n",
       "       [1.        , 2.8588252 ],\n",
       "       [1.        , 6.70075041],\n",
       "       [1.        , 4.28651006],\n",
       "       [1.        , 6.45137338],\n",
       "       [1.        , 4.39914128],\n",
       "       [1.        , 1.24872125],\n",
       "       [1.        , 1.13561145],\n",
       "       [1.        , 8.0672308 ],\n",
       "       [1.        , 4.59997972],\n",
       "       [1.        , 1.68621652],\n",
       "       [1.        , 6.54826245],\n",
       "       [1.        , 3.87286655],\n",
       "       [1.        , 0.29868261],\n",
       "       [1.        , 7.64724864],\n",
       "       [1.        , 7.50590631],\n",
       "       [1.        , 4.60284734],\n",
       "       [1.        , 9.97546766],\n",
       "       [1.        , 6.78800823],\n",
       "       [1.        , 2.26701272],\n",
       "       [1.        , 4.86994573],\n",
       "       [1.        , 0.80747998],\n",
       "       [1.        , 1.81963658],\n",
       "       [1.        , 0.54119755],\n",
       "       [1.        , 2.40557942],\n",
       "       [1.        , 8.66717753],\n",
       "       [1.        , 2.53937808],\n",
       "       [1.        , 6.24399493],\n",
       "       [1.        , 4.91344592],\n",
       "       [1.        , 2.99160752],\n",
       "       [1.        , 2.76892789],\n",
       "       [1.        , 5.8830766 ],\n",
       "       [1.        , 3.35276233],\n",
       "       [1.        , 3.02400391],\n",
       "       [1.        , 2.85319998],\n",
       "       [1.        , 3.45962533],\n",
       "       [1.        , 7.69820923],\n",
       "       [1.        , 2.56586171],\n",
       "       [1.        , 5.77015643],\n",
       "       [1.        , 0.71582431],\n",
       "       [1.        , 1.06705476],\n",
       "       [1.        , 3.15239675],\n",
       "       [1.        , 7.8766216 ],\n",
       "       [1.        , 9.66402576],\n",
       "       [1.        , 8.11575519],\n",
       "       [1.        , 9.74062161],\n",
       "       [1.        , 9.10214973],\n",
       "       [1.        , 5.86926098],\n",
       "       [1.        , 6.85550597],\n",
       "       [1.        , 6.35284861],\n",
       "       [1.        , 5.50771139],\n",
       "       [1.        , 9.79055865],\n",
       "       [1.        , 8.45476231],\n",
       "       [1.        , 3.61682258],\n",
       "       [1.        , 8.01384523],\n",
       "       [1.        , 0.56830867],\n",
       "       [1.        , 9.27399546],\n",
       "       [1.        , 2.86896079],\n",
       "       [1.        , 8.59025504],\n",
       "       [1.        , 1.90304056],\n",
       "       [1.        , 1.92932625],\n",
       "       [1.        , 4.77863426],\n",
       "       [1.        , 8.80851758],\n",
       "       [1.        , 8.37079816],\n",
       "       [1.        , 0.06657782],\n",
       "       [1.        , 2.5444043 ],\n",
       "       [1.        , 5.58498005],\n",
       "       [1.        , 1.58498482],\n",
       "       [1.        , 8.84272799],\n",
       "       [1.        , 5.02037085],\n",
       "       [1.        , 6.4051229 ],\n",
       "       [1.        , 6.69638245],\n",
       "       [1.        , 9.41653381],\n",
       "       [1.        , 8.12854969],\n",
       "       [1.        , 9.04289828],\n",
       "       [1.        , 7.52693851],\n",
       "       [1.        , 9.94338133],\n",
       "       [1.        , 7.72336515],\n",
       "       [1.        , 4.21539209],\n",
       "       [1.        , 8.30424767],\n",
       "       [1.        , 9.5917098 ],\n",
       "       [1.        , 4.87484546]])"
      ]
     },
     "execution_count": 13,
     "metadata": {},
     "output_type": "execute_result"
    }
   ],
   "source": [
    "np.column_stack((np.ones(X.shape[0]), X))"
   ]
  },
  {
   "cell_type": "code",
   "execution_count": 14,
   "metadata": {},
   "outputs": [],
   "source": [
    "# Converting above logic to a function\n",
    "def add_dummy_feature(x):\n",
    "    return np.column_stack((np.ones(x.shape[0]), x))"
   ]
  },
  {
   "cell_type": "code",
   "execution_count": 15,
   "metadata": {},
   "outputs": [
    {
     "data": {
      "text/plain": [
       "array([[1., 1., 2., 3.],\n",
       "       [1., 4., 5., 6.]])"
      ]
     },
     "execution_count": 15,
     "metadata": {},
     "output_type": "execute_result"
    }
   ],
   "source": [
    "# testing the above function\n",
    "train_matrix = np.array([[1,2,3], [4,5,6]]) # each feature is a 3-d vector.\n",
    "train_matrix = add_dummy_feature(train_matrix)\n",
    "train_matrix"
   ]
  },
  {
   "cell_type": "code",
   "execution_count": 16,
   "metadata": {
    "scrolled": true
   },
   "outputs": [
    {
     "data": {
      "text/plain": [
       "array([[1.        , 2.56586171],\n",
       "       [1.        , 6.4051229 ],\n",
       "       [1.        , 8.0672308 ],\n",
       "       [1.        , 2.40557942],\n",
       "       [1.        , 9.79055865],\n",
       "       [1.        , 0.66870571],\n",
       "       [1.        , 1.81963658],\n",
       "       [1.        , 4.21539209],\n",
       "       [1.        , 8.98963948],\n",
       "       [1.        , 8.01384523],\n",
       "       [1.        , 4.49925914],\n",
       "       [1.        , 2.99160752],\n",
       "       [1.        , 1.58498482],\n",
       "       [1.        , 1.68621652],\n",
       "       [1.        , 7.52693851],\n",
       "       [1.        , 0.91820045],\n",
       "       [1.        , 6.85550597],\n",
       "       [1.        , 5.86926098],\n",
       "       [1.        , 9.97546766],\n",
       "       [1.        , 4.43054799],\n",
       "       [1.        , 5.8830766 ],\n",
       "       [1.        , 4.60284734],\n",
       "       [1.        , 9.85514803],\n",
       "       [1.        , 7.72336515],\n",
       "       [1.        , 4.59997972],\n",
       "       [1.        , 2.8588252 ],\n",
       "       [1.        , 8.37079816],\n",
       "       [1.        , 1.13561145],\n",
       "       [1.        , 8.11575519],\n",
       "       [1.        , 0.73968209],\n",
       "       [1.        , 1.24872125],\n",
       "       [1.        , 0.31268504],\n",
       "       [1.        , 8.71076773],\n",
       "       [1.        , 4.86994573],\n",
       "       [1.        , 4.80039591],\n",
       "       [1.        , 1.92932625],\n",
       "       [1.        , 3.66856593],\n",
       "       [1.        , 9.10214973],\n",
       "       [1.        , 6.78800823],\n",
       "       [1.        , 6.69638245],\n",
       "       [1.        , 5.77015643],\n",
       "       [1.        , 4.87484546],\n",
       "       [1.        , 7.69820923],\n",
       "       [1.        , 8.66717753],\n",
       "       [1.        , 3.35276233],\n",
       "       [1.        , 6.35284861],\n",
       "       [1.        , 4.91344592],\n",
       "       [1.        , 5.50771139],\n",
       "       [1.        , 9.66402576],\n",
       "       [1.        , 8.30424767],\n",
       "       [1.        , 4.77863426],\n",
       "       [1.        , 0.54119755],\n",
       "       [1.        , 1.06705476],\n",
       "       [1.        , 2.76892789],\n",
       "       [1.        , 9.5917098 ],\n",
       "       [1.        , 0.71582431],\n",
       "       [1.        , 2.86896079],\n",
       "       [1.        , 7.64724864],\n",
       "       [1.        , 9.94338133],\n",
       "       [1.        , 3.15239675],\n",
       "       [1.        , 9.74062161],\n",
       "       [1.        , 5.58498005],\n",
       "       [1.        , 2.26701272],\n",
       "       [1.        , 6.54826245],\n",
       "       [1.        , 0.64284835],\n",
       "       [1.        , 2.85319998],\n",
       "       [1.        , 4.28651006],\n",
       "       [1.        , 4.38838994],\n",
       "       [1.        , 4.39914128],\n",
       "       [1.        , 5.02037085],\n",
       "       [1.        , 8.12854969],\n",
       "       [1.        , 9.27399546],\n",
       "       [1.        , 8.84272799],\n",
       "       [1.        , 0.06657782],\n",
       "       [1.        , 6.70075041],\n",
       "       [1.        , 7.8766216 ],\n",
       "       [1.        , 3.61682258],\n",
       "       [1.        , 7.01080154],\n",
       "       [1.        , 9.04289828],\n",
       "       [1.        , 3.02400391]])"
      ]
     },
     "execution_count": 16,
     "metadata": {},
     "output_type": "execute_result"
    }
   ],
   "source": [
    "#apply the function to X_train\n",
    "X_train = add_dummy_feature(X_train)\n",
    "X_train"
   ]
  },
  {
   "cell_type": "markdown",
   "metadata": {},
   "source": [
    "### Model "
   ]
  },
  {
   "cell_type": "code",
   "execution_count": 17,
   "metadata": {},
   "outputs": [],
   "source": [
    "#Predicting label follows the equation y = Xw, in its vectorized form.\n",
    "def predict(X, w):\n",
    "    if X.shape[1] == w.shape[0]:\n",
    "        return X @ w\n",
    "    else:\n",
    "        return None"
   ]
  },
  {
   "cell_type": "code",
   "execution_count": 18,
   "metadata": {},
   "outputs": [],
   "source": [
    "def preprocess(X, y):\n",
    "    X_train, X_test, y_train, y_test = train_test_split(X, y, test_size=0.2, random_state=42) \n",
    "    X_train = add_dummy_feature(X_train)\n",
    "    return X_train, X_test, y_train, y_test"
   ]
  },
  {
   "cell_type": "code",
   "execution_count": 19,
   "metadata": {},
   "outputs": [],
   "source": [
    "def generate_examples(n):\n",
    "    X = 10 * np.random.random(n, )\n",
    "    y = w0 + w1 * X\n",
    "    return preprocess(X, y)"
   ]
  },
  {
   "cell_type": "code",
   "execution_count": 20,
   "metadata": {},
   "outputs": [
    {
     "data": {
      "text/plain": [
       "array([6.20200797, 6.69284305, 7.02266596, 4.66282563, 3.53650095,\n",
       "       3.20612882, 4.59355637, 0.95661613, 6.72217514, 7.32538297,\n",
       "       3.55880087, 3.63687224, 1.79078894, 4.16860396, 3.86267778,\n",
       "       7.11032784, 5.22135309, 5.5721236 , 6.81509948, 0.72511547,\n",
       "       3.77709695, 3.4735734 , 6.91828325, 7.00617097, 3.72225218,\n",
       "       4.21054078, 2.81844445, 3.76397144, 2.28014373, 0.71886632,\n",
       "       4.187767  , 2.92232438, 4.49614678, 5.66377682, 7.06270233,\n",
       "       2.99245717, 3.68193886, 6.06871268, 4.66900986, 6.49800652,\n",
       "       6.56639919, 4.90151975, 4.05904362, 5.52923326, 5.6449448 ,\n",
       "       6.1888575 , 1.27485877, 5.04849631, 1.92561173, 6.57574011,\n",
       "       5.39932815, 5.5755495 , 3.01847753, 3.38384507, 2.07356153,\n",
       "       1.79896784, 5.10198168, 6.37099204, 5.57872297, 2.5346521 ,\n",
       "       6.46421855, 6.4661319 , 5.23846379, 3.78149402, 2.35290431,\n",
       "       1.05999343, 1.28023658, 4.38853119, 2.97342239, 3.52139635,\n",
       "       3.60272092, 4.95222378, 1.43055569, 5.21293794, 1.81954383,\n",
       "       1.29240704, 3.1721502 , 6.53406354, 5.93107489, 2.61626206])"
      ]
     },
     "execution_count": 20,
     "metadata": {},
     "output_type": "execute_result"
    }
   ],
   "source": [
    "# test it with the examples generated using above function\n",
    "X_train, X_test, y_train, y_test = generate_examples(100)\n",
    "y_hat =  predict (X_train, np.random.rand(2,))\n",
    "y_hat"
   ]
  },
  {
   "cell_type": "markdown",
   "metadata": {},
   "source": [
    "### Loss"
   ]
  },
  {
   "cell_type": "code",
   "execution_count": 21,
   "metadata": {},
   "outputs": [],
   "source": [
    "def loss (X, y, w=None):\n",
    "    if w is None:\n",
    "        w = np.zeros(X.shape[1])\n",
    "    e = X @ w - y\n",
    "    return 0.5 * (e.T @ e)"
   ]
  },
  {
   "cell_type": "code",
   "execution_count": 22,
   "metadata": {},
   "outputs": [
    {
     "data": {
      "text/plain": [
       "62.5"
      ]
     },
     "execution_count": 22,
     "metadata": {},
     "output_type": "execute_result"
    }
   ],
   "source": [
    "X = np.array([[1,3,2,5],[1,9,4,7]])\n",
    "y = np.array([6,11])\n",
    "w = np.array([1,1,1,1])\n",
    "\n",
    "loss(X, y,w)"
   ]
  },
  {
   "cell_type": "code",
   "execution_count": 23,
   "metadata": {},
   "outputs": [],
   "source": [
    "def rmse(X, y):\n",
    "    return np.sqrt(2/X.shape[0] * loss(X, y))"
   ]
  },
  {
   "cell_type": "code",
   "execution_count": 24,
   "metadata": {},
   "outputs": [
    {
     "data": {
      "text/plain": [
       "26.867689139127975"
      ]
     },
     "execution_count": 24,
     "metadata": {},
     "output_type": "execute_result"
    }
   ],
   "source": [
    "rmse(X_train, y_train)"
   ]
  },
  {
   "cell_type": "code",
   "execution_count": 25,
   "metadata": {
    "scrolled": true
   },
   "outputs": [
    {
     "data": {
      "text/plain": [
       "0.0"
      ]
     },
     "execution_count": 25,
     "metadata": {},
     "output_type": "execute_result"
    }
   ],
   "source": [
    "X_train, X_test, y_train, y_test = generate_examples(100)\n",
    "loss(X_train, y_train, np.array([3,4]))  #Since weight vector is (3,4), there's no loss"
   ]
  },
  {
   "cell_type": "code",
   "execution_count": 26,
   "metadata": {},
   "outputs": [
    {
     "name": "stdout",
     "output_type": "stream",
     "text": [
      "0.7270180270855242 7.238792098069329\n"
     ]
    }
   ],
   "source": [
    "#Generate weight vector\n",
    "w = 10 * np.random.rand(2,)\n",
    "print(w[0], w[1])"
   ]
  },
  {
   "cell_type": "code",
   "execution_count": 27,
   "metadata": {
    "scrolled": true
   },
   "outputs": [
    {
     "data": {
      "text/plain": [
       "<matplotlib.collections.LineCollection at 0x1a440ee9a88>"
      ]
     },
     "execution_count": 27,
     "metadata": {},
     "output_type": "execute_result"
    },
    {
     "data": {
      "image/png": "[encoded data removed]",
      "text/plain": [
       "<Figure size 576x576 with 1 Axes>"
      ]
     },
     "metadata": {},
     "output_type": "display_data"
    }
   ],
   "source": [
    "y_new = predict(X_train, w)\n",
    "fig, axes = plt.subplots(figsize=(8,8))\n",
    "axes.plot(X_train[:,1], y_train, c='b', label='Training')\n",
    "axes.scatter(X_train[:,1], y_new, c='g', label='Error')\n",
    "axes.vlines(X_train[:,1], y_new, y_train, colors=\"r\", label=\"loss\")"
   ]
  },
  {
   "cell_type": "markdown",
   "metadata": {},
   "source": [
    "### Optimization"
   ]
  },
  {
   "cell_type": "markdown",
   "metadata": {},
   "source": [
    "#### Normal equation method"
   ]
  },
  {
   "cell_type": "code",
   "execution_count": 28,
   "metadata": {},
   "outputs": [],
   "source": [
    "def normal_equation(X, y):\n",
    "    return np.linalg.pinv(X) @ y"
   ]
  },
  {
   "cell_type": "code",
   "execution_count": 29,
   "metadata": {},
   "outputs": [
    {
     "data": {
      "text/plain": [
       "array([3., 4.])"
      ]
     },
     "execution_count": 29,
     "metadata": {},
     "output_type": "execute_result"
    }
   ],
   "source": [
    "normal_equation(X_train, y_train)"
   ]
  },
  {
   "cell_type": "markdown",
   "metadata": {},
   "source": [
    "#### Gradient descent method"
   ]
  },
  {
   "cell_type": "code",
   "execution_count": 30,
   "metadata": {},
   "outputs": [],
   "source": [
    "lr = 0.0001 #learning rate"
   ]
  },
  {
   "cell_type": "code",
   "execution_count": 31,
   "metadata": {},
   "outputs": [],
   "source": [
    "def calculate_gradient(X, y, w):\n",
    "    return np.transpose(X) @ (predict(X, w) - y)"
   ]
  },
  {
   "cell_type": "code",
   "execution_count": 32,
   "metadata": {},
   "outputs": [
    {
     "data": {
      "text/plain": [
       "array([0., 0.])"
      ]
     },
     "execution_count": 32,
     "metadata": {},
     "output_type": "execute_result"
    }
   ],
   "source": [
    "g = calculate_gradient(X_train, y_train, np.array([3,4]))  #Since weight vector is (3,4), gradient is 0.\n",
    "g"
   ]
  },
  {
   "cell_type": "code",
   "execution_count": 33,
   "metadata": {},
   "outputs": [],
   "source": [
    "def weight_update(w, lr, g):\n",
    "    return w - lr * g"
   ]
  },
  {
   "cell_type": "code",
   "execution_count": 34,
   "metadata": {},
   "outputs": [],
   "source": [
    "def gradient_descent(X, y, epochs):\n",
    "    # Start with an arbitrary weight vector say, [0, 0].  \n",
    "    # After \"many\" iterations, we should reach the original weight vector [3,4]]\n",
    "    losses = list() \n",
    "    weights = list()\n",
    "    w = np.zeros(X.shape[1])\n",
    "    for i in range(epochs):\n",
    "        l = loss(X_train, y_train, w)\n",
    "        losses.append(l)\n",
    "        g = calculate_gradient(X, y, w)\n",
    "        w = weight_update(w, lr, g)\n",
    "        weights.append(w)\n",
    "    return weights, losses"
   ]
  },
  {
   "cell_type": "code",
   "execution_count": 35,
   "metadata": {},
   "outputs": [
    {
     "data": {
      "text/plain": [
       "array([2.99999997, 4.        ])"
      ]
     },
     "execution_count": 35,
     "metadata": {},
     "output_type": "execute_result"
    }
   ],
   "source": [
    "epochs = 10000\n",
    "weights, losses = gradient_descent(X_train, y_train, epochs)\n",
    "weights[-1]# last weight from the <epochs> trials."
   ]
  },
  {
   "cell_type": "code",
   "execution_count": 36,
   "metadata": {
    "scrolled": false
   },
   "outputs": [
    {
     "data": {
      "image/png": "[encoded data removed]",
      "text/plain": [
       "<Figure size 432x288 with 1 Axes>"
      ]
     },
     "metadata": {},
     "output_type": "display_data"
    }
   ],
   "source": [
    "def plot_learning_curves(losses):\n",
    "    plt.plot(losses)\n",
    "    \n",
    "plot_learning_curves(losses)"
   ]
  },
  {
   "cell_type": "markdown",
   "metadata": {},
   "source": [
    "#### Mini-batch gradient descent"
   ]
  },
  {
   "cell_type": "code",
   "execution_count": 37,
   "metadata": {
    "scrolled": true
   },
   "outputs": [
    {
     "data": {
      "text/plain": [
       "0.0"
      ]
     },
     "execution_count": 37,
     "metadata": {},
     "output_type": "execute_result"
    }
   ],
   "source": [
    "X_train, X_test, y_train, y_test = generate_examples(100)\n",
    "loss(X_train, y_train, np.array([3,4]))  #Since weight vector is (3,4), there's no loss"
   ]
  },
  {
   "cell_type": "code",
   "execution_count": 38,
   "metadata": {},
   "outputs": [],
   "source": [
    "t1, t2 = 200, 10000\n",
    "def learning_schedule(t):\n",
    "    return t1 / (t + t2)"
   ]
  },
  {
   "cell_type": "code",
   "execution_count": 39,
   "metadata": {},
   "outputs": [],
   "source": [
    "def mini_batch_gd(X, y, iterations, mini_batch_size):\n",
    "    t = 0\n",
    "    w = np.zeros(X.shape[1])  #initializing arbitrary values.\n",
    "    weights, losses = list(), list()\n",
    "\n",
    "    for iteration in range(iterations):\n",
    "        shuffled_indices = np.random.permutation(X.shape[0])\n",
    "        X_shuffled = X[shuffled_indices]\n",
    "        y_shuffled = y[shuffled_indices]\n",
    "\n",
    "        for i in range(0, X.shape[0], mini_batch_size):\n",
    "            t += 1\n",
    "            x1 = X_shuffled[i:i+mini_batch_size]\n",
    "            y1 = y_shuffled[i:i+mini_batch_size]\n",
    "\n",
    "            l = loss(x1, y1, w)\n",
    "            losses.append(l)\n",
    "\n",
    "            g = 2/mini_batch_size * calculate_gradient(x1, y1, w)\n",
    "            w = weight_update(w, learning_schedule(t), g)\n",
    "            weights.append(w)\n",
    "\n",
    "    return weights, losses"
   ]
  },
  {
   "cell_type": "code",
   "execution_count": 40,
   "metadata": {},
   "outputs": [],
   "source": [
    "mini_batch_size = 8\n",
    "iterations = 20\n",
    "\n",
    "X_train, X_test, y_train, y_test = generate_examples(100)\n",
    "weights, losses = mini_batch_gd(X_train, y_train, iterations, mini_batch_size)"
   ]
  },
  {
   "cell_type": "code",
   "execution_count": 41,
   "metadata": {
    "scrolled": false
   },
   "outputs": [
    {
     "data": {
      "image/png": "[encoded data removed]",
      "text/plain": [
       "<Figure size 432x288 with 1 Axes>"
      ]
     },
     "metadata": {},
     "output_type": "display_data"
    }
   ],
   "source": [
    "plot_learning_curves(losses)"
   ]
  },
  {
   "cell_type": "markdown",
   "metadata": {},
   "source": [
    "#### Stochastic Gradient Descent (SGD)"
   ]
  },
  {
   "cell_type": "code",
   "execution_count": 42,
   "metadata": {},
   "outputs": [],
   "source": [
    "t1, t2 = 200, 10000\n",
    "def learning_schedule(t):\n",
    "    return t1 / (t + t2)"
   ]
  },
  {
   "cell_type": "code",
   "execution_count": 43,
   "metadata": {},
   "outputs": [],
   "source": [
    "def sgd(X, y, iterations):\n",
    "    t = 0\n",
    "    w = np.zeros(X.shape[1])  #initializing arbitrary values.\n",
    "    weights, losses = list(), list()\n",
    "    \n",
    "    for iteration in range(iterations):\n",
    "        shuffled_indices = np.random.permutation(X.shape[0])\n",
    "        X_shuffled = X[shuffled_indices]\n",
    "        y_shuffled = y[shuffled_indices]\n",
    "\n",
    "        for i in range(0, X.shape[0]):\n",
    "            t += 1\n",
    "            x1 = X_shuffled[i:i+1]\n",
    "            y1 = y_shuffled[i:i+1]\n",
    "\n",
    "            l = loss(x1, y1, w)\n",
    "            losses.append(l)\n",
    "\n",
    "            g = 2/mini_batch_size * calculate_gradient(x1, y1, w)\n",
    "            w = weight_update(w, learning_schedule(t), g)\n",
    "            weights.append(w)\n",
    "\n",
    "    return weights, losses"
   ]
  },
  {
   "cell_type": "code",
   "execution_count": 44,
   "metadata": {},
   "outputs": [],
   "source": [
    "iterations = 20\n",
    "\n",
    "X_train, X_test, y_train, y_test = generate_examples(100)\n",
    "weights, losses = sgd(X_train, y_train, iterations)"
   ]
  },
  {
   "cell_type": "code",
   "execution_count": 45,
   "metadata": {
    "scrolled": true
   },
   "outputs": [
    {
     "data": {
      "image/png": "[encoded data removed]",
      "text/plain": [
       "<Figure size 432x288 with 1 Axes>"
      ]
     },
     "metadata": {},
     "output_type": "display_data"
    }
   ],
   "source": [
    "plot_learning_curves(losses)"
   ]
  },
  {
   "cell_type": "markdown",
   "metadata": {},
   "source": [
    "### Handling more features"
   ]
  },
  {
   "cell_type": "code",
   "execution_count": 46,
   "metadata": {},
   "outputs": [
    {
     "name": "stderr",
     "output_type": "stream",
     "text": [
      "D:\\Anaconda3\\lib\\site-packages\\sklearn\\feature_extraction\\image.py:167: DeprecationWarning: `np.int` is a deprecated alias for the builtin `int`. To silence this warning, use `int` by itself. Doing this will not modify any behavior and is safe. When replacing `np.int`, you may wish to use e.g. `np.int64` or `np.int32` to specify the precision. If you wish to review your current use, check the release note link for additional information.\n",
      "Deprecated in NumPy 1.20; for more details and guidance: https://numpy.org/devdocs/release/1.20.0-notes.html#deprecations\n",
      "  dtype=np.int):\n"
     ]
    }
   ],
   "source": [
    "from sklearn.datasets import make_regression\n",
    "\n",
    "X, y, weights = make_regression(n_samples=200, n_features=10, n_informative=10, n_targets=1, \n",
    "                shuffle=True, coef=True, noise=0.5, random_state=0)"
   ]
  },
  {
   "cell_type": "code",
   "execution_count": 47,
   "metadata": {},
   "outputs": [],
   "source": [
    "X = add_dummy_feature(X)"
   ]
  },
  {
   "cell_type": "code",
   "execution_count": 48,
   "metadata": {},
   "outputs": [],
   "source": [
    "from sklearn.model_selection import train_test_split\n",
    "#42 is the seed, and allows same split to occur everytime the function is executed.\n",
    "X_train, X_test, y_train, y_test = train_test_split(X, y, test_size=0.2, random_state=42) "
   ]
  },
  {
   "cell_type": "code",
   "execution_count": 49,
   "metadata": {
    "scrolled": true
   },
   "outputs": [
    {
     "data": {
      "text/plain": [
       "((160, 11), (160,))"
      ]
     },
     "execution_count": 49,
     "metadata": {},
     "output_type": "execute_result"
    }
   ],
   "source": [
    "X_train.shape, y_train.shape"
   ]
  },
  {
   "cell_type": "code",
   "execution_count": 50,
   "metadata": {},
   "outputs": [
    {
     "data": {
      "text/plain": [
       "array([40.05104636, 10.32532207, 51.90989393,  6.18447832, 41.09157343,\n",
       "       28.46940664, 88.97621358,  9.68032193, 15.48694157, 44.96944303])"
      ]
     },
     "execution_count": 50,
     "metadata": {},
     "output_type": "execute_result"
    }
   ],
   "source": [
    "weights"
   ]
  },
  {
   "cell_type": "code",
   "execution_count": 51,
   "metadata": {},
   "outputs": [
    {
     "data": {
      "text/plain": [
       "array([4.30868690e-03, 4.00335228e+01, 1.03086790e+01, 5.19091277e+01,\n",
       "       6.29286567e+00, 4.11625781e+01, 2.84422862e+01, 8.89543306e+01,\n",
       "       9.75752481e+00, 1.54723974e+01, 4.49980952e+01])"
      ]
     },
     "execution_count": 51,
     "metadata": {},
     "output_type": "execute_result"
    }
   ],
   "source": [
    "normal_equation(X_train, y_train)"
   ]
  },
  {
   "cell_type": "code",
   "execution_count": 52,
   "metadata": {
    "scrolled": true
   },
   "outputs": [
    {
     "data": {
      "text/plain": [
       "array([4.30868690e-03, 4.00335228e+01, 1.03086790e+01, 5.19091277e+01,\n",
       "       6.29286567e+00, 4.11625781e+01, 2.84422862e+01, 8.89543306e+01,\n",
       "       9.75752481e+00, 1.54723974e+01, 4.49980952e+01])"
      ]
     },
     "execution_count": 52,
     "metadata": {},
     "output_type": "execute_result"
    }
   ],
   "source": [
    "weights, losses = gradient_descent(X_train, y_train, 10000)\n",
    "weights[-1]"
   ]
  },
  {
   "cell_type": "code",
   "execution_count": 53,
   "metadata": {
    "scrolled": false
   },
   "outputs": [
    {
     "data": {
      "image/png": "[encoded data removed]",
      "text/plain": [
       "<Figure size 432x288 with 1 Axes>"
      ]
     },
     "metadata": {},
     "output_type": "display_data"
    }
   ],
   "source": [
    "plot_learning_curves(losses)"
   ]
  },
  {
   "cell_type": "code",
   "execution_count": 54,
   "metadata": {
    "scrolled": false
   },
   "outputs": [
    {
     "data": {
      "text/plain": [
       "array([-5.58368674e-04,  4.00327606e+01,  1.03041243e+01,  5.19111630e+01,\n",
       "        6.28724202e+00,  4.11615232e+01,  2.84454783e+01,  8.89502714e+01,\n",
       "        9.75843367e+00,  1.54752146e+01,  4.49950330e+01])"
      ]
     },
     "execution_count": 54,
     "metadata": {},
     "output_type": "execute_result"
    }
   ],
   "source": [
    "weights, losses = mini_batch_gd(X_train, y_train, 20, 10)\n",
    "weights[-1]"
   ]
  },
  {
   "cell_type": "code",
   "execution_count": 55,
   "metadata": {
    "scrolled": false
   },
   "outputs": [
    {
     "data": {
      "image/png": "[encoded data removed]",
      "text/plain": [
       "<Figure size 432x288 with 1 Axes>"
      ]
     },
     "metadata": {},
     "output_type": "display_data"
    }
   ],
   "source": [
    "plot_learning_curves(losses)"
   ]
  },
  {
   "cell_type": "code",
   "execution_count": 56,
   "metadata": {
    "scrolled": false
   },
   "outputs": [
    {
     "data": {
      "text/plain": [
       "array([-1.11731693e-03,  4.00332316e+01,  1.03014069e+01,  5.19046919e+01,\n",
       "        6.29527138e+00,  4.11644496e+01,  2.84292330e+01,  8.89490562e+01,\n",
       "        9.76031030e+00,  1.54685987e+01,  4.49927618e+01])"
      ]
     },
     "execution_count": 56,
     "metadata": {},
     "output_type": "execute_result"
    }
   ],
   "source": [
    "weights, losses = sgd(X_train, y_train, 20)\n",
    "weights[-1]"
   ]
  },
  {
   "cell_type": "code",
   "execution_count": 57,
   "metadata": {
    "scrolled": false
   },
   "outputs": [
    {
     "data": {
      "image/png": "[encoded data removed]",
      "text/plain": [
       "<Figure size 432x288 with 1 Axes>"
      ]
     },
     "metadata": {},
     "output_type": "display_data"
    }
   ],
   "source": [
    "plot_learning_curves(losses)"
   ]
  }
 ],
 "metadata": {
  "kernelspec": {
   "display_name": "Python 3",
   "language": "python",
   "name": "python3"
  },
  "language_info": {
   "codemirror_mode": {
    "name": "ipython",
    "version": 3
   },
   "file_extension": ".py",
   "mimetype": "text/x-python",
   "name": "python",
   "nbconvert_exporter": "python",
   "pygments_lexer": "ipython3",
   "version": "3.7.4"
  }
 },
 "nbformat": 4,
 "nbformat_minor": 2
}
