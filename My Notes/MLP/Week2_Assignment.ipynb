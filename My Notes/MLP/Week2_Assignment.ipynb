{
 "cells": [
  {
   "cell_type": "code",
   "execution_count": 1,
   "id": "52b2f636",
   "metadata": {},
   "outputs": [],
   "source": [
    "import matplotlib.pyplot as plt\n",
    "import numpy as np\n",
    "import pandas as pd"
   ]
  },
  {
   "cell_type": "code",
   "execution_count": 2,
   "id": "46ddd8d7",
   "metadata": {},
   "outputs": [],
   "source": [
    "cols = [\"V1\",\"V2\",\"V3\",\"V4\", \"V5\", \"Target\"]\n",
    "assignment = pd.read_csv(\"Assignment.csv\", encoding='utf-8', header=None, names=cols)"
   ]
  },
  {
   "cell_type": "code",
   "execution_count": 3,
   "id": "5bddb3dd",
   "metadata": {
    "scrolled": false
   },
   "outputs": [],
   "source": [
    "assignment = assignment.iloc[1:,:-1] # to skip the header and label"
   ]
  },
  {
   "cell_type": "code",
   "execution_count": 4,
   "id": "1be81ef2",
   "metadata": {},
   "outputs": [
    {
     "data": {
      "text/html": [
       "<div>\n",
       "<style scoped>\n",
       "    .dataframe tbody tr th:only-of-type {\n",
       "        vertical-align: middle;\n",
       "    }\n",
       "\n",
       "    .dataframe tbody tr th {\n",
       "        vertical-align: top;\n",
       "    }\n",
       "\n",
       "    .dataframe thead th {\n",
       "        text-align: right;\n",
       "    }\n",
       "</style>\n",
       "<table border=\"1\" class=\"dataframe\">\n",
       "  <thead>\n",
       "    <tr style=\"text-align: right;\">\n",
       "      <th></th>\n",
       "      <th>V1</th>\n",
       "      <th>V2</th>\n",
       "      <th>V3</th>\n",
       "      <th>V4</th>\n",
       "      <th>V5</th>\n",
       "    </tr>\n",
       "  </thead>\n",
       "  <tbody>\n",
       "    <tr>\n",
       "      <th>count</th>\n",
       "      <td>748</td>\n",
       "      <td>748</td>\n",
       "      <td>748</td>\n",
       "      <td>748</td>\n",
       "      <td>748</td>\n",
       "    </tr>\n",
       "    <tr>\n",
       "      <th>unique</th>\n",
       "      <td>32</td>\n",
       "      <td>33</td>\n",
       "      <td>33</td>\n",
       "      <td>78</td>\n",
       "      <td>1</td>\n",
       "    </tr>\n",
       "    <tr>\n",
       "      <th>top</th>\n",
       "      <td>2.0</td>\n",
       "      <td>1.0</td>\n",
       "      <td>250.0</td>\n",
       "      <td>4.0</td>\n",
       "      <td>NEGATIVE</td>\n",
       "    </tr>\n",
       "    <tr>\n",
       "      <th>freq</th>\n",
       "      <td>171</td>\n",
       "      <td>158</td>\n",
       "      <td>158</td>\n",
       "      <td>57</td>\n",
       "      <td>748</td>\n",
       "    </tr>\n",
       "  </tbody>\n",
       "</table>\n",
       "</div>"
      ],
      "text/plain": [
       "         V1   V2     V3   V4        V5\n",
       "count   748  748    748  748       748\n",
       "unique   32   33     33   78         1\n",
       "top     2.0  1.0  250.0  4.0  NEGATIVE\n",
       "freq    171  158    158   57       748"
      ]
     },
     "execution_count": 4,
     "metadata": {},
     "output_type": "execute_result"
    }
   ],
   "source": [
    "assignment.describe() # why is this not showing all details?"
   ]
  },
  {
   "cell_type": "code",
   "execution_count": 5,
   "id": "817ef0be",
   "metadata": {
    "scrolled": true
   },
   "outputs": [
    {
     "name": "stdout",
     "output_type": "stream",
     "text": [
      "5\n",
      "5\n",
      "0\n",
      "0\n",
      "0\n"
     ]
    }
   ],
   "source": [
    "#how many features have unknowns; and what's the total number of unknowns\n",
    "print((assignment['V1'] == \"?\").sum())\n",
    "print((assignment['V2'] == \"?\").sum())\n",
    "print((assignment['V3'] == \"?\").sum())\n",
    "print((assignment['V4'] == \"?\").sum())\n",
    "print((assignment['V5'] == \"?\").sum())"
   ]
  },
  {
   "cell_type": "code",
   "execution_count": 6,
   "id": "a64ecb5b",
   "metadata": {},
   "outputs": [],
   "source": [
    "assignment.replace(\"?\", 0, inplace=True) # replace all ? by np.nan\n",
    "assignment.replace('NEGATIVE', 1, inplace=True)"
   ]
  },
  {
   "cell_type": "code",
   "execution_count": 7,
   "id": "cdf7d887",
   "metadata": {},
   "outputs": [],
   "source": [
    "V1 = assignment['V1'].astype(float)\n",
    "V2 = assignment['V2'].astype(float)\n",
    "V3 = assignment['V3'].astype(float)\n",
    "V4 = assignment['V4'].astype(float)\n",
    "V5 = assignment['V5'].astype(float)"
   ]
  },
  {
   "cell_type": "code",
   "execution_count": 8,
   "id": "a1d69147",
   "metadata": {
    "scrolled": true
   },
   "outputs": [
    {
     "name": "stdout",
     "output_type": "stream",
     "text": [
      "65.5868966084245 33.565643855986664 2128245.173403577 593.4297860247633 0.0\n"
     ]
    }
   ],
   "source": [
    "print(np.var(V1), np.var(V2), np.var(V3), np.var(V4), np.var(V5))"
   ]
  },
  {
   "cell_type": "code",
   "execution_count": 9,
   "id": "faba7ff2",
   "metadata": {},
   "outputs": [
    {
     "data": {
      "text/plain": [
       "5.427807486631016"
      ]
     },
     "execution_count": 9,
     "metadata": {},
     "output_type": "execute_result"
    }
   ],
   "source": [
    "from sklearn.impute import SimpleImputer\n",
    "si = SimpleImputer(strategy='median')\n",
    "si.fit_transform(assignment)[:,1].mean()"
   ]
  },
  {
   "cell_type": "code",
   "execution_count": 10,
   "id": "01e5047e",
   "metadata": {
    "scrolled": true
   },
   "outputs": [
    {
     "data": {
      "text/plain": [
       "9.498663101604278"
      ]
     },
     "execution_count": 10,
     "metadata": {},
     "output_type": "execute_result"
    }
   ],
   "source": [
    "from sklearn.impute import KNNImputer\n",
    "knn = KNNImputer(n_neighbors=3)\n",
    "knn.fit_transform(assignment)[:,0].mean()"
   ]
  },
  {
   "cell_type": "code",
   "execution_count": 11,
   "id": "d0caf588",
   "metadata": {
    "scrolled": false
   },
   "outputs": [
    {
     "data": {
      "text/plain": [
       "{'whiskers': [<matplotlib.lines.Line2D at 0x2ddaff081c0>,\n",
       "  <matplotlib.lines.Line2D at 0x2ddaff08490>],\n",
       " 'caps': [<matplotlib.lines.Line2D at 0x2ddaff08820>,\n",
       "  <matplotlib.lines.Line2D at 0x2ddaff08bb0>],\n",
       " 'boxes': [<matplotlib.lines.Line2D at 0x2ddadeead30>],\n",
       " 'medians': [<matplotlib.lines.Line2D at 0x2ddaff08f40>],\n",
       " 'fliers': [<matplotlib.lines.Line2D at 0x2ddaff12310>],\n",
       " 'means': []}"
      ]
     },
     "execution_count": 11,
     "metadata": {},
     "output_type": "execute_result"
    },
    {
     "data": {
      "image/png": "[encoded data removed]",
      "text/plain": [
       "<Figure size 432x288 with 1 Axes>"
      ]
     },
     "metadata": {
      "needs_background": "light"
     },
     "output_type": "display_data"
    }
   ],
   "source": [
    "plt.boxplot(V2) #has the least number of outliers compared to V2 and V3"
   ]
  },
  {
   "cell_type": "markdown",
   "id": "5bc233a4",
   "metadata": {},
   "source": [
    "#### Q.1"
   ]
  },
  {
   "cell_type": "code",
   "execution_count": 12,
   "id": "94f37174",
   "metadata": {},
   "outputs": [],
   "source": [
    "cols = [\"V1\",\"V2\",\"V3\",\"V4\", \"V5\", \"Target\"]\n",
    "assignment = pd.read_csv(\"Assignment.csv\", encoding='utf-8', header=None, names=cols)"
   ]
  },
  {
   "cell_type": "code",
   "execution_count": 13,
   "id": "e3587157",
   "metadata": {},
   "outputs": [],
   "source": [
    "labels = assignment.pop('Target')[1:]"
   ]
  },
  {
   "cell_type": "code",
   "execution_count": 14,
   "id": "d3e992fc",
   "metadata": {
    "scrolled": false
   },
   "outputs": [],
   "source": [
    "assignment = assignment.iloc[1:,:] # to skip the header and label"
   ]
  },
  {
   "cell_type": "code",
   "execution_count": 15,
   "id": "124c0a54",
   "metadata": {},
   "outputs": [],
   "source": [
    "assignment.replace(\"?\", 0, inplace=True) # replace all ? by np.nan\n",
    "assignment.replace('NEGATIVE', 1, inplace=True)"
   ]
  },
  {
   "cell_type": "code",
   "execution_count": 16,
   "id": "eb15746a",
   "metadata": {},
   "outputs": [
    {
     "data": {
      "text/html": [
       "<div>\n",
       "<style scoped>\n",
       "    .dataframe tbody tr th:only-of-type {\n",
       "        vertical-align: middle;\n",
       "    }\n",
       "\n",
       "    .dataframe tbody tr th {\n",
       "        vertical-align: top;\n",
       "    }\n",
       "\n",
       "    .dataframe thead th {\n",
       "        text-align: right;\n",
       "    }\n",
       "</style>\n",
       "<table border=\"1\" class=\"dataframe\">\n",
       "  <thead>\n",
       "    <tr style=\"text-align: right;\">\n",
       "      <th></th>\n",
       "      <th>V1</th>\n",
       "      <th>V2</th>\n",
       "      <th>V3</th>\n",
       "      <th>V4</th>\n",
       "      <th>V5</th>\n",
       "    </tr>\n",
       "  </thead>\n",
       "  <tbody>\n",
       "    <tr>\n",
       "      <th>1</th>\n",
       "      <td>2.0</td>\n",
       "      <td>50.0</td>\n",
       "      <td>12500.0</td>\n",
       "      <td>98.0</td>\n",
       "      <td>1</td>\n",
       "    </tr>\n",
       "    <tr>\n",
       "      <th>2</th>\n",
       "      <td>0.0</td>\n",
       "      <td>13.0</td>\n",
       "      <td>3250.0</td>\n",
       "      <td>28.0</td>\n",
       "      <td>1</td>\n",
       "    </tr>\n",
       "    <tr>\n",
       "      <th>3</th>\n",
       "      <td>0</td>\n",
       "      <td>0</td>\n",
       "      <td>4000.0</td>\n",
       "      <td>35.0</td>\n",
       "      <td>1</td>\n",
       "    </tr>\n",
       "    <tr>\n",
       "      <th>4</th>\n",
       "      <td>0</td>\n",
       "      <td>20.0</td>\n",
       "      <td>5000.0</td>\n",
       "      <td>45.0</td>\n",
       "      <td>1</td>\n",
       "    </tr>\n",
       "    <tr>\n",
       "      <th>5</th>\n",
       "      <td>1.0</td>\n",
       "      <td>24.0</td>\n",
       "      <td>6000.0</td>\n",
       "      <td>77.0</td>\n",
       "      <td>1</td>\n",
       "    </tr>\n",
       "    <tr>\n",
       "      <th>...</th>\n",
       "      <td>...</td>\n",
       "      <td>...</td>\n",
       "      <td>...</td>\n",
       "      <td>...</td>\n",
       "      <td>...</td>\n",
       "    </tr>\n",
       "    <tr>\n",
       "      <th>744</th>\n",
       "      <td>23.0</td>\n",
       "      <td>2.0</td>\n",
       "      <td>500.0</td>\n",
       "      <td>38.0</td>\n",
       "      <td>1</td>\n",
       "    </tr>\n",
       "    <tr>\n",
       "      <th>745</th>\n",
       "      <td>21.0</td>\n",
       "      <td>2.0</td>\n",
       "      <td>500.0</td>\n",
       "      <td>52.0</td>\n",
       "      <td>1</td>\n",
       "    </tr>\n",
       "    <tr>\n",
       "      <th>746</th>\n",
       "      <td>23.0</td>\n",
       "      <td>3.0</td>\n",
       "      <td>750.0</td>\n",
       "      <td>62.0</td>\n",
       "      <td>1</td>\n",
       "    </tr>\n",
       "    <tr>\n",
       "      <th>747</th>\n",
       "      <td>39.0</td>\n",
       "      <td>1.0</td>\n",
       "      <td>250.0</td>\n",
       "      <td>39.0</td>\n",
       "      <td>1</td>\n",
       "    </tr>\n",
       "    <tr>\n",
       "      <th>748</th>\n",
       "      <td>72.0</td>\n",
       "      <td>1.0</td>\n",
       "      <td>250.0</td>\n",
       "      <td>72.0</td>\n",
       "      <td>1</td>\n",
       "    </tr>\n",
       "  </tbody>\n",
       "</table>\n",
       "<p>748 rows × 5 columns</p>\n",
       "</div>"
      ],
      "text/plain": [
       "       V1    V2       V3    V4  V5\n",
       "1     2.0  50.0  12500.0  98.0   1\n",
       "2     0.0  13.0   3250.0  28.0   1\n",
       "3       0     0   4000.0  35.0   1\n",
       "4       0  20.0   5000.0  45.0   1\n",
       "5     1.0  24.0   6000.0  77.0   1\n",
       "..    ...   ...      ...   ...  ..\n",
       "744  23.0   2.0    500.0  38.0   1\n",
       "745  21.0   2.0    500.0  52.0   1\n",
       "746  23.0   3.0    750.0  62.0   1\n",
       "747  39.0   1.0    250.0  39.0   1\n",
       "748  72.0   1.0    250.0  72.0   1\n",
       "\n",
       "[748 rows x 5 columns]"
      ]
     },
     "execution_count": 16,
     "metadata": {},
     "output_type": "execute_result"
    }
   ],
   "source": [
    "assignment"
   ]
  },
  {
   "cell_type": "code",
   "execution_count": 17,
   "id": "4fc26e1a",
   "metadata": {},
   "outputs": [],
   "source": [
    "from sklearn.impute import SimpleImputer\n",
    "from sklearn.preprocessing import StandardScaler, OrdinalEncoder\n",
    "from sklearn.compose import ColumnTransformer\n",
    "from sklearn.pipeline import FeatureUnion, Pipeline\n",
    "from sklearn.feature_selection import VarianceThreshold\n",
    "\n",
    "si = SimpleImputer(strategy='mean')\n",
    "ss = StandardScaler()\n",
    "oe = OrdinalEncoder()\n",
    "\n",
    "SI = ('1', si, [0, 1])\n",
    "SS = ('2', ss, [0, 1, 2, 3])\n",
    "OE = ('3', oe, [4])\n",
    "\n",
    "PIPE_1 = ('pipe_1', ColumnTransformer([SI, ('pass', 'passthrough', [3,4])]))\n",
    "PIPE_2 = ('pipe_2', ColumnTransformer([SS]))\n",
    "PIPE_3 = ('pipe_3', ColumnTransformer([OE]))\n",
    "\n",
    "pipe_12 = Pipeline([PIPE_1, PIPE_2])\n",
    "pipe_3 = Pipeline([PIPE_3])\n",
    "\n",
    "fu = FeatureUnion(transformer_list=[('LHS', pipe_12), \n",
    "                                    ('RHS', pipe_3)])"
   ]
  },
  {
   "cell_type": "code",
   "execution_count": 18,
   "id": "641c7e12",
   "metadata": {
    "scrolled": true
   },
   "outputs": [
    {
     "data": {
      "text/plain": [
       "array([[-0.92592391,  7.693368  ,  2.61563344,  0.        ,  0.        ],\n",
       "       [-1.17288098,  1.30699569, -0.2578809 ,  0.        ,  0.        ],\n",
       "       [-1.17288098, -0.93686485,  0.02947053,  0.        ,  0.        ],\n",
       "       ...,\n",
       "       [ 1.66712527, -0.41905088,  1.13782607,  0.        ,  0.        ],\n",
       "       [ 3.64278178, -0.76426019,  0.19367135,  0.        ,  0.        ],\n",
       "       [ 7.71757335, -0.76426019,  1.54832812,  0.        ,  0.        ]])"
      ]
     },
     "execution_count": 18,
     "metadata": {},
     "output_type": "execute_result"
    }
   ],
   "source": [
    "fu.fit_transform(assignment)"
   ]
  },
  {
   "cell_type": "code",
   "execution_count": 19,
   "id": "5667cd13",
   "metadata": {},
   "outputs": [
    {
     "data": {
      "text/html": [
       "<style>#sk-358a3b85-0bcf-43c1-8965-b53650722cda {color: black;background-color: white;}#sk-358a3b85-0bcf-43c1-8965-b53650722cda pre{padding: 0;}#sk-358a3b85-0bcf-43c1-8965-b53650722cda div.sk-toggleable {background-color: white;}#sk-358a3b85-0bcf-43c1-8965-b53650722cda label.sk-toggleable__label {cursor: pointer;display: block;width: 100%;margin-bottom: 0;padding: 0.3em;box-sizing: border-box;text-align: center;}#sk-358a3b85-0bcf-43c1-8965-b53650722cda label.sk-toggleable__label-arrow:before {content: \"▸\";float: left;margin-right: 0.25em;color: #696969;}#sk-358a3b85-0bcf-43c1-8965-b53650722cda label.sk-toggleable__label-arrow:hover:before {color: black;}#sk-358a3b85-0bcf-43c1-8965-b53650722cda div.sk-estimator:hover label.sk-toggleable__label-arrow:before {color: black;}#sk-358a3b85-0bcf-43c1-8965-b53650722cda div.sk-toggleable__content {max-height: 0;max-width: 0;overflow: hidden;text-align: left;background-color: #f0f8ff;}#sk-358a3b85-0bcf-43c1-8965-b53650722cda div.sk-toggleable__content pre {margin: 0.2em;color: black;border-radius: 0.25em;background-color: #f0f8ff;}#sk-358a3b85-0bcf-43c1-8965-b53650722cda input.sk-toggleable__control:checked~div.sk-toggleable__content {max-height: 200px;max-width: 100%;overflow: auto;}#sk-358a3b85-0bcf-43c1-8965-b53650722cda input.sk-toggleable__control:checked~label.sk-toggleable__label-arrow:before {content: \"▾\";}#sk-358a3b85-0bcf-43c1-8965-b53650722cda div.sk-estimator input.sk-toggleable__control:checked~label.sk-toggleable__label {background-color: #d4ebff;}#sk-358a3b85-0bcf-43c1-8965-b53650722cda div.sk-label input.sk-toggleable__control:checked~label.sk-toggleable__label {background-color: #d4ebff;}#sk-358a3b85-0bcf-43c1-8965-b53650722cda input.sk-hidden--visually {border: 0;clip: rect(1px 1px 1px 1px);clip: rect(1px, 1px, 1px, 1px);height: 1px;margin: -1px;overflow: hidden;padding: 0;position: absolute;width: 1px;}#sk-358a3b85-0bcf-43c1-8965-b53650722cda div.sk-estimator {font-family: monospace;background-color: #f0f8ff;border: 1px dotted black;border-radius: 0.25em;box-sizing: border-box;margin-bottom: 0.5em;}#sk-358a3b85-0bcf-43c1-8965-b53650722cda div.sk-estimator:hover {background-color: #d4ebff;}#sk-358a3b85-0bcf-43c1-8965-b53650722cda div.sk-parallel-item::after {content: \"\";width: 100%;border-bottom: 1px solid gray;flex-grow: 1;}#sk-358a3b85-0bcf-43c1-8965-b53650722cda div.sk-label:hover label.sk-toggleable__label {background-color: #d4ebff;}#sk-358a3b85-0bcf-43c1-8965-b53650722cda div.sk-serial::before {content: \"\";position: absolute;border-left: 1px solid gray;box-sizing: border-box;top: 2em;bottom: 0;left: 50%;}#sk-358a3b85-0bcf-43c1-8965-b53650722cda div.sk-serial {display: flex;flex-direction: column;align-items: center;background-color: white;padding-right: 0.2em;padding-left: 0.2em;}#sk-358a3b85-0bcf-43c1-8965-b53650722cda div.sk-item {z-index: 1;}#sk-358a3b85-0bcf-43c1-8965-b53650722cda div.sk-parallel {display: flex;align-items: stretch;justify-content: center;background-color: white;}#sk-358a3b85-0bcf-43c1-8965-b53650722cda div.sk-parallel::before {content: \"\";position: absolute;border-left: 1px solid gray;box-sizing: border-box;top: 2em;bottom: 0;left: 50%;}#sk-358a3b85-0bcf-43c1-8965-b53650722cda div.sk-parallel-item {display: flex;flex-direction: column;position: relative;background-color: white;}#sk-358a3b85-0bcf-43c1-8965-b53650722cda div.sk-parallel-item:first-child::after {align-self: flex-end;width: 50%;}#sk-358a3b85-0bcf-43c1-8965-b53650722cda div.sk-parallel-item:last-child::after {align-self: flex-start;width: 50%;}#sk-358a3b85-0bcf-43c1-8965-b53650722cda div.sk-parallel-item:only-child::after {width: 0;}#sk-358a3b85-0bcf-43c1-8965-b53650722cda div.sk-dashed-wrapped {border: 1px dashed gray;margin: 0 0.4em 0.5em 0.4em;box-sizing: border-box;padding-bottom: 0.4em;background-color: white;position: relative;}#sk-358a3b85-0bcf-43c1-8965-b53650722cda div.sk-label label {font-family: monospace;font-weight: bold;background-color: white;display: inline-block;line-height: 1.2em;}#sk-358a3b85-0bcf-43c1-8965-b53650722cda div.sk-label-container {position: relative;z-index: 2;text-align: center;}#sk-358a3b85-0bcf-43c1-8965-b53650722cda div.sk-container {/* jupyter's `normalize.less` sets `[hidden] { display: none; }` but bootstrap.min.css set `[hidden] { display: none !important; }` so we also need the `!important` here to be able to override the default hidden behavior on the sphinx rendered scikit-learn.org. See: https://github.com/scikit-learn/scikit-learn/issues/21755 */display: inline-block !important;position: relative;}#sk-358a3b85-0bcf-43c1-8965-b53650722cda div.sk-text-repr-fallback {display: none;}</style><div id=\"sk-358a3b85-0bcf-43c1-8965-b53650722cda\" class=\"sk-top-container\"><div class=\"sk-text-repr-fallback\"><pre>Pipeline(steps=[(&#x27;fu&#x27;,\n",
       "                 FeatureUnion(transformer_list=[(&#x27;LHS&#x27;,\n",
       "                                                 Pipeline(steps=[(&#x27;pipe_1&#x27;,\n",
       "                                                                  ColumnTransformer(transformers=[(&#x27;1&#x27;,\n",
       "                                                                                                   SimpleImputer(),\n",
       "                                                                                                   [0,\n",
       "                                                                                                    1]),\n",
       "                                                                                                  (&#x27;pass&#x27;,\n",
       "                                                                                                   &#x27;passthrough&#x27;,\n",
       "                                                                                                   [3,\n",
       "                                                                                                    4])])),\n",
       "                                                                 (&#x27;pipe_2&#x27;,\n",
       "                                                                  ColumnTransformer(transformers=[(&#x27;2&#x27;,\n",
       "                                                                                                   StandardScaler(),\n",
       "                                                                                                   [0,\n",
       "                                                                                                    1,\n",
       "                                                                                                    2,\n",
       "                                                                                                    3])]))])),\n",
       "                                                (&#x27;RHS&#x27;,\n",
       "                                                 Pipeline(steps=[(&#x27;pipe_3&#x27;,\n",
       "                                                                  ColumnTransformer(transformers=[(&#x27;3&#x27;,\n",
       "                                                                                                   OrdinalEncoder(),\n",
       "                                                                                                   [4])]))]))])),\n",
       "                (&#x27;vt&#x27;, VarianceThreshold(threshold=0.1))])</pre><b>Please rerun this cell to show the HTML repr or trust the notebook.</b></div><div class=\"sk-container\" hidden><div class=\"sk-item sk-dashed-wrapped\"><div class=\"sk-label-container\"><div class=\"sk-label sk-toggleable\"><input class=\"sk-toggleable__control sk-hidden--visually\" id=\"7e9dba26-de8e-4f1b-8d55-575d36f1006f\" type=\"checkbox\" ><label for=\"7e9dba26-de8e-4f1b-8d55-575d36f1006f\" class=\"sk-toggleable__label sk-toggleable__label-arrow\">Pipeline</label><div class=\"sk-toggleable__content\"><pre>Pipeline(steps=[(&#x27;fu&#x27;,\n",
       "                 FeatureUnion(transformer_list=[(&#x27;LHS&#x27;,\n",
       "                                                 Pipeline(steps=[(&#x27;pipe_1&#x27;,\n",
       "                                                                  ColumnTransformer(transformers=[(&#x27;1&#x27;,\n",
       "                                                                                                   SimpleImputer(),\n",
       "                                                                                                   [0,\n",
       "                                                                                                    1]),\n",
       "                                                                                                  (&#x27;pass&#x27;,\n",
       "                                                                                                   &#x27;passthrough&#x27;,\n",
       "                                                                                                   [3,\n",
       "                                                                                                    4])])),\n",
       "                                                                 (&#x27;pipe_2&#x27;,\n",
       "                                                                  ColumnTransformer(transformers=[(&#x27;2&#x27;,\n",
       "                                                                                                   StandardScaler(),\n",
       "                                                                                                   [0,\n",
       "                                                                                                    1,\n",
       "                                                                                                    2,\n",
       "                                                                                                    3])]))])),\n",
       "                                                (&#x27;RHS&#x27;,\n",
       "                                                 Pipeline(steps=[(&#x27;pipe_3&#x27;,\n",
       "                                                                  ColumnTransformer(transformers=[(&#x27;3&#x27;,\n",
       "                                                                                                   OrdinalEncoder(),\n",
       "                                                                                                   [4])]))]))])),\n",
       "                (&#x27;vt&#x27;, VarianceThreshold(threshold=0.1))])</pre></div></div></div><div class=\"sk-serial\"><div class=\"sk-item sk-dashed-wrapped\"><div class=\"sk-label-container\"><div class=\"sk-label sk-toggleable\"><input class=\"sk-toggleable__control sk-hidden--visually\" id=\"c38f9d0e-df64-4080-8b6e-8ae5043e2346\" type=\"checkbox\" ><label for=\"c38f9d0e-df64-4080-8b6e-8ae5043e2346\" class=\"sk-toggleable__label sk-toggleable__label-arrow\">fu: FeatureUnion</label><div class=\"sk-toggleable__content\"><pre>FeatureUnion(transformer_list=[(&#x27;LHS&#x27;,\n",
       "                                Pipeline(steps=[(&#x27;pipe_1&#x27;,\n",
       "                                                 ColumnTransformer(transformers=[(&#x27;1&#x27;,\n",
       "                                                                                  SimpleImputer(),\n",
       "                                                                                  [0,\n",
       "                                                                                   1]),\n",
       "                                                                                 (&#x27;pass&#x27;,\n",
       "                                                                                  &#x27;passthrough&#x27;,\n",
       "                                                                                  [3,\n",
       "                                                                                   4])])),\n",
       "                                                (&#x27;pipe_2&#x27;,\n",
       "                                                 ColumnTransformer(transformers=[(&#x27;2&#x27;,\n",
       "                                                                                  StandardScaler(),\n",
       "                                                                                  [0,\n",
       "                                                                                   1,\n",
       "                                                                                   2,\n",
       "                                                                                   3])]))])),\n",
       "                               (&#x27;RHS&#x27;,\n",
       "                                Pipeline(steps=[(&#x27;pipe_3&#x27;,\n",
       "                                                 ColumnTransformer(transformers=[(&#x27;3&#x27;,\n",
       "                                                                                  OrdinalEncoder(),\n",
       "                                                                                  [4])]))]))])</pre></div></div></div><div class=\"sk-parallel\"><div class=\"sk-parallel-item\"><div class=\"sk-item\"><div class=\"sk-label-container\"><div class=\"sk-label sk-toggleable\"><label>LHS</label></div></div><div class=\"sk-serial\"><div class=\"sk-item\"><div class=\"sk-serial\"><div class=\"sk-item sk-dashed-wrapped\"><div class=\"sk-label-container\"><div class=\"sk-label sk-toggleable\"><input class=\"sk-toggleable__control sk-hidden--visually\" id=\"1233d6df-863c-49f9-911e-c2ad25735eda\" type=\"checkbox\" ><label for=\"1233d6df-863c-49f9-911e-c2ad25735eda\" class=\"sk-toggleable__label sk-toggleable__label-arrow\">pipe_1: ColumnTransformer</label><div class=\"sk-toggleable__content\"><pre>ColumnTransformer(transformers=[(&#x27;1&#x27;, SimpleImputer(), [0, 1]),\n",
       "                                (&#x27;pass&#x27;, &#x27;passthrough&#x27;, [3, 4])])</pre></div></div></div><div class=\"sk-parallel\"><div class=\"sk-parallel-item\"><div class=\"sk-item\"><div class=\"sk-label-container\"><div class=\"sk-label sk-toggleable\"><input class=\"sk-toggleable__control sk-hidden--visually\" id=\"19399502-f453-4045-9f8a-93c7db16f4de\" type=\"checkbox\" ><label for=\"19399502-f453-4045-9f8a-93c7db16f4de\" class=\"sk-toggleable__label sk-toggleable__label-arrow\">1</label><div class=\"sk-toggleable__content\"><pre>[0, 1]</pre></div></div></div><div class=\"sk-serial\"><div class=\"sk-item\"><div class=\"sk-estimator sk-toggleable\"><input class=\"sk-toggleable__control sk-hidden--visually\" id=\"4ee5fcf1-29f5-46f4-b1ea-fffe2c648df3\" type=\"checkbox\" ><label for=\"4ee5fcf1-29f5-46f4-b1ea-fffe2c648df3\" class=\"sk-toggleable__label sk-toggleable__label-arrow\">SimpleImputer</label><div class=\"sk-toggleable__content\"><pre>SimpleImputer()</pre></div></div></div></div></div></div><div class=\"sk-parallel-item\"><div class=\"sk-item\"><div class=\"sk-label-container\"><div class=\"sk-label sk-toggleable\"><input class=\"sk-toggleable__control sk-hidden--visually\" id=\"e60e1fd3-b229-496f-8b82-d2f7f8997899\" type=\"checkbox\" ><label for=\"e60e1fd3-b229-496f-8b82-d2f7f8997899\" class=\"sk-toggleable__label sk-toggleable__label-arrow\">pass</label><div class=\"sk-toggleable__content\"><pre>[3, 4]</pre></div></div></div><div class=\"sk-serial\"><div class=\"sk-item\"><div class=\"sk-estimator sk-toggleable\"><input class=\"sk-toggleable__control sk-hidden--visually\" id=\"470f6285-70e9-419b-8b19-e4f7db0fa700\" type=\"checkbox\" ><label for=\"470f6285-70e9-419b-8b19-e4f7db0fa700\" class=\"sk-toggleable__label sk-toggleable__label-arrow\">passthrough</label><div class=\"sk-toggleable__content\"><pre>passthrough</pre></div></div></div></div></div></div></div></div><div class=\"sk-item sk-dashed-wrapped\"><div class=\"sk-label-container\"><div class=\"sk-label sk-toggleable\"><input class=\"sk-toggleable__control sk-hidden--visually\" id=\"75a11de7-a151-4228-8ea1-9d48bc7ec6a7\" type=\"checkbox\" ><label for=\"75a11de7-a151-4228-8ea1-9d48bc7ec6a7\" class=\"sk-toggleable__label sk-toggleable__label-arrow\">pipe_2: ColumnTransformer</label><div class=\"sk-toggleable__content\"><pre>ColumnTransformer(transformers=[(&#x27;2&#x27;, StandardScaler(), [0, 1, 2, 3])])</pre></div></div></div><div class=\"sk-parallel\"><div class=\"sk-parallel-item\"><div class=\"sk-item\"><div class=\"sk-label-container\"><div class=\"sk-label sk-toggleable\"><input class=\"sk-toggleable__control sk-hidden--visually\" id=\"c1463341-51fe-46fd-8350-b7814488961c\" type=\"checkbox\" ><label for=\"c1463341-51fe-46fd-8350-b7814488961c\" class=\"sk-toggleable__label sk-toggleable__label-arrow\">2</label><div class=\"sk-toggleable__content\"><pre>[0, 1, 2, 3]</pre></div></div></div><div class=\"sk-serial\"><div class=\"sk-item\"><div class=\"sk-estimator sk-toggleable\"><input class=\"sk-toggleable__control sk-hidden--visually\" id=\"7c6cc53c-ee54-4add-8341-07e567ebc3e7\" type=\"checkbox\" ><label for=\"7c6cc53c-ee54-4add-8341-07e567ebc3e7\" class=\"sk-toggleable__label sk-toggleable__label-arrow\">StandardScaler</label><div class=\"sk-toggleable__content\"><pre>StandardScaler()</pre></div></div></div></div></div></div></div></div></div></div></div></div></div><div class=\"sk-parallel-item\"><div class=\"sk-item\"><div class=\"sk-label-container\"><div class=\"sk-label sk-toggleable\"><label>RHS</label></div></div><div class=\"sk-serial\"><div class=\"sk-item\"><div class=\"sk-serial\"><div class=\"sk-item sk-dashed-wrapped\"><div class=\"sk-label-container\"><div class=\"sk-label sk-toggleable\"><input class=\"sk-toggleable__control sk-hidden--visually\" id=\"7deecbdb-c83c-4fc9-9b91-ab79cce349f7\" type=\"checkbox\" ><label for=\"7deecbdb-c83c-4fc9-9b91-ab79cce349f7\" class=\"sk-toggleable__label sk-toggleable__label-arrow\">pipe_3: ColumnTransformer</label><div class=\"sk-toggleable__content\"><pre>ColumnTransformer(transformers=[(&#x27;3&#x27;, OrdinalEncoder(), [4])])</pre></div></div></div><div class=\"sk-parallel\"><div class=\"sk-parallel-item\"><div class=\"sk-item\"><div class=\"sk-label-container\"><div class=\"sk-label sk-toggleable\"><input class=\"sk-toggleable__control sk-hidden--visually\" id=\"718eddd8-0be1-4931-a637-65838e2d5ea4\" type=\"checkbox\" ><label for=\"718eddd8-0be1-4931-a637-65838e2d5ea4\" class=\"sk-toggleable__label sk-toggleable__label-arrow\">3</label><div class=\"sk-toggleable__content\"><pre>[4]</pre></div></div></div><div class=\"sk-serial\"><div class=\"sk-item\"><div class=\"sk-estimator sk-toggleable\"><input class=\"sk-toggleable__control sk-hidden--visually\" id=\"a58050bd-1d1b-4b64-8985-dec63d688e52\" type=\"checkbox\" ><label for=\"a58050bd-1d1b-4b64-8985-dec63d688e52\" class=\"sk-toggleable__label sk-toggleable__label-arrow\">OrdinalEncoder</label><div class=\"sk-toggleable__content\"><pre>OrdinalEncoder()</pre></div></div></div></div></div></div></div></div></div></div></div></div></div></div></div><div class=\"sk-item\"><div class=\"sk-estimator sk-toggleable\"><input class=\"sk-toggleable__control sk-hidden--visually\" id=\"74e68226-e275-485a-bdd2-79f507c556f9\" type=\"checkbox\" ><label for=\"74e68226-e275-485a-bdd2-79f507c556f9\" class=\"sk-toggleable__label sk-toggleable__label-arrow\">VarianceThreshold</label><div class=\"sk-toggleable__content\"><pre>VarianceThreshold(threshold=0.1)</pre></div></div></div></div></div></div></div>"
      ],
      "text/plain": [
       "Pipeline(steps=[('fu',\n",
       "                 FeatureUnion(transformer_list=[('LHS',\n",
       "                                                 Pipeline(steps=[('pipe_1',\n",
       "                                                                  ColumnTransformer(transformers=[('1',\n",
       "                                                                                                   SimpleImputer(),\n",
       "                                                                                                   [0,\n",
       "                                                                                                    1]),\n",
       "                                                                                                  ('pass',\n",
       "                                                                                                   'passthrough',\n",
       "                                                                                                   [3,\n",
       "                                                                                                    4])])),\n",
       "                                                                 ('pipe_2',\n",
       "                                                                  ColumnTransformer(transformers=[('2',\n",
       "                                                                                                   StandardScaler(),\n",
       "                                                                                                   [0,\n",
       "                                                                                                    1,\n",
       "                                                                                                    2,\n",
       "                                                                                                    3])]))])),\n",
       "                                                ('RHS',\n",
       "                                                 Pipeline(steps=[('pipe_3',\n",
       "                                                                  ColumnTransformer(transformers=[('3',\n",
       "                                                                                                   OrdinalEncoder(),\n",
       "                                                                                                   [4])]))]))])),\n",
       "                ('vt', VarianceThreshold(threshold=0.1))])"
      ]
     },
     "execution_count": 19,
     "metadata": {},
     "output_type": "execute_result"
    }
   ],
   "source": [
    "vt = VarianceThreshold(threshold=0.1)\n",
    "\n",
    "from sklearn import set_config\n",
    "set_config(display='diagram')\n",
    "Final = Pipeline([('fu', fu), ('vt', vt)])\n",
    "Final"
   ]
  },
  {
   "cell_type": "code",
   "execution_count": 20,
   "id": "945a6601",
   "metadata": {
    "scrolled": true
   },
   "outputs": [],
   "source": [
    "X = Final.fit_transform(assignment)"
   ]
  },
  {
   "cell_type": "code",
   "execution_count": 21,
   "id": "7df718d6",
   "metadata": {},
   "outputs": [
    {
     "data": {
      "text/plain": [
       "array([[-0.92592391,  7.693368  ,  2.61563344],\n",
       "       [-1.17288098,  1.30699569, -0.2578809 ],\n",
       "       [-1.17288098, -0.93686485,  0.02947053],\n",
       "       ...,\n",
       "       [ 1.66712527, -0.41905088,  1.13782607],\n",
       "       [ 3.64278178, -0.76426019,  0.19367135],\n",
       "       [ 7.71757335, -0.76426019,  1.54832812]])"
      ]
     },
     "execution_count": 21,
     "metadata": {},
     "output_type": "execute_result"
    }
   ],
   "source": [
    "X"
   ]
  },
  {
   "cell_type": "markdown",
   "id": "91e834ed",
   "metadata": {},
   "source": [
    "#### Q.2"
   ]
  },
  {
   "cell_type": "code",
   "execution_count": 22,
   "id": "3fe084f7",
   "metadata": {
    "scrolled": true
   },
   "outputs": [
    {
     "data": {
      "text/plain": [
       "array([[-0.92592391,  7.693368  ,  2.61563344,  0.        ,  0.        ],\n",
       "       [-1.17288098,  1.30699569, -0.2578809 ,  0.        ,  0.        ],\n",
       "       [-1.17288098, -0.93686485,  0.02947053,  0.        ,  0.        ],\n",
       "       ...,\n",
       "       [ 1.66712527, -0.41905088,  1.13782607,  0.        ,  0.        ],\n",
       "       [ 3.64278178, -0.76426019,  0.19367135,  0.        ,  0.        ],\n",
       "       [ 7.71757335, -0.76426019,  1.54832812,  0.        ,  0.        ]])"
      ]
     },
     "execution_count": 22,
     "metadata": {},
     "output_type": "execute_result"
    }
   ],
   "source": [
    "fu.fit_transform(assignment)"
   ]
  },
  {
   "cell_type": "code",
   "execution_count": 23,
   "id": "b5f4db26",
   "metadata": {},
   "outputs": [
    {
     "data": {
      "text/plain": [
       "array(['YES', 'NO'], dtype=object)"
      ]
     },
     "execution_count": 23,
     "metadata": {},
     "output_type": "execute_result"
    }
   ],
   "source": [
    "# Calculating labels\n",
    "labels.unique()"
   ]
  },
  {
   "cell_type": "code",
   "execution_count": 24,
   "id": "9934945a",
   "metadata": {},
   "outputs": [
    {
     "name": "stdout",
     "output_type": "stream",
     "text": [
      "(748, 3) (748, 1)\n"
     ]
    }
   ],
   "source": [
    "from sklearn.preprocessing import OrdinalEncoder\n",
    "oe = OrdinalEncoder()\n",
    "y = oe.fit_transform(np.array(labels).reshape(-1,1))\n",
    "print(X.shape, y.shape)"
   ]
  },
  {
   "cell_type": "code",
   "execution_count": 25,
   "id": "a695debc",
   "metadata": {},
   "outputs": [
    {
     "name": "stdout",
     "output_type": "stream",
     "text": [
      "[ True  True False]\n",
      "Rank of each feature are [1 1 2]\n"
     ]
    }
   ],
   "source": [
    "from sklearn.feature_selection import RFE\n",
    "from sklearn.linear_model import LinearRegression\n",
    "\n",
    "estimator = LinearRegression()\n",
    "selector = RFE(estimator, n_features_to_select=2, step=1)\n",
    "selector = selector.fit(X, y)\n",
    "\n",
    "print(selector.support_)  # True indicates selected columns\n",
    "\n",
    "print(f\"Rank of each feature are {selector.ranking_}\") # rank 1 assigned to only selected features."
   ]
  },
  {
   "cell_type": "code",
   "execution_count": 26,
   "id": "78d4904d",
   "metadata": {},
   "outputs": [
    {
     "name": "stdout",
     "output_type": "stream",
     "text": [
      "Wall time: 33.4 ms\n"
     ]
    },
    {
     "data": {
      "text/plain": [
       "(748, 2)"
      ]
     },
     "execution_count": 26,
     "metadata": {},
     "output_type": "execute_result"
    }
   ],
   "source": [
    "%%time\n",
    "\n",
    "#Forward sequence selector\n",
    "from sklearn.feature_selection import SequentialFeatureSelector\n",
    "from sklearn.linear_model import LinearRegression\n",
    "\n",
    "estimator = LinearRegression()\n",
    "\n",
    "sfs = SequentialFeatureSelector(estimator, n_features_to_select=2)\n",
    "X_new = sfs.fit_transform(X, y)\n",
    "X_new.shape"
   ]
  },
  {
   "cell_type": "code",
   "execution_count": 27,
   "id": "8ecf4eef",
   "metadata": {},
   "outputs": [
    {
     "data": {
      "text/plain": [
       "array(['x0', 'x1'], dtype=object)"
      ]
     },
     "execution_count": 27,
     "metadata": {},
     "output_type": "execute_result"
    }
   ],
   "source": [
    "sfs.get_feature_names_out()"
   ]
  },
  {
   "cell_type": "code",
   "execution_count": 28,
   "id": "0215d1b6",
   "metadata": {},
   "outputs": [
    {
     "name": "stdout",
     "output_type": "stream",
     "text": [
      "Wall time: 14.8 ms\n"
     ]
    },
    {
     "data": {
      "text/plain": [
       "(748, 2)"
      ]
     },
     "execution_count": 28,
     "metadata": {},
     "output_type": "execute_result"
    }
   ],
   "source": [
    "%%time\n",
    "\n",
    "#Backward sequence selector - depends on n_features_to_select.\n",
    "from sklearn.feature_selection import SequentialFeatureSelector\n",
    "from sklearn.linear_model import LinearRegression\n",
    "\n",
    "estimator = LinearRegression()\n",
    "\n",
    "sfs = SequentialFeatureSelector(estimator, n_features_to_select=2, direction='backward')\n",
    "X_new = sfs.fit_transform(X, y)\n",
    "X_new.shape"
   ]
  },
  {
   "cell_type": "code",
   "execution_count": 29,
   "id": "1def2833",
   "metadata": {
    "scrolled": true
   },
   "outputs": [
    {
     "data": {
      "text/plain": [
       "array(['x0', 'x1'], dtype=object)"
      ]
     },
     "execution_count": 29,
     "metadata": {},
     "output_type": "execute_result"
    }
   ],
   "source": [
    "sfs.get_feature_names_out()"
   ]
  }
 ],
 "metadata": {
  "kernelspec": {
   "display_name": "Python 3 (ipykernel)",
   "language": "python",
   "name": "python3"
  },
  "language_info": {
   "codemirror_mode": {
    "name": "ipython",
    "version": 3
   },
   "file_extension": ".py",
   "mimetype": "text/x-python",
   "name": "python",
   "nbconvert_exporter": "python",
   "pygments_lexer": "ipython3",
   "version": "3.9.7"
  }
 },
 "nbformat": 4,
 "nbformat_minor": 5
}
