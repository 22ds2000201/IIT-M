{
 "cells": [
  {
   "cell_type": "markdown",
   "id": "59fd2f11",
   "metadata": {},
   "source": [
    "### Practice"
   ]
  },
  {
   "cell_type": "markdown",
   "id": "2017fa50",
   "metadata": {},
   "source": [
    "#### Q1"
   ]
  },
  {
   "cell_type": "code",
   "execution_count": 1,
   "id": "7c9e99a0",
   "metadata": {},
   "outputs": [],
   "source": [
    "import numpy as np\n",
    "import pandas as pd\n",
    "from sklearn.metrics import explained_variance_score"
   ]
  },
  {
   "cell_type": "code",
   "execution_count": 2,
   "id": "faff44a8",
   "metadata": {},
   "outputs": [
    {
     "data": {
      "text/plain": [
       "0.7777777777777778"
      ]
     },
     "execution_count": 2,
     "metadata": {},
     "output_type": "execute_result"
    }
   ],
   "source": [
    "explained_variance_score([7, 4, 9, 4], [8, 7, 12, 5])"
   ]
  },
  {
   "cell_type": "markdown",
   "id": "fc55f5a1",
   "metadata": {},
   "source": [
    "#### Q2"
   ]
  },
  {
   "cell_type": "code",
   "execution_count": 3,
   "id": "706712e8",
   "metadata": {},
   "outputs": [],
   "source": [
    "from sklearn.datasets import fetch_california_housing\n",
    "from sklearn.model_selection import train_test_split\n",
    "from sklearn.preprocessing import StandardScaler\n",
    "\n",
    "X, y = fetch_california_housing(as_frame=True, return_X_y=True)\n",
    "X_train, X_test, y_train, y_test = train_test_split(X, y, test_size=0.3, random_state=1)\n",
    "ss = StandardScaler(with_mean=True, with_std=True)\n",
    "X_train_norm = ss.fit_transform(X_train)\n",
    "X_test_norm = ss.transform(X_test)"
   ]
  },
  {
   "cell_type": "code",
   "execution_count": 4,
   "id": "6cef6188",
   "metadata": {},
   "outputs": [
    {
     "data": {
      "text/plain": [
       "0.5996851134711898"
      ]
     },
     "execution_count": 4,
     "metadata": {},
     "output_type": "execute_result"
    }
   ],
   "source": [
    "from sklearn.linear_model import SGDRegressor\n",
    "\n",
    "sgd = SGDRegressor(loss='squared_error', penalty='l1', random_state=1)\n",
    "sgd.fit(X_train_norm, y_train)\n",
    "sgd.score(X_test_norm, y_test)"
   ]
  },
  {
   "cell_type": "markdown",
   "id": "1f38a440",
   "metadata": {},
   "source": [
    "#### Alternatively, using a pipeline"
   ]
  },
  {
   "cell_type": "code",
   "execution_count": 5,
   "id": "c7bd49f2",
   "metadata": {},
   "outputs": [
    {
     "data": {
      "text/plain": [
       "0.5996851134711898"
      ]
     },
     "execution_count": 5,
     "metadata": {},
     "output_type": "execute_result"
    }
   ],
   "source": [
    "from sklearn.datasets import fetch_california_housing\n",
    "from sklearn.model_selection import train_test_split\n",
    "from sklearn.preprocessing import StandardScaler\n",
    "from sklearn.linear_model import SGDRegressor\n",
    "from sklearn.pipeline import Pipeline\n",
    "\n",
    "X, y = fetch_california_housing(as_frame=True, return_X_y=True)\n",
    "X_train, X_test, y_train, y_test = train_test_split(X, y, test_size=0.3, random_state=1)\n",
    "sgd_grid_pipeline = Pipeline([('feature_scaling', StandardScaler(with_mean=True, with_std=True)),\n",
    "                        ('sgd', SGDRegressor(loss='squared_error', penalty='l1', random_state=1))])\n",
    "\n",
    "sgd_grid_pipeline.fit(X_train, y_train)\n",
    "sgd_grid_pipeline.score(X_test, y_test)"
   ]
  },
  {
   "cell_type": "markdown",
   "id": "513b003e",
   "metadata": {},
   "source": [
    "### Graded"
   ]
  },
  {
   "cell_type": "markdown",
   "id": "39d8da9a",
   "metadata": {},
   "source": [
    "#### Q1"
   ]
  },
  {
   "cell_type": "code",
   "execution_count": 6,
   "id": "f468570a",
   "metadata": {},
   "outputs": [
    {
     "data": {
      "text/plain": [
       "[[3, 4], [1, 2], [1, 2], [3, 4]]"
      ]
     },
     "execution_count": 6,
     "metadata": {},
     "output_type": "execute_result"
    }
   ],
   "source": [
    "X = [[1, 2], [3, 4], [1, 2], [3, 4]]\n",
    "np.random.seed(1)\n",
    "np.random.shuffle(X)\n",
    "np.random.shuffle(X)\n",
    "X"
   ]
  },
  {
   "cell_type": "markdown",
   "id": "a559e12d",
   "metadata": {},
   "source": [
    "#### Q2"
   ]
  },
  {
   "cell_type": "code",
   "execution_count": 7,
   "id": "0736070b",
   "metadata": {},
   "outputs": [],
   "source": [
    "from sklearn.datasets import fetch_california_housing\n",
    "from sklearn.model_selection import train_test_split\n",
    "from sklearn.preprocessing import StandardScaler\n",
    "\n",
    "X, y = fetch_california_housing(as_frame=True, return_X_y=True)\n",
    "X_train, X_test, y_train, y_test = train_test_split(X, y, test_size=0.3, random_state=1)"
   ]
  },
  {
   "cell_type": "code",
   "execution_count": 8,
   "id": "c51af7dd",
   "metadata": {},
   "outputs": [],
   "source": [
    "from sklearn.linear_model import SGDRegressor\n",
    "from sklearn.model_selection import GridSearchCV\n",
    "from sklearn.pipeline import Pipeline"
   ]
  },
  {
   "cell_type": "code",
   "execution_count": 9,
   "id": "a98f172c",
   "metadata": {},
   "outputs": [
    {
     "data": {
      "text/plain": [
       "dict_keys(['alpha', 'average', 'early_stopping', 'epsilon', 'eta0', 'fit_intercept', 'l1_ratio', 'learning_rate', 'loss', 'max_iter', 'n_iter_no_change', 'penalty', 'power_t', 'random_state', 'shuffle', 'tol', 'validation_fraction', 'verbose', 'warm_start'])"
      ]
     },
     "execution_count": 9,
     "metadata": {},
     "output_type": "execute_result"
    }
   ],
   "source": [
    "sgd_grid_pipeline = Pipeline([('feature_scaling', StandardScaler(with_mean=True, with_std=True)),\n",
    "                        ('sgd', SGDRegressor(random_state=1))])\n",
    "\n",
    "param_grid = {'sgd__loss': ['squared_error', 'huber'],\n",
    "             'sgd__penalty': ['l1', 'l2'],\n",
    "             'sgd__alpha': [0.1, 0.01, 0.001],\n",
    "             'sgd__max_iter': [1000,2000,5000]}\n",
    "\n",
    "sgd.get_params().keys()"
   ]
  },
  {
   "cell_type": "code",
   "execution_count": 10,
   "id": "b147a000",
   "metadata": {},
   "outputs": [],
   "source": [
    "sgd_grid_search = GridSearchCV(sgd_grid_pipeline, param_grid=param_grid, cv=4, scoring='neg_mean_absolute_error', return_train_score=True)"
   ]
  },
  {
   "cell_type": "code",
   "execution_count": 11,
   "id": "7174ae96",
   "metadata": {},
   "outputs": [
    {
     "data": {
      "text/plain": [
       "31"
      ]
     },
     "execution_count": 11,
     "metadata": {},
     "output_type": "execute_result"
    }
   ],
   "source": [
    "sgd_grid_search.fit(X_train, y_train)\n",
    "sgd_grid_search.best_index_"
   ]
  },
  {
   "cell_type": "code",
   "execution_count": 12,
   "id": "d7db44a1",
   "metadata": {},
   "outputs": [
    {
     "data": {
      "text/plain": [
       "-0.5377906495811515"
      ]
     },
     "execution_count": 12,
     "metadata": {},
     "output_type": "execute_result"
    }
   ],
   "source": [
    "sgd_grid_search.cv_results_['mean_test_score'][sgd_grid_search.best_index_]"
   ]
  },
  {
   "cell_type": "code",
   "execution_count": 13,
   "id": "2d99e8e1",
   "metadata": {},
   "outputs": [
    {
     "name": "stdout",
     "output_type": "stream",
     "text": [
      "Best value of hyper-parameters is {'sgd__alpha': 0.001, 'sgd__loss': 'huber', 'sgd__max_iter': 1000, 'sgd__penalty': 'l2'}\n"
     ]
    }
   ],
   "source": [
    "print(f\"Best value of hyper-parameters is {sgd_grid_search.best_params_}\")"
   ]
  },
  {
   "cell_type": "markdown",
   "id": "a26bc513",
   "metadata": {},
   "source": [
    "#### Q3"
   ]
  },
  {
   "cell_type": "code",
   "execution_count": 14,
   "id": "7922395e",
   "metadata": {},
   "outputs": [],
   "source": [
    "from sklearn.datasets import fetch_california_housing\n",
    "from sklearn.model_selection import train_test_split\n",
    "from sklearn.preprocessing import StandardScaler\n",
    "\n",
    "X, y = fetch_california_housing(as_frame=True, return_X_y=True)\n",
    "X_train, X_test, y_train, y_test = train_test_split(X, y, test_size=0.3, random_state=1)"
   ]
  },
  {
   "cell_type": "code",
   "execution_count": 15,
   "id": "bd52a35b",
   "metadata": {},
   "outputs": [],
   "source": [
    "from sklearn.linear_model import Ridge\n",
    "from sklearn.model_selection import GridSearchCV\n",
    "from sklearn.pipeline import Pipeline"
   ]
  },
  {
   "cell_type": "code",
   "execution_count": 16,
   "id": "9272bb4c",
   "metadata": {},
   "outputs": [],
   "source": [
    "ridge_grid_pipeline = Pipeline([('feature_scaling', StandardScaler(with_mean=True, with_std=True)),\n",
    "                        ('ridge', Ridge())])\n",
    "\n",
    "param_grid = {'ridge__alpha': [0.5,0.1,0.05,0.01,0.005,0.001]}"
   ]
  },
  {
   "cell_type": "code",
   "execution_count": 17,
   "id": "c4685f23",
   "metadata": {},
   "outputs": [],
   "source": [
    "ridge_grid_search = GridSearchCV(ridge_grid_pipeline, param_grid=param_grid, cv=4, scoring='neg_mean_absolute_error', return_train_score=True)"
   ]
  },
  {
   "cell_type": "code",
   "execution_count": 18,
   "id": "df29f859",
   "metadata": {},
   "outputs": [
    {
     "data": {
      "text/plain": [
       "0"
      ]
     },
     "execution_count": 18,
     "metadata": {},
     "output_type": "execute_result"
    }
   ],
   "source": [
    "ridge_grid_search.fit(X_train, y_train)\n",
    "ridge_grid_search.best_index_"
   ]
  },
  {
   "cell_type": "code",
   "execution_count": 19,
   "id": "ab21ef15",
   "metadata": {},
   "outputs": [
    {
     "data": {
      "text/plain": [
       "-0.531706237021487"
      ]
     },
     "execution_count": 19,
     "metadata": {},
     "output_type": "execute_result"
    }
   ],
   "source": [
    "ridge_grid_search.cv_results_['mean_test_score'][ridge_grid_search.best_index_]"
   ]
  },
  {
   "cell_type": "code",
   "execution_count": 20,
   "id": "27310156",
   "metadata": {},
   "outputs": [
    {
     "name": "stdout",
     "output_type": "stream",
     "text": [
      "Best value of hyper-parameters is {'ridge__alpha': 0.5}\n"
     ]
    }
   ],
   "source": [
    "print(f\"Best value of hyper-parameters is {ridge_grid_search.best_params_}\")"
   ]
  },
  {
   "cell_type": "markdown",
   "id": "1506532b",
   "metadata": {},
   "source": [
    "#### Q4"
   ]
  },
  {
   "cell_type": "code",
   "execution_count": 21,
   "id": "2ae438d6",
   "metadata": {},
   "outputs": [],
   "source": [
    "from sklearn.datasets import fetch_california_housing\n",
    "from sklearn.model_selection import train_test_split\n",
    "from sklearn.preprocessing import StandardScaler\n",
    "\n",
    "X, y = fetch_california_housing(as_frame=True, return_X_y=True)\n",
    "X_train, X_test, y_train, y_test = train_test_split(X, y, test_size=0.4, random_state=1)"
   ]
  },
  {
   "cell_type": "code",
   "execution_count": 22,
   "id": "a7dd6d07",
   "metadata": {},
   "outputs": [],
   "source": [
    "from sklearn.linear_model import Lasso\n",
    "from sklearn.model_selection import GridSearchCV\n",
    "from sklearn.pipeline import Pipeline"
   ]
  },
  {
   "cell_type": "code",
   "execution_count": 23,
   "id": "1924fc81",
   "metadata": {},
   "outputs": [],
   "source": [
    "lasso_grid_pipeline = Pipeline([('feature_scaling', StandardScaler(with_mean=True, with_std=True)),\n",
    "                        ('lasso', Lasso())])\n",
    "\n",
    "param_grid = {'lasso__alpha': [0.5,0.1,0.05,0.01,0.005,0.001],\n",
    "             'lasso__fit_intercept': [True, False]}"
   ]
  },
  {
   "cell_type": "code",
   "execution_count": 24,
   "id": "900fcf60",
   "metadata": {},
   "outputs": [],
   "source": [
    "lasso_grid_search = GridSearchCV(lasso_grid_pipeline, param_grid=param_grid, cv=6, scoring='neg_mean_absolute_error', return_train_score=True)"
   ]
  },
  {
   "cell_type": "code",
   "execution_count": 25,
   "id": "db8a162e",
   "metadata": {},
   "outputs": [
    {
     "data": {
      "text/plain": [
       "10"
      ]
     },
     "execution_count": 25,
     "metadata": {},
     "output_type": "execute_result"
    }
   ],
   "source": [
    "lasso_grid_search.fit(X_train, y_train)\n",
    "lasso_grid_search.best_index_"
   ]
  },
  {
   "cell_type": "code",
   "execution_count": 26,
   "id": "1bd5fbf4",
   "metadata": {},
   "outputs": [
    {
     "data": {
      "text/plain": [
       "-0.5336947321320945"
      ]
     },
     "execution_count": 26,
     "metadata": {},
     "output_type": "execute_result"
    }
   ],
   "source": [
    "lasso_grid_search.cv_results_['mean_test_score'][lasso_grid_search.best_index_]"
   ]
  },
  {
   "cell_type": "code",
   "execution_count": 27,
   "id": "00e11d14",
   "metadata": {},
   "outputs": [
    {
     "name": "stdout",
     "output_type": "stream",
     "text": [
      "Best value of hyper-parameters is {'lasso__alpha': 0.001, 'lasso__fit_intercept': True}\n"
     ]
    }
   ],
   "source": [
    "print(f\"Best value of hyper-parameters is {lasso_grid_search.best_params_}\")"
   ]
  }
 ],
 "metadata": {
  "kernelspec": {
   "display_name": "Python 3 (ipykernel)",
   "language": "python",
   "name": "python3"
  },
  "language_info": {
   "codemirror_mode": {
    "name": "ipython",
    "version": 3
   },
   "file_extension": ".py",
   "mimetype": "text/x-python",
   "name": "python",
   "nbconvert_exporter": "python",
   "pygments_lexer": "ipython3",
   "version": "3.9.7"
  }
 },
 "nbformat": 4,
 "nbformat_minor": 5
}
