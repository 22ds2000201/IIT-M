{
 "cells": [
  {
   "cell_type": "code",
   "execution_count": 1,
   "metadata": {},
   "outputs": [
    {
     "name": "stderr",
     "output_type": "stream",
     "text": [
      "D:\\Anaconda3\\lib\\site-packages\\statsmodels\\tools\\_testing.py:19: FutureWarning: pandas.util.testing is deprecated. Use the functions in the public API at pandas.testing instead.\n",
      "  import pandas.util.testing as tm\n"
     ]
    }
   ],
   "source": [
    "import numpy as np\n",
    "import seaborn as sns\n",
    "import matplotlib.pyplot as plt"
   ]
  },
  {
   "cell_type": "markdown",
   "metadata": {},
   "source": [
    "### Training Data"
   ]
  },
  {
   "cell_type": "code",
   "execution_count": 2,
   "metadata": {},
   "outputs": [],
   "source": [
    "#Parameters\n",
    "w0 = 3\n",
    "w1 = 4\n",
    "n = 100"
   ]
  },
  {
   "cell_type": "code",
   "execution_count": 3,
   "metadata": {},
   "outputs": [
    {
     "data": {
      "text/plain": [
       "array([5.47005597, 8.70700536, 1.23223853, 6.74885051, 5.13392865,\n",
       "       6.1026273 , 4.25211526, 2.24658331, 8.40770468, 7.5486374 ,\n",
       "       9.70026933, 9.21107694, 2.37891294, 4.86193759, 1.1861059 ,\n",
       "       0.43405698, 1.47253373, 0.84322442, 1.10689886, 9.11224393,\n",
       "       6.89798895, 3.32765364, 9.12105894, 2.55320184, 6.36949904,\n",
       "       4.10079435, 3.44813614, 4.1932196 , 8.72566026, 3.12607567,\n",
       "       2.77157096, 1.3567354 , 2.79718474, 9.91448514, 2.38808185,\n",
       "       7.38811919, 9.9035763 , 6.64674006, 4.34291753, 2.4762814 ,\n",
       "       9.84350231, 2.38740227, 8.83871928, 4.49213607, 1.04372675,\n",
       "       0.08814863, 5.62602903, 5.63873768, 5.01905805, 1.00700839,\n",
       "       7.48599548, 5.40289046, 6.93324   , 5.12331042, 4.21074183,\n",
       "       3.18714199, 3.39980187, 2.55302899, 7.18442576, 7.51468531,\n",
       "       9.26904734, 5.38629437, 3.33667568, 7.38247111, 3.08000836,\n",
       "       8.02074178, 6.83115598, 5.84174915, 3.64323854, 0.60440709,\n",
       "       0.69999117, 1.44203292, 5.63691373, 5.96059367, 7.10124107,\n",
       "       5.49465612, 6.90523853, 2.68340777, 1.46849124, 9.82477496,\n",
       "       4.2897667 , 4.40691596, 1.79696922, 6.63805384, 8.71117527,\n",
       "       9.15118176, 3.02834311, 1.00849674, 9.48327447, 9.17670304,\n",
       "       2.20115498, 7.10781745, 8.13435475, 8.81370464, 9.95433568,\n",
       "       2.94474184, 7.22461042, 2.32401352, 6.07761933, 0.0311903 ])"
      ]
     },
     "execution_count": 3,
     "metadata": {},
     "output_type": "execute_result"
    }
   ],
   "source": [
    "#Creates a column vector with 100 rows.\n",
    "X = 10 * np.random.random(n, )\n",
    "X"
   ]
  },
  {
   "cell_type": "code",
   "execution_count": 4,
   "metadata": {},
   "outputs": [
    {
     "data": {
      "text/plain": [
       "array([25.60276774, 38.02322436,  8.87142989, 30.60879994, 23.71587875,\n",
       "       27.50678239, 20.41247886, 12.93192868, 37.29746897, 33.8489297 ,\n",
       "       42.74778101, 40.46075193, 12.84493566, 22.97274567,  8.73778869,\n",
       "        5.7176556 ,  9.23116393,  6.87470237,  7.84004525, 40.24535474,\n",
       "       30.72238737, 17.02733727, 40.06299275, 13.79956226, 28.86989075,\n",
       "       19.6076982 , 16.90715189, 20.16345342, 38.57157048, 16.02530415,\n",
       "       14.29566309,  8.82842253, 14.79470093, 43.42340824, 13.24103794,\n",
       "       32.7792003 , 43.45302129, 30.19755271, 21.00681996, 13.80367666,\n",
       "       43.23982319, 13.15364793, 38.87339277, 21.45829532,  7.17546017,\n",
       "        3.97906101, 25.64075381, 26.17570487, 24.00128213,  7.64132104,\n",
       "       33.6152374 , 25.21962781, 30.81191549, 24.48836426, 20.58134633,\n",
       "       16.1591421 , 17.00988781, 13.70697562, 31.75555687, 34.00265581,\n",
       "       40.37644032, 24.81635933, 17.02154682, 33.52172093, 15.81428802,\n",
       "       35.2419826 , 30.5406738 , 27.16872753, 17.87047276,  5.45435382,\n",
       "        6.44200195,  9.36913791, 25.99173447, 27.47464269, 32.32520204,\n",
       "       25.26324748, 30.74500564, 14.04078106,  9.00545185, 43.02273565,\n",
       "       20.46676486, 20.83945552, 10.7322118 , 29.71187037, 38.21905633,\n",
       "       39.62409002, 15.50767904,  7.41700611, 41.54195262, 40.4960814 ,\n",
       "       12.7460885 , 31.80704513, 36.33349316, 39.20053814, 43.79890786,\n",
       "       15.36434193, 32.66750358, 12.44409695, 27.5911637 ,  3.99051972])"
      ]
     },
     "execution_count": 4,
     "metadata": {},
     "output_type": "execute_result"
    }
   ],
   "source": [
    "y = w0 + w1 * X + np.random.random(n,)\n",
    "y"
   ]
  },
  {
   "cell_type": "code",
   "execution_count": 5,
   "metadata": {},
   "outputs": [
    {
     "name": "stdout",
     "output_type": "stream",
     "text": [
      "Shape of feature matrix(X) is (100,)\n",
      "Shape of labels(y) is (100,)\n"
     ]
    }
   ],
   "source": [
    "print(f'Shape of feature matrix(X) is {X.shape}')\n",
    "print(f'Shape of labels(y) is {y.shape}')"
   ]
  },
  {
   "cell_type": "code",
   "execution_count": 6,
   "metadata": {},
   "outputs": [],
   "source": [
    "from sklearn.model_selection import train_test_split\n",
    "#42 is the seed, and allows same split to occur everytime the function is executed.\n",
    "X_train, X_test, y_train, y_test = train_test_split(X, y, test_size=0.2, random_state=42) "
   ]
  },
  {
   "cell_type": "code",
   "execution_count": 7,
   "metadata": {},
   "outputs": [
    {
     "name": "stdout",
     "output_type": "stream",
     "text": [
      "80% of examples is assigned to feature training set\n",
      "\n",
      "[3.18714199 9.48327447 3.44813614 8.83871928 0.60440709 0.43405698\n",
      " 9.84350231 7.22461042 7.5486374  5.63691373 9.21107694 5.63873768\n",
      " 9.15118176 8.72566026 8.81370464 6.1026273  6.83115598 8.02074178\n",
      " 7.38811919 1.47253373 1.00700839 2.38808185 2.24658331 2.94474184\n",
      " 4.1932196  9.11224393 4.40691596 4.10079435 3.33667568 4.86193759\n",
      " 6.36949904 6.74885051 0.84322442 4.34291753 8.40770468 1.46849124\n",
      " 4.25211526 3.08000836 9.9035763  9.17670304 3.39980187 0.0311903\n",
      " 4.21074183 4.49213607 7.48599548 5.84174915 5.62602903 3.64323854\n",
      " 5.38629437 2.32401352 9.82477496 2.38740227 7.18442576 5.01905805\n",
      " 6.07761933 2.55302899 5.49465612 2.79718474 9.95433568 7.51468531\n",
      " 7.38247111 8.71117527 6.64674006 3.12607567 8.70700536 6.93324\n",
      " 3.32765364 1.23223853 2.55320184 1.00849674 7.10781745 7.10124107\n",
      " 3.02834311 1.79696922 6.89798895 9.26904734 1.44203292 1.1861059\n",
      " 8.13435475 5.40289046]\n"
     ]
    }
   ],
   "source": [
    "print(f\"{int(100 * len(X_train)/len(X))}% of examples is assigned to feature training set\\n\")\n",
    "\n",
    "print(X_train)"
   ]
  },
  {
   "cell_type": "code",
   "execution_count": 8,
   "metadata": {},
   "outputs": [
    {
     "name": "stdout",
     "output_type": "stream",
     "text": [
      "20% of examples is assigned to feature test set\n",
      "\n"
     ]
    },
    {
     "data": {
      "text/plain": [
       "array([6.63805384, 5.12331042, 0.69999117, 0.08814863, 1.04372675,\n",
       "       2.4762814 , 9.12105894, 4.2897667 , 9.70026933, 5.47005597,\n",
       "       1.10689886, 2.77157096, 5.96059367, 9.91448514, 2.20115498,\n",
       "       5.13392865, 6.90523853, 2.68340777, 2.37891294, 1.3567354 ])"
      ]
     },
     "execution_count": 8,
     "metadata": {},
     "output_type": "execute_result"
    }
   ],
   "source": [
    "print(f\"{int(100 * len(X_test)/len(X))}% of examples is assigned to feature test set\\n\")\n",
    "\n",
    "X_test"
   ]
  },
  {
   "cell_type": "code",
   "execution_count": 9,
   "metadata": {},
   "outputs": [
    {
     "name": "stdout",
     "output_type": "stream",
     "text": [
      "80% of labels is assigned to label training set\n",
      "\n"
     ]
    },
    {
     "data": {
      "text/plain": [
       "array([16.1591421 , 41.54195262, 16.90715189, 38.87339277,  5.45435382,\n",
       "        5.7176556 , 43.23982319, 32.66750358, 33.8489297 , 25.99173447,\n",
       "       40.46075193, 26.17570487, 39.62409002, 38.57157048, 39.20053814,\n",
       "       27.50678239, 30.5406738 , 35.2419826 , 32.7792003 ,  9.23116393,\n",
       "        7.64132104, 13.24103794, 12.93192868, 15.36434193, 20.16345342,\n",
       "       40.24535474, 20.83945552, 19.6076982 , 17.02154682, 22.97274567,\n",
       "       28.86989075, 30.60879994,  6.87470237, 21.00681996, 37.29746897,\n",
       "        9.00545185, 20.41247886, 15.81428802, 43.45302129, 40.4960814 ,\n",
       "       17.00988781,  3.99051972, 20.58134633, 21.45829532, 33.6152374 ,\n",
       "       27.16872753, 25.64075381, 17.87047276, 24.81635933, 12.44409695,\n",
       "       43.02273565, 13.15364793, 31.75555687, 24.00128213, 27.5911637 ,\n",
       "       13.70697562, 25.26324748, 14.79470093, 43.79890786, 34.00265581,\n",
       "       33.52172093, 38.21905633, 30.19755271, 16.02530415, 38.02322436,\n",
       "       30.81191549, 17.02733727,  8.87142989, 13.79956226,  7.41700611,\n",
       "       31.80704513, 32.32520204, 15.50767904, 10.7322118 , 30.72238737,\n",
       "       40.37644032,  9.36913791,  8.73778869, 36.33349316, 25.21962781])"
      ]
     },
     "execution_count": 9,
     "metadata": {},
     "output_type": "execute_result"
    }
   ],
   "source": [
    "print(f\"{int(100 * len(y_train)/len(y))}% of labels is assigned to label training set\\n\")\n",
    "\n",
    "y_train"
   ]
  },
  {
   "cell_type": "code",
   "execution_count": 10,
   "metadata": {
    "scrolled": true
   },
   "outputs": [
    {
     "name": "stdout",
     "output_type": "stream",
     "text": [
      "20% of labels is assigned to label test set\n",
      "\n"
     ]
    },
    {
     "data": {
      "text/plain": [
       "array([29.71187037, 24.48836426,  6.44200195,  3.97906101,  7.17546017,\n",
       "       13.80367666, 40.06299275, 20.46676486, 42.74778101, 25.60276774,\n",
       "        7.84004525, 14.29566309, 27.47464269, 43.42340824, 12.7460885 ,\n",
       "       23.71587875, 30.74500564, 14.04078106, 12.84493566,  8.82842253])"
      ]
     },
     "execution_count": 10,
     "metadata": {},
     "output_type": "execute_result"
    }
   ],
   "source": [
    "print(f\"{int(100 * len(y_test)/len(y))}% of labels is assigned to label test set\\n\")\n",
    "\n",
    "y_test"
   ]
  },
  {
   "cell_type": "code",
   "execution_count": 11,
   "metadata": {
    "scrolled": true
   },
   "outputs": [
    {
     "name": "stdout",
     "output_type": "stream",
     "text": [
      "Shape of feature training set is (80,)\n",
      "Shape of label training set is (80,)\n",
      "Shape of feature test set is (20,)\n",
      "Shape of label test set is (20,)\n"
     ]
    }
   ],
   "source": [
    "print(f'Shape of feature training set is {X_train.shape}')\n",
    "print(f'Shape of label training set is {y_train.shape}')\n",
    "\n",
    "print(f'Shape of feature test set is {X_test.shape}')\n",
    "print(f'Shape of label test set is {y_test.shape}')"
   ]
  },
  {
   "cell_type": "code",
   "execution_count": 12,
   "metadata": {},
   "outputs": [
    {
     "data": {
      "image/png": "[encoded data removed]",
      "text/plain": [
       "<Figure size 576x576 with 1 Axes>"
      ]
     },
     "metadata": {},
     "output_type": "display_data"
    }
   ],
   "source": [
    "sns.set_style('white')\n",
    "f = plt.figure(figsize=(8,8))\n",
    "sns.set_context(context='notebook',font_scale=1.5,rc={\"lines.linewidth\":2.5})\n",
    "\n",
    "plt.plot(X_train, y_train, \"b.\") #blue dots\n",
    "plt.title(\"Data points\")\n",
    "plt.grid(True)\n",
    "plt.xlabel(\"$x_1$\", fontsize=18)\n",
    "plt.ylabel(\"y\", rotation=0,fontsize=18)\n",
    "plt.axis([0,10,0,40])  # Sets start/end of X and Y axis in the same order.\n",
    "\n",
    "plt.show()"
   ]
  },
  {
   "cell_type": "code",
   "execution_count": 13,
   "metadata": {},
   "outputs": [
    {
     "data": {
      "text/plain": [
       "array([[1.        , 5.47005597],\n",
       "       [1.        , 8.70700536],\n",
       "       [1.        , 1.23223853],\n",
       "       [1.        , 6.74885051],\n",
       "       [1.        , 5.13392865],\n",
       "       [1.        , 6.1026273 ],\n",
       "       [1.        , 4.25211526],\n",
       "       [1.        , 2.24658331],\n",
       "       [1.        , 8.40770468],\n",
       "       [1.        , 7.5486374 ],\n",
       "       [1.        , 9.70026933],\n",
       "       [1.        , 9.21107694],\n",
       "       [1.        , 2.37891294],\n",
       "       [1.        , 4.86193759],\n",
       "       [1.        , 1.1861059 ],\n",
       "       [1.        , 0.43405698],\n",
       "       [1.        , 1.47253373],\n",
       "       [1.        , 0.84322442],\n",
       "       [1.        , 1.10689886],\n",
       "       [1.        , 9.11224393],\n",
       "       [1.        , 6.89798895],\n",
       "       [1.        , 3.32765364],\n",
       "       [1.        , 9.12105894],\n",
       "       [1.        , 2.55320184],\n",
       "       [1.        , 6.36949904],\n",
       "       [1.        , 4.10079435],\n",
       "       [1.        , 3.44813614],\n",
       "       [1.        , 4.1932196 ],\n",
       "       [1.        , 8.72566026],\n",
       "       [1.        , 3.12607567],\n",
       "       [1.        , 2.77157096],\n",
       "       [1.        , 1.3567354 ],\n",
       "       [1.        , 2.79718474],\n",
       "       [1.        , 9.91448514],\n",
       "       [1.        , 2.38808185],\n",
       "       [1.        , 7.38811919],\n",
       "       [1.        , 9.9035763 ],\n",
       "       [1.        , 6.64674006],\n",
       "       [1.        , 4.34291753],\n",
       "       [1.        , 2.4762814 ],\n",
       "       [1.        , 9.84350231],\n",
       "       [1.        , 2.38740227],\n",
       "       [1.        , 8.83871928],\n",
       "       [1.        , 4.49213607],\n",
       "       [1.        , 1.04372675],\n",
       "       [1.        , 0.08814863],\n",
       "       [1.        , 5.62602903],\n",
       "       [1.        , 5.63873768],\n",
       "       [1.        , 5.01905805],\n",
       "       [1.        , 1.00700839],\n",
       "       [1.        , 7.48599548],\n",
       "       [1.        , 5.40289046],\n",
       "       [1.        , 6.93324   ],\n",
       "       [1.        , 5.12331042],\n",
       "       [1.        , 4.21074183],\n",
       "       [1.        , 3.18714199],\n",
       "       [1.        , 3.39980187],\n",
       "       [1.        , 2.55302899],\n",
       "       [1.        , 7.18442576],\n",
       "       [1.        , 7.51468531],\n",
       "       [1.        , 9.26904734],\n",
       "       [1.        , 5.38629437],\n",
       "       [1.        , 3.33667568],\n",
       "       [1.        , 7.38247111],\n",
       "       [1.        , 3.08000836],\n",
       "       [1.        , 8.02074178],\n",
       "       [1.        , 6.83115598],\n",
       "       [1.        , 5.84174915],\n",
       "       [1.        , 3.64323854],\n",
       "       [1.        , 0.60440709],\n",
       "       [1.        , 0.69999117],\n",
       "       [1.        , 1.44203292],\n",
       "       [1.        , 5.63691373],\n",
       "       [1.        , 5.96059367],\n",
       "       [1.        , 7.10124107],\n",
       "       [1.        , 5.49465612],\n",
       "       [1.        , 6.90523853],\n",
       "       [1.        , 2.68340777],\n",
       "       [1.        , 1.46849124],\n",
       "       [1.        , 9.82477496],\n",
       "       [1.        , 4.2897667 ],\n",
       "       [1.        , 4.40691596],\n",
       "       [1.        , 1.79696922],\n",
       "       [1.        , 6.63805384],\n",
       "       [1.        , 8.71117527],\n",
       "       [1.        , 9.15118176],\n",
       "       [1.        , 3.02834311],\n",
       "       [1.        , 1.00849674],\n",
       "       [1.        , 9.48327447],\n",
       "       [1.        , 9.17670304],\n",
       "       [1.        , 2.20115498],\n",
       "       [1.        , 7.10781745],\n",
       "       [1.        , 8.13435475],\n",
       "       [1.        , 8.81370464],\n",
       "       [1.        , 9.95433568],\n",
       "       [1.        , 2.94474184],\n",
       "       [1.        , 7.22461042],\n",
       "       [1.        , 2.32401352],\n",
       "       [1.        , 6.07761933],\n",
       "       [1.        , 0.0311903 ]])"
      ]
     },
     "execution_count": 13,
     "metadata": {},
     "output_type": "execute_result"
    }
   ],
   "source": [
    "np.column_stack((np.ones(X.shape[0]), X))"
   ]
  },
  {
   "cell_type": "code",
   "execution_count": 14,
   "metadata": {},
   "outputs": [],
   "source": [
    "# Converting above logic to a function\n",
    "def add_dummy_feature(x):\n",
    "    return np.column_stack((np.ones(x.shape[0]), x))"
   ]
  },
  {
   "cell_type": "code",
   "execution_count": 15,
   "metadata": {},
   "outputs": [
    {
     "data": {
      "text/plain": [
       "array([[1., 1., 2., 3.],\n",
       "       [1., 4., 5., 6.]])"
      ]
     },
     "execution_count": 15,
     "metadata": {},
     "output_type": "execute_result"
    }
   ],
   "source": [
    "# testing the above function\n",
    "train_matrix = np.array([[1,2,3], [4,5,6]]) # each feature is a 3-d vector.\n",
    "train_matrix = add_dummy_feature(train_matrix)\n",
    "train_matrix"
   ]
  },
  {
   "cell_type": "code",
   "execution_count": 16,
   "metadata": {
    "scrolled": true
   },
   "outputs": [
    {
     "data": {
      "text/plain": [
       "array([[1.        , 3.18714199],\n",
       "       [1.        , 9.48327447],\n",
       "       [1.        , 3.44813614],\n",
       "       [1.        , 8.83871928],\n",
       "       [1.        , 0.60440709],\n",
       "       [1.        , 0.43405698],\n",
       "       [1.        , 9.84350231],\n",
       "       [1.        , 7.22461042],\n",
       "       [1.        , 7.5486374 ],\n",
       "       [1.        , 5.63691373],\n",
       "       [1.        , 9.21107694],\n",
       "       [1.        , 5.63873768],\n",
       "       [1.        , 9.15118176],\n",
       "       [1.        , 8.72566026],\n",
       "       [1.        , 8.81370464],\n",
       "       [1.        , 6.1026273 ],\n",
       "       [1.        , 6.83115598],\n",
       "       [1.        , 8.02074178],\n",
       "       [1.        , 7.38811919],\n",
       "       [1.        , 1.47253373],\n",
       "       [1.        , 1.00700839],\n",
       "       [1.        , 2.38808185],\n",
       "       [1.        , 2.24658331],\n",
       "       [1.        , 2.94474184],\n",
       "       [1.        , 4.1932196 ],\n",
       "       [1.        , 9.11224393],\n",
       "       [1.        , 4.40691596],\n",
       "       [1.        , 4.10079435],\n",
       "       [1.        , 3.33667568],\n",
       "       [1.        , 4.86193759],\n",
       "       [1.        , 6.36949904],\n",
       "       [1.        , 6.74885051],\n",
       "       [1.        , 0.84322442],\n",
       "       [1.        , 4.34291753],\n",
       "       [1.        , 8.40770468],\n",
       "       [1.        , 1.46849124],\n",
       "       [1.        , 4.25211526],\n",
       "       [1.        , 3.08000836],\n",
       "       [1.        , 9.9035763 ],\n",
       "       [1.        , 9.17670304],\n",
       "       [1.        , 3.39980187],\n",
       "       [1.        , 0.0311903 ],\n",
       "       [1.        , 4.21074183],\n",
       "       [1.        , 4.49213607],\n",
       "       [1.        , 7.48599548],\n",
       "       [1.        , 5.84174915],\n",
       "       [1.        , 5.62602903],\n",
       "       [1.        , 3.64323854],\n",
       "       [1.        , 5.38629437],\n",
       "       [1.        , 2.32401352],\n",
       "       [1.        , 9.82477496],\n",
       "       [1.        , 2.38740227],\n",
       "       [1.        , 7.18442576],\n",
       "       [1.        , 5.01905805],\n",
       "       [1.        , 6.07761933],\n",
       "       [1.        , 2.55302899],\n",
       "       [1.        , 5.49465612],\n",
       "       [1.        , 2.79718474],\n",
       "       [1.        , 9.95433568],\n",
       "       [1.        , 7.51468531],\n",
       "       [1.        , 7.38247111],\n",
       "       [1.        , 8.71117527],\n",
       "       [1.        , 6.64674006],\n",
       "       [1.        , 3.12607567],\n",
       "       [1.        , 8.70700536],\n",
       "       [1.        , 6.93324   ],\n",
       "       [1.        , 3.32765364],\n",
       "       [1.        , 1.23223853],\n",
       "       [1.        , 2.55320184],\n",
       "       [1.        , 1.00849674],\n",
       "       [1.        , 7.10781745],\n",
       "       [1.        , 7.10124107],\n",
       "       [1.        , 3.02834311],\n",
       "       [1.        , 1.79696922],\n",
       "       [1.        , 6.89798895],\n",
       "       [1.        , 9.26904734],\n",
       "       [1.        , 1.44203292],\n",
       "       [1.        , 1.1861059 ],\n",
       "       [1.        , 8.13435475],\n",
       "       [1.        , 5.40289046]])"
      ]
     },
     "execution_count": 16,
     "metadata": {},
     "output_type": "execute_result"
    }
   ],
   "source": [
    "#apply the function to X_train\n",
    "X_train = add_dummy_feature(X_train)\n",
    "X_train"
   ]
  },
  {
   "cell_type": "markdown",
   "metadata": {},
   "source": [
    "### Model "
   ]
  },
  {
   "cell_type": "code",
   "execution_count": 17,
   "metadata": {},
   "outputs": [],
   "source": [
    "#Predicting label follows the equation y = Xw, in its vectorized form.\n",
    "def predict(X, w):\n",
    "    if X.shape[1] == w.shape[0]:\n",
    "        return X @ w\n",
    "    else:\n",
    "        return None"
   ]
  },
  {
   "cell_type": "code",
   "execution_count": 18,
   "metadata": {},
   "outputs": [],
   "source": [
    "def generate_examples():\n",
    "    X = 10 * np.random.random(n, )\n",
    "    y = w0 + w1 * X\n",
    "    X_train, X_test, y_train, y_test = train_test_split(X, y, test_size=0.2, random_state=42) \n",
    "    X_train = add_dummy_feature(X_train)\n",
    "    return X_train, X_test, y_train, y_test"
   ]
  },
  {
   "cell_type": "code",
   "execution_count": 19,
   "metadata": {},
   "outputs": [
    {
     "data": {
      "text/plain": [
       "array([0.90503189, 1.1302707 , 0.542288  , 1.88870852, 0.61153465,\n",
       "       2.07191608, 0.45628278, 1.66544222, 0.61417004, 0.68825156,\n",
       "       1.37340065, 1.24802023, 1.27912585, 0.35324049, 2.10252769,\n",
       "       0.46344212, 0.72731892, 1.49061461, 1.46566077, 0.9148071 ,\n",
       "       0.92617158, 0.8246472 , 1.41774478, 0.34867197, 1.42544857,\n",
       "       1.5650697 , 1.67966256, 0.30942501, 1.03450067, 0.72067455,\n",
       "       1.9579263 , 0.59383653, 1.65123546, 0.95325413, 1.28434699,\n",
       "       0.37869933, 1.95830385, 0.74278538, 1.50788311, 0.55817655,\n",
       "       0.9539644 , 1.91264801, 0.33861708, 1.21438939, 0.93674679,\n",
       "       1.77778403, 0.68292285, 1.36353317, 1.15857376, 0.54515344,\n",
       "       0.31650016, 0.44705247, 0.36495405, 1.91393002, 1.14198084,\n",
       "       0.31305787, 1.68386383, 0.65679143, 1.18561976, 0.97070053,\n",
       "       1.6103804 , 1.79282623, 1.27232224, 0.45390445, 1.01081318,\n",
       "       1.77323423, 0.8969678 , 0.76038035, 1.63794617, 1.4491254 ,\n",
       "       1.65113341, 1.36882305, 1.55137957, 1.74329955, 1.54813402,\n",
       "       1.52342539, 0.69670261, 1.60172793, 0.3243174 , 0.89212164])"
      ]
     },
     "execution_count": 19,
     "metadata": {},
     "output_type": "execute_result"
    }
   ],
   "source": [
    "# test it with the examples generated using above function\n",
    "X_train, X_test, y_train, y_test = generate_examples()\n",
    "y_hat =  predict (X_train, np.random.rand(2,))\n",
    "y_hat"
   ]
  },
  {
   "cell_type": "markdown",
   "metadata": {},
   "source": [
    "### Loss"
   ]
  },
  {
   "cell_type": "code",
   "execution_count": 20,
   "metadata": {},
   "outputs": [],
   "source": [
    "def loss (X, y, w):\n",
    "    e = X @ w - y\n",
    "    return 0.5 * (e.T @ e)"
   ]
  },
  {
   "cell_type": "code",
   "execution_count": 21,
   "metadata": {},
   "outputs": [
    {
     "data": {
      "text/plain": [
       "62.5"
      ]
     },
     "execution_count": 21,
     "metadata": {},
     "output_type": "execute_result"
    }
   ],
   "source": [
    "X = np.array([[1,3,2,5],[1,9,4,7]])\n",
    "y = np.array([6,11])\n",
    "w = np.array([1,1,1,1])\n",
    "\n",
    "loss(X, y,w)"
   ]
  },
  {
   "cell_type": "code",
   "execution_count": 22,
   "metadata": {},
   "outputs": [],
   "source": [
    "#Generate weight vector\n",
    "w = np.random.rand(2,)"
   ]
  },
  {
   "cell_type": "code",
   "execution_count": 23,
   "metadata": {
    "scrolled": true
   },
   "outputs": [
    {
     "data": {
      "text/plain": [
       "0.0"
      ]
     },
     "execution_count": 23,
     "metadata": {},
     "output_type": "execute_result"
    }
   ],
   "source": [
    "X_train, X_test, y_train, y_test = generate_examples()\n",
    "loss(X_train, y_train, np.array([3,4]))  #Since weight vector is (3,4), there's no loss"
   ]
  },
  {
   "cell_type": "code",
   "execution_count": 24,
   "metadata": {},
   "outputs": [
    {
     "name": "stdout",
     "output_type": "stream",
     "text": [
      "3.4751862285171073 5.973807955070109\n"
     ]
    }
   ],
   "source": [
    "#Generate weight vector\n",
    "w = 10 * np.random.rand(2,)\n",
    "print(w[0], w[1])"
   ]
  },
  {
   "cell_type": "code",
   "execution_count": 25,
   "metadata": {
    "scrolled": true
   },
   "outputs": [
    {
     "data": {
      "text/plain": [
       "<matplotlib.collections.LineCollection at 0x15afc589508>"
      ]
     },
     "execution_count": 25,
     "metadata": {},
     "output_type": "execute_result"
    },
    {
     "data": {
      "image/png": "[encoded data removed]",
      "text/plain": [
       "<Figure size 576x576 with 1 Axes>"
      ]
     },
     "metadata": {},
     "output_type": "display_data"
    }
   ],
   "source": [
    "y_new = predict(X_train, w)\n",
    "fig, axes = plt.subplots(figsize=(8,8))\n",
    "axes.plot(X_train[:,1], y_train, c='b', label='Training')\n",
    "axes.scatter(X_train[:,1], y_new, c='g', label='Error')\n",
    "axes.vlines(X_train[:,1], y_new, y_train, colors=\"r\", label=\"loss\")"
   ]
  },
  {
   "cell_type": "markdown",
   "metadata": {},
   "source": [
    "### Optimization"
   ]
  },
  {
   "cell_type": "markdown",
   "metadata": {},
   "source": [
    "#### Normal equation method"
   ]
  },
  {
   "cell_type": "code",
   "execution_count": 26,
   "metadata": {},
   "outputs": [],
   "source": [
    "def normal_equation(X, y):\n",
    "    return np.linalg.pinv(X) @ y"
   ]
  },
  {
   "cell_type": "code",
   "execution_count": 27,
   "metadata": {},
   "outputs": [
    {
     "data": {
      "text/plain": [
       "array([3., 4.])"
      ]
     },
     "execution_count": 27,
     "metadata": {},
     "output_type": "execute_result"
    }
   ],
   "source": [
    "normal_equation(X_train, y_train)"
   ]
  },
  {
   "cell_type": "markdown",
   "metadata": {},
   "source": [
    "#### Gradient descent method"
   ]
  },
  {
   "cell_type": "code",
   "execution_count": 28,
   "metadata": {},
   "outputs": [],
   "source": [
    "lr = 0.0001 #learning rate"
   ]
  },
  {
   "cell_type": "code",
   "execution_count": 29,
   "metadata": {},
   "outputs": [],
   "source": [
    "def calculate_gradient(X, y, w):\n",
    "    return np.transpose(X) @ (predict(X, w) - y)"
   ]
  },
  {
   "cell_type": "code",
   "execution_count": 30,
   "metadata": {},
   "outputs": [
    {
     "data": {
      "text/plain": [
       "array([0., 0.])"
      ]
     },
     "execution_count": 30,
     "metadata": {},
     "output_type": "execute_result"
    }
   ],
   "source": [
    "g = calculate_gradient(X_train, y_train, np.array([3,4]))  #Since weight vector is (3,4), gradient is 0.\n",
    "g"
   ]
  },
  {
   "cell_type": "code",
   "execution_count": 31,
   "metadata": {},
   "outputs": [],
   "source": [
    "def weight_update(w, lr, g):\n",
    "    return w - lr * g"
   ]
  },
  {
   "cell_type": "code",
   "execution_count": 32,
   "metadata": {},
   "outputs": [],
   "source": [
    "def gradient_descent(epochs):\n",
    "    # Start with an arbitrary weight vector say, [0, 0].  \n",
    "    # After \"many\" iterations, we should reach the original weight vector [3,4]]\n",
    "    w = np.array([0,0])\n",
    "    losses = list() \n",
    "    weights = list()\n",
    "    for i in range(epochs):\n",
    "        l = loss(X_train, y_train, w)\n",
    "        losses.append(l)\n",
    "        g = calculate_gradient(X_train, y_train, w)\n",
    "        w = weight_update(w, lr, g)\n",
    "        weights.append(w)\n",
    "    return weights, losses"
   ]
  },
  {
   "cell_type": "code",
   "execution_count": 33,
   "metadata": {},
   "outputs": [
    {
     "data": {
      "text/plain": [
       "array([2.99999998, 4.        ])"
      ]
     },
     "execution_count": 33,
     "metadata": {},
     "output_type": "execute_result"
    }
   ],
   "source": [
    "epochs = 10000\n",
    "weights, losses = gradient_descent(epochs)\n",
    "weights[-1]# last weight from the 10000 trials."
   ]
  },
  {
   "cell_type": "code",
   "execution_count": 34,
   "metadata": {},
   "outputs": [
    {
     "data": {
      "image/png": "[encoded data removed]",
      "text/plain": [
       "<Figure size 432x288 with 1 Axes>"
      ]
     },
     "metadata": {},
     "output_type": "display_data"
    }
   ],
   "source": [
    "def plot_learning_curves(losses):\n",
    "    plt.plot(losses)\n",
    "    \n",
    "plot_learning_curves(losses)"
   ]
  }
 ],
 "metadata": {
  "kernelspec": {
   "display_name": "Python 3",
   "language": "python",
   "name": "python3"
  },
  "language_info": {
   "codemirror_mode": {
    "name": "ipython",
    "version": 3
   },
   "file_extension": ".py",
   "mimetype": "text/x-python",
   "name": "python",
   "nbconvert_exporter": "python",
   "pygments_lexer": "ipython3",
   "version": "3.7.4"
  }
 },
 "nbformat": 4,
 "nbformat_minor": 2
}
