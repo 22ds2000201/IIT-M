{
 "cells": [
  {
   "cell_type": "markdown",
   "id": "d833aa86",
   "metadata": {},
   "source": [
    "### Feature Extraction"
   ]
  },
  {
   "cell_type": "markdown",
   "id": "d7f45e5a",
   "metadata": {},
   "source": [
    "#### DictVectorizer"
   ]
  },
  {
   "cell_type": "code",
   "execution_count": 1,
   "id": "e127206f",
   "metadata": {},
   "outputs": [],
   "source": [
    "import pandas as pd\n",
    "import numpy as np"
   ]
  },
  {
   "cell_type": "code",
   "execution_count": 2,
   "id": "97bb127e",
   "metadata": {},
   "outputs": [],
   "source": [
    "data = [{'age': 4, 'height':96.0},\n",
    "{'age': 1, 'height':73.9},\n",
    "{'age': 3, 'height':88.9},\n",
    "{'age': 2, 'height':81.6}]"
   ]
  },
  {
   "cell_type": "code",
   "execution_count": 3,
   "id": "a12811fd",
   "metadata": {},
   "outputs": [
    {
     "data": {
      "text/plain": [
       "array([{'age': 4, 'height': 96.0}, {'age': 1, 'height': 73.9},\n",
       "       {'age': 3, 'height': 88.9}, {'age': 2, 'height': 81.6}],\n",
       "      dtype=object)"
      ]
     },
     "execution_count": 3,
     "metadata": {},
     "output_type": "execute_result"
    }
   ],
   "source": [
    "np.array(data) #create numpy array"
   ]
  },
  {
   "cell_type": "code",
   "execution_count": 4,
   "id": "a1611261",
   "metadata": {
    "scrolled": true
   },
   "outputs": [
    {
     "data": {
      "text/html": [
       "<div>\n",
       "<style scoped>\n",
       "    .dataframe tbody tr th:only-of-type {\n",
       "        vertical-align: middle;\n",
       "    }\n",
       "\n",
       "    .dataframe tbody tr th {\n",
       "        vertical-align: top;\n",
       "    }\n",
       "\n",
       "    .dataframe thead th {\n",
       "        text-align: right;\n",
       "    }\n",
       "</style>\n",
       "<table border=\"1\" class=\"dataframe\">\n",
       "  <thead>\n",
       "    <tr style=\"text-align: right;\">\n",
       "      <th></th>\n",
       "      <th>age</th>\n",
       "      <th>height</th>\n",
       "    </tr>\n",
       "  </thead>\n",
       "  <tbody>\n",
       "    <tr>\n",
       "      <th>0</th>\n",
       "      <td>4</td>\n",
       "      <td>96.0</td>\n",
       "    </tr>\n",
       "    <tr>\n",
       "      <th>1</th>\n",
       "      <td>1</td>\n",
       "      <td>73.9</td>\n",
       "    </tr>\n",
       "    <tr>\n",
       "      <th>2</th>\n",
       "      <td>3</td>\n",
       "      <td>88.9</td>\n",
       "    </tr>\n",
       "    <tr>\n",
       "      <th>3</th>\n",
       "      <td>2</td>\n",
       "      <td>81.6</td>\n",
       "    </tr>\n",
       "  </tbody>\n",
       "</table>\n",
       "</div>"
      ],
      "text/plain": [
       "   age  height\n",
       "0    4    96.0\n",
       "1    1    73.9\n",
       "2    3    88.9\n",
       "3    2    81.6"
      ]
     },
     "execution_count": 4,
     "metadata": {},
     "output_type": "execute_result"
    }
   ],
   "source": [
    "pd.DataFrame(data) #create dataframe"
   ]
  },
  {
   "cell_type": "code",
   "execution_count": 5,
   "id": "33600d8d",
   "metadata": {
    "scrolled": false
   },
   "outputs": [
    {
     "data": {
      "text/plain": [
       "array([[ 4. , 96. ],\n",
       "       [ 1. , 73.9],\n",
       "       [ 3. , 88.9],\n",
       "       [ 2. , 81.6]])"
      ]
     },
     "execution_count": 5,
     "metadata": {},
     "output_type": "execute_result"
    }
   ],
   "source": [
    "from sklearn.feature_extraction import DictVectorizer\n",
    "dv = DictVectorizer(sparse=False)\n",
    "dv.fit_transform(data) #creates a 2-d matrix"
   ]
  },
  {
   "cell_type": "markdown",
   "id": "d5fba8c4",
   "metadata": {},
   "source": [
    "### Data cleaning"
   ]
  },
  {
   "cell_type": "markdown",
   "id": "efeab063",
   "metadata": {},
   "source": [
    "#### SimpleImputer"
   ]
  },
  {
   "cell_type": "code",
   "execution_count": 6,
   "id": "b7c45a5d",
   "metadata": {},
   "outputs": [],
   "source": [
    "X = np.array([[7, 1], [None, 8], [2, None], [9, 6]])"
   ]
  },
  {
   "cell_type": "code",
   "execution_count": 7,
   "id": "4409158e",
   "metadata": {
    "scrolled": true
   },
   "outputs": [
    {
     "data": {
      "text/plain": [
       "array([[7., 1.],\n",
       "       [6., 8.],\n",
       "       [2., 5.],\n",
       "       [9., 6.]])"
      ]
     },
     "execution_count": 7,
     "metadata": {},
     "output_type": "execute_result"
    }
   ],
   "source": [
    "from sklearn.impute import SimpleImputer\n",
    "si = SimpleImputer(strategy='mean')\n",
    "si.fit_transform(X)"
   ]
  },
  {
   "cell_type": "markdown",
   "id": "6900dba6",
   "metadata": {},
   "source": [
    "#### KNNImputer"
   ]
  },
  {
   "attachments": {
    "image.png": {
     "image/png": "[encoded data removed]"
    }
   },
   "cell_type": "markdown",
   "id": "ef01a6ba",
   "metadata": {},
   "source": [
    "![image.png](attachment:image.png)"
   ]
  },
  {
   "cell_type": "code",
   "execution_count": 8,
   "id": "7ea5c635",
   "metadata": {},
   "outputs": [
    {
     "data": {
      "text/plain": [
       "array([[1. , 2. , 4. ],\n",
       "       [3. , 4. , 3. ],\n",
       "       [5.5, 6. , 5. ],\n",
       "       [8. , 8. , 7. ]])"
      ]
     },
     "execution_count": 8,
     "metadata": {},
     "output_type": "execute_result"
    }
   ],
   "source": [
    "from sklearn.impute import KNNImputer\n",
    "\n",
    "X = np.array([[1, 2, None], [3, 4, 3], [None, 6, 5], [8, 8, 7]])\n",
    "knn = KNNImputer(n_neighbors=2, weights='uniform')\n",
    "knn.fit_transform(X)"
   ]
  },
  {
   "cell_type": "code",
   "execution_count": 9,
   "id": "7a1d87d9",
   "metadata": {
    "scrolled": true
   },
   "outputs": [
    {
     "data": {
      "text/plain": [
       "array([[False,  True],\n",
       "       [False, False],\n",
       "       [ True, False],\n",
       "       [False, False]])"
      ]
     },
     "execution_count": 9,
     "metadata": {},
     "output_type": "execute_result"
    }
   ],
   "source": [
    "from sklearn.impute import MissingIndicator\n",
    "\n",
    "X = np.array([[1, 2, np.nan], [3, 4, 3], [np.nan, 6, 5], [8, 8, 7]])\n",
    "indicator = MissingIndicator()\n",
    "indicator.fit_transform(X)"
   ]
  },
  {
   "attachments": {
    "image.png": {
     "image/png": "[encoded data removed]"
    }
   },
   "cell_type": "markdown",
   "id": "1906557e",
   "metadata": {},
   "source": [
    "#### StandardScaler ![image.png](attachment:image.png)"
   ]
  },
  {
   "cell_type": "code",
   "execution_count": 10,
   "id": "fb46070c",
   "metadata": {},
   "outputs": [],
   "source": [
    "from sklearn.preprocessing import StandardScaler\n",
    "\n",
    "X = np.array([4, 3, 2, 5, 6]).reshape((5, 1))"
   ]
  },
  {
   "cell_type": "code",
   "execution_count": 11,
   "id": "16648db0",
   "metadata": {},
   "outputs": [
    {
     "data": {
      "text/plain": [
       "array([[ 0.        ],\n",
       "       [-0.70710678],\n",
       "       [-1.41421356],\n",
       "       [ 0.70710678],\n",
       "       [ 1.41421356]])"
      ]
     },
     "execution_count": 11,
     "metadata": {},
     "output_type": "execute_result"
    }
   ],
   "source": [
    "ss = StandardScaler()\n",
    "ss.fit_transform(X)"
   ]
  },
  {
   "attachments": {
    "image-2.png": {
     "image/png": "[encoded data removed]"
    }
   },
   "cell_type": "markdown",
   "id": "0ce58612",
   "metadata": {},
   "source": [
    "#### MinMaxScaler ![image-2.png](attachment:image-2.png)"
   ]
  },
  {
   "cell_type": "code",
   "execution_count": 12,
   "id": "adb71c74",
   "metadata": {},
   "outputs": [],
   "source": [
    "from sklearn.preprocessing import MinMaxScaler\n",
    "\n",
    "X = np.array([15, 2, 5, -2, -5]).reshape((5,1))"
   ]
  },
  {
   "cell_type": "code",
   "execution_count": 13,
   "id": "a344afd7",
   "metadata": {
    "scrolled": true
   },
   "outputs": [
    {
     "data": {
      "text/plain": [
       "array([[1.  ],\n",
       "       [0.35],\n",
       "       [0.5 ],\n",
       "       [0.15],\n",
       "       [0.  ]])"
      ]
     },
     "execution_count": 13,
     "metadata": {},
     "output_type": "execute_result"
    }
   ],
   "source": [
    "mm = MinMaxScaler()\n",
    "mm.fit_transform(X)"
   ]
  },
  {
   "attachments": {
    "image-3.png": {
     "image/png": "[encoded data removed]"
    }
   },
   "cell_type": "markdown",
   "id": "40afd822",
   "metadata": {},
   "source": [
    "#### MaxAbsScaler ![image-3.png](attachment:image-3.png)"
   ]
  },
  {
   "cell_type": "code",
   "execution_count": 14,
   "id": "82483063",
   "metadata": {},
   "outputs": [],
   "source": [
    "from sklearn.preprocessing import MaxAbsScaler\n",
    "\n",
    "X = np.array([4, 2, 5, -2, -100]).reshape((5, 1))"
   ]
  },
  {
   "cell_type": "code",
   "execution_count": 15,
   "id": "549f72e1",
   "metadata": {
    "scrolled": true
   },
   "outputs": [
    {
     "data": {
      "text/plain": [
       "array([[ 0.04],\n",
       "       [ 0.02],\n",
       "       [ 0.05],\n",
       "       [-0.02],\n",
       "       [-1.  ]])"
      ]
     },
     "execution_count": 15,
     "metadata": {},
     "output_type": "execute_result"
    }
   ],
   "source": [
    "ma = MaxAbsScaler()\n",
    "ma.fit_transform(X)"
   ]
  },
  {
   "cell_type": "markdown",
   "id": "4ed88382",
   "metadata": {},
   "source": [
    "#### FunctionTransfomer (Transforms based on user-defined function)"
   ]
  },
  {
   "cell_type": "code",
   "execution_count": 16,
   "id": "5beef566",
   "metadata": {},
   "outputs": [],
   "source": [
    "from sklearn.preprocessing import FunctionTransformer\n",
    "X = np.array([[128, 2], [2, 256], [4, 1], [512, 64]])"
   ]
  },
  {
   "cell_type": "code",
   "execution_count": 17,
   "id": "d133c871",
   "metadata": {
    "scrolled": false
   },
   "outputs": [
    {
     "data": {
      "text/plain": [
       "array([[7., 1.],\n",
       "       [1., 8.],\n",
       "       [2., 0.],\n",
       "       [9., 6.]])"
      ]
     },
     "execution_count": 17,
     "metadata": {},
     "output_type": "execute_result"
    }
   ],
   "source": [
    "ft = FunctionTransformer(np.log2)\n",
    "ft.fit_transform(X)"
   ]
  },
  {
   "cell_type": "code",
   "execution_count": 18,
   "id": "4f774fd9",
   "metadata": {
    "scrolled": false
   },
   "outputs": [
    {
     "data": {
      "text/plain": [
       "121.125"
      ]
     },
     "execution_count": 18,
     "metadata": {},
     "output_type": "execute_result"
    }
   ],
   "source": [
    "ft = FunctionTransformer(np.mean) # mean of all elements\n",
    "ft.fit_transform(X)"
   ]
  },
  {
   "cell_type": "markdown",
   "id": "67e260f6",
   "metadata": {},
   "source": [
    "#### PolynomialTransfomation (Create all polynomial combinations)"
   ]
  },
  {
   "cell_type": "code",
   "execution_count": 19,
   "id": "5669460f",
   "metadata": {},
   "outputs": [],
   "source": [
    "X = np.array([[2, 3],[4, 5],[6,7]]) #Same example has been used in MLT Week-3 Cell #13"
   ]
  },
  {
   "cell_type": "code",
   "execution_count": 20,
   "id": "6e525ae7",
   "metadata": {
    "scrolled": true
   },
   "outputs": [
    {
     "data": {
      "text/plain": [
       "array([[  1.,   2.,   3.,   4.,   6.,   9.,   8.,  12.,  18.,  27.],\n",
       "       [  1.,   4.,   5.,  16.,  20.,  25.,  64.,  80., 100., 125.],\n",
       "       [  1.,   6.,   7.,  36.,  42.,  49., 216., 252., 294., 343.]])"
      ]
     },
     "execution_count": 20,
     "metadata": {},
     "output_type": "execute_result"
    }
   ],
   "source": [
    "from sklearn.preprocessing import PolynomialFeatures\n",
    "\n",
    "poly = PolynomialFeatures(degree=3)\n",
    "poly.fit_transform(X)"
   ]
  },
  {
   "cell_type": "markdown",
   "id": "d735a144",
   "metadata": {},
   "source": [
    "#### KBinsDiscretizer (Binning + One hot/ordinal encoding)"
   ]
  },
  {
   "cell_type": "code",
   "execution_count": 21,
   "id": "dea4bddc",
   "metadata": {},
   "outputs": [],
   "source": [
    "X = np.array([0, 0.125, 0.25, 0.375, 0.5, 0.675, 0.75, 0.875, 1.0]).reshape(9,1)"
   ]
  },
  {
   "cell_type": "code",
   "execution_count": 22,
   "id": "8a9d4c0b",
   "metadata": {
    "scrolled": true
   },
   "outputs": [
    {
     "data": {
      "text/plain": [
       "array([[1., 0., 0., 0., 0.],\n",
       "       [1., 0., 0., 0., 0.],\n",
       "       [0., 1., 0., 0., 0.],\n",
       "       [0., 1., 0., 0., 0.],\n",
       "       [0., 0., 1., 0., 0.],\n",
       "       [0., 0., 0., 1., 0.],\n",
       "       [0., 0., 0., 1., 0.],\n",
       "       [0., 0., 0., 0., 1.],\n",
       "       [0., 0., 0., 0., 1.]])"
      ]
     },
     "execution_count": 22,
     "metadata": {},
     "output_type": "execute_result"
    }
   ],
   "source": [
    "from sklearn.preprocessing import KBinsDiscretizer\n",
    "\n",
    "KBD = KBinsDiscretizer(n_bins=5, strategy='uniform', encode='onehot')\n",
    "X_fit = KBD.fit_transform(X) #return sparse matrix\n",
    "X_fit.toarray() #convert to numpy array"
   ]
  },
  {
   "cell_type": "code",
   "execution_count": 23,
   "id": "b50528e0",
   "metadata": {
    "scrolled": true
   },
   "outputs": [
    {
     "data": {
      "text/plain": [
       "matrix([[1., 0., 0., 0., 0.],\n",
       "        [1., 0., 0., 0., 0.],\n",
       "        [0., 1., 0., 0., 0.],\n",
       "        [0., 1., 0., 0., 0.],\n",
       "        [0., 0., 1., 0., 0.],\n",
       "        [0., 0., 0., 1., 0.],\n",
       "        [0., 0., 0., 1., 0.],\n",
       "        [0., 0., 0., 0., 1.],\n",
       "        [0., 0., 0., 0., 1.]])"
      ]
     },
     "execution_count": 23,
     "metadata": {},
     "output_type": "execute_result"
    }
   ],
   "source": [
    "X_fit.todense() #convert to matrix"
   ]
  },
  {
   "cell_type": "markdown",
   "id": "2e9a3371",
   "metadata": {},
   "source": [
    "#### Categorical Transformers"
   ]
  },
  {
   "cell_type": "markdown",
   "id": "c6ecb2f4",
   "metadata": {},
   "source": [
    "#### One-hot encoder"
   ]
  },
  {
   "cell_type": "code",
   "execution_count": 24,
   "id": "6514bee8",
   "metadata": {
    "scrolled": true
   },
   "outputs": [
    {
     "data": {
      "text/plain": [
       "array([[1., 0., 0., 0.],\n",
       "       [0., 1., 0., 0.],\n",
       "       [0., 0., 1., 0.],\n",
       "       [1., 0., 0., 0.],\n",
       "       [0., 0., 0., 1.],\n",
       "       [0., 0., 1., 0.]])"
      ]
     },
     "execution_count": 24,
     "metadata": {},
     "output_type": "execute_result"
    }
   ],
   "source": [
    "from sklearn.preprocessing import OneHotEncoder\n",
    "\n",
    "X = np.array([1, 2, 6, 1, 8, 6]).reshape(6, 1) #4 unique values\n",
    "ohe = OneHotEncoder(sparse=False)\n",
    "ohe.fit_transform(X) #one column for each unique value"
   ]
  },
  {
   "cell_type": "markdown",
   "id": "bf45fe26",
   "metadata": {},
   "source": [
    "#### Label encoder"
   ]
  },
  {
   "cell_type": "code",
   "execution_count": 25,
   "id": "247f55e8",
   "metadata": {},
   "outputs": [
    {
     "data": {
      "text/plain": [
       "array([0, 1, 2, 0, 3, 2], dtype=int64)"
      ]
     },
     "execution_count": 25,
     "metadata": {},
     "output_type": "execute_result"
    }
   ],
   "source": [
    "from sklearn.preprocessing import LabelEncoder\n",
    "\n",
    "X = np.array([1, 2, 6, 1, 8, 6]).reshape(6, ) #4 unique values.  If this is reshape to (6, 1), it gives a warning; why?\n",
    "le = LabelEncoder()\n",
    "le.fit_transform(X) # 1 is encoded as 0, 2 as 1, 6 as 2, and 8 as 3."
   ]
  },
  {
   "cell_type": "markdown",
   "id": "70b89f8a",
   "metadata": {},
   "source": [
    "#### Ordinal encoder"
   ]
  },
  {
   "cell_type": "markdown",
   "id": "61eb9f58",
   "metadata": {},
   "source": [
    "OrdinalEncoder can operate multi dimensional data, while LabelEncoder can transform only 1D data."
   ]
  },
  {
   "cell_type": "code",
   "execution_count": 26,
   "id": "ca3a8625",
   "metadata": {
    "scrolled": false
   },
   "outputs": [
    {
     "data": {
      "text/plain": [
       "array([[0., 1.],\n",
       "       [1., 0.],\n",
       "       [2., 0.],\n",
       "       [0., 1.],\n",
       "       [3., 1.],\n",
       "       [2., 0.]])"
      ]
     },
     "execution_count": 26,
     "metadata": {},
     "output_type": "execute_result"
    }
   ],
   "source": [
    "from sklearn.preprocessing import OrdinalEncoder\n",
    "\n",
    "X = np.array([[1, 2, 6, 1, 8, 6], ['male', 'female', 'female', 'male', 'male', 'female']]).T\n",
    "oe = OrdinalEncoder()\n",
    "oe.fit_transform(X) # 1 is encoded as 0, 2 as 1, 6 as 2, and 8 as 3; 'male' as 1 and 'female' as 0"
   ]
  },
  {
   "cell_type": "markdown",
   "id": "a0795721",
   "metadata": {},
   "source": [
    "#### LabelBinarizer"
   ]
  },
  {
   "cell_type": "code",
   "execution_count": 27,
   "id": "cff369f4",
   "metadata": {},
   "outputs": [
    {
     "data": {
      "text/plain": [
       "array([[1, 0, 0],\n",
       "       [1, 0, 0],\n",
       "       [0, 0, 1],\n",
       "       [1, 0, 0],\n",
       "       [0, 1, 0],\n",
       "       [0, 1, 0],\n",
       "       [0, 0, 1],\n",
       "       [1, 0, 0],\n",
       "       [0, 0, 1],\n",
       "       [0, 1, 0]])"
      ]
     },
     "execution_count": 27,
     "metadata": {},
     "output_type": "execute_result"
    }
   ],
   "source": [
    "from sklearn.preprocessing import LabelBinarizer\n",
    "X = np.array(['cold', 'cold', 'warm', 'cold', 'hot', 'hot', 'warm', 'cold', 'warm', 'hot']).reshape(10, 1)\n",
    "lb = LabelBinarizer()\n",
    "lb.fit_transform(X)"
   ]
  },
  {
   "cell_type": "code",
   "execution_count": 28,
   "id": "aac1d7b1",
   "metadata": {
    "scrolled": true
   },
   "outputs": [
    {
     "data": {
      "text/plain": [
       "array([[1., 0., 0.],\n",
       "       [1., 0., 0.],\n",
       "       [0., 0., 1.],\n",
       "       [1., 0., 0.],\n",
       "       [0., 1., 0.],\n",
       "       [0., 1., 0.],\n",
       "       [0., 0., 1.],\n",
       "       [1., 0., 0.],\n",
       "       [0., 0., 1.],\n",
       "       [0., 1., 0.]])"
      ]
     },
     "execution_count": 28,
     "metadata": {},
     "output_type": "execute_result"
    }
   ],
   "source": [
    "# OneHotEncoder on this data produces the same result.  The only difference between OneHotEncoder and LabelBinarizer \n",
    "# appears to be that the former return a sparse matrix by default, while the latter returns a dense matrix by default.\n",
    "from sklearn.preprocessing import OneHotEncoder\n",
    "ohe = OneHotEncoder(sparse=False)\n",
    "ohe.fit_transform(X)"
   ]
  },
  {
   "cell_type": "markdown",
   "id": "2c9d42d3",
   "metadata": {},
   "source": [
    "#### MultiLabelBinarizer"
   ]
  },
  {
   "cell_type": "code",
   "execution_count": 29,
   "id": "3d3ba11e",
   "metadata": {},
   "outputs": [
    {
     "data": {
      "text/plain": [
       "array([[1, 1, 0, 0],\n",
       "       [0, 1, 0, 0],\n",
       "       [1, 0, 0, 1],\n",
       "       [1, 0, 1, 1]])"
      ]
     },
     "execution_count": 29,
     "metadata": {},
     "output_type": "execute_result"
    }
   ],
   "source": [
    "from sklearn.preprocessing import MultiLabelBinarizer\n",
    "\n",
    "X = np.array([{'action', 'comedy' },\n",
    "{'comedy'},\n",
    "{'action', 'thriller'},\n",
    "{'science-fiction', 'action', 'thriller'}]) #4 unique values\n",
    "\n",
    "mlb = MultiLabelBinarizer()\n",
    "mlb.fit_transform(X) # the columns are 'action', 'comedy', 'science-fiction' and 'thriller'"
   ]
  },
  {
   "cell_type": "markdown",
   "id": "d624e450",
   "metadata": {},
   "source": [
    "#### add_dummy_feature"
   ]
  },
  {
   "cell_type": "code",
   "execution_count": 30,
   "id": "a727db5b",
   "metadata": {},
   "outputs": [
    {
     "data": {
      "text/plain": [
       "array([[1., 7., 1.],\n",
       "       [1., 1., 8.],\n",
       "       [1., 2., 0.],\n",
       "       [1., 9., 6.]])"
      ]
     },
     "execution_count": 30,
     "metadata": {},
     "output_type": "execute_result"
    }
   ],
   "source": [
    "from sklearn.preprocessing import add_dummy_feature\n",
    "\n",
    "X = np.array([[7, 1], [1, 8], [2, 0], [9, 6]])\n",
    "\n",
    "add_dummy_feature(X)"
   ]
  }
 ],
 "metadata": {
  "kernelspec": {
   "display_name": "Python 3 (ipykernel)",
   "language": "python",
   "name": "python3"
  },
  "language_info": {
   "codemirror_mode": {
    "name": "ipython",
    "version": 3
   },
   "file_extension": ".py",
   "mimetype": "text/x-python",
   "name": "python",
   "nbconvert_exporter": "python",
   "pygments_lexer": "ipython3",
   "version": "3.9.7"
  }
 },
 "nbformat": 4,
 "nbformat_minor": 5
}
