{
 "cells": [
  {
   "cell_type": "code",
   "execution_count": 1,
   "metadata": {},
   "outputs": [],
   "source": [
    "class LinReg():\n",
    "    def __init__(self):\n",
    "        self.t0 = 200\n",
    "        self.t1 = 100000\n",
    "    def predict (self, X):\n",
    "        y = X @ self.w\n",
    "        return y\n",
    "    def loss (self, X, y):\n",
    "        e = y - self.predict(X)\n",
    "        return 0.5 *(e.T @ e)\n",
    "    def rmse(self,X, y):\n",
    "        return np.sqrt(2/X.shape[0] * self.loss(X, y))\n",
    "    def fit(self, X, y):\n",
    "        self.w = np.linalg.pinv(X) @ y\n",
    "        return self.w\n",
    "    def calculate_gradient(self, X, y):\n",
    "        return X.T @ (self.predict(X) - y)\n",
    "    def update_weights(self, grad, lr):\n",
    "        return (self.w - lr * grad)\n",
    "    def learning_schedule(self, t):\n",
    "        return self.t0 / (self.t0 + self.t1)\n",
    "    def gd(self, X, y, num_epochs, lr):\n",
    "        self.w = np.zeros(X.shape[1])\n",
    "        self.w_all = list() \n",
    "        self.err_all = list()\n",
    "        for i in range(epochs):\n",
    "            dJdw = calculate_gradient(X, y)\n",
    "            self.w_all.append(self.w)\n",
    "            self.err_all.append(self.loss(X, y))\n",
    "            self.w = self.update_weights(dJdw, lr)\n",
    "        return self.w\n",
    "    def mbgd(self, X, y, num_epochs, batch_size):\n",
    "        mini_batch_id = 0\n",
    "        self.w = np.zeros(X.shape[1])  #initializing arbitrary values.\n",
    "        self.w_all = list() \n",
    "        self.err_all = list()\n",
    "\n",
    "        for epoch in range(num_epochs):\n",
    "            shuffled_indices = np.random.permutation(X.shape[0])\n",
    "            X_shuffled = X[shuffled_indices]\n",
    "            y_shuffled = y[shuffled_indices]\n",
    "\n",
    "            for i in range(0, X.shape[0], batch_size):\n",
    "                mini_batch_id += 1\n",
    "                x1 = X_shuffled[i:i+batch_size]\n",
    "                y1 = y_shuffled[i:i+batch_size]\n",
    "\n",
    "                self.w_all.append(self.w)\n",
    "                self.err_all.append(self.loss(X, y))\n",
    "\n",
    "                dJdw = 2/batch_size * self.calculate_gradient(x1, y1)\n",
    "                self.w = self.update_weights(dJdw, self.learning_schedule(mini_batch_id))\n",
    "\n",
    "        return self.w\n",
    "    \n",
    "    def sgd(self, X, y, num_epochs):\n",
    "        batch_size = 1\n",
    "        mini_batch_id = 0\n",
    "        self.w = np.zeros(X.shape[1])  #initializing arbitrary values.\n",
    "        self.w_all = list() \n",
    "        self.err_all = list()\n",
    "\n",
    "        for epoch in range(num_epochs):\n",
    "            shuffled_indices = np.random.permutation(X.shape[0])\n",
    "            X_shuffled = X[shuffled_indices]\n",
    "            y_shuffled = y[shuffled_indices]\n",
    "\n",
    "            for i in range(0, X.shape[0], batch_size):\n",
    "                mini_batch_id += 1\n",
    "                x1 = X_shuffled[i:i+batch_size]\n",
    "                y1 = y_shuffled[i:i+batch_size]\n",
    "\n",
    "                self.w_all.append(self.w)\n",
    "                self.err_all.append(self.loss(X, y))\n",
    "\n",
    "                dJdw = 2/batch_size * self.calculate_gradient(x1, y1)\n",
    "                self.w = self.update_weights(dJdw, self.learning_schedule(mini_batch_id))\n",
    "\n",
    "        return self.w"
   ]
  },
  {
   "cell_type": "code",
   "execution_count": 2,
   "metadata": {},
   "outputs": [],
   "source": [
    "import itertools\n",
    "import functools\n",
    "import numpy as np\n",
    "from matplotlib import pyplot as plt"
   ]
  },
  {
   "cell_type": "code",
   "execution_count": 3,
   "metadata": {},
   "outputs": [],
   "source": [
    "def combinations(x, degree):\n",
    "    return itertools.combinations_with_replacement(x, degree)"
   ]
  },
  {
   "cell_type": "code",
   "execution_count": 4,
   "metadata": {},
   "outputs": [],
   "source": [
    "def compute_new_features(items):\n",
    "    return functools.reduce(lambda x, y: x * y, items)"
   ]
  },
  {
   "cell_type": "code",
   "execution_count": 5,
   "metadata": {},
   "outputs": [
    {
     "data": {
      "text/plain": [
       "{(2, 2): 4, (2, 3): 6, (3, 3): 9}"
      ]
     },
     "execution_count": 5,
     "metadata": {},
     "output_type": "execute_result"
    }
   ],
   "source": [
    "{each:compute_new_features(each) for each in combinations([2,3], 2)} #running a test"
   ]
  },
  {
   "cell_type": "code",
   "execution_count": 6,
   "metadata": {},
   "outputs": [
    {
     "data": {
      "text/plain": [
       "[4, 6, 9]"
      ]
     },
     "execution_count": 6,
     "metadata": {},
     "output_type": "execute_result"
    }
   ],
   "source": [
    "[compute_new_features(each) for each in combinations(np.array([2,3]), 2)] #running a test"
   ]
  },
  {
   "cell_type": "code",
   "execution_count": 7,
   "metadata": {},
   "outputs": [],
   "source": [
    "def polynomial_transform(x, degree):\n",
    "    if x.ndim == 1:\n",
    "        x = x[:, None]\n",
    "\n",
    "    features = [np.ones(len(x))] #a list of np-arrays with all 1.\n",
    "\n",
    "    print(features)\n",
    "    for degree in range(1, degree + 1):\n",
    "        for item in combinations(x.T, degree):\n",
    "            print(item)\n",
    "            features.append(compute_new_features(item))\n",
    "\n",
    "    print(features)\n",
    "            \n",
    "    return np.asarray(features).T"
   ]
  },
  {
   "cell_type": "code",
   "execution_count": 8,
   "metadata": {
    "scrolled": false
   },
   "outputs": [
    {
     "name": "stdout",
     "output_type": "stream",
     "text": [
      "[array([1., 1.])]\n",
      "(array([2, 3]),)\n",
      "(array([2, 3]), array([2, 3]))\n",
      "[array([1., 1.]), array([2, 3]), array([4, 9])]\n"
     ]
    },
    {
     "data": {
      "text/plain": [
       "array([[1., 2., 4.],\n",
       "       [1., 3., 9.]])"
      ]
     },
     "execution_count": 8,
     "metadata": {},
     "output_type": "execute_result"
    }
   ],
   "source": [
    "#feature vector [2,3] gets converted into two examples, \n",
    "#first with weight 2 and second with weight 3 [[2],[3]]\n",
    "polynomial_transform(np.array([2, 3]), 2) # Want combinations of 2."
   ]
  },
  {
   "cell_type": "code",
   "execution_count": 9,
   "metadata": {
    "scrolled": false
   },
   "outputs": [
    {
     "name": "stdout",
     "output_type": "stream",
     "text": [
      "[array([1.])]\n",
      "(array([2]),)\n",
      "(array([3]),)\n",
      "(array([2]), array([2]))\n",
      "(array([2]), array([3]))\n",
      "(array([3]), array([3]))\n",
      "[array([1.]), array([2]), array([3]), array([4]), array([6]), array([9])]\n"
     ]
    },
    {
     "data": {
      "text/plain": [
       "array([[1., 2., 3., 4., 6., 9.]])"
      ]
     },
     "execution_count": 9,
     "metadata": {},
     "output_type": "execute_result"
    }
   ],
   "source": [
    "#Here, in a single example, we've 2 and 3 as two weights.  Want combinations of 2.\n",
    "polynomial_transform(np.array([[2, 3]]), 2)"
   ]
  },
  {
   "cell_type": "code",
   "execution_count": 10,
   "metadata": {
    "scrolled": false
   },
   "outputs": [
    {
     "name": "stdout",
     "output_type": "stream",
     "text": [
      "[array([1., 1.])]\n",
      "(array([2, 4]),)\n",
      "(array([3, 5]),)\n",
      "(array([2, 4]), array([2, 4]))\n",
      "(array([2, 4]), array([3, 5]))\n",
      "(array([3, 5]), array([3, 5]))\n",
      "[array([1., 1.]), array([2, 4]), array([3, 5]), array([ 4, 16]), array([ 6, 20]), array([ 9, 25])]\n"
     ]
    },
    {
     "data": {
      "text/plain": [
       "array([[ 1.,  2.,  3.,  4.,  6.,  9.],\n",
       "       [ 1.,  4.,  5., 16., 20., 25.]])"
      ]
     },
     "execution_count": 10,
     "metadata": {},
     "output_type": "execute_result"
    }
   ],
   "source": [
    "#Here, in a single example, we've two examples, each with two weights.  Want combinations of 2.\n",
    "polynomial_transform(np.array([[2, 3],[4, 5]]), 2)"
   ]
  },
  {
   "cell_type": "code",
   "execution_count": 11,
   "metadata": {
    "scrolled": false
   },
   "outputs": [
    {
     "name": "stdout",
     "output_type": "stream",
     "text": [
      "[array([1., 1.])]\n",
      "(array([2, 4]),)\n",
      "(array([3, 5]),)\n",
      "(array([2, 4]), array([2, 4]))\n",
      "(array([2, 4]), array([3, 5]))\n",
      "(array([3, 5]), array([3, 5]))\n",
      "(array([2, 4]), array([2, 4]), array([2, 4]))\n",
      "(array([2, 4]), array([2, 4]), array([3, 5]))\n",
      "(array([2, 4]), array([3, 5]), array([3, 5]))\n",
      "(array([3, 5]), array([3, 5]), array([3, 5]))\n",
      "[array([1., 1.]), array([2, 4]), array([3, 5]), array([ 4, 16]), array([ 6, 20]), array([ 9, 25]), array([ 8, 64]), array([12, 80]), array([ 18, 100]), array([ 27, 125])]\n"
     ]
    },
    {
     "data": {
      "text/plain": [
       "array([[  1.,   2.,   3.,   4.,   6.,   9.,   8.,  12.,  18.,  27.],\n",
       "       [  1.,   4.,   5.,  16.,  20.,  25.,  64.,  80., 100., 125.]])"
      ]
     },
     "execution_count": 11,
     "metadata": {},
     "output_type": "execute_result"
    }
   ],
   "source": [
    "#Here, in a single example, we've two examples, each with two weights.  Want combinations of 3.\n",
    "polynomial_transform(np.array([[2, 3],[4, 5]]), 3)"
   ]
  },
  {
   "cell_type": "code",
   "execution_count": 12,
   "metadata": {
    "scrolled": false
   },
   "outputs": [
    {
     "name": "stdout",
     "output_type": "stream",
     "text": [
      "[array([1., 1., 1.])]\n",
      "(array([2, 4, 6]),)\n",
      "(array([3, 5, 7]),)\n",
      "(array([2, 4, 6]), array([2, 4, 6]))\n",
      "(array([2, 4, 6]), array([3, 5, 7]))\n",
      "(array([3, 5, 7]), array([3, 5, 7]))\n",
      "(array([2, 4, 6]), array([2, 4, 6]), array([2, 4, 6]))\n",
      "(array([2, 4, 6]), array([2, 4, 6]), array([3, 5, 7]))\n",
      "(array([2, 4, 6]), array([3, 5, 7]), array([3, 5, 7]))\n",
      "(array([3, 5, 7]), array([3, 5, 7]), array([3, 5, 7]))\n",
      "[array([1., 1., 1.]), array([2, 4, 6]), array([3, 5, 7]), array([ 4, 16, 36]), array([ 6, 20, 42]), array([ 9, 25, 49]), array([  8,  64, 216]), array([ 12,  80, 252]), array([ 18, 100, 294]), array([ 27, 125, 343])]\n"
     ]
    },
    {
     "data": {
      "text/plain": [
       "array([[  1.,   2.,   3.,   4.,   6.,   9.,   8.,  12.,  18.,  27.],\n",
       "       [  1.,   4.,   5.,  16.,  20.,  25.,  64.,  80., 100., 125.],\n",
       "       [  1.,   6.,   7.,  36.,  42.,  49., 216., 252., 294., 343.]])"
      ]
     },
     "execution_count": 12,
     "metadata": {},
     "output_type": "execute_result"
    }
   ],
   "source": [
    "#Here, in a single example, we've two examples, each with two weights.  Want combinations of 3.\n",
    "polynomial_transform(np.array([[2, 3],[4, 5],[6,7]]), 3)"
   ]
  },
  {
   "cell_type": "code",
   "execution_count": 13,
   "metadata": {
    "scrolled": false
   },
   "outputs": [
    {
     "name": "stdout",
     "output_type": "stream",
     "text": [
      "[array([1.])]\n",
      "[array([1.])]\n"
     ]
    },
    {
     "data": {
      "text/plain": [
       "array([[1.]])"
      ]
     },
     "execution_count": 13,
     "metadata": {},
     "output_type": "execute_result"
    }
   ],
   "source": [
    "#Here, in a single example, we've one example, with one weight.  Want combinations of 0.\n",
    "polynomial_transform(np.array([2]), 0)"
   ]
  },
  {
   "cell_type": "code",
   "execution_count": 14,
   "metadata": {},
   "outputs": [],
   "source": [
    "def create_nonlin_training_set(func, sample_size, std):\n",
    "    x = np.linspace(0, 1, sample_size)\n",
    "    y = func(x) + np.random.normal(scale=std, size=x.shape)\n",
    "    return x, y\n",
    "\n",
    "def nonlin(x):\n",
    "    return np.sin(2 * np.pi * x)"
   ]
  },
  {
   "cell_type": "code",
   "execution_count": 15,
   "metadata": {},
   "outputs": [],
   "source": [
    "def visualize_training_data(X_train, y_train):\n",
    "    points = np.linspace(0, 1, 100)\n",
    "    output = nonlin(points)\n",
    "    \n",
    "    plt.scatter(X_train, y_train, s=50, label=\"training data\")\n",
    "    plt.plot(points, output, c='g', label='$\\sin(2 \\pi x)$')\n",
    "    \n",
    "    plt.xlabel = \"$x_1$\"\n",
    "    plt.ylabel = \"y\"\n",
    "    plt.legend()\n",
    "    plt.show()"
   ]
  },
  {
   "cell_type": "code",
   "execution_count": 16,
   "metadata": {},
   "outputs": [],
   "source": [
    "def visualize_model_fit(X, y, lin_reg, degree):\n",
    "    points = np.linspace(0, 1, 100)\n",
    "    output = nonlin(points)\n",
    "    \n",
    "    if degree  > 0:\n",
    "        plt.scatter(X, y, s=50, label=\"training data\")\n",
    "    plt.plot(points, output, c='g', label='$\\sin(2 \\pi x)$')\n",
    "    \n",
    "    y_hat = lin_reg.predict(polynomial_transform(points, degree)) #predict function's second parameter is w.  What value should be used?\n",
    "    plt.plot(points, y_hat, c='r')\n",
    "    plt.xlabel = \"$x_1$\"\n",
    "    plt.ylabel = \"y\"\n",
    "    plt.legend()\n",
    "#     plt.ylim(-1,5,1.5)\n",
    "    plt.show()"
   ]
  },
  {
   "cell_type": "code",
   "execution_count": 17,
   "metadata": {
    "scrolled": false
   },
   "outputs": [
    {
     "data": {
      "image/png": "[encoded data removed]",
      "text/plain": [
       "<Figure size 432x288 with 1 Axes>"
      ]
     },
     "metadata": {
      "needs_background": "light"
     },
     "output_type": "display_data"
    }
   ],
   "source": [
    "num_samples = 100\n",
    "x, y = create_nonlin_training_set(nonlin, num_samples, 0.2)\n",
    "visualize_training_data(x, y)"
   ]
  },
  {
   "cell_type": "code",
   "execution_count": 18,
   "metadata": {
    "scrolled": false
   },
   "outputs": [
    {
     "name": "stdout",
     "output_type": "stream",
     "text": [
      "[array([1., 1., 1., 1., 1., 1., 1., 1., 1., 1., 1., 1., 1., 1., 1., 1., 1.,\n",
      "       1., 1., 1., 1., 1., 1., 1., 1., 1., 1., 1., 1., 1., 1., 1., 1., 1.,\n",
      "       1., 1., 1., 1., 1., 1., 1., 1., 1., 1., 1., 1., 1., 1., 1., 1., 1.,\n",
      "       1., 1., 1., 1., 1., 1., 1., 1., 1., 1., 1., 1., 1., 1., 1., 1., 1.,\n",
      "       1., 1., 1., 1., 1., 1., 1., 1., 1., 1., 1., 1., 1., 1., 1., 1., 1.,\n",
      "       1., 1., 1., 1., 1., 1., 1., 1., 1., 1., 1., 1., 1., 1., 1.])]\n",
      "(array([0.        , 0.01010101, 0.02020202, 0.03030303, 0.04040404,\n",
      "       0.05050505, 0.06060606, 0.07070707, 0.08080808, 0.09090909,\n",
      "       0.1010101 , 0.11111111, 0.12121212, 0.13131313, 0.14141414,\n",
      "       0.15151515, 0.16161616, 0.17171717, 0.18181818, 0.19191919,\n",
      "       0.2020202 , 0.21212121, 0.22222222, 0.23232323, 0.24242424,\n",
      "       0.25252525, 0.26262626, 0.27272727, 0.28282828, 0.29292929,\n",
      "       0.3030303 , 0.31313131, 0.32323232, 0.33333333, 0.34343434,\n",
      "       0.35353535, 0.36363636, 0.37373737, 0.38383838, 0.39393939,\n",
      "       0.4040404 , 0.41414141, 0.42424242, 0.43434343, 0.44444444,\n",
      "       0.45454545, 0.46464646, 0.47474747, 0.48484848, 0.49494949,\n",
      "       0.50505051, 0.51515152, 0.52525253, 0.53535354, 0.54545455,\n",
      "       0.55555556, 0.56565657, 0.57575758, 0.58585859, 0.5959596 ,\n",
      "       0.60606061, 0.61616162, 0.62626263, 0.63636364, 0.64646465,\n",
      "       0.65656566, 0.66666667, 0.67676768, 0.68686869, 0.6969697 ,\n",
      "       0.70707071, 0.71717172, 0.72727273, 0.73737374, 0.74747475,\n",
      "       0.75757576, 0.76767677, 0.77777778, 0.78787879, 0.7979798 ,\n",
      "       0.80808081, 0.81818182, 0.82828283, 0.83838384, 0.84848485,\n",
      "       0.85858586, 0.86868687, 0.87878788, 0.88888889, 0.8989899 ,\n",
      "       0.90909091, 0.91919192, 0.92929293, 0.93939394, 0.94949495,\n",
      "       0.95959596, 0.96969697, 0.97979798, 0.98989899, 1.        ]),)\n",
      "(array([0.        , 0.01010101, 0.02020202, 0.03030303, 0.04040404,\n",
      "       0.05050505, 0.06060606, 0.07070707, 0.08080808, 0.09090909,\n",
      "       0.1010101 , 0.11111111, 0.12121212, 0.13131313, 0.14141414,\n",
      "       0.15151515, 0.16161616, 0.17171717, 0.18181818, 0.19191919,\n",
      "       0.2020202 , 0.21212121, 0.22222222, 0.23232323, 0.24242424,\n",
      "       0.25252525, 0.26262626, 0.27272727, 0.28282828, 0.29292929,\n",
      "       0.3030303 , 0.31313131, 0.32323232, 0.33333333, 0.34343434,\n",
      "       0.35353535, 0.36363636, 0.37373737, 0.38383838, 0.39393939,\n",
      "       0.4040404 , 0.41414141, 0.42424242, 0.43434343, 0.44444444,\n",
      "       0.45454545, 0.46464646, 0.47474747, 0.48484848, 0.49494949,\n",
      "       0.50505051, 0.51515152, 0.52525253, 0.53535354, 0.54545455,\n",
      "       0.55555556, 0.56565657, 0.57575758, 0.58585859, 0.5959596 ,\n",
      "       0.60606061, 0.61616162, 0.62626263, 0.63636364, 0.64646465,\n",
      "       0.65656566, 0.66666667, 0.67676768, 0.68686869, 0.6969697 ,\n",
      "       0.70707071, 0.71717172, 0.72727273, 0.73737374, 0.74747475,\n",
      "       0.75757576, 0.76767677, 0.77777778, 0.78787879, 0.7979798 ,\n",
      "       0.80808081, 0.81818182, 0.82828283, 0.83838384, 0.84848485,\n",
      "       0.85858586, 0.86868687, 0.87878788, 0.88888889, 0.8989899 ,\n",
      "       0.90909091, 0.91919192, 0.92929293, 0.93939394, 0.94949495,\n",
      "       0.95959596, 0.96969697, 0.97979798, 0.98989899, 1.        ]), array([0.        , 0.01010101, 0.02020202, 0.03030303, 0.04040404,\n",
      "       0.05050505, 0.06060606, 0.07070707, 0.08080808, 0.09090909,\n",
      "       0.1010101 , 0.11111111, 0.12121212, 0.13131313, 0.14141414,\n",
      "       0.15151515, 0.16161616, 0.17171717, 0.18181818, 0.19191919,\n",
      "       0.2020202 , 0.21212121, 0.22222222, 0.23232323, 0.24242424,\n",
      "       0.25252525, 0.26262626, 0.27272727, 0.28282828, 0.29292929,\n",
      "       0.3030303 , 0.31313131, 0.32323232, 0.33333333, 0.34343434,\n",
      "       0.35353535, 0.36363636, 0.37373737, 0.38383838, 0.39393939,\n",
      "       0.4040404 , 0.41414141, 0.42424242, 0.43434343, 0.44444444,\n",
      "       0.45454545, 0.46464646, 0.47474747, 0.48484848, 0.49494949,\n",
      "       0.50505051, 0.51515152, 0.52525253, 0.53535354, 0.54545455,\n",
      "       0.55555556, 0.56565657, 0.57575758, 0.58585859, 0.5959596 ,\n",
      "       0.60606061, 0.61616162, 0.62626263, 0.63636364, 0.64646465,\n",
      "       0.65656566, 0.66666667, 0.67676768, 0.68686869, 0.6969697 ,\n",
      "       0.70707071, 0.71717172, 0.72727273, 0.73737374, 0.74747475,\n",
      "       0.75757576, 0.76767677, 0.77777778, 0.78787879, 0.7979798 ,\n",
      "       0.80808081, 0.81818182, 0.82828283, 0.83838384, 0.84848485,\n",
      "       0.85858586, 0.86868687, 0.87878788, 0.88888889, 0.8989899 ,\n",
      "       0.90909091, 0.91919192, 0.92929293, 0.93939394, 0.94949495,\n",
      "       0.95959596, 0.96969697, 0.97979798, 0.98989899, 1.        ]))\n",
      "(array([0.        , 0.01010101, 0.02020202, 0.03030303, 0.04040404,\n",
      "       0.05050505, 0.06060606, 0.07070707, 0.08080808, 0.09090909,\n",
      "       0.1010101 , 0.11111111, 0.12121212, 0.13131313, 0.14141414,\n",
      "       0.15151515, 0.16161616, 0.17171717, 0.18181818, 0.19191919,\n",
      "       0.2020202 , 0.21212121, 0.22222222, 0.23232323, 0.24242424,\n",
      "       0.25252525, 0.26262626, 0.27272727, 0.28282828, 0.29292929,\n",
      "       0.3030303 , 0.31313131, 0.32323232, 0.33333333, 0.34343434,\n",
      "       0.35353535, 0.36363636, 0.37373737, 0.38383838, 0.39393939,\n",
      "       0.4040404 , 0.41414141, 0.42424242, 0.43434343, 0.44444444,\n",
      "       0.45454545, 0.46464646, 0.47474747, 0.48484848, 0.49494949,\n",
      "       0.50505051, 0.51515152, 0.52525253, 0.53535354, 0.54545455,\n",
      "       0.55555556, 0.56565657, 0.57575758, 0.58585859, 0.5959596 ,\n",
      "       0.60606061, 0.61616162, 0.62626263, 0.63636364, 0.64646465,\n",
      "       0.65656566, 0.66666667, 0.67676768, 0.68686869, 0.6969697 ,\n",
      "       0.70707071, 0.71717172, 0.72727273, 0.73737374, 0.74747475,\n",
      "       0.75757576, 0.76767677, 0.77777778, 0.78787879, 0.7979798 ,\n",
      "       0.80808081, 0.81818182, 0.82828283, 0.83838384, 0.84848485,\n",
      "       0.85858586, 0.86868687, 0.87878788, 0.88888889, 0.8989899 ,\n",
      "       0.90909091, 0.91919192, 0.92929293, 0.93939394, 0.94949495,\n",
      "       0.95959596, 0.96969697, 0.97979798, 0.98989899, 1.        ]), array([0.        , 0.01010101, 0.02020202, 0.03030303, 0.04040404,\n",
      "       0.05050505, 0.06060606, 0.07070707, 0.08080808, 0.09090909,\n",
      "       0.1010101 , 0.11111111, 0.12121212, 0.13131313, 0.14141414,\n",
      "       0.15151515, 0.16161616, 0.17171717, 0.18181818, 0.19191919,\n",
      "       0.2020202 , 0.21212121, 0.22222222, 0.23232323, 0.24242424,\n",
      "       0.25252525, 0.26262626, 0.27272727, 0.28282828, 0.29292929,\n",
      "       0.3030303 , 0.31313131, 0.32323232, 0.33333333, 0.34343434,\n",
      "       0.35353535, 0.36363636, 0.37373737, 0.38383838, 0.39393939,\n",
      "       0.4040404 , 0.41414141, 0.42424242, 0.43434343, 0.44444444,\n",
      "       0.45454545, 0.46464646, 0.47474747, 0.48484848, 0.49494949,\n",
      "       0.50505051, 0.51515152, 0.52525253, 0.53535354, 0.54545455,\n",
      "       0.55555556, 0.56565657, 0.57575758, 0.58585859, 0.5959596 ,\n",
      "       0.60606061, 0.61616162, 0.62626263, 0.63636364, 0.64646465,\n",
      "       0.65656566, 0.66666667, 0.67676768, 0.68686869, 0.6969697 ,\n",
      "       0.70707071, 0.71717172, 0.72727273, 0.73737374, 0.74747475,\n",
      "       0.75757576, 0.76767677, 0.77777778, 0.78787879, 0.7979798 ,\n",
      "       0.80808081, 0.81818182, 0.82828283, 0.83838384, 0.84848485,\n",
      "       0.85858586, 0.86868687, 0.87878788, 0.88888889, 0.8989899 ,\n",
      "       0.90909091, 0.91919192, 0.92929293, 0.93939394, 0.94949495,\n",
      "       0.95959596, 0.96969697, 0.97979798, 0.98989899, 1.        ]), array([0.        , 0.01010101, 0.02020202, 0.03030303, 0.04040404,\n",
      "       0.05050505, 0.06060606, 0.07070707, 0.08080808, 0.09090909,\n",
      "       0.1010101 , 0.11111111, 0.12121212, 0.13131313, 0.14141414,\n",
      "       0.15151515, 0.16161616, 0.17171717, 0.18181818, 0.19191919,\n",
      "       0.2020202 , 0.21212121, 0.22222222, 0.23232323, 0.24242424,\n",
      "       0.25252525, 0.26262626, 0.27272727, 0.28282828, 0.29292929,\n",
      "       0.3030303 , 0.31313131, 0.32323232, 0.33333333, 0.34343434,\n",
      "       0.35353535, 0.36363636, 0.37373737, 0.38383838, 0.39393939,\n",
      "       0.4040404 , 0.41414141, 0.42424242, 0.43434343, 0.44444444,\n",
      "       0.45454545, 0.46464646, 0.47474747, 0.48484848, 0.49494949,\n",
      "       0.50505051, 0.51515152, 0.52525253, 0.53535354, 0.54545455,\n",
      "       0.55555556, 0.56565657, 0.57575758, 0.58585859, 0.5959596 ,\n",
      "       0.60606061, 0.61616162, 0.62626263, 0.63636364, 0.64646465,\n",
      "       0.65656566, 0.66666667, 0.67676768, 0.68686869, 0.6969697 ,\n",
      "       0.70707071, 0.71717172, 0.72727273, 0.73737374, 0.74747475,\n",
      "       0.75757576, 0.76767677, 0.77777778, 0.78787879, 0.7979798 ,\n",
      "       0.80808081, 0.81818182, 0.82828283, 0.83838384, 0.84848485,\n",
      "       0.85858586, 0.86868687, 0.87878788, 0.88888889, 0.8989899 ,\n",
      "       0.90909091, 0.91919192, 0.92929293, 0.93939394, 0.94949495,\n",
      "       0.95959596, 0.96969697, 0.97979798, 0.98989899, 1.        ]))\n",
      "[array([1., 1., 1., 1., 1., 1., 1., 1., 1., 1., 1., 1., 1., 1., 1., 1., 1.,\n",
      "       1., 1., 1., 1., 1., 1., 1., 1., 1., 1., 1., 1., 1., 1., 1., 1., 1.,\n",
      "       1., 1., 1., 1., 1., 1., 1., 1., 1., 1., 1., 1., 1., 1., 1., 1., 1.,\n",
      "       1., 1., 1., 1., 1., 1., 1., 1., 1., 1., 1., 1., 1., 1., 1., 1., 1.,\n",
      "       1., 1., 1., 1., 1., 1., 1., 1., 1., 1., 1., 1., 1., 1., 1., 1., 1.,\n",
      "       1., 1., 1., 1., 1., 1., 1., 1., 1., 1., 1., 1., 1., 1., 1.]), array([0.        , 0.01010101, 0.02020202, 0.03030303, 0.04040404,\n",
      "       0.05050505, 0.06060606, 0.07070707, 0.08080808, 0.09090909,\n",
      "       0.1010101 , 0.11111111, 0.12121212, 0.13131313, 0.14141414,\n",
      "       0.15151515, 0.16161616, 0.17171717, 0.18181818, 0.19191919,\n",
      "       0.2020202 , 0.21212121, 0.22222222, 0.23232323, 0.24242424,\n",
      "       0.25252525, 0.26262626, 0.27272727, 0.28282828, 0.29292929,\n",
      "       0.3030303 , 0.31313131, 0.32323232, 0.33333333, 0.34343434,\n",
      "       0.35353535, 0.36363636, 0.37373737, 0.38383838, 0.39393939,\n",
      "       0.4040404 , 0.41414141, 0.42424242, 0.43434343, 0.44444444,\n",
      "       0.45454545, 0.46464646, 0.47474747, 0.48484848, 0.49494949,\n",
      "       0.50505051, 0.51515152, 0.52525253, 0.53535354, 0.54545455,\n",
      "       0.55555556, 0.56565657, 0.57575758, 0.58585859, 0.5959596 ,\n",
      "       0.60606061, 0.61616162, 0.62626263, 0.63636364, 0.64646465,\n",
      "       0.65656566, 0.66666667, 0.67676768, 0.68686869, 0.6969697 ,\n",
      "       0.70707071, 0.71717172, 0.72727273, 0.73737374, 0.74747475,\n",
      "       0.75757576, 0.76767677, 0.77777778, 0.78787879, 0.7979798 ,\n",
      "       0.80808081, 0.81818182, 0.82828283, 0.83838384, 0.84848485,\n",
      "       0.85858586, 0.86868687, 0.87878788, 0.88888889, 0.8989899 ,\n",
      "       0.90909091, 0.91919192, 0.92929293, 0.93939394, 0.94949495,\n",
      "       0.95959596, 0.96969697, 0.97979798, 0.98989899, 1.        ]), array([0.00000000e+00, 1.02030405e-04, 4.08121620e-04, 9.18273646e-04,\n",
      "       1.63248648e-03, 2.55076013e-03, 3.67309458e-03, 4.99948985e-03,\n",
      "       6.52994592e-03, 8.26446281e-03, 1.02030405e-02, 1.23456790e-02,\n",
      "       1.46923783e-02, 1.72431385e-02, 1.99979594e-02, 2.29568411e-02,\n",
      "       2.61197837e-02, 2.94867871e-02, 3.30578512e-02, 3.68329762e-02,\n",
      "       4.08121620e-02, 4.49954086e-02, 4.93827160e-02, 5.39740843e-02,\n",
      "       5.87695133e-02, 6.37690032e-02, 6.89725538e-02, 7.43801653e-02,\n",
      "       7.99918376e-02, 8.58075707e-02, 9.18273646e-02, 9.80512193e-02,\n",
      "       1.04479135e-01, 1.11111111e-01, 1.17947148e-01, 1.24987246e-01,\n",
      "       1.32231405e-01, 1.39679625e-01, 1.47331905e-01, 1.55188246e-01,\n",
      "       1.63248648e-01, 1.71513111e-01, 1.79981635e-01, 1.88654219e-01,\n",
      "       1.97530864e-01, 2.06611570e-01, 2.15896337e-01, 2.25385165e-01,\n",
      "       2.35078053e-01, 2.44975003e-01, 2.55076013e-01, 2.65381084e-01,\n",
      "       2.75890215e-01, 2.86603408e-01, 2.97520661e-01, 3.08641975e-01,\n",
      "       3.19967350e-01, 3.31496786e-01, 3.43230283e-01, 3.55167840e-01,\n",
      "       3.67309458e-01, 3.79655137e-01, 3.92204877e-01, 4.04958678e-01,\n",
      "       4.17916539e-01, 4.31078461e-01, 4.44444444e-01, 4.58014488e-01,\n",
      "       4.71788593e-01, 4.85766758e-01, 4.99948985e-01, 5.14335272e-01,\n",
      "       5.28925620e-01, 5.43720029e-01, 5.58718498e-01, 5.73921028e-01,\n",
      "       5.89327620e-01, 6.04938272e-01, 6.20752984e-01, 6.36771758e-01,\n",
      "       6.52994592e-01, 6.69421488e-01, 6.86052444e-01, 7.02887460e-01,\n",
      "       7.19926538e-01, 7.37169677e-01, 7.54616876e-01, 7.72268136e-01,\n",
      "       7.90123457e-01, 8.08182838e-01, 8.26446281e-01, 8.44913784e-01,\n",
      "       8.63585348e-01, 8.82460973e-01, 9.01540659e-01, 9.20824406e-01,\n",
      "       9.40312213e-01, 9.60004081e-01, 9.79900010e-01, 1.00000000e+00]), array([0.00000000e+00, 1.03061015e-06, 8.24488122e-06, 2.78264741e-05,\n",
      "       6.59590497e-05, 1.28826269e-04, 2.22611793e-04, 3.53499282e-04,\n",
      "       5.27672398e-04, 7.51314801e-04, 1.03061015e-03, 1.37174211e-03,\n",
      "       1.78089434e-03, 2.26425050e-03, 2.82799426e-03, 3.47830926e-03,\n",
      "       4.22137918e-03, 5.06338768e-03, 6.01051841e-03, 7.06895503e-03,\n",
      "       8.24488122e-03, 9.54448062e-03, 1.09739369e-02, 1.25394337e-02,\n",
      "       1.42471547e-02, 1.61032836e-02, 1.81140040e-02, 2.02854996e-02,\n",
      "       2.26239541e-02, 2.51355510e-02, 2.78264741e-02, 3.07029070e-02,\n",
      "       3.37710335e-02, 3.70370370e-02, 4.05071014e-02, 4.41874103e-02,\n",
      "       4.80841473e-02, 5.22034960e-02, 5.65516403e-02, 6.11347636e-02,\n",
      "       6.59590497e-02, 7.10306823e-02, 7.63558450e-02, 8.19407214e-02,\n",
      "       8.77914952e-02, 9.39143501e-02, 1.00315470e-01, 1.07001038e-01,\n",
      "       1.13977238e-01, 1.21250254e-01, 1.28826269e-01, 1.36711467e-01,\n",
      "       1.44912032e-01, 1.53434148e-01, 1.62283997e-01, 1.71467764e-01,\n",
      "       1.80991632e-01, 1.90861786e-01, 2.01084408e-01, 2.11665682e-01,\n",
      "       2.22611793e-01, 2.33928923e-01, 2.45623256e-01, 2.57700977e-01,\n",
      "       2.70168268e-01, 2.83031313e-01, 2.96296296e-01, 3.09969401e-01,\n",
      "       3.24056811e-01, 3.38564710e-01, 3.53499282e-01, 3.68866710e-01,\n",
      "       3.84673178e-01, 4.00924870e-01, 4.17627968e-01, 4.34788658e-01,\n",
      "       4.52413122e-01, 4.70507545e-01, 4.89078109e-01, 5.08130999e-01,\n",
      "       5.27672398e-01, 5.47708490e-01, 5.68245458e-01, 5.89289487e-01,\n",
      "       6.10846760e-01, 6.32923460e-01, 6.55525771e-01, 6.78659877e-01,\n",
      "       7.02331962e-01, 7.26548208e-01, 7.51314801e-01, 7.76637923e-01,\n",
      "       8.02523758e-01, 8.28978490e-01, 8.56008303e-01, 8.83619379e-01,\n",
      "       9.11817904e-01, 9.40610059e-01, 9.70002030e-01, 1.00000000e+00])]\n",
      "[array([1., 1., 1., 1., 1., 1., 1., 1., 1., 1., 1., 1., 1., 1., 1., 1., 1.,\n",
      "       1., 1., 1., 1., 1., 1., 1., 1., 1., 1., 1., 1., 1., 1., 1., 1., 1.,\n",
      "       1., 1., 1., 1., 1., 1., 1., 1., 1., 1., 1., 1., 1., 1., 1., 1., 1.,\n",
      "       1., 1., 1., 1., 1., 1., 1., 1., 1., 1., 1., 1., 1., 1., 1., 1., 1.,\n",
      "       1., 1., 1., 1., 1., 1., 1., 1., 1., 1., 1., 1., 1., 1., 1., 1., 1.,\n",
      "       1., 1., 1., 1., 1., 1., 1., 1., 1., 1., 1., 1., 1., 1., 1.])]\n",
      "(array([0.        , 0.01010101, 0.02020202, 0.03030303, 0.04040404,\n",
      "       0.05050505, 0.06060606, 0.07070707, 0.08080808, 0.09090909,\n",
      "       0.1010101 , 0.11111111, 0.12121212, 0.13131313, 0.14141414,\n",
      "       0.15151515, 0.16161616, 0.17171717, 0.18181818, 0.19191919,\n",
      "       0.2020202 , 0.21212121, 0.22222222, 0.23232323, 0.24242424,\n",
      "       0.25252525, 0.26262626, 0.27272727, 0.28282828, 0.29292929,\n",
      "       0.3030303 , 0.31313131, 0.32323232, 0.33333333, 0.34343434,\n",
      "       0.35353535, 0.36363636, 0.37373737, 0.38383838, 0.39393939,\n",
      "       0.4040404 , 0.41414141, 0.42424242, 0.43434343, 0.44444444,\n",
      "       0.45454545, 0.46464646, 0.47474747, 0.48484848, 0.49494949,\n",
      "       0.50505051, 0.51515152, 0.52525253, 0.53535354, 0.54545455,\n",
      "       0.55555556, 0.56565657, 0.57575758, 0.58585859, 0.5959596 ,\n",
      "       0.60606061, 0.61616162, 0.62626263, 0.63636364, 0.64646465,\n",
      "       0.65656566, 0.66666667, 0.67676768, 0.68686869, 0.6969697 ,\n",
      "       0.70707071, 0.71717172, 0.72727273, 0.73737374, 0.74747475,\n",
      "       0.75757576, 0.76767677, 0.77777778, 0.78787879, 0.7979798 ,\n",
      "       0.80808081, 0.81818182, 0.82828283, 0.83838384, 0.84848485,\n",
      "       0.85858586, 0.86868687, 0.87878788, 0.88888889, 0.8989899 ,\n",
      "       0.90909091, 0.91919192, 0.92929293, 0.93939394, 0.94949495,\n",
      "       0.95959596, 0.96969697, 0.97979798, 0.98989899, 1.        ]),)\n",
      "(array([0.        , 0.01010101, 0.02020202, 0.03030303, 0.04040404,\n",
      "       0.05050505, 0.06060606, 0.07070707, 0.08080808, 0.09090909,\n",
      "       0.1010101 , 0.11111111, 0.12121212, 0.13131313, 0.14141414,\n",
      "       0.15151515, 0.16161616, 0.17171717, 0.18181818, 0.19191919,\n",
      "       0.2020202 , 0.21212121, 0.22222222, 0.23232323, 0.24242424,\n",
      "       0.25252525, 0.26262626, 0.27272727, 0.28282828, 0.29292929,\n",
      "       0.3030303 , 0.31313131, 0.32323232, 0.33333333, 0.34343434,\n",
      "       0.35353535, 0.36363636, 0.37373737, 0.38383838, 0.39393939,\n",
      "       0.4040404 , 0.41414141, 0.42424242, 0.43434343, 0.44444444,\n",
      "       0.45454545, 0.46464646, 0.47474747, 0.48484848, 0.49494949,\n",
      "       0.50505051, 0.51515152, 0.52525253, 0.53535354, 0.54545455,\n",
      "       0.55555556, 0.56565657, 0.57575758, 0.58585859, 0.5959596 ,\n",
      "       0.60606061, 0.61616162, 0.62626263, 0.63636364, 0.64646465,\n",
      "       0.65656566, 0.66666667, 0.67676768, 0.68686869, 0.6969697 ,\n",
      "       0.70707071, 0.71717172, 0.72727273, 0.73737374, 0.74747475,\n",
      "       0.75757576, 0.76767677, 0.77777778, 0.78787879, 0.7979798 ,\n",
      "       0.80808081, 0.81818182, 0.82828283, 0.83838384, 0.84848485,\n",
      "       0.85858586, 0.86868687, 0.87878788, 0.88888889, 0.8989899 ,\n",
      "       0.90909091, 0.91919192, 0.92929293, 0.93939394, 0.94949495,\n",
      "       0.95959596, 0.96969697, 0.97979798, 0.98989899, 1.        ]), array([0.        , 0.01010101, 0.02020202, 0.03030303, 0.04040404,\n",
      "       0.05050505, 0.06060606, 0.07070707, 0.08080808, 0.09090909,\n",
      "       0.1010101 , 0.11111111, 0.12121212, 0.13131313, 0.14141414,\n",
      "       0.15151515, 0.16161616, 0.17171717, 0.18181818, 0.19191919,\n",
      "       0.2020202 , 0.21212121, 0.22222222, 0.23232323, 0.24242424,\n",
      "       0.25252525, 0.26262626, 0.27272727, 0.28282828, 0.29292929,\n",
      "       0.3030303 , 0.31313131, 0.32323232, 0.33333333, 0.34343434,\n",
      "       0.35353535, 0.36363636, 0.37373737, 0.38383838, 0.39393939,\n",
      "       0.4040404 , 0.41414141, 0.42424242, 0.43434343, 0.44444444,\n",
      "       0.45454545, 0.46464646, 0.47474747, 0.48484848, 0.49494949,\n",
      "       0.50505051, 0.51515152, 0.52525253, 0.53535354, 0.54545455,\n",
      "       0.55555556, 0.56565657, 0.57575758, 0.58585859, 0.5959596 ,\n",
      "       0.60606061, 0.61616162, 0.62626263, 0.63636364, 0.64646465,\n",
      "       0.65656566, 0.66666667, 0.67676768, 0.68686869, 0.6969697 ,\n",
      "       0.70707071, 0.71717172, 0.72727273, 0.73737374, 0.74747475,\n",
      "       0.75757576, 0.76767677, 0.77777778, 0.78787879, 0.7979798 ,\n",
      "       0.80808081, 0.81818182, 0.82828283, 0.83838384, 0.84848485,\n",
      "       0.85858586, 0.86868687, 0.87878788, 0.88888889, 0.8989899 ,\n",
      "       0.90909091, 0.91919192, 0.92929293, 0.93939394, 0.94949495,\n",
      "       0.95959596, 0.96969697, 0.97979798, 0.98989899, 1.        ]))\n",
      "(array([0.        , 0.01010101, 0.02020202, 0.03030303, 0.04040404,\n",
      "       0.05050505, 0.06060606, 0.07070707, 0.08080808, 0.09090909,\n",
      "       0.1010101 , 0.11111111, 0.12121212, 0.13131313, 0.14141414,\n",
      "       0.15151515, 0.16161616, 0.17171717, 0.18181818, 0.19191919,\n",
      "       0.2020202 , 0.21212121, 0.22222222, 0.23232323, 0.24242424,\n",
      "       0.25252525, 0.26262626, 0.27272727, 0.28282828, 0.29292929,\n",
      "       0.3030303 , 0.31313131, 0.32323232, 0.33333333, 0.34343434,\n",
      "       0.35353535, 0.36363636, 0.37373737, 0.38383838, 0.39393939,\n",
      "       0.4040404 , 0.41414141, 0.42424242, 0.43434343, 0.44444444,\n",
      "       0.45454545, 0.46464646, 0.47474747, 0.48484848, 0.49494949,\n",
      "       0.50505051, 0.51515152, 0.52525253, 0.53535354, 0.54545455,\n",
      "       0.55555556, 0.56565657, 0.57575758, 0.58585859, 0.5959596 ,\n",
      "       0.60606061, 0.61616162, 0.62626263, 0.63636364, 0.64646465,\n",
      "       0.65656566, 0.66666667, 0.67676768, 0.68686869, 0.6969697 ,\n",
      "       0.70707071, 0.71717172, 0.72727273, 0.73737374, 0.74747475,\n",
      "       0.75757576, 0.76767677, 0.77777778, 0.78787879, 0.7979798 ,\n",
      "       0.80808081, 0.81818182, 0.82828283, 0.83838384, 0.84848485,\n",
      "       0.85858586, 0.86868687, 0.87878788, 0.88888889, 0.8989899 ,\n",
      "       0.90909091, 0.91919192, 0.92929293, 0.93939394, 0.94949495,\n",
      "       0.95959596, 0.96969697, 0.97979798, 0.98989899, 1.        ]), array([0.        , 0.01010101, 0.02020202, 0.03030303, 0.04040404,\n",
      "       0.05050505, 0.06060606, 0.07070707, 0.08080808, 0.09090909,\n",
      "       0.1010101 , 0.11111111, 0.12121212, 0.13131313, 0.14141414,\n",
      "       0.15151515, 0.16161616, 0.17171717, 0.18181818, 0.19191919,\n",
      "       0.2020202 , 0.21212121, 0.22222222, 0.23232323, 0.24242424,\n",
      "       0.25252525, 0.26262626, 0.27272727, 0.28282828, 0.29292929,\n",
      "       0.3030303 , 0.31313131, 0.32323232, 0.33333333, 0.34343434,\n",
      "       0.35353535, 0.36363636, 0.37373737, 0.38383838, 0.39393939,\n",
      "       0.4040404 , 0.41414141, 0.42424242, 0.43434343, 0.44444444,\n",
      "       0.45454545, 0.46464646, 0.47474747, 0.48484848, 0.49494949,\n",
      "       0.50505051, 0.51515152, 0.52525253, 0.53535354, 0.54545455,\n",
      "       0.55555556, 0.56565657, 0.57575758, 0.58585859, 0.5959596 ,\n",
      "       0.60606061, 0.61616162, 0.62626263, 0.63636364, 0.64646465,\n",
      "       0.65656566, 0.66666667, 0.67676768, 0.68686869, 0.6969697 ,\n",
      "       0.70707071, 0.71717172, 0.72727273, 0.73737374, 0.74747475,\n",
      "       0.75757576, 0.76767677, 0.77777778, 0.78787879, 0.7979798 ,\n",
      "       0.80808081, 0.81818182, 0.82828283, 0.83838384, 0.84848485,\n",
      "       0.85858586, 0.86868687, 0.87878788, 0.88888889, 0.8989899 ,\n",
      "       0.90909091, 0.91919192, 0.92929293, 0.93939394, 0.94949495,\n",
      "       0.95959596, 0.96969697, 0.97979798, 0.98989899, 1.        ]), array([0.        , 0.01010101, 0.02020202, 0.03030303, 0.04040404,\n",
      "       0.05050505, 0.06060606, 0.07070707, 0.08080808, 0.09090909,\n",
      "       0.1010101 , 0.11111111, 0.12121212, 0.13131313, 0.14141414,\n",
      "       0.15151515, 0.16161616, 0.17171717, 0.18181818, 0.19191919,\n",
      "       0.2020202 , 0.21212121, 0.22222222, 0.23232323, 0.24242424,\n",
      "       0.25252525, 0.26262626, 0.27272727, 0.28282828, 0.29292929,\n",
      "       0.3030303 , 0.31313131, 0.32323232, 0.33333333, 0.34343434,\n",
      "       0.35353535, 0.36363636, 0.37373737, 0.38383838, 0.39393939,\n",
      "       0.4040404 , 0.41414141, 0.42424242, 0.43434343, 0.44444444,\n",
      "       0.45454545, 0.46464646, 0.47474747, 0.48484848, 0.49494949,\n",
      "       0.50505051, 0.51515152, 0.52525253, 0.53535354, 0.54545455,\n",
      "       0.55555556, 0.56565657, 0.57575758, 0.58585859, 0.5959596 ,\n",
      "       0.60606061, 0.61616162, 0.62626263, 0.63636364, 0.64646465,\n",
      "       0.65656566, 0.66666667, 0.67676768, 0.68686869, 0.6969697 ,\n",
      "       0.70707071, 0.71717172, 0.72727273, 0.73737374, 0.74747475,\n",
      "       0.75757576, 0.76767677, 0.77777778, 0.78787879, 0.7979798 ,\n",
      "       0.80808081, 0.81818182, 0.82828283, 0.83838384, 0.84848485,\n",
      "       0.85858586, 0.86868687, 0.87878788, 0.88888889, 0.8989899 ,\n",
      "       0.90909091, 0.91919192, 0.92929293, 0.93939394, 0.94949495,\n",
      "       0.95959596, 0.96969697, 0.97979798, 0.98989899, 1.        ]))\n",
      "[array([1., 1., 1., 1., 1., 1., 1., 1., 1., 1., 1., 1., 1., 1., 1., 1., 1.,\n",
      "       1., 1., 1., 1., 1., 1., 1., 1., 1., 1., 1., 1., 1., 1., 1., 1., 1.,\n",
      "       1., 1., 1., 1., 1., 1., 1., 1., 1., 1., 1., 1., 1., 1., 1., 1., 1.,\n",
      "       1., 1., 1., 1., 1., 1., 1., 1., 1., 1., 1., 1., 1., 1., 1., 1., 1.,\n",
      "       1., 1., 1., 1., 1., 1., 1., 1., 1., 1., 1., 1., 1., 1., 1., 1., 1.,\n",
      "       1., 1., 1., 1., 1., 1., 1., 1., 1., 1., 1., 1., 1., 1., 1.]), array([0.        , 0.01010101, 0.02020202, 0.03030303, 0.04040404,\n",
      "       0.05050505, 0.06060606, 0.07070707, 0.08080808, 0.09090909,\n",
      "       0.1010101 , 0.11111111, 0.12121212, 0.13131313, 0.14141414,\n",
      "       0.15151515, 0.16161616, 0.17171717, 0.18181818, 0.19191919,\n",
      "       0.2020202 , 0.21212121, 0.22222222, 0.23232323, 0.24242424,\n",
      "       0.25252525, 0.26262626, 0.27272727, 0.28282828, 0.29292929,\n",
      "       0.3030303 , 0.31313131, 0.32323232, 0.33333333, 0.34343434,\n",
      "       0.35353535, 0.36363636, 0.37373737, 0.38383838, 0.39393939,\n",
      "       0.4040404 , 0.41414141, 0.42424242, 0.43434343, 0.44444444,\n",
      "       0.45454545, 0.46464646, 0.47474747, 0.48484848, 0.49494949,\n",
      "       0.50505051, 0.51515152, 0.52525253, 0.53535354, 0.54545455,\n",
      "       0.55555556, 0.56565657, 0.57575758, 0.58585859, 0.5959596 ,\n",
      "       0.60606061, 0.61616162, 0.62626263, 0.63636364, 0.64646465,\n",
      "       0.65656566, 0.66666667, 0.67676768, 0.68686869, 0.6969697 ,\n",
      "       0.70707071, 0.71717172, 0.72727273, 0.73737374, 0.74747475,\n",
      "       0.75757576, 0.76767677, 0.77777778, 0.78787879, 0.7979798 ,\n",
      "       0.80808081, 0.81818182, 0.82828283, 0.83838384, 0.84848485,\n",
      "       0.85858586, 0.86868687, 0.87878788, 0.88888889, 0.8989899 ,\n",
      "       0.90909091, 0.91919192, 0.92929293, 0.93939394, 0.94949495,\n",
      "       0.95959596, 0.96969697, 0.97979798, 0.98989899, 1.        ]), array([0.00000000e+00, 1.02030405e-04, 4.08121620e-04, 9.18273646e-04,\n",
      "       1.63248648e-03, 2.55076013e-03, 3.67309458e-03, 4.99948985e-03,\n",
      "       6.52994592e-03, 8.26446281e-03, 1.02030405e-02, 1.23456790e-02,\n",
      "       1.46923783e-02, 1.72431385e-02, 1.99979594e-02, 2.29568411e-02,\n",
      "       2.61197837e-02, 2.94867871e-02, 3.30578512e-02, 3.68329762e-02,\n",
      "       4.08121620e-02, 4.49954086e-02, 4.93827160e-02, 5.39740843e-02,\n",
      "       5.87695133e-02, 6.37690032e-02, 6.89725538e-02, 7.43801653e-02,\n",
      "       7.99918376e-02, 8.58075707e-02, 9.18273646e-02, 9.80512193e-02,\n",
      "       1.04479135e-01, 1.11111111e-01, 1.17947148e-01, 1.24987246e-01,\n",
      "       1.32231405e-01, 1.39679625e-01, 1.47331905e-01, 1.55188246e-01,\n",
      "       1.63248648e-01, 1.71513111e-01, 1.79981635e-01, 1.88654219e-01,\n",
      "       1.97530864e-01, 2.06611570e-01, 2.15896337e-01, 2.25385165e-01,\n",
      "       2.35078053e-01, 2.44975003e-01, 2.55076013e-01, 2.65381084e-01,\n",
      "       2.75890215e-01, 2.86603408e-01, 2.97520661e-01, 3.08641975e-01,\n",
      "       3.19967350e-01, 3.31496786e-01, 3.43230283e-01, 3.55167840e-01,\n",
      "       3.67309458e-01, 3.79655137e-01, 3.92204877e-01, 4.04958678e-01,\n",
      "       4.17916539e-01, 4.31078461e-01, 4.44444444e-01, 4.58014488e-01,\n",
      "       4.71788593e-01, 4.85766758e-01, 4.99948985e-01, 5.14335272e-01,\n",
      "       5.28925620e-01, 5.43720029e-01, 5.58718498e-01, 5.73921028e-01,\n",
      "       5.89327620e-01, 6.04938272e-01, 6.20752984e-01, 6.36771758e-01,\n",
      "       6.52994592e-01, 6.69421488e-01, 6.86052444e-01, 7.02887460e-01,\n",
      "       7.19926538e-01, 7.37169677e-01, 7.54616876e-01, 7.72268136e-01,\n",
      "       7.90123457e-01, 8.08182838e-01, 8.26446281e-01, 8.44913784e-01,\n",
      "       8.63585348e-01, 8.82460973e-01, 9.01540659e-01, 9.20824406e-01,\n",
      "       9.40312213e-01, 9.60004081e-01, 9.79900010e-01, 1.00000000e+00]), array([0.00000000e+00, 1.03061015e-06, 8.24488122e-06, 2.78264741e-05,\n",
      "       6.59590497e-05, 1.28826269e-04, 2.22611793e-04, 3.53499282e-04,\n",
      "       5.27672398e-04, 7.51314801e-04, 1.03061015e-03, 1.37174211e-03,\n",
      "       1.78089434e-03, 2.26425050e-03, 2.82799426e-03, 3.47830926e-03,\n",
      "       4.22137918e-03, 5.06338768e-03, 6.01051841e-03, 7.06895503e-03,\n",
      "       8.24488122e-03, 9.54448062e-03, 1.09739369e-02, 1.25394337e-02,\n",
      "       1.42471547e-02, 1.61032836e-02, 1.81140040e-02, 2.02854996e-02,\n",
      "       2.26239541e-02, 2.51355510e-02, 2.78264741e-02, 3.07029070e-02,\n",
      "       3.37710335e-02, 3.70370370e-02, 4.05071014e-02, 4.41874103e-02,\n",
      "       4.80841473e-02, 5.22034960e-02, 5.65516403e-02, 6.11347636e-02,\n",
      "       6.59590497e-02, 7.10306823e-02, 7.63558450e-02, 8.19407214e-02,\n",
      "       8.77914952e-02, 9.39143501e-02, 1.00315470e-01, 1.07001038e-01,\n",
      "       1.13977238e-01, 1.21250254e-01, 1.28826269e-01, 1.36711467e-01,\n",
      "       1.44912032e-01, 1.53434148e-01, 1.62283997e-01, 1.71467764e-01,\n",
      "       1.80991632e-01, 1.90861786e-01, 2.01084408e-01, 2.11665682e-01,\n",
      "       2.22611793e-01, 2.33928923e-01, 2.45623256e-01, 2.57700977e-01,\n",
      "       2.70168268e-01, 2.83031313e-01, 2.96296296e-01, 3.09969401e-01,\n",
      "       3.24056811e-01, 3.38564710e-01, 3.53499282e-01, 3.68866710e-01,\n",
      "       3.84673178e-01, 4.00924870e-01, 4.17627968e-01, 4.34788658e-01,\n",
      "       4.52413122e-01, 4.70507545e-01, 4.89078109e-01, 5.08130999e-01,\n",
      "       5.27672398e-01, 5.47708490e-01, 5.68245458e-01, 5.89289487e-01,\n",
      "       6.10846760e-01, 6.32923460e-01, 6.55525771e-01, 6.78659877e-01,\n",
      "       7.02331962e-01, 7.26548208e-01, 7.51314801e-01, 7.76637923e-01,\n",
      "       8.02523758e-01, 8.28978490e-01, 8.56008303e-01, 8.83619379e-01,\n",
      "       9.11817904e-01, 9.40610059e-01, 9.70002030e-01, 1.00000000e+00])]\n"
     ]
    },
    {
     "data": {
      "image/png": "[encoded data removed]",
      "text/plain": [
       "<Figure size 432x288 with 1 Axes>"
      ]
     },
     "metadata": {
      "needs_background": "light"
     },
     "output_type": "display_data"
    }
   ],
   "source": [
    "degree = 3\n",
    "X_transform = polynomial_transform(x, degree)\n",
    "lin_reg = LinReg()\n",
    "lin_reg.fit(X_transform, y)\n",
    "visualize_model_fit(x, y, lin_reg, degree)"
   ]
  }
 ],
 "metadata": {
  "kernelspec": {
   "display_name": "Python 3",
   "language": "python",
   "name": "python3"
  },
  "language_info": {
   "codemirror_mode": {
    "name": "ipython",
    "version": 3
   },
   "file_extension": ".py",
   "mimetype": "text/x-python",
   "name": "python",
   "nbconvert_exporter": "python",
   "pygments_lexer": "ipython3",
   "version": "3.7.4"
  }
 },
 "nbformat": 4,
 "nbformat_minor": 2
}
