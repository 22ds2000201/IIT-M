{
 "cells": [
  {
   "cell_type": "code",
   "execution_count": 1,
   "id": "e6f0de8e",
   "metadata": {},
   "outputs": [],
   "source": [
    "import numpy as np\n",
    "import pandas as pd\n",
    "import matplotlib.pyplot as plt\n",
    "import seaborn as sns\n",
    "\n",
    "from sklearn.datasets import fetch_california_housing\n",
    "from sklearn.linear_model import LinearRegression\n",
    "\n",
    "from sklearn.model_selection import cross_validate, cross_val_score, learning_curve, ShuffleSplit\n",
    "\n",
    "from sklearn.metrics import mean_squared_error\n",
    "\n",
    "from sklearn.pipeline import Pipeline\n",
    "from sklearn.preprocessing import StandardScaler"
   ]
  },
  {
   "cell_type": "code",
   "execution_count": 2,
   "id": "c52d75d6",
   "metadata": {},
   "outputs": [],
   "source": [
    "np.random.seed(42)\n",
    "plt.style.use('seaborn')"
   ]
  },
  {
   "cell_type": "code",
   "execution_count": 3,
   "id": "b459f6d4",
   "metadata": {},
   "outputs": [],
   "source": [
    "shuffle_split_cv = ShuffleSplit(n_splits=10, test_size=0.2, random_state=0)"
   ]
  },
  {
   "cell_type": "code",
   "execution_count": 4,
   "id": "f1ed588c",
   "metadata": {},
   "outputs": [],
   "source": [
    "features, labels = fetch_california_housing(as_frame=True, return_X_y=True)"
   ]
  },
  {
   "cell_type": "code",
   "execution_count": 5,
   "id": "55b1f2fd",
   "metadata": {},
   "outputs": [
    {
     "name": "stdout",
     "output_type": "stream",
     "text": [
      "Shape of feature matrix is (20640, 8)\n",
      "Shape of label vector is (20640,)\n"
     ]
    }
   ],
   "source": [
    "print(f\"Shape of feature matrix is {features.shape}\")\n",
    "print(f\"Shape of label vector is {labels.shape}\")"
   ]
  },
  {
   "cell_type": "code",
   "execution_count": 6,
   "id": "1d99f8dd",
   "metadata": {},
   "outputs": [],
   "source": [
    "assert (features.shape[0] == labels.shape[0])"
   ]
  },
  {
   "cell_type": "code",
   "execution_count": 7,
   "id": "26980e05",
   "metadata": {},
   "outputs": [],
   "source": [
    "from sklearn.model_selection import train_test_split\n",
    "train_features, test_features, train_labels, test_labels = train_test_split(features, labels, random_state=42)"
   ]
  },
  {
   "cell_type": "code",
   "execution_count": 8,
   "id": "0036d945",
   "metadata": {
    "scrolled": true
   },
   "outputs": [
    {
     "name": "stdout",
     "output_type": "stream",
     "text": [
      "#trainings samples: 15480\n",
      "#test samples: 5160\n"
     ]
    }
   ],
   "source": [
    "print(f\"#trainings samples: {train_features.shape[0]}\")\n",
    "print(f\"#test samples: {test_features.shape[0]}\")"
   ]
  },
  {
   "cell_type": "code",
   "execution_count": 9,
   "id": "02b5e89e",
   "metadata": {},
   "outputs": [
    {
     "data": {
      "text/plain": [
       "Pipeline(steps=[('feature_scaling', StandardScaler()),\n",
       "                ('lin_reg', LinearRegression())])"
      ]
     },
     "execution_count": 9,
     "metadata": {},
     "output_type": "execute_result"
    }
   ],
   "source": [
    "line_reg_pipeline = Pipeline([(\"feature_scaling\", StandardScaler()),\n",
    "                             (\"lin_reg\", LinearRegression())])\n",
    "\n",
    "line_reg_pipeline.fit(train_features, train_labels)"
   ]
  },
  {
   "cell_type": "code",
   "execution_count": 10,
   "id": "40361491",
   "metadata": {
    "scrolled": false
   },
   "outputs": [
    {
     "name": "stdout",
     "output_type": "stream",
     "text": [
      "Intercept(w0): 2.0703489205426377\n",
      "weight vector(w1, w2, ..., wm): [ 0.85210815  0.12065533 -0.30210555  0.34860575 -0.00164465 -0.04116356\n",
      " -0.89314697 -0.86784046]\n"
     ]
    }
   ],
   "source": [
    "print(f\"Intercept(w0): {line_reg_pipeline[-1].intercept_}\")\n",
    "print(f\"weight vector(w1, w2, ..., wm): {line_reg_pipeline[-1].coef_}\")"
   ]
  },
  {
   "cell_type": "code",
   "execution_count": 11,
   "id": "becc0eba",
   "metadata": {},
   "outputs": [
    {
     "name": "stdout",
     "output_type": "stream",
     "text": [
      "Model performance on test set: 0.5910509795491352\n",
      "Model performance on train set: 0.609873031052925\n"
     ]
    }
   ],
   "source": [
    "# Evaluation on model\n",
    "test_score = line_reg_pipeline.score(test_features, test_labels)\n",
    "print(f\"Model performance on test set: {test_score}\")\n",
    "\n",
    "train_score = line_reg_pipeline.score(train_features, train_labels)\n",
    "print(f\"Model performance on train set: {train_score}\")"
   ]
  },
  {
   "cell_type": "markdown",
   "id": "7985062e",
   "metadata": {},
   "source": [
    "Low r2 score points to underfitting\n",
    "\n",
    "TO confirm the score, let's calculate the cross_validation score"
   ]
  },
  {
   "cell_type": "code",
   "execution_count": 12,
   "id": "18147a83",
   "metadata": {},
   "outputs": [
    {
     "name": "stdout",
     "output_type": "stream",
     "text": [
      "[-0.50009976 -0.52183352 -0.55931218 -0.52110499 -0.56059203 -0.50510767\n",
      " -0.52386194 -0.54775518 -0.5007161  -0.54713448]\n",
      "Score of linear regression model on test set:\n",
      " -0.5287517875396764 +/- 0.022232904569798696\n"
     ]
    }
   ],
   "source": [
    "lin_reg_score = cross_val_score(line_reg_pipeline, train_features, train_labels, scoring='neg_mean_squared_error', cv=shuffle_split_cv)\n",
    "\n",
    "print(lin_reg_score) # this is a list of 10 scores, since the Shuffle split performed 10 splits.\n",
    "print(f\"Score of linear regression model on test set:\\n {lin_reg_score.mean()} +/- {lin_reg_score.std()}\")"
   ]
  },
  {
   "cell_type": "code",
   "execution_count": 13,
   "id": "f9bf3c99",
   "metadata": {
    "scrolled": false
   },
   "outputs": [
    {
     "name": "stdout",
     "output_type": "stream",
     "text": [
      "MSE of linear regression model on test set:\n",
      " 0.5287517875396764 +/- 0.022232904569798696\n"
     ]
    }
   ],
   "source": [
    "lin_reg_mse = -lin_reg_score\n",
    "print(f\"MSE of linear regression model on test set:\\n {lin_reg_mse.mean()} +/- {lin_reg_mse.std()}\")"
   ]
  },
  {
   "cell_type": "markdown",
   "id": "6aa300a5",
   "metadata": {},
   "source": [
    "Alternatively, use cross_validate API.  This can return the models trained on each fold with train error for that fold."
   ]
  },
  {
   "cell_type": "code",
   "execution_count": 14,
   "id": "aeefb98b",
   "metadata": {},
   "outputs": [],
   "source": [
    "lin_reg_cv_results = cross_validate(line_reg_pipeline, train_features, train_labels, cv=shuffle_split_cv, \n",
    "                                    scoring='neg_mean_squared_error', return_train_score=True, return_estimator=True)"
   ]
  },
  {
   "cell_type": "code",
   "execution_count": 15,
   "id": "b3afbb1d",
   "metadata": {
    "scrolled": true
   },
   "outputs": [
    {
     "data": {
      "text/plain": [
       "{'fit_time': array([0.01017451, 0.00803709, 0.00698256, 0.00872517, 0.00915742,\n",
       "        0.00698256, 0.00981092, 0.00793505, 0.01009083, 0.00797868]),\n",
       " 'score_time': array([0.00180912, 0.00300097, 0.00199342, 0.00202894, 0.00199676,\n",
       "        0.00299573, 0.00187492, 0.00201344, 0.00199676, 0.00199556]),\n",
       " 'estimator': [Pipeline(steps=[('feature_scaling', StandardScaler()),\n",
       "                  ('lin_reg', LinearRegression())]),\n",
       "  Pipeline(steps=[('feature_scaling', StandardScaler()),\n",
       "                  ('lin_reg', LinearRegression())]),\n",
       "  Pipeline(steps=[('feature_scaling', StandardScaler()),\n",
       "                  ('lin_reg', LinearRegression())]),\n",
       "  Pipeline(steps=[('feature_scaling', StandardScaler()),\n",
       "                  ('lin_reg', LinearRegression())]),\n",
       "  Pipeline(steps=[('feature_scaling', StandardScaler()),\n",
       "                  ('lin_reg', LinearRegression())]),\n",
       "  Pipeline(steps=[('feature_scaling', StandardScaler()),\n",
       "                  ('lin_reg', LinearRegression())]),\n",
       "  Pipeline(steps=[('feature_scaling', StandardScaler()),\n",
       "                  ('lin_reg', LinearRegression())]),\n",
       "  Pipeline(steps=[('feature_scaling', StandardScaler()),\n",
       "                  ('lin_reg', LinearRegression())]),\n",
       "  Pipeline(steps=[('feature_scaling', StandardScaler()),\n",
       "                  ('lin_reg', LinearRegression())]),\n",
       "  Pipeline(steps=[('feature_scaling', StandardScaler()),\n",
       "                  ('lin_reg', LinearRegression())])],\n",
       " 'test_score': array([-0.50009976, -0.52183352, -0.55931218, -0.52110499, -0.56059203,\n",
       "        -0.50510767, -0.52386194, -0.54775518, -0.5007161 , -0.54713448]),\n",
       " 'train_score': array([-0.52578695, -0.52035137, -0.51095597, -0.52049611, -0.51060835,\n",
       "        -0.52453922, -0.51994311, -0.5144039 , -0.52578473, -0.51397105])}"
      ]
     },
     "execution_count": 15,
     "metadata": {},
     "output_type": "execute_result"
    }
   ],
   "source": [
    "lin_reg_cv_results # There are 10 values for each key, one for each fold."
   ]
  },
  {
   "cell_type": "code",
   "execution_count": 16,
   "id": "fa89bd4d",
   "metadata": {},
   "outputs": [
    {
     "name": "stdout",
     "output_type": "stream",
     "text": [
      "Mean squared error of linear regression model on the training set is 0.5186840759388985 +/- 0.0055522490673909275\n",
      "Mean squared error of linear regression model on the test set is 0.5287517875396764 +/- 0.022232904569798696\n"
     ]
    }
   ],
   "source": [
    "train_error = -1 * lin_reg_cv_results['train_score']\n",
    "test_error = -1 * lin_reg_cv_results['test_score']\n",
    "\n",
    "print(f'Mean squared error of linear regression model on the training set is {train_error.mean()} +/- {train_error.std()}')\n",
    "print(f'Mean squared error of linear regression model on the test set is {test_error.mean()} +/- {test_error.std()}')"
   ]
  },
  {
   "cell_type": "code",
   "execution_count": 17,
   "id": "76e011c6",
   "metadata": {},
   "outputs": [
    {
     "data": {
      "text/plain": [
       "Index(['MedInc', 'HouseAge', 'AveRooms', 'AveBedrms', 'Population', 'AveOccup',\n",
       "       'Latitude', 'Longitude'],\n",
       "      dtype='object')"
      ]
     },
     "execution_count": 17,
     "metadata": {},
     "output_type": "execute_result"
    }
   ],
   "source": [
    "train_features.columns"
   ]
  },
  {
   "cell_type": "code",
   "execution_count": 18,
   "id": "8e3c7695",
   "metadata": {
    "scrolled": true
   },
   "outputs": [
    {
     "data": {
      "text/plain": [
       "<AxesSubplot:>"
      ]
     },
     "execution_count": 18,
     "metadata": {},
     "output_type": "execute_result"
    },
    {
     "data": {
      "image/png": "[encoded data removed]",
      "text/plain": [
       "<Figure size 576x396 with 1 Axes>"
      ]
     },
     "metadata": {},
     "output_type": "display_data"
    }
   ],
   "source": [
    "coefs = [est[-1].coef_ for est in lin_reg_cv_results['estimator']]\n",
    "weights_df = pd.DataFrame(coefs, columns=train_features.columns)\n",
    "\n",
    "weights_df.plot.box(vert=False)"
   ]
  },
  {
   "cell_type": "code",
   "execution_count": 19,
   "id": "3aab7b89",
   "metadata": {},
   "outputs": [
    {
     "data": {
      "text/html": [
       "<div>\n",
       "<style scoped>\n",
       "    .dataframe tbody tr th:only-of-type {\n",
       "        vertical-align: middle;\n",
       "    }\n",
       "\n",
       "    .dataframe tbody tr th {\n",
       "        vertical-align: top;\n",
       "    }\n",
       "\n",
       "    .dataframe thead th {\n",
       "        text-align: right;\n",
       "    }\n",
       "</style>\n",
       "<table border=\"1\" class=\"dataframe\">\n",
       "  <thead>\n",
       "    <tr style=\"text-align: right;\">\n",
       "      <th></th>\n",
       "      <th>MedInc</th>\n",
       "      <th>HouseAge</th>\n",
       "      <th>AveRooms</th>\n",
       "      <th>AveBedrms</th>\n",
       "      <th>Population</th>\n",
       "      <th>AveOccup</th>\n",
       "      <th>Latitude</th>\n",
       "      <th>Longitude</th>\n",
       "    </tr>\n",
       "  </thead>\n",
       "  <tbody>\n",
       "    <tr>\n",
       "      <th>count</th>\n",
       "      <td>10.000000</td>\n",
       "      <td>10.000000</td>\n",
       "      <td>10.000000</td>\n",
       "      <td>10.000000</td>\n",
       "      <td>10.000000</td>\n",
       "      <td>10.000000</td>\n",
       "      <td>10.000000</td>\n",
       "      <td>10.000000</td>\n",
       "    </tr>\n",
       "    <tr>\n",
       "      <th>mean</th>\n",
       "      <td>0.852153</td>\n",
       "      <td>0.122770</td>\n",
       "      <td>-0.304384</td>\n",
       "      <td>0.353528</td>\n",
       "      <td>-0.001576</td>\n",
       "      <td>-0.037059</td>\n",
       "      <td>-0.894011</td>\n",
       "      <td>-0.869753</td>\n",
       "    </tr>\n",
       "    <tr>\n",
       "      <th>std</th>\n",
       "      <td>0.005763</td>\n",
       "      <td>0.004312</td>\n",
       "      <td>0.010998</td>\n",
       "      <td>0.018044</td>\n",
       "      <td>0.003254</td>\n",
       "      <td>0.008582</td>\n",
       "      <td>0.009975</td>\n",
       "      <td>0.009097</td>\n",
       "    </tr>\n",
       "    <tr>\n",
       "      <th>min</th>\n",
       "      <td>0.843517</td>\n",
       "      <td>0.117394</td>\n",
       "      <td>-0.318971</td>\n",
       "      <td>0.307474</td>\n",
       "      <td>-0.005787</td>\n",
       "      <td>-0.047584</td>\n",
       "      <td>-0.908058</td>\n",
       "      <td>-0.884206</td>\n",
       "    </tr>\n",
       "    <tr>\n",
       "      <th>25%</th>\n",
       "      <td>0.848871</td>\n",
       "      <td>0.119895</td>\n",
       "      <td>-0.310778</td>\n",
       "      <td>0.349715</td>\n",
       "      <td>-0.002688</td>\n",
       "      <td>-0.042486</td>\n",
       "      <td>-0.901411</td>\n",
       "      <td>-0.876542</td>\n",
       "    </tr>\n",
       "    <tr>\n",
       "      <th>50%</th>\n",
       "      <td>0.852711</td>\n",
       "      <td>0.121592</td>\n",
       "      <td>-0.305795</td>\n",
       "      <td>0.360139</td>\n",
       "      <td>-0.002063</td>\n",
       "      <td>-0.042325</td>\n",
       "      <td>-0.895370</td>\n",
       "      <td>-0.869631</td>\n",
       "    </tr>\n",
       "    <tr>\n",
       "      <th>75%</th>\n",
       "      <td>0.854743</td>\n",
       "      <td>0.125520</td>\n",
       "      <td>-0.302980</td>\n",
       "      <td>0.364646</td>\n",
       "      <td>-0.000350</td>\n",
       "      <td>-0.027562</td>\n",
       "      <td>-0.883967</td>\n",
       "      <td>-0.862110</td>\n",
       "    </tr>\n",
       "    <tr>\n",
       "      <th>max</th>\n",
       "      <td>0.861659</td>\n",
       "      <td>0.130560</td>\n",
       "      <td>-0.278426</td>\n",
       "      <td>0.367952</td>\n",
       "      <td>0.005297</td>\n",
       "      <td>-0.026331</td>\n",
       "      <td>-0.881884</td>\n",
       "      <td>-0.857844</td>\n",
       "    </tr>\n",
       "  </tbody>\n",
       "</table>\n",
       "</div>"
      ],
      "text/plain": [
       "          MedInc   HouseAge   AveRooms  AveBedrms  Population   AveOccup  \\\n",
       "count  10.000000  10.000000  10.000000  10.000000   10.000000  10.000000   \n",
       "mean    0.852153   0.122770  -0.304384   0.353528   -0.001576  -0.037059   \n",
       "std     0.005763   0.004312   0.010998   0.018044    0.003254   0.008582   \n",
       "min     0.843517   0.117394  -0.318971   0.307474   -0.005787  -0.047584   \n",
       "25%     0.848871   0.119895  -0.310778   0.349715   -0.002688  -0.042486   \n",
       "50%     0.852711   0.121592  -0.305795   0.360139   -0.002063  -0.042325   \n",
       "75%     0.854743   0.125520  -0.302980   0.364646   -0.000350  -0.027562   \n",
       "max     0.861659   0.130560  -0.278426   0.367952    0.005297  -0.026331   \n",
       "\n",
       "        Latitude  Longitude  \n",
       "count  10.000000  10.000000  \n",
       "mean   -0.894011  -0.869753  \n",
       "std     0.009975   0.009097  \n",
       "min    -0.908058  -0.884206  \n",
       "25%    -0.901411  -0.876542  \n",
       "50%    -0.895370  -0.869631  \n",
       "75%    -0.883967  -0.862110  \n",
       "max    -0.881884  -0.857844  "
      ]
     },
     "execution_count": 19,
     "metadata": {},
     "output_type": "execute_result"
    }
   ],
   "source": [
    "weights_df.describe()"
   ]
  },
  {
   "cell_type": "markdown",
   "id": "6fa23486",
   "metadata": {},
   "source": [
    "Note that variance of the features AveRooms and AveBedrms are higher than the others.  Also, Population seems to have outliers, since the 75% percentile is significantly different from the max value."
   ]
  },
  {
   "cell_type": "markdown",
   "id": "727eaf04",
   "metadata": {},
   "source": [
    "In order to the find the best model, locate the estimator among all the folds that returned the least test error"
   ]
  },
  {
   "cell_type": "code",
   "execution_count": 20,
   "id": "61e6b1e7",
   "metadata": {},
   "outputs": [
    {
     "data": {
      "text/plain": [
       "array([0.50009976, 0.52183352, 0.55931218, 0.52110499, 0.56059203,\n",
       "       0.50510767, 0.52386194, 0.54775518, 0.5007161 , 0.54713448])"
      ]
     },
     "execution_count": 20,
     "metadata": {},
     "output_type": "execute_result"
    }
   ],
   "source": [
    "test_error"
   ]
  },
  {
   "cell_type": "code",
   "execution_count": 21,
   "id": "f67468da",
   "metadata": {},
   "outputs": [],
   "source": [
    "selected_model = lin_reg_cv_results['estimator'][np.argmin(test_error)]"
   ]
  },
  {
   "cell_type": "markdown",
   "id": "71988ee9",
   "metadata": {},
   "source": [
    "The model coefficients of the best model are:"
   ]
  },
  {
   "cell_type": "code",
   "execution_count": 22,
   "id": "b63e9cfc",
   "metadata": {
    "scrolled": false
   },
   "outputs": [
    {
     "name": "stdout",
     "output_type": "stream",
     "text": [
      "Intercept(w0): 2.0779898917958657\n",
      "Intercept(w0): [ 8.44324888e-01  1.18463901e-01 -3.04619574e-01  3.56620503e-01\n",
      "  1.74458509e-04 -4.23964612e-02 -8.96045642e-01 -8.68906479e-01]\n"
     ]
    }
   ],
   "source": [
    "print(f\"Intercept(w0): {selected_model[-1].intercept_}\")\n",
    "print(f\"Intercept(w0): {selected_model[-1].coef_}\")"
   ]
  },
  {
   "cell_type": "markdown",
   "id": "471b32c2",
   "metadata": {},
   "source": [
    "See how the actual and predicted labels for the training set differs"
   ]
  },
  {
   "cell_type": "code",
   "execution_count": 23,
   "id": "74cf23a7",
   "metadata": {
    "scrolled": false
   },
   "outputs": [
    {
     "data": {
      "text/plain": [
       "Text(0.5, 1.0, 'Mean squared error = 0.52')"
      ]
     },
     "execution_count": 23,
     "metadata": {},
     "output_type": "execute_result"
    },
    {
     "data": {
      "image/png": "[encoded data removed]",
      "text/plain": [
       "<Figure size 576x396 with 1 Axes>"
      ]
     },
     "metadata": {},
     "output_type": "display_data"
    }
   ],
   "source": [
    "from sklearn.model_selection import cross_val_predict\n",
    "\n",
    "cv_predictions = cross_val_predict(line_reg_pipeline, train_features, train_labels)\n",
    "plt.scatter(train_labels, cv_predictions, color='blue')\n",
    "plt.plot(train_labels, train_labels, 'r-')\n",
    "\n",
    "mse_cv = mean_squared_error(train_labels, cv_predictions)\n",
    "plt.title(f\"Mean squared error = {mse_cv:.2f}\", size=24)"
   ]
  },
  {
   "cell_type": "markdown",
   "id": "c4cbf924",
   "metadata": {},
   "source": [
    "Once the final model has been selected, use it to predict on test_features"
   ]
  },
  {
   "cell_type": "code",
   "execution_count": 24,
   "id": "170766e9",
   "metadata": {
    "scrolled": true
   },
   "outputs": [
    {
     "data": {
      "text/plain": [
       "array([0.73548515, 1.7725621 , 2.70011199, 2.83716602, 2.60743151])"
      ]
     },
     "execution_count": 24,
     "metadata": {},
     "output_type": "execute_result"
    }
   ],
   "source": [
    "test_predictions_cv = selected_model.predict(test_features)\n",
    "test_predictions_cv[:5]"
   ]
  },
  {
   "cell_type": "markdown",
   "id": "6ea36339",
   "metadata": {},
   "source": [
    "Compare the above with the predictions on same test_features we built without cross-validation"
   ]
  },
  {
   "cell_type": "code",
   "execution_count": 25,
   "id": "8e31402f",
   "metadata": {},
   "outputs": [
    {
     "data": {
      "text/plain": [
       "array([0.72412832, 1.76677807, 2.71151581, 2.83601179, 2.603755  ])"
      ]
     },
     "execution_count": 25,
     "metadata": {},
     "output_type": "execute_result"
    }
   ],
   "source": [
    "test_predictions = line_reg_pipeline.predict(test_features)\n",
    "test_predictions[:5]"
   ]
  },
  {
   "cell_type": "code",
   "execution_count": 26,
   "id": "2cc65a3a",
   "metadata": {},
   "outputs": [
    {
     "name": "stdout",
     "output_type": "stream",
     "text": [
      "Model performance on test set: 0.5923577635319088\n",
      "Model performance on train set: 0.6098001134259827\n"
     ]
    }
   ],
   "source": [
    "# Evaluation on the selected model\n",
    "test_score = selected_model.score(test_features, test_labels)\n",
    "print(f\"Model performance on test set: {test_score}\")\n",
    "\n",
    "train_score = selected_model.score(train_features, train_labels)\n",
    "print(f\"Model performance on train set: {train_score}\")"
   ]
  },
  {
   "cell_type": "code",
   "execution_count": 27,
   "id": "2360bd91",
   "metadata": {
    "scrolled": true
   },
   "outputs": [
    {
     "name": "stdout",
     "output_type": "stream",
     "text": [
      "Model performance on test set: 0.5910509795491352\n",
      "Model performance on train set: 0.609873031052925\n"
     ]
    }
   ],
   "source": [
    "# Evaluation on original model (without cross-validation).  This was calculated above also\n",
    "test_score = line_reg_pipeline.score(test_features, test_labels)\n",
    "print(f\"Model performance on test set: {test_score}\")\n",
    "\n",
    "train_score = line_reg_pipeline.score(train_features, train_labels)\n",
    "print(f\"Model performance on train set: {train_score}\")"
   ]
  },
  {
   "cell_type": "markdown",
   "id": "ee8d0dca",
   "metadata": {},
   "source": [
    "Note that the test scores are marginally higher with cross validation"
   ]
  },
  {
   "cell_type": "code",
   "execution_count": 28,
   "id": "b7740ac8",
   "metadata": {
    "scrolled": false
   },
   "outputs": [
    {
     "name": "stdout",
     "output_type": "stream",
     "text": [
      "For a training set with 2476 samples:\n",
      " \t\ttrain score is [-0.497, -0.47, -0.445, -0.488, -0.485, -0.51, -0.475, -0.51, -0.455, -0.449]\n",
      " \t\ttest score is [-0.508, -2.848, -0.525, -0.522, -0.566, -30.543, -0.528, -0.569, -24.533, -2.647]\n",
      "For a training set with 3577 samples:\n",
      " \t\ttrain score is [-0.496, -0.501, -0.449, -0.5, -0.498, -0.513, -0.503, -0.508, -0.472, -0.456]\n",
      " \t\ttest score is [-0.506, -0.526, -0.525, -0.522, -0.565, -21.847, -0.525, -0.554, -19.319, -2.18]\n",
      "For a training set with 4678 samples:\n",
      " \t\ttrain score is [-0.505, -0.516, -0.49, -0.512, -0.509, -0.513, -0.505, -0.508, -0.485, -0.525]\n",
      " \t\ttest score is [-0.505, -0.522, -0.559, -0.521, -0.565, -13.683, -0.523, -0.554, -24.286, -0.547]\n",
      "For a training set with 5779 samples:\n",
      " \t\ttrain score is [-0.513, -0.518, -0.489, -0.515, -0.511, -0.511, -0.519, -0.512, -0.482, -0.527]\n",
      " \t\ttest score is [-0.504, -0.521, -0.559, -0.522, -0.563, -18.132, -0.522, -0.551, -25.942, -0.548]\n",
      "For a training set with 6880 samples:\n",
      " \t\ttrain score is [-0.514, -0.513, -0.491, -0.512, -0.507, -0.538, -0.516, -0.509, -0.52, -0.528]\n",
      " \t\ttest score is [-0.502, -0.521, -0.559, -0.522, -0.562, -0.725, -0.523, -0.549, -0.502, -0.547]\n",
      "For a training set with 7980 samples:\n",
      " \t\ttrain score is [-0.515, -0.516, -0.499, -0.514, -0.499, -0.533, -0.522, -0.508, -0.52, -0.523]\n",
      " \t\ttest score is [-0.5, -0.521, -0.56, -0.522, -0.562, -0.802, -0.523, -0.547, -0.503, -0.548]\n",
      "For a training set with 9081 samples:\n",
      " \t\ttrain score is [-0.519, -0.515, -0.505, -0.516, -0.499, -0.524, -0.523, -0.508, -0.519, -0.515]\n",
      " \t\ttest score is [-0.5, -0.522, -0.559, -0.522, -0.561, -0.877, -0.524, -0.549, -0.502, -0.548]\n",
      "For a training set with 10182 samples:\n",
      " \t\ttrain score is [-0.52, -0.52, -0.504, -0.517, -0.504, -0.527, -0.52, -0.508, -0.526, -0.51]\n",
      " \t\ttest score is [-0.5, -0.522, -0.559, -0.521, -0.561, -0.508, -0.523, -0.549, -0.501, -0.548]\n",
      "For a training set with 11283 samples:\n",
      " \t\ttrain score is [-0.524, -0.522, -0.51, -0.517, -0.502, -0.523, -0.519, -0.512, -0.527, -0.513]\n",
      " \t\ttest score is [-0.5, -0.522, -0.559, -0.521, -0.561, -0.505, -0.524, -0.548, -0.501, -0.548]\n",
      "For a training set with 12384 samples:\n",
      " \t\ttrain score is [-0.526, -0.52, -0.511, -0.52, -0.511, -0.525, -0.52, -0.514, -0.526, -0.514]\n",
      " \t\ttest score is [-0.5, -0.522, -0.559, -0.521, -0.561, -0.505, -0.524, -0.548, -0.501, -0.547]\n"
     ]
    }
   ],
   "source": [
    "result = learning_curve(line_reg_pipeline, train_features, train_labels, cv=shuffle_split_cv, scoring='neg_mean_squared_error', \n",
    "                        n_jobs=-1, return_times=True, train_sizes=np.linspace(0.2, 1.0, 10))\n",
    "                        \n",
    "(train_sizes, train_scores, test_scores, fit_times, score_times) = result\n",
    "                        \n",
    "for (size, train_score, test_score) in zip(train_sizes, train_scores, test_scores):\n",
    "    print(f\"For a training set with {size} samples:\\n\",\n",
    "          f\"\\t\\ttrain score is {[round(each,3) for each in train_score]}\\n\",\n",
    "          f\"\\t\\ttest score is {[round(each,3) for each in test_score]}\")"
   ]
  }
 ],
 "metadata": {
  "kernelspec": {
   "display_name": "Python 3 (ipykernel)",
   "language": "python",
   "name": "python3"
  },
  "language_info": {
   "codemirror_mode": {
    "name": "ipython",
    "version": 3
   },
   "file_extension": ".py",
   "mimetype": "text/x-python",
   "name": "python",
   "nbconvert_exporter": "python",
   "pygments_lexer": "ipython3",
   "version": "3.9.7"
  }
 },
 "nbformat": 4,
 "nbformat_minor": 5
}
