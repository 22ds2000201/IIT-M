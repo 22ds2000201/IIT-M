{
 "cells": [
  {
   "cell_type": "code",
   "execution_count": 1,
   "metadata": {},
   "outputs": [],
   "source": [
    "import itertools\n",
    "import functools\n",
    "import numpy as np\n",
    "import seaborn as sns\n",
    "import matplotlib.pyplot as plt\n",
    "from sklearn.model_selection import train_test_split"
   ]
  },
  {
   "cell_type": "code",
   "execution_count": 2,
   "metadata": {},
   "outputs": [],
   "source": [
    "def combinations(x, degree):\n",
    "    return itertools.combinations_with_replacement(x, degree)"
   ]
  },
  {
   "cell_type": "code",
   "execution_count": 3,
   "metadata": {},
   "outputs": [],
   "source": [
    "def compute_new_features(items):\n",
    "    return functools.reduce(lambda x, y: x * y, items)"
   ]
  },
  {
   "cell_type": "code",
   "execution_count": 4,
   "metadata": {},
   "outputs": [],
   "source": [
    "def polynomial_transform(x, degree):\n",
    "    if x.ndim == 1:\n",
    "        x = x[:, None]\n",
    "\n",
    "    features = [np.ones(len(x))] #a list of np-arrays with all 1.\n",
    "\n",
    "    for degree in range(1, degree + 1):\n",
    "        for item in combinations(x.T, degree):\n",
    "            features.append(compute_new_features(item))\n",
    "            \n",
    "    return np.asarray(features).T"
   ]
  },
  {
   "cell_type": "markdown",
   "metadata": {},
   "source": [
    "### Classification on data"
   ]
  },
  {
   "cell_type": "markdown",
   "metadata": {},
   "source": [
    "Create the input data.  This function can add more classes to the output label, and/or add outliers to the input data."
   ]
  },
  {
   "cell_type": "code",
   "execution_count": 5,
   "metadata": {},
   "outputs": [],
   "source": [
    "def create_toy_data(add_outliers=False, add_class=False):\n",
    "    x0 = np.random.normal(size=50).reshape(-1,2) - 1\n",
    "    x1 = np.random.normal(size=50).reshape(-1,2) + 1\n",
    "    if add_outliers:  # add 5 (pairs of (x, y)) outliers\n",
    "        x_1 = np.random.normal(size=10).reshape(-1,2) + np.array([5., 10.])\n",
    "        return np.concatenate((x0, x1, x_1)), np.concatenate((np.zeros(25), np.ones(30))).astype(int)\n",
    "    if add_class: #add 25 (pairs of (x, y) additional data)\n",
    "        x2 = np.random.normal(size=50).reshape(-1,2) + 2\n",
    "        return np.concatenate((x0, x1, x2)), np.concatenate((np.zeros(25), np.ones(25), 2 + np.zeros(25))).astype(int)\n",
    "    return np.concatenate((x0, x1)), np.concatenate((np.zeros(25), np.ones(25))).astype(int)"
   ]
  },
  {
   "cell_type": "markdown",
   "metadata": {},
   "source": [
    "https://github.com/ctgk/PRML/blob/8f8270cbae986c607f3cc6f89afefd58fa69fadd/prml/preprocess/label_transformer.py"
   ]
  },
  {
   "cell_type": "code",
   "execution_count": 6,
   "metadata": {},
   "outputs": [],
   "source": [
    "class LabelTransformer(object):\n",
    "    def __init__(self, n_classes:int=None):\n",
    "        self.n_classes = n_classes\n",
    "\n",
    "    @property\n",
    "    def n_classes(self):\n",
    "        return self.__n_classes\n",
    "\n",
    "    @n_classes.setter\n",
    "    def n_classes(self, K):\n",
    "        self.__n_classes = K\n",
    "        self.__encoder = None if K is None else np.eye(K)\n",
    "    @property\n",
    "    def encoder(self):\n",
    "        return self.__encoder\n",
    "\n",
    "    def encode(self, class_indices:np.ndarray):\n",
    "        if self.n_classes is None:\n",
    "            self.n_classes = np.max(class_indices) + 1\n",
    "\n",
    "        return self.encoder[class_indices]\n",
    "\n",
    "    def decode(self, onehot:np.ndarray):\n",
    "        return np.argmax(onehot, axis=1)"
   ]
  },
  {
   "cell_type": "code",
   "execution_count": 7,
   "metadata": {},
   "outputs": [
    {
     "name": "stdout",
     "output_type": "stream",
     "text": [
      "2\n",
      "[[1. 0.]\n",
      " [0. 1.]\n",
      " [1. 0.]\n",
      " [0. 1.]]\n"
     ]
    }
   ],
   "source": [
    "# Testing LabelTranformer\n",
    "l = LabelTransformer(2)\n",
    "print(l.n_classes)\n",
    "print(l.encoder[[0,1,0,1]])"
   ]
  },
  {
   "cell_type": "code",
   "execution_count": 8,
   "metadata": {
    "scrolled": false
   },
   "outputs": [
    {
     "data": {
      "text/plain": [
       "array([[1., 0.],\n",
       "       [0., 1.],\n",
       "       [1., 0.],\n",
       "       [0., 1.]])"
      ]
     },
     "execution_count": 8,
     "metadata": {},
     "output_type": "execute_result"
    }
   ],
   "source": [
    "LabelTransformer(2).encode(np.array([0,1,0,1]))"
   ]
  },
  {
   "cell_type": "code",
   "execution_count": 9,
   "metadata": {},
   "outputs": [],
   "source": [
    "def preprocess(add_class=False, add_outliers=False, degree=1):\n",
    "    x, y = create_toy_data(add_outliers, add_class)\n",
    "    x_poly = polynomial_transform(x, degree=degree)\n",
    "    x_train, x_test, y_train, y_test = train_test_split(x_poly, y) \n",
    "    y_train_trans = LabelTransformer().encode(y_train)\n",
    "    y_test_trans = LabelTransformer().encode(y_test)\n",
    "    return x_train , x_test, y_train, y_test, y_train_trans, y_test_trans "
   ]
  },
  {
   "cell_type": "code",
   "execution_count": 10,
   "metadata": {},
   "outputs": [],
   "source": [
    "sns.set_context(context='notebook',font_scale=1.5,rc={\"lines.linewidth\":2.5})\n",
    "\n",
    "def visualize_model(X_train, labels, lsc, degree=1):\n",
    "#     sns.set_style(\"white\")\n",
    "    f = plt.figure(figsize=(8,8))\n",
    "\n",
    "    x1_min = np.min(x_train[:,1])\n",
    "    x1_max = np.max(x_train[:,1])\n",
    "    x2_min = np.min(x_train[:,2])\n",
    "    x2_max = np.max(x_train[:,2])\n",
    "    \n",
    "    x1_test, x2_test = np.meshgrid(np.linspace(x1_min, x1_max, 100), np.linspace(x2_min, x2_max, 100)) \n",
    "    x_test = np.array([x1_test, x2_test]).reshape(2,-1).T\n",
    "    x_test_poly = polynomial_transform(x_test, degree=degree)\n",
    "    y_test = lsc.predict(x_test_poly)\n",
    "    \n",
    "    sns.scatterplot(data=x_train, x=x_train[:,1], y=x_train[:,2], hue=labels)\n",
    "    plt.contourf(x1_test, x2_test, y_test.reshape(100,100), alpha=0.5, levels=np.linspace(0,1,3))\n",
    "    plt.gca().set_aspect('equal', adjustable='box')"
   ]
  },
  {
   "cell_type": "markdown",
   "metadata": {},
   "source": [
    "Let's create Classification algorithm"
   ]
  },
  {
   "cell_type": "code",
   "execution_count": 11,
   "metadata": {},
   "outputs": [],
   "source": [
    " class LeastSquareClassification(object):\n",
    "  def __init__(self):\n",
    "    self.t0=20\n",
    "    self.t1=1000\n",
    "  \n",
    "  def predict(self,X):\n",
    "    return np.argmax(X @ self.w, axis=-1)\n",
    "\n",
    "  def predict_internal(self,X):\n",
    "    return X @ self.w\n",
    "  \n",
    "  def loss(self,X,y,reg_rate):\n",
    "    y_hat = self.predict_internal(X)\n",
    "    err = y_hat - y\n",
    "    return (1/2) * (err.T @ err) + (reg_rate / 2) * (self.w.T @ self.w)\n",
    "\n",
    "  def fit(self,X, y, reg_rate=0):\n",
    "    self.w = np.linalg.solve(X.T @ X + reg_rate * np.eye(X.shape[-1]), X.T@y)\n",
    "    print(X.shape, y.shape, self.w.shape)\n",
    "    return self.w\n",
    "  \n",
    "  def calculate_gradient(self, X, y, reg_rate):\n",
    "    y_hat = self.predict_internal(X)\n",
    "    return X.T @ (y_hat - y) + reg_rate * self.w\n",
    "  \n",
    "  def weight_updates(self, grad,lr):\n",
    "    return (self.w - lr*grad)\n",
    "  \n",
    "  def learning_schedule(self, t):\n",
    "    return self.t0 / (t + self.t1)\n",
    "  \n",
    "  def gd(self, X, y, num_epochs, lr, reg_rate):\n",
    "    self.w = np.zeros((X.shape[-1], y.shape[-1]))\n",
    "    self.w_all = []\n",
    "    self.err_all = []\n",
    "    for i in np.arange(0, num_epochs):\n",
    "      djdw = self.calculate_gradient(X, y, reg_rate)\n",
    "      self.w_all.append(self.w)\n",
    "      self.err_all.append(self.loss(X, y, reg_rate))\n",
    "      self.w = self.weight_updates(djdw, lr)\n",
    "    return self.w\n",
    "  \n",
    "  def sgd(self, X, y, num_epochs, reg_rate):\n",
    "    self.err_all = []\n",
    "    self.w_all = []\n",
    "    self.w=np.zeros((X.shape[-1], y.shape[-1]))\n",
    "    t=0\n",
    "    for epoch in range(num_epochs):\n",
    "      for iter in range(X.shape[0]):\n",
    "        t = t+1\n",
    "        random_index = np.random.randint(X.shape[0])\n",
    "        x1 = X[random_index:random_index+1]\n",
    "        y1 = y[random_index:random_index+1]\n",
    "\n",
    "        self.w_all.append(self.w)\n",
    "        self.err_all.append(self.loss(x1, y1, reg_rate))\n",
    "\n",
    "        djdw = self.calculate_gradient(x1, y1, reg_rate)\n",
    "        self.w = self.weight_updates(djdw, self.learning_schedule(t))\n",
    "    return self.w"
   ]
  },
  {
   "cell_type": "code",
   "execution_count": 12,
   "metadata": {},
   "outputs": [],
   "source": [
    "x_train , x_test, y_train, y_test, y_train_trans, y_test_trans = preprocess()"
   ]
  },
  {
   "cell_type": "code",
   "execution_count": 13,
   "metadata": {},
   "outputs": [
    {
     "data": {
      "text/plain": [
       "((37, 3), (37,))"
      ]
     },
     "execution_count": 13,
     "metadata": {},
     "output_type": "execute_result"
    }
   ],
   "source": [
    "x_train.shape, y_train.shape"
   ]
  },
  {
   "cell_type": "code",
   "execution_count": 14,
   "metadata": {},
   "outputs": [],
   "source": [
    "assert x_train.shape[0] == y_train.shape[0], \"Not enough labels for all training samples\""
   ]
  },
  {
   "cell_type": "code",
   "execution_count": 15,
   "metadata": {},
   "outputs": [],
   "source": [
    "assert x_test.shape[0] == y_test.shape[0], \"Not enough labels for all test samples\""
   ]
  },
  {
   "cell_type": "code",
   "execution_count": 16,
   "metadata": {
    "scrolled": true
   },
   "outputs": [
    {
     "name": "stdout",
     "output_type": "stream",
     "text": [
      "(37, 3) (37, 2) (3, 2)\n"
     ]
    },
    {
     "data": {
      "text/plain": [
       "array([[ 0.48267833,  0.51732167],\n",
       "       [-0.12645193,  0.12645193],\n",
       "       [-0.21777271,  0.21777271]])"
      ]
     },
     "execution_count": 16,
     "metadata": {},
     "output_type": "execute_result"
    }
   ],
   "source": [
    "lsc = LeastSquareClassification()\n",
    "lsc.fit(x_train, y_train_trans, reg_rate=0)"
   ]
  },
  {
   "cell_type": "code",
   "execution_count": 17,
   "metadata": {
    "scrolled": false
   },
   "outputs": [
    {
     "data": {
      "image/png": "[encoded data removed]",
      "text/plain": [
       "<Figure size 576x576 with 1 Axes>"
      ]
     },
     "metadata": {
      "needs_background": "light"
     },
     "output_type": "display_data"
    }
   ],
   "source": [
    "visualize_model(x_train, y_train, lsc)"
   ]
  },
  {
   "cell_type": "code",
   "execution_count": 18,
   "metadata": {},
   "outputs": [],
   "source": [
    "def plot_learning_curve(err_all):\n",
    "    err = [err[1][1] for err in err_all]\n",
    "    plt.plot(np.arange(len(err)), err, 'r-')"
   ]
  },
  {
   "cell_type": "markdown",
   "metadata": {},
   "source": [
    "#### Gradient Descent"
   ]
  },
  {
   "cell_type": "code",
   "execution_count": 19,
   "metadata": {},
   "outputs": [
    {
     "data": {
      "image/png": "[encoded data removed]",
      "text/plain": [
       "<Figure size 432x288 with 1 Axes>"
      ]
     },
     "metadata": {
      "needs_background": "light"
     },
     "output_type": "display_data"
    }
   ],
   "source": [
    "lsc.gd(x_train, y_train_trans, num_epochs=100, reg_rate=0, lr = 0.001)\n",
    "plot_learning_curve(lsc.err_all)"
   ]
  },
  {
   "cell_type": "code",
   "execution_count": 20,
   "metadata": {
    "scrolled": false
   },
   "outputs": [
    {
     "data": {
      "image/png": "[encoded data removed]",
      "text/plain": [
       "<Figure size 576x576 with 1 Axes>"
      ]
     },
     "metadata": {
      "needs_background": "light"
     },
     "output_type": "display_data"
    }
   ],
   "source": [
    "visualize_model(x_train, y_train, lsc)"
   ]
  },
  {
   "cell_type": "markdown",
   "metadata": {},
   "source": [
    "#### Stochastic Gradient Descent"
   ]
  },
  {
   "cell_type": "code",
   "execution_count": 21,
   "metadata": {
    "scrolled": true
   },
   "outputs": [
    {
     "data": {
      "image/png": "[encoded data removed]",
      "text/plain": [
       "<Figure size 432x288 with 1 Axes>"
      ]
     },
     "metadata": {
      "needs_background": "light"
     },
     "output_type": "display_data"
    }
   ],
   "source": [
    "lsc.sgd(x_train, y_train_trans, num_epochs=100, reg_rate=0)\n",
    "plot_learning_curve(lsc.err_all)"
   ]
  },
  {
   "cell_type": "code",
   "execution_count": 22,
   "metadata": {
    "scrolled": true
   },
   "outputs": [
    {
     "data": {
      "image/png": "[encoded data removed]",
      "text/plain": [
       "<Figure size 576x576 with 1 Axes>"
      ]
     },
     "metadata": {
      "needs_background": "light"
     },
     "output_type": "display_data"
    }
   ],
   "source": [
    "visualize_model(x_train, y_train, lsc)"
   ]
  },
  {
   "cell_type": "markdown",
   "metadata": {},
   "source": [
    "#### Evaluation metrics"
   ]
  },
  {
   "cell_type": "code",
   "execution_count": 23,
   "metadata": {},
   "outputs": [],
   "source": [
    "y_test_hat = lsc.predict(x_test)"
   ]
  },
  {
   "cell_type": "code",
   "execution_count": 24,
   "metadata": {},
   "outputs": [],
   "source": [
    "tp = np.where((y_test == 1) & (y_test_hat == 1), 1, 0).sum()\n",
    "tn = np.where((y_test == 0) & (y_test_hat == 0), 1, 0).sum()\n",
    "fp = np.where((y_test == 0) & (y_test_hat == 1), 1, 0).sum()\n",
    "fn = np.where((y_test == 1) & (y_test_hat == 0), 1, 0).sum()"
   ]
  },
  {
   "cell_type": "code",
   "execution_count": 25,
   "metadata": {},
   "outputs": [
    {
     "data": {
      "text/plain": [
       "(7, 5, 0, 1)"
      ]
     },
     "execution_count": 25,
     "metadata": {},
     "output_type": "execute_result"
    }
   ],
   "source": [
    "tp, tn, fn, fp"
   ]
  },
  {
   "cell_type": "code",
   "execution_count": 26,
   "metadata": {},
   "outputs": [],
   "source": [
    "def precision(tp, fp):\n",
    "    if (tp + fp) == 0:\n",
    "        return NaN\n",
    "    return tp / (tp + fp)"
   ]
  },
  {
   "cell_type": "code",
   "execution_count": 27,
   "metadata": {},
   "outputs": [],
   "source": [
    "def recall(tp, fn):\n",
    "    if (tp + fn) == 0:\n",
    "        return NaN\n",
    "    return tp / (tp + fn)"
   ]
  },
  {
   "cell_type": "code",
   "execution_count": 28,
   "metadata": {},
   "outputs": [],
   "source": [
    "def accuracy(tp, tn, fp, fn):\n",
    "    return (tp + tn) / (tp + tn + fp + fn)"
   ]
  },
  {
   "cell_type": "code",
   "execution_count": 29,
   "metadata": {},
   "outputs": [],
   "source": [
    "def f1_score(pr, r):\n",
    "    return 2 * ((pr * r) / (pr + r))"
   ]
  },
  {
   "cell_type": "code",
   "execution_count": 30,
   "metadata": {
    "scrolled": true
   },
   "outputs": [
    {
     "data": {
      "text/plain": [
       "(0.875, 1.0, 0.9230769230769231, 0.9333333333333333)"
      ]
     },
     "execution_count": 30,
     "metadata": {},
     "output_type": "execute_result"
    }
   ],
   "source": [
    "pr = precision(tp, fp)\n",
    "r = recall(tp, fn)\n",
    "pr, r, accuracy(tp, tn, fp, fn), f1_score(pr, r)"
   ]
  },
  {
   "cell_type": "markdown",
   "metadata": {},
   "source": [
    "### Classification on data with outliers."
   ]
  },
  {
   "cell_type": "code",
   "execution_count": 31,
   "metadata": {},
   "outputs": [],
   "source": [
    "x_train , x_test, y_train, y_test, y_train_trans, y_test_trans = preprocess(add_outliers=True)"
   ]
  },
  {
   "cell_type": "code",
   "execution_count": 32,
   "metadata": {},
   "outputs": [],
   "source": [
    "assert x_train.shape[0] == y_train.shape[0], \"Not enough labels for all training samples\""
   ]
  },
  {
   "cell_type": "code",
   "execution_count": 33,
   "metadata": {},
   "outputs": [],
   "source": [
    "assert x_test.shape[0] == y_test.shape[0], \"Not enough labels for all test samples\""
   ]
  },
  {
   "cell_type": "code",
   "execution_count": 34,
   "metadata": {
    "scrolled": true
   },
   "outputs": [
    {
     "name": "stdout",
     "output_type": "stream",
     "text": [
      "(41, 3) (41, 2) (3, 2)\n"
     ]
    },
    {
     "data": {
      "text/plain": [
       "array([[ 0.56648961,  0.43351039],\n",
       "       [-0.1576575 ,  0.1576575 ],\n",
       "       [-0.01812434,  0.01812434]])"
      ]
     },
     "execution_count": 34,
     "metadata": {},
     "output_type": "execute_result"
    }
   ],
   "source": [
    "lsc = LeastSquareClassification()\n",
    "lsc.fit(x_train, y_train_trans, reg_rate=0)"
   ]
  },
  {
   "cell_type": "code",
   "execution_count": 35,
   "metadata": {
    "scrolled": false
   },
   "outputs": [
    {
     "data": {
      "image/png": "[encoded data removed]",
      "text/plain": [
       "<Figure size 576x576 with 1 Axes>"
      ]
     },
     "metadata": {
      "needs_background": "light"
     },
     "output_type": "display_data"
    }
   ],
   "source": [
    "visualize_model(x_train, y_train, lsc)"
   ]
  },
  {
   "cell_type": "code",
   "execution_count": 36,
   "metadata": {},
   "outputs": [],
   "source": [
    "def plot_learning_curve(err_all):\n",
    "    err = [err[1][1] for err in err_all]\n",
    "    plt.plot(np.arange(len(err)), err, 'r-')"
   ]
  },
  {
   "cell_type": "markdown",
   "metadata": {},
   "source": [
    "#### Gradient Descent"
   ]
  },
  {
   "cell_type": "code",
   "execution_count": 37,
   "metadata": {},
   "outputs": [
    {
     "data": {
      "image/png": "[encoded data removed]",
      "text/plain": [
       "<Figure size 432x288 with 1 Axes>"
      ]
     },
     "metadata": {
      "needs_background": "light"
     },
     "output_type": "display_data"
    }
   ],
   "source": [
    "lsc.gd(x_train, y_train_trans, num_epochs=100, reg_rate=0, lr = 0.001)\n",
    "plot_learning_curve(lsc.err_all)"
   ]
  },
  {
   "cell_type": "code",
   "execution_count": 38,
   "metadata": {
    "scrolled": false
   },
   "outputs": [
    {
     "data": {
      "image/png": "[encoded data removed]",
      "text/plain": [
       "<Figure size 576x576 with 1 Axes>"
      ]
     },
     "metadata": {
      "needs_background": "light"
     },
     "output_type": "display_data"
    }
   ],
   "source": [
    "visualize_model(x_train, y_train, lsc)"
   ]
  },
  {
   "cell_type": "markdown",
   "metadata": {},
   "source": [
    "#### Stochastic Gradient Descent"
   ]
  },
  {
   "cell_type": "code",
   "execution_count": 39,
   "metadata": {
    "scrolled": true
   },
   "outputs": [
    {
     "data": {
      "image/png": "[encoded data removed]",
      "text/plain": [
       "<Figure size 432x288 with 1 Axes>"
      ]
     },
     "metadata": {
      "needs_background": "light"
     },
     "output_type": "display_data"
    }
   ],
   "source": [
    "lsc.sgd(x_train, y_train_trans, num_epochs=100, reg_rate=0)\n",
    "plot_learning_curve(lsc.err_all)"
   ]
  },
  {
   "cell_type": "code",
   "execution_count": 40,
   "metadata": {
    "scrolled": false
   },
   "outputs": [
    {
     "data": {
      "image/png": "[encoded data removed]",
      "text/plain": [
       "<Figure size 576x576 with 1 Axes>"
      ]
     },
     "metadata": {
      "needs_background": "light"
     },
     "output_type": "display_data"
    }
   ],
   "source": [
    "visualize_model(x_train, y_train, lsc)"
   ]
  },
  {
   "cell_type": "markdown",
   "metadata": {},
   "source": [
    "### Classification on data with more than 2 classes per label."
   ]
  },
  {
   "cell_type": "code",
   "execution_count": 41,
   "metadata": {},
   "outputs": [],
   "source": [
    "x_train , x_test, y_train, y_test, y_train_trans, y_test_trans = preprocess(add_class=True)"
   ]
  },
  {
   "cell_type": "code",
   "execution_count": 42,
   "metadata": {},
   "outputs": [],
   "source": [
    "assert x_train.shape[0] == y_train.shape[0], \"Not enough labels for all training samples\""
   ]
  },
  {
   "cell_type": "code",
   "execution_count": 43,
   "metadata": {},
   "outputs": [],
   "source": [
    "assert x_test.shape[0] == y_test.shape[0], \"Not enough labels for all test samples\""
   ]
  },
  {
   "cell_type": "code",
   "execution_count": 44,
   "metadata": {
    "scrolled": true
   },
   "outputs": [
    {
     "name": "stdout",
     "output_type": "stream",
     "text": [
      "(56, 3) (56, 3) (3, 3)\n"
     ]
    },
    {
     "data": {
      "text/plain": [
       "array([[ 0.52825835,  0.28247359,  0.18926806],\n",
       "       [-0.08910195, -0.04917618,  0.13827813],\n",
       "       [-0.20389303,  0.09744845,  0.10644458]])"
      ]
     },
     "execution_count": 44,
     "metadata": {},
     "output_type": "execute_result"
    }
   ],
   "source": [
    "lsc = LeastSquareClassification()\n",
    "lsc.fit(x_train, y_train_trans, reg_rate=0)"
   ]
  },
  {
   "cell_type": "code",
   "execution_count": 45,
   "metadata": {
    "scrolled": false
   },
   "outputs": [
    {
     "data": {
      "image/png": "[encoded data removed]",
      "text/plain": [
       "<Figure size 576x576 with 1 Axes>"
      ]
     },
     "metadata": {
      "needs_background": "light"
     },
     "output_type": "display_data"
    }
   ],
   "source": [
    "visualize_model(x_train, y_train, lsc)"
   ]
  },
  {
   "cell_type": "code",
   "execution_count": 46,
   "metadata": {},
   "outputs": [],
   "source": [
    "def plot_learning_curve(err_all):\n",
    "    err = [err[1][1] for err in err_all]\n",
    "    plt.plot(np.arange(len(err)), err, 'r-')"
   ]
  },
  {
   "cell_type": "markdown",
   "metadata": {},
   "source": [
    "#### Gradient Descent"
   ]
  },
  {
   "cell_type": "code",
   "execution_count": 47,
   "metadata": {},
   "outputs": [
    {
     "data": {
      "image/png": "[encoded data removed]",
      "text/plain": [
       "<Figure size 432x288 with 1 Axes>"
      ]
     },
     "metadata": {
      "needs_background": "light"
     },
     "output_type": "display_data"
    }
   ],
   "source": [
    "lsc.gd(x_train, y_train_trans, num_epochs=100, reg_rate=0, lr = 0.001)\n",
    "plot_learning_curve(lsc.err_all)"
   ]
  },
  {
   "cell_type": "code",
   "execution_count": 48,
   "metadata": {},
   "outputs": [
    {
     "name": "stdout",
     "output_type": "stream",
     "text": [
      "              precision    recall  f1-score   support\n",
      "\n",
      "           0       1.00      1.00      1.00         6\n",
      "           1       1.00      0.12      0.22         8\n",
      "           2       0.42      1.00      0.59         5\n",
      "\n",
      "    accuracy                           0.63        19\n",
      "   macro avg       0.81      0.71      0.60        19\n",
      "weighted avg       0.85      0.63      0.56        19\n",
      "\n"
     ]
    }
   ],
   "source": [
    "y_test_predict = lsc.predict(x_test)\n",
    "#using the sklearn to generate the evaluate metrics, rather than using our functions\n",
    "from sklearn.metrics import classification_report\n",
    "print(classification_report(y_test, y_test_predict))"
   ]
  },
  {
   "cell_type": "code",
   "execution_count": null,
   "metadata": {
    "scrolled": false
   },
   "outputs": [],
   "source": []
  },
  {
   "cell_type": "markdown",
   "metadata": {},
   "source": [
    "### Classification on data that fit polynomial (circle)"
   ]
  },
  {
   "cell_type": "code",
   "execution_count": 49,
   "metadata": {},
   "outputs": [
    {
     "name": "stderr",
     "output_type": "stream",
     "text": [
      "D:\\Anaconda3\\lib\\site-packages\\sklearn\\feature_extraction\\image.py:167: DeprecationWarning: `np.int` is a deprecated alias for the builtin `int`. To silence this warning, use `int` by itself. Doing this will not modify any behavior and is safe. When replacing `np.int`, you may wish to use e.g. `np.int64` or `np.int32` to specify the precision. If you wish to review your current use, check the release note link for additional information.\n",
      "Deprecated in NumPy 1.20; for more details and guidance: https://numpy.org/devdocs/release/1.20.0-notes.html#deprecations\n",
      "  dtype=np.int):\n"
     ]
    }
   ],
   "source": [
    "from sklearn.datasets import make_circles\n",
    "x, y = make_circles()"
   ]
  },
  {
   "cell_type": "code",
   "execution_count": 50,
   "metadata": {},
   "outputs": [],
   "source": [
    "x_poly = polynomial_transform(x, degree=2)\n",
    "x_train, x_test, y_train, y_test = train_test_split(x_poly, y)"
   ]
  },
  {
   "cell_type": "code",
   "execution_count": 51,
   "metadata": {},
   "outputs": [
    {
     "data": {
      "text/plain": [
       "((75, 6), (25, 6), (75,), (25,))"
      ]
     },
     "execution_count": 51,
     "metadata": {},
     "output_type": "execute_result"
    }
   ],
   "source": [
    "x_train.shape, x_test.shape, y_train.shape, y_test.shape"
   ]
  },
  {
   "cell_type": "code",
   "execution_count": 52,
   "metadata": {},
   "outputs": [],
   "source": [
    "y_train_trans = LabelTransformer().encode(y_train)\n",
    "y_test_trans = LabelTransformer().encode(y_test)"
   ]
  },
  {
   "cell_type": "code",
   "execution_count": 53,
   "metadata": {
    "scrolled": true
   },
   "outputs": [
    {
     "data": {
      "text/plain": [
       "<AxesSubplot:>"
      ]
     },
     "execution_count": 53,
     "metadata": {},
     "output_type": "execute_result"
    },
    {
     "data": {
      "image/png": "[encoded data removed]",
      "text/plain": [
       "<Figure size 288x288 with 1 Axes>"
      ]
     },
     "metadata": {
      "needs_background": "light"
     },
     "output_type": "display_data"
    }
   ],
   "source": [
    "f = plt.figure(figsize=(4,4))\n",
    "sns.scatterplot(data=x_train, x=x_train[:,1], y=x_train[:,2], hue=y_train)"
   ]
  },
  {
   "cell_type": "code",
   "execution_count": 54,
   "metadata": {
    "scrolled": false
   },
   "outputs": [
    {
     "name": "stdout",
     "output_type": "stream",
     "text": [
      "(75, 6) (75, 2) (6, 2)\n"
     ]
    },
    {
     "data": {
      "text/plain": [
       "array([[-1.77777778e+00,  2.77777778e+00],\n",
       "       [-7.63623731e-17, -9.38525392e-18],\n",
       "       [-7.11159489e-17,  0.00000000e+00],\n",
       "       [ 2.77777778e+00, -2.77777778e+00],\n",
       "       [-1.07059901e-16, -2.14119801e-16],\n",
       "       [ 2.77777778e+00, -2.77777778e+00]])"
      ]
     },
     "execution_count": 54,
     "metadata": {},
     "output_type": "execute_result"
    }
   ],
   "source": [
    "lsc = LeastSquareClassification()\n",
    "lsc.fit(x_train, y_train_trans, reg_rate=0)"
   ]
  },
  {
   "cell_type": "code",
   "execution_count": 55,
   "metadata": {
    "scrolled": true
   },
   "outputs": [
    {
     "data": {
      "image/png": "[encoded data removed]",
      "text/plain": [
       "<Figure size 576x576 with 1 Axes>"
      ]
     },
     "metadata": {
      "needs_background": "light"
     },
     "output_type": "display_data"
    }
   ],
   "source": [
    "visualize_model(x_train, y_train, lsc, degree=2)"
   ]
  },
  {
   "cell_type": "code",
   "execution_count": 56,
   "metadata": {
    "scrolled": true
   },
   "outputs": [
    {
     "name": "stdout",
     "output_type": "stream",
     "text": [
      "              precision    recall  f1-score   support\n",
      "\n",
      "           0       1.00      1.00      1.00        14\n",
      "           1       1.00      1.00      1.00        11\n",
      "\n",
      "    accuracy                           1.00        25\n",
      "   macro avg       1.00      1.00      1.00        25\n",
      "weighted avg       1.00      1.00      1.00        25\n",
      "\n"
     ]
    }
   ],
   "source": [
    "y_test_predict = lsc.predict(x_test)\n",
    "#using the sklearn to generate the evaluate metrics, rather than using our functions\n",
    "from sklearn.metrics import classification_report\n",
    "print(classification_report(y_test, y_test_predict))"
   ]
  },
  {
   "cell_type": "markdown",
   "metadata": {},
   "source": [
    "### Perceptron"
   ]
  },
  {
   "cell_type": "code",
   "execution_count": 57,
   "metadata": {},
   "outputs": [],
   "source": [
    "import numpy as np\n",
    "import seaborn as sns\n",
    "import matplotlib.pyplot as plt\n",
    "from sklearn.model_selection import train_test_split\n",
    "np.random.seed(1234)\n",
    "%matplotlib inline"
   ]
  },
  {
   "cell_type": "code",
   "execution_count": 58,
   "metadata": {},
   "outputs": [],
   "source": [
    "# Same implementation as in the previous section\n",
    "def polynomial_transform(x, degree):\n",
    "    if x.ndim == 1:\n",
    "        x = x[:, None]\n",
    "\n",
    "    features = [np.ones(len(x))] #a list of np-arrays with all 1.\n",
    "\n",
    "    for degree in range(1, degree + 1):\n",
    "        for item in combinations(x.T, degree):\n",
    "            features.append(compute_new_features(item))\n",
    "            \n",
    "    return np.asarray(features).T"
   ]
  },
  {
   "cell_type": "code",
   "execution_count": 59,
   "metadata": {},
   "outputs": [],
   "source": [
    "def create_toy_data(factor=3):\n",
    "    x0 = np.random.normal(size=50).reshape(-1, 2) - factor\n",
    "    x1 = np.random.normal(size=50).reshape(-1, 2) + factor\n",
    "    return np.concatenate([x0, x1]), np.concatenate([np.zeros(25)-1, np.ones(25)]).astype(np.int)"
   ]
  },
  {
   "cell_type": "code",
   "execution_count": 60,
   "metadata": {},
   "outputs": [],
   "source": [
    "# same as in previous section\n",
    "sns.set_context(context='notebook',font_scale=1.5,rc={\"lines.linewidth\":2.5})\n",
    "\n",
    "def visualize_model(X_train, labels, lsc, degree=1):\n",
    "    f = plt.figure(figsize=(8,8))\n",
    "\n",
    "    x1_min = np.min(x_train[:,1])\n",
    "    x1_max = np.max(x_train[:,1])\n",
    "    x2_min = np.min(x_train[:,2])\n",
    "    x2_max = np.max(x_train[:,2])\n",
    "    \n",
    "    x1_test, x2_test = np.meshgrid(np.linspace(x1_min, x1_max, 100), np.linspace(x2_min, x2_max, 100)) \n",
    "    x_test = np.array([x1_test, x2_test]).reshape(2,-1).T\n",
    "    x_test_poly = polynomial_transform(x_test, degree=degree)\n",
    "    y_test = lsc.predict(x_test_poly)\n",
    "    \n",
    "    sns.scatterplot(data=x_train, x=x_train[:,-2], y=x_train[:,-1], hue=labels)\n",
    "    plt.contourf(x1_test, x2_test, y_test.reshape(100,100), alpha=0.5, levels=np.linspace(0,1,3))\n",
    "    plt.gca().set_aspect('equal', adjustable='box')"
   ]
  },
  {
   "cell_type": "markdown",
   "metadata": {},
   "source": [
    "#### Perceptron class"
   ]
  },
  {
   "cell_type": "code",
   "execution_count": 61,
   "metadata": {},
   "outputs": [],
   "source": [
    " class Perceptron(object):\n",
    "  def __init__(self):\n",
    "      pass\n",
    "    \n",
    "  def predict(self,X):\n",
    "    z = X @ self.w\n",
    "    return np.where (z >= 0, 1, -1)\n",
    " \n",
    "  def loss(self,X,y,reg_rate):\n",
    "    return np.sum(np.maximum(-1 * self.predict(X) * y, np.zeros(y.shape[0])))\n",
    "\n",
    "  def fit(self,X, y, reg_rate=0):\n",
    "    self.w = np.linalg.solve(X.T @ X + reg_rate * np.eye(X.shape[-1]), X.T@y)\n",
    "    print(X.shape, y.shape, self.w.shape)\n",
    "    return self.w\n",
    "  \n",
    "  def train(self, X, y, num_epochs, lr=0.001):\n",
    "    self.w = np.zeros(X.shape[1])\n",
    "    self.w_all = []\n",
    "    self.err_all = []\n",
    "    for i in np.arange(0, num_epochs):\n",
    "        errors = 0\n",
    "        for xi, target in zip(X, y):\n",
    "            self.w += lr * (target - self.predict(xi)) * xi\n",
    "            errors += np.maximum(-1 * self.predict(X) * y, np.zeros(y.shape[0]))\n",
    "        self.err_all.append(errors)\n",
    "        self.w_all.append(self.w)\n",
    "#         print(\"w:\", self.w)\n",
    "#         print(\"J(w):\", self.err_all[-1])\n",
    "    return self.w"
   ]
  },
  {
   "cell_type": "markdown",
   "metadata": {},
   "source": [
    "#### Linearly separable case"
   ]
  },
  {
   "cell_type": "code",
   "execution_count": 62,
   "metadata": {
    "scrolled": true
   },
   "outputs": [
    {
     "name": "stderr",
     "output_type": "stream",
     "text": [
      "D:\\Anaconda3\\lib\\site-packages\\ipykernel_launcher.py:4: DeprecationWarning: `np.int` is a deprecated alias for the builtin `int`. To silence this warning, use `int` by itself. Doing this will not modify any behavior and is safe. When replacing `np.int`, you may wish to use e.g. `np.int64` or `np.int32` to specify the precision. If you wish to review your current use, check the release note link for additional information.\n",
      "Deprecated in NumPy 1.20; for more details and guidance: https://numpy.org/devdocs/release/1.20.0-notes.html#deprecations\n",
      "  after removing the cwd from sys.path.\n"
     ]
    }
   ],
   "source": [
    "x, y = create_toy_data()\n",
    "x_poly = polynomial_transform(x, degree=1)\n",
    "x_train, x_test, y_train, y_test = train_test_split(x_poly, y)"
   ]
  },
  {
   "cell_type": "code",
   "execution_count": 63,
   "metadata": {
    "scrolled": true
   },
   "outputs": [
    {
     "data": {
      "image/png": "[encoded data removed]",
      "text/plain": [
       "<Figure size 576x576 with 1 Axes>"
      ]
     },
     "metadata": {
      "needs_background": "light"
     },
     "output_type": "display_data"
    }
   ],
   "source": [
    "p = Perceptron()\n",
    "p.train(x_train, y_train, num_epochs=100, lr=1)\n",
    "visualize_model(x_train, y_train, p, degree=1)"
   ]
  },
  {
   "cell_type": "markdown",
   "metadata": {},
   "source": [
    "#### Non-linearly separable case"
   ]
  },
  {
   "cell_type": "code",
   "execution_count": 64,
   "metadata": {
    "scrolled": true
   },
   "outputs": [
    {
     "name": "stderr",
     "output_type": "stream",
     "text": [
      "D:\\Anaconda3\\lib\\site-packages\\ipykernel_launcher.py:4: DeprecationWarning: `np.int` is a deprecated alias for the builtin `int`. To silence this warning, use `int` by itself. Doing this will not modify any behavior and is safe. When replacing `np.int`, you may wish to use e.g. `np.int64` or `np.int32` to specify the precision. If you wish to review your current use, check the release note link for additional information.\n",
      "Deprecated in NumPy 1.20; for more details and guidance: https://numpy.org/devdocs/release/1.20.0-notes.html#deprecations\n",
      "  after removing the cwd from sys.path.\n"
     ]
    }
   ],
   "source": [
    "x, y = create_toy_data(factor=0.5)\n",
    "x_poly = polynomial_transform(x, degree=1)\n",
    "x_train, x_test, y_train, y_test = train_test_split(x_poly, y)"
   ]
  },
  {
   "cell_type": "code",
   "execution_count": 65,
   "metadata": {},
   "outputs": [
    {
     "data": {
      "image/png": "[encoded data removed]",
      "text/plain": [
       "<Figure size 576x576 with 1 Axes>"
      ]
     },
     "metadata": {
      "needs_background": "light"
     },
     "output_type": "display_data"
    }
   ],
   "source": [
    "p = Perceptron()\n",
    "p.train(x_train, y_train, num_epochs=100, lr=1)\n",
    "#In non-linear separable case, the classification doesn't converge, but oscillate.  Print loss to see.\n",
    "visualize_model(x_train, y_train, p, degree=1)"
   ]
  }
 ],
 "metadata": {
  "kernelspec": {
   "display_name": "Python 3",
   "language": "python",
   "name": "python3"
  },
  "language_info": {
   "codemirror_mode": {
    "name": "ipython",
    "version": 3
   },
   "file_extension": ".py",
   "mimetype": "text/x-python",
   "name": "python",
   "nbconvert_exporter": "python",
   "pygments_lexer": "ipython3",
   "version": "3.7.4"
  }
 },
 "nbformat": 4,
 "nbformat_minor": 2
}
