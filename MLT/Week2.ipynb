{
 "cells": [
  {
   "cell_type": "code",
   "execution_count": 1,
   "metadata": {},
   "outputs": [
    {
     "name": "stderr",
     "output_type": "stream",
     "text": [
      "D:\\Anaconda3\\lib\\site-packages\\statsmodels\\tools\\_testing.py:19: FutureWarning: pandas.util.testing is deprecated. Use the functions in the public API at pandas.testing instead.\n",
      "  import pandas.util.testing as tm\n"
     ]
    }
   ],
   "source": [
    "import numpy as np\n",
    "import seaborn as sns\n",
    "import matplotlib.pyplot as plt"
   ]
  },
  {
   "cell_type": "markdown",
   "metadata": {},
   "source": [
    "### Training Data"
   ]
  },
  {
   "cell_type": "code",
   "execution_count": 2,
   "metadata": {},
   "outputs": [],
   "source": [
    "#Parameters\n",
    "w0 = 3\n",
    "w1 = 4\n",
    "n = 100"
   ]
  },
  {
   "cell_type": "code",
   "execution_count": 3,
   "metadata": {},
   "outputs": [
    {
     "data": {
      "text/plain": [
       "array([3.71960902, 2.09165868, 0.71749795, 4.89488812, 4.57030118,\n",
       "       3.69741751, 5.65272749, 3.78474791, 9.12655883, 6.4057076 ,\n",
       "       4.95903563, 1.28068205, 8.38437411, 9.67264836, 2.61319624,\n",
       "       6.86353271, 7.43834599, 4.45862475, 4.99697258, 8.18632774,\n",
       "       2.73473906, 2.4515276 , 4.87006548, 5.00892347, 0.16355668,\n",
       "       8.41551507, 9.64703949, 0.53128371, 8.22826831, 2.87458559,\n",
       "       5.21697706, 5.94989377, 0.74158309, 8.29522234, 9.77824022,\n",
       "       7.40578286, 9.19934008, 4.66330911, 4.5989406 , 2.40252444,\n",
       "       0.27779542, 3.12844975, 6.55627203, 8.41338063, 8.39118642,\n",
       "       7.73381152, 5.41624623, 2.63535907, 3.93740899, 4.01158725,\n",
       "       5.81003653, 5.77233151, 0.51169634, 5.44865806, 8.15607508,\n",
       "       5.35470213, 3.46107829, 3.99360113, 0.84784692, 9.54925876,\n",
       "       5.07155873, 2.79840423, 6.68486558, 0.04479194, 3.5286327 ,\n",
       "       1.7823633 , 7.6388062 , 9.57667979, 4.53766075, 9.12682416,\n",
       "       1.13831093, 0.18958698, 4.44456078, 3.17795169, 3.35868626,\n",
       "       0.54225853, 3.08436762, 4.47067373, 8.22099429, 2.92238304,\n",
       "       6.88402596, 9.12354991, 9.9834635 , 2.16245718, 7.00420414,\n",
       "       3.15653584, 1.92017642, 5.63209746, 9.62357502, 6.83882334,\n",
       "       9.25298006, 2.56294554, 1.48156079, 3.35486573, 3.94306211,\n",
       "       6.91014949, 8.77453778, 2.00719755, 0.37168073, 8.46584325])"
      ]
     },
     "execution_count": 3,
     "metadata": {},
     "output_type": "execute_result"
    }
   ],
   "source": [
    "#Creates a column vector with 100 rows.\n",
    "X = 10 * np.random.random(n, )\n",
    "X"
   ]
  },
  {
   "cell_type": "code",
   "execution_count": 4,
   "metadata": {},
   "outputs": [
    {
     "data": {
      "text/plain": [
       "array([18.38220375, 11.52531896,  6.01697706, 23.46484784, 21.5726967 ,\n",
       "       18.22387678, 25.9106353 , 18.5502019 , 39.8738842 , 29.40727104,\n",
       "       23.01020988,  9.12122616, 37.36486509, 41.86283389, 13.84167983,\n",
       "       31.28949388, 32.85491656, 21.48245455, 23.81155103, 36.02305766,\n",
       "       14.70213285, 13.21075031, 23.40681521, 23.11823992,  4.32628312,\n",
       "       37.26599312, 42.48820647,  5.35400876, 36.41651181, 14.79349271,\n",
       "       24.79083113, 27.47686979,  6.69031422, 37.03018557, 42.12992204,\n",
       "       32.87312299, 40.74289981, 22.34417353, 21.45682311, 13.52386403,\n",
       "        5.10768689, 16.29018888, 29.80341732, 37.62638715, 36.95687151,\n",
       "       34.11887316, 25.17457028, 14.04950011, 19.48742443, 19.64389813,\n",
       "       26.52085407, 26.09034846,  5.42641158, 25.44093328, 36.17082364,\n",
       "       24.52032983, 17.57076165, 19.77248   ,  7.3706325 , 42.07837641,\n",
       "       23.64741069, 14.78101027, 30.0724271 ,  3.3274431 , 17.74420373,\n",
       "       10.53718003, 34.40883822, 42.17393307, 21.52504899, 40.27166671,\n",
       "        8.17009552,  3.85352476, 20.93420007, 16.04377339, 17.05103168,\n",
       "        5.71785528, 15.53117636, 21.78204771, 35.98517678, 14.71776725,\n",
       "       31.31374828, 39.90883705, 43.89176684, 12.53561608, 31.75225289,\n",
       "       15.67382123, 11.54508497, 26.24125218, 42.0676485 , 31.18139544,\n",
       "       40.80318496, 13.67584951,  9.7290116 , 16.50092013, 19.51591106,\n",
       "       31.5531976 , 38.36880199, 11.86353508,  5.2362715 , 37.54241144])"
      ]
     },
     "execution_count": 4,
     "metadata": {},
     "output_type": "execute_result"
    }
   ],
   "source": [
    "y = w0 + w1 * X + np.random.random(n,)\n",
    "y"
   ]
  },
  {
   "cell_type": "code",
   "execution_count": 5,
   "metadata": {},
   "outputs": [
    {
     "name": "stdout",
     "output_type": "stream",
     "text": [
      "Shape of feature matrix(X) is (100,)\n",
      "Shape of labels(y) is (100,)\n"
     ]
    }
   ],
   "source": [
    "print(f'Shape of feature matrix(X) is {X.shape}')\n",
    "print(f'Shape of labels(y) is {y.shape}')"
   ]
  },
  {
   "cell_type": "code",
   "execution_count": 6,
   "metadata": {},
   "outputs": [],
   "source": [
    "from sklearn.model_selection import train_test_split\n",
    "#42 is the seed, and allows same split to occur everytime the function is executed.\n",
    "X_train, X_test, y_train, y_test = train_test_split(X, y, test_size=0.2, random_state=42) "
   ]
  },
  {
   "cell_type": "code",
   "execution_count": 7,
   "metadata": {},
   "outputs": [
    {
     "name": "stdout",
     "output_type": "stream",
     "text": [
      "80% of examples is assigned to feature training set\n",
      "\n",
      "[5.35470213 9.62357502 9.64703949 6.55627203 9.12682416 6.86353271\n",
      " 0.27779542 8.77453778 6.4057076  4.44456078 1.28068205 2.63535907\n",
      " 3.15653584 8.22826831 3.35486573 3.69741751 7.6388062  1.7823633\n",
      " 7.40578286 7.43834599 4.01158725 9.77824022 3.78474791 6.91014949\n",
      " 0.53128371 8.18632774 9.12354991 8.41551507 6.68486558 9.67264836\n",
      " 0.16355668 4.89488812 4.45862475 4.5989406  9.12655883 8.22099429\n",
      " 5.65272749 3.5286327  9.19934008 6.83882334 3.46107829 8.46584325\n",
      " 8.15607508 8.41338063 5.81003653 9.57667979 5.41624623 4.53766075\n",
      " 2.79840423 2.00719755 2.92238304 3.12844975 0.84784692 3.93740899\n",
      " 0.37168073 3.99360113 0.54225853 0.74158309 3.94306211 9.54925876\n",
      " 0.04479194 7.00420414 4.66330911 2.87458559 2.09165868 0.51169634\n",
      " 2.4515276  0.71749795 5.00892347 5.63209746 2.56294554 3.35868626\n",
      " 1.92017642 9.9834635  2.73473906 5.07155873 0.18958698 2.61319624\n",
      " 1.48156079 5.77233151]\n"
     ]
    }
   ],
   "source": [
    "print(f\"{int(100 * len(X_train)/len(X))}% of examples is assigned to feature training set\\n\")\n",
    "\n",
    "print(X_train)"
   ]
  },
  {
   "cell_type": "code",
   "execution_count": 8,
   "metadata": {},
   "outputs": [
    {
     "name": "stdout",
     "output_type": "stream",
     "text": [
      "20% of examples is assigned to feature test set\n",
      "\n"
     ]
    },
    {
     "data": {
      "text/plain": [
       "array([2.16245718, 5.44865806, 1.13831093, 7.73381152, 8.39118642,\n",
       "       2.40252444, 4.87006548, 6.88402596, 4.95903563, 3.71960902,\n",
       "       4.99697258, 5.21697706, 3.17795169, 8.29522234, 9.25298006,\n",
       "       4.57030118, 3.08436762, 4.47067373, 8.38437411, 5.94989377])"
      ]
     },
     "execution_count": 8,
     "metadata": {},
     "output_type": "execute_result"
    }
   ],
   "source": [
    "print(f\"{int(100 * len(X_test)/len(X))}% of examples is assigned to feature test set\\n\")\n",
    "\n",
    "X_test"
   ]
  },
  {
   "cell_type": "code",
   "execution_count": 9,
   "metadata": {},
   "outputs": [
    {
     "name": "stdout",
     "output_type": "stream",
     "text": [
      "80% of labels is assigned to label training set\n",
      "\n"
     ]
    },
    {
     "data": {
      "text/plain": [
       "array([24.52032983, 42.0676485 , 42.48820647, 29.80341732, 40.27166671,\n",
       "       31.28949388,  5.10768689, 38.36880199, 29.40727104, 20.93420007,\n",
       "        9.12122616, 14.04950011, 15.67382123, 36.41651181, 16.50092013,\n",
       "       18.22387678, 34.40883822, 10.53718003, 32.87312299, 32.85491656,\n",
       "       19.64389813, 42.12992204, 18.5502019 , 31.5531976 ,  5.35400876,\n",
       "       36.02305766, 39.90883705, 37.26599312, 30.0724271 , 41.86283389,\n",
       "        4.32628312, 23.46484784, 21.48245455, 21.45682311, 39.8738842 ,\n",
       "       35.98517678, 25.9106353 , 17.74420373, 40.74289981, 31.18139544,\n",
       "       17.57076165, 37.54241144, 36.17082364, 37.62638715, 26.52085407,\n",
       "       42.17393307, 25.17457028, 21.52504899, 14.78101027, 11.86353508,\n",
       "       14.71776725, 16.29018888,  7.3706325 , 19.48742443,  5.2362715 ,\n",
       "       19.77248   ,  5.71785528,  6.69031422, 19.51591106, 42.07837641,\n",
       "        3.3274431 , 31.75225289, 22.34417353, 14.79349271, 11.52531896,\n",
       "        5.42641158, 13.21075031,  6.01697706, 23.11823992, 26.24125218,\n",
       "       13.67584951, 17.05103168, 11.54508497, 43.89176684, 14.70213285,\n",
       "       23.64741069,  3.85352476, 13.84167983,  9.7290116 , 26.09034846])"
      ]
     },
     "execution_count": 9,
     "metadata": {},
     "output_type": "execute_result"
    }
   ],
   "source": [
    "print(f\"{int(100 * len(y_train)/len(y))}% of labels is assigned to label training set\\n\")\n",
    "\n",
    "y_train"
   ]
  },
  {
   "cell_type": "code",
   "execution_count": 10,
   "metadata": {
    "scrolled": true
   },
   "outputs": [
    {
     "name": "stdout",
     "output_type": "stream",
     "text": [
      "20% of labels is assigned to label test set\n",
      "\n"
     ]
    },
    {
     "data": {
      "text/plain": [
       "array([12.53561608, 25.44093328,  8.17009552, 34.11887316, 36.95687151,\n",
       "       13.52386403, 23.40681521, 31.31374828, 23.01020988, 18.38220375,\n",
       "       23.81155103, 24.79083113, 16.04377339, 37.03018557, 40.80318496,\n",
       "       21.5726967 , 15.53117636, 21.78204771, 37.36486509, 27.47686979])"
      ]
     },
     "execution_count": 10,
     "metadata": {},
     "output_type": "execute_result"
    }
   ],
   "source": [
    "print(f\"{int(100 * len(y_test)/len(y))}% of labels is assigned to label test set\\n\")\n",
    "\n",
    "y_test"
   ]
  },
  {
   "cell_type": "code",
   "execution_count": 11,
   "metadata": {
    "scrolled": true
   },
   "outputs": [
    {
     "name": "stdout",
     "output_type": "stream",
     "text": [
      "Shape of feature training set is (80,)\n",
      "Shape of label training set is (80,)\n",
      "Shape of feature test set is (20,)\n",
      "Shape of label test set is (20,)\n"
     ]
    }
   ],
   "source": [
    "print(f'Shape of feature training set is {X_train.shape}')\n",
    "print(f'Shape of label training set is {y_train.shape}')\n",
    "\n",
    "print(f'Shape of feature test set is {X_test.shape}')\n",
    "print(f'Shape of label test set is {y_test.shape}')"
   ]
  },
  {
   "cell_type": "code",
   "execution_count": 12,
   "metadata": {},
   "outputs": [
    {
     "data": {
      "image/png": "[encoded data removed]",
      "text/plain": [
       "<Figure size 576x576 with 1 Axes>"
      ]
     },
     "metadata": {},
     "output_type": "display_data"
    }
   ],
   "source": [
    "sns.set_style('white')\n",
    "f = plt.figure(figsize=(8,8))\n",
    "sns.set_context(context='notebook',font_scale=1.5,rc={\"lines.linewidth\":2.5})\n",
    "\n",
    "plt.plot(X_train, y_train, \"b.\") #blue dots\n",
    "plt.title(\"Data points\")\n",
    "plt.grid(True)\n",
    "plt.xlabel(\"$x_1$\", fontsize=18)\n",
    "plt.ylabel(\"y\", rotation=0,fontsize=18)\n",
    "plt.axis([0,10,0,40])  # Sets start/end of X and Y axis in the same order.\n",
    "\n",
    "plt.show()"
   ]
  },
  {
   "cell_type": "code",
   "execution_count": 13,
   "metadata": {},
   "outputs": [
    {
     "data": {
      "text/plain": [
       "array([[1.        , 3.71960902],\n",
       "       [1.        , 2.09165868],\n",
       "       [1.        , 0.71749795],\n",
       "       [1.        , 4.89488812],\n",
       "       [1.        , 4.57030118],\n",
       "       [1.        , 3.69741751],\n",
       "       [1.        , 5.65272749],\n",
       "       [1.        , 3.78474791],\n",
       "       [1.        , 9.12655883],\n",
       "       [1.        , 6.4057076 ],\n",
       "       [1.        , 4.95903563],\n",
       "       [1.        , 1.28068205],\n",
       "       [1.        , 8.38437411],\n",
       "       [1.        , 9.67264836],\n",
       "       [1.        , 2.61319624],\n",
       "       [1.        , 6.86353271],\n",
       "       [1.        , 7.43834599],\n",
       "       [1.        , 4.45862475],\n",
       "       [1.        , 4.99697258],\n",
       "       [1.        , 8.18632774],\n",
       "       [1.        , 2.73473906],\n",
       "       [1.        , 2.4515276 ],\n",
       "       [1.        , 4.87006548],\n",
       "       [1.        , 5.00892347],\n",
       "       [1.        , 0.16355668],\n",
       "       [1.        , 8.41551507],\n",
       "       [1.        , 9.64703949],\n",
       "       [1.        , 0.53128371],\n",
       "       [1.        , 8.22826831],\n",
       "       [1.        , 2.87458559],\n",
       "       [1.        , 5.21697706],\n",
       "       [1.        , 5.94989377],\n",
       "       [1.        , 0.74158309],\n",
       "       [1.        , 8.29522234],\n",
       "       [1.        , 9.77824022],\n",
       "       [1.        , 7.40578286],\n",
       "       [1.        , 9.19934008],\n",
       "       [1.        , 4.66330911],\n",
       "       [1.        , 4.5989406 ],\n",
       "       [1.        , 2.40252444],\n",
       "       [1.        , 0.27779542],\n",
       "       [1.        , 3.12844975],\n",
       "       [1.        , 6.55627203],\n",
       "       [1.        , 8.41338063],\n",
       "       [1.        , 8.39118642],\n",
       "       [1.        , 7.73381152],\n",
       "       [1.        , 5.41624623],\n",
       "       [1.        , 2.63535907],\n",
       "       [1.        , 3.93740899],\n",
       "       [1.        , 4.01158725],\n",
       "       [1.        , 5.81003653],\n",
       "       [1.        , 5.77233151],\n",
       "       [1.        , 0.51169634],\n",
       "       [1.        , 5.44865806],\n",
       "       [1.        , 8.15607508],\n",
       "       [1.        , 5.35470213],\n",
       "       [1.        , 3.46107829],\n",
       "       [1.        , 3.99360113],\n",
       "       [1.        , 0.84784692],\n",
       "       [1.        , 9.54925876],\n",
       "       [1.        , 5.07155873],\n",
       "       [1.        , 2.79840423],\n",
       "       [1.        , 6.68486558],\n",
       "       [1.        , 0.04479194],\n",
       "       [1.        , 3.5286327 ],\n",
       "       [1.        , 1.7823633 ],\n",
       "       [1.        , 7.6388062 ],\n",
       "       [1.        , 9.57667979],\n",
       "       [1.        , 4.53766075],\n",
       "       [1.        , 9.12682416],\n",
       "       [1.        , 1.13831093],\n",
       "       [1.        , 0.18958698],\n",
       "       [1.        , 4.44456078],\n",
       "       [1.        , 3.17795169],\n",
       "       [1.        , 3.35868626],\n",
       "       [1.        , 0.54225853],\n",
       "       [1.        , 3.08436762],\n",
       "       [1.        , 4.47067373],\n",
       "       [1.        , 8.22099429],\n",
       "       [1.        , 2.92238304],\n",
       "       [1.        , 6.88402596],\n",
       "       [1.        , 9.12354991],\n",
       "       [1.        , 9.9834635 ],\n",
       "       [1.        , 2.16245718],\n",
       "       [1.        , 7.00420414],\n",
       "       [1.        , 3.15653584],\n",
       "       [1.        , 1.92017642],\n",
       "       [1.        , 5.63209746],\n",
       "       [1.        , 9.62357502],\n",
       "       [1.        , 6.83882334],\n",
       "       [1.        , 9.25298006],\n",
       "       [1.        , 2.56294554],\n",
       "       [1.        , 1.48156079],\n",
       "       [1.        , 3.35486573],\n",
       "       [1.        , 3.94306211],\n",
       "       [1.        , 6.91014949],\n",
       "       [1.        , 8.77453778],\n",
       "       [1.        , 2.00719755],\n",
       "       [1.        , 0.37168073],\n",
       "       [1.        , 8.46584325]])"
      ]
     },
     "execution_count": 13,
     "metadata": {},
     "output_type": "execute_result"
    }
   ],
   "source": [
    "np.column_stack((np.ones(X.shape[0]), X))"
   ]
  },
  {
   "cell_type": "code",
   "execution_count": 14,
   "metadata": {},
   "outputs": [],
   "source": [
    "# Converting above logic to a function\n",
    "def add_dummy_feature(x):\n",
    "    return np.column_stack((np.ones(x.shape[0]), x))"
   ]
  },
  {
   "cell_type": "code",
   "execution_count": 15,
   "metadata": {},
   "outputs": [
    {
     "data": {
      "text/plain": [
       "array([[1., 1., 2., 3.],\n",
       "       [1., 4., 5., 6.]])"
      ]
     },
     "execution_count": 15,
     "metadata": {},
     "output_type": "execute_result"
    }
   ],
   "source": [
    "# testing the above function\n",
    "train_matrix = np.array([[1,2,3], [4,5,6]]) # each feature is a 3-d vector.\n",
    "train_matrix = add_dummy_feature(train_matrix)\n",
    "train_matrix"
   ]
  },
  {
   "cell_type": "code",
   "execution_count": 16,
   "metadata": {
    "scrolled": true
   },
   "outputs": [
    {
     "data": {
      "text/plain": [
       "array([[1.        , 5.35470213],\n",
       "       [1.        , 9.62357502],\n",
       "       [1.        , 9.64703949],\n",
       "       [1.        , 6.55627203],\n",
       "       [1.        , 9.12682416],\n",
       "       [1.        , 6.86353271],\n",
       "       [1.        , 0.27779542],\n",
       "       [1.        , 8.77453778],\n",
       "       [1.        , 6.4057076 ],\n",
       "       [1.        , 4.44456078],\n",
       "       [1.        , 1.28068205],\n",
       "       [1.        , 2.63535907],\n",
       "       [1.        , 3.15653584],\n",
       "       [1.        , 8.22826831],\n",
       "       [1.        , 3.35486573],\n",
       "       [1.        , 3.69741751],\n",
       "       [1.        , 7.6388062 ],\n",
       "       [1.        , 1.7823633 ],\n",
       "       [1.        , 7.40578286],\n",
       "       [1.        , 7.43834599],\n",
       "       [1.        , 4.01158725],\n",
       "       [1.        , 9.77824022],\n",
       "       [1.        , 3.78474791],\n",
       "       [1.        , 6.91014949],\n",
       "       [1.        , 0.53128371],\n",
       "       [1.        , 8.18632774],\n",
       "       [1.        , 9.12354991],\n",
       "       [1.        , 8.41551507],\n",
       "       [1.        , 6.68486558],\n",
       "       [1.        , 9.67264836],\n",
       "       [1.        , 0.16355668],\n",
       "       [1.        , 4.89488812],\n",
       "       [1.        , 4.45862475],\n",
       "       [1.        , 4.5989406 ],\n",
       "       [1.        , 9.12655883],\n",
       "       [1.        , 8.22099429],\n",
       "       [1.        , 5.65272749],\n",
       "       [1.        , 3.5286327 ],\n",
       "       [1.        , 9.19934008],\n",
       "       [1.        , 6.83882334],\n",
       "       [1.        , 3.46107829],\n",
       "       [1.        , 8.46584325],\n",
       "       [1.        , 8.15607508],\n",
       "       [1.        , 8.41338063],\n",
       "       [1.        , 5.81003653],\n",
       "       [1.        , 9.57667979],\n",
       "       [1.        , 5.41624623],\n",
       "       [1.        , 4.53766075],\n",
       "       [1.        , 2.79840423],\n",
       "       [1.        , 2.00719755],\n",
       "       [1.        , 2.92238304],\n",
       "       [1.        , 3.12844975],\n",
       "       [1.        , 0.84784692],\n",
       "       [1.        , 3.93740899],\n",
       "       [1.        , 0.37168073],\n",
       "       [1.        , 3.99360113],\n",
       "       [1.        , 0.54225853],\n",
       "       [1.        , 0.74158309],\n",
       "       [1.        , 3.94306211],\n",
       "       [1.        , 9.54925876],\n",
       "       [1.        , 0.04479194],\n",
       "       [1.        , 7.00420414],\n",
       "       [1.        , 4.66330911],\n",
       "       [1.        , 2.87458559],\n",
       "       [1.        , 2.09165868],\n",
       "       [1.        , 0.51169634],\n",
       "       [1.        , 2.4515276 ],\n",
       "       [1.        , 0.71749795],\n",
       "       [1.        , 5.00892347],\n",
       "       [1.        , 5.63209746],\n",
       "       [1.        , 2.56294554],\n",
       "       [1.        , 3.35868626],\n",
       "       [1.        , 1.92017642],\n",
       "       [1.        , 9.9834635 ],\n",
       "       [1.        , 2.73473906],\n",
       "       [1.        , 5.07155873],\n",
       "       [1.        , 0.18958698],\n",
       "       [1.        , 2.61319624],\n",
       "       [1.        , 1.48156079],\n",
       "       [1.        , 5.77233151]])"
      ]
     },
     "execution_count": 16,
     "metadata": {},
     "output_type": "execute_result"
    }
   ],
   "source": [
    "#apply the function to X_train\n",
    "X_train = add_dummy_feature(X_train)\n",
    "X_train"
   ]
  },
  {
   "cell_type": "markdown",
   "metadata": {},
   "source": [
    "### Model "
   ]
  },
  {
   "cell_type": "code",
   "execution_count": 17,
   "metadata": {},
   "outputs": [],
   "source": [
    "#Predicting label follows the equation y = Xw, in its vectorized form.\n",
    "def predict(X, w):\n",
    "    if X.shape[1] == w.shape[0]:\n",
    "        return X @ w\n",
    "    else:\n",
    "        return None"
   ]
  },
  {
   "cell_type": "code",
   "execution_count": 18,
   "metadata": {},
   "outputs": [],
   "source": [
    "def generate_examples():\n",
    "    X = 10 * np.random.random(n, )\n",
    "    y = w0 + w1 * X\n",
    "    X_train, X_test, y_train, y_test = train_test_split(X, y, test_size=0.2, random_state=42) \n",
    "    X_train = add_dummy_feature(X_train)\n",
    "    return X_train, X_test, y_train, y_test"
   ]
  },
  {
   "cell_type": "code",
   "execution_count": 19,
   "metadata": {},
   "outputs": [
    {
     "data": {
      "text/plain": [
       "array([3.00761619, 1.33514039, 3.2445709 , 3.19948301, 3.78654678,\n",
       "       4.03024584, 2.65581408, 1.89842661, 2.05307135, 2.73065738,\n",
       "       4.06845367, 1.7536756 , 1.92837747, 3.36332478, 3.31953587,\n",
       "       3.768329  , 1.88720984, 2.34184717, 3.72612962, 3.56295355,\n",
       "       3.0029373 , 1.72582755, 3.66201444, 1.25477005, 3.62120367,\n",
       "       2.18374056, 2.25821041, 3.75899287, 1.66867343, 2.84103413,\n",
       "       1.26226944, 2.25493133, 3.93217196, 3.95129656, 4.07062895,\n",
       "       2.18271031, 2.8224369 , 2.04945756, 1.46504665, 2.80926285,\n",
       "       3.95251385, 2.75715225, 3.54195596, 2.71013999, 3.53111619,\n",
       "       1.80623734, 1.02916209, 3.74933656, 1.30984193, 1.75193005,\n",
       "       3.82438114, 2.53583072, 1.72530271, 3.51277089, 1.72873681,\n",
       "       3.64092963, 1.98688366, 3.17230317, 1.51779402, 3.14279016,\n",
       "       2.8750725 , 2.18711119, 1.90402583, 2.58928848, 1.99200224,\n",
       "       3.2490539 , 2.96240775, 2.10319835, 3.80009561, 1.24388506,\n",
       "       1.15022589, 2.17932936, 1.99594759, 1.2786219 , 2.87094924,\n",
       "       3.35259326, 3.07313019, 1.71141264, 2.07378052, 3.11004549])"
      ]
     },
     "execution_count": 19,
     "metadata": {},
     "output_type": "execute_result"
    }
   ],
   "source": [
    "# test it with the examples generated using above function\n",
    "X_train, X_test, y_train, y_test = generate_examples()\n",
    "y_hat =  predict (X_train, np.random.rand(2,))\n",
    "y_hat"
   ]
  },
  {
   "cell_type": "markdown",
   "metadata": {},
   "source": [
    "### Loss"
   ]
  },
  {
   "cell_type": "code",
   "execution_count": 20,
   "metadata": {},
   "outputs": [],
   "source": [
    "def loss (X, y, w=None):\n",
    "    if w is None:\n",
    "        w = np.zeros(X.shape[1])\n",
    "    e = X @ w - y\n",
    "    return 0.5 * (e.T @ e)"
   ]
  },
  {
   "cell_type": "code",
   "execution_count": 21,
   "metadata": {},
   "outputs": [
    {
     "data": {
      "text/plain": [
       "62.5"
      ]
     },
     "execution_count": 21,
     "metadata": {},
     "output_type": "execute_result"
    }
   ],
   "source": [
    "X = np.array([[1,3,2,5],[1,9,4,7]])\n",
    "y = np.array([6,11])\n",
    "w = np.array([1,1,1,1])\n",
    "\n",
    "loss(X, y,w)"
   ]
  },
  {
   "cell_type": "code",
   "execution_count": 22,
   "metadata": {},
   "outputs": [],
   "source": [
    "def rmse(X, y):\n",
    "    return np.sqrt(2/X.shape[0] * loss(X, y))"
   ]
  },
  {
   "cell_type": "code",
   "execution_count": 23,
   "metadata": {},
   "outputs": [
    {
     "data": {
      "text/plain": [
       "26.471131381291492"
      ]
     },
     "execution_count": 23,
     "metadata": {},
     "output_type": "execute_result"
    }
   ],
   "source": [
    "rmse(X_train, y_train)"
   ]
  },
  {
   "cell_type": "code",
   "execution_count": 24,
   "metadata": {
    "scrolled": true
   },
   "outputs": [
    {
     "data": {
      "text/plain": [
       "0.0"
      ]
     },
     "execution_count": 24,
     "metadata": {},
     "output_type": "execute_result"
    }
   ],
   "source": [
    "X_train, X_test, y_train, y_test = generate_examples()\n",
    "loss(X_train, y_train, np.array([3,4]))  #Since weight vector is (3,4), there's no loss"
   ]
  },
  {
   "cell_type": "code",
   "execution_count": 25,
   "metadata": {},
   "outputs": [
    {
     "name": "stdout",
     "output_type": "stream",
     "text": [
      "2.3117213034749184 6.691801171229339\n"
     ]
    }
   ],
   "source": [
    "#Generate weight vector\n",
    "w = 10 * np.random.rand(2,)\n",
    "print(w[0], w[1])"
   ]
  },
  {
   "cell_type": "code",
   "execution_count": 26,
   "metadata": {
    "scrolled": true
   },
   "outputs": [
    {
     "data": {
      "text/plain": [
       "<matplotlib.collections.LineCollection at 0x25e17e905c8>"
      ]
     },
     "execution_count": 26,
     "metadata": {},
     "output_type": "execute_result"
    },
    {
     "data": {
      "image/png": "[encoded data removed]",
      "text/plain": [
       "<Figure size 576x576 with 1 Axes>"
      ]
     },
     "metadata": {},
     "output_type": "display_data"
    }
   ],
   "source": [
    "y_new = predict(X_train, w)\n",
    "fig, axes = plt.subplots(figsize=(8,8))\n",
    "axes.plot(X_train[:,1], y_train, c='b', label='Training')\n",
    "axes.scatter(X_train[:,1], y_new, c='g', label='Error')\n",
    "axes.vlines(X_train[:,1], y_new, y_train, colors=\"r\", label=\"loss\")"
   ]
  },
  {
   "cell_type": "markdown",
   "metadata": {},
   "source": [
    "### Optimization"
   ]
  },
  {
   "cell_type": "markdown",
   "metadata": {},
   "source": [
    "#### Normal equation method"
   ]
  },
  {
   "cell_type": "code",
   "execution_count": 27,
   "metadata": {},
   "outputs": [],
   "source": [
    "def normal_equation(X, y):\n",
    "    return np.linalg.pinv(X) @ y"
   ]
  },
  {
   "cell_type": "code",
   "execution_count": 28,
   "metadata": {},
   "outputs": [
    {
     "data": {
      "text/plain": [
       "array([3., 4.])"
      ]
     },
     "execution_count": 28,
     "metadata": {},
     "output_type": "execute_result"
    }
   ],
   "source": [
    "normal_equation(X_train, y_train)"
   ]
  },
  {
   "cell_type": "markdown",
   "metadata": {},
   "source": [
    "#### Gradient descent method"
   ]
  },
  {
   "cell_type": "code",
   "execution_count": 29,
   "metadata": {},
   "outputs": [],
   "source": [
    "lr = 0.0001 #learning rate"
   ]
  },
  {
   "cell_type": "code",
   "execution_count": 30,
   "metadata": {},
   "outputs": [],
   "source": [
    "def calculate_gradient(X, y, w):\n",
    "    return np.transpose(X) @ (predict(X, w) - y)"
   ]
  },
  {
   "cell_type": "code",
   "execution_count": 31,
   "metadata": {},
   "outputs": [
    {
     "data": {
      "text/plain": [
       "array([0., 0.])"
      ]
     },
     "execution_count": 31,
     "metadata": {},
     "output_type": "execute_result"
    }
   ],
   "source": [
    "g = calculate_gradient(X_train, y_train, np.array([3,4]))  #Since weight vector is (3,4), gradient is 0.\n",
    "g"
   ]
  },
  {
   "cell_type": "code",
   "execution_count": 32,
   "metadata": {},
   "outputs": [],
   "source": [
    "def weight_update(w, lr, g):\n",
    "    return w - lr * g"
   ]
  },
  {
   "cell_type": "code",
   "execution_count": 33,
   "metadata": {},
   "outputs": [],
   "source": [
    "def gradient_descent(X, y, epochs):\n",
    "    # Start with an arbitrary weight vector say, [0, 0].  \n",
    "    # After \"many\" iterations, we should reach the original weight vector [3,4]]\n",
    "    losses = list() \n",
    "    weights = list()\n",
    "    w = np.zeros(X.shape[1])\n",
    "    for i in range(epochs):\n",
    "        l = loss(X_train, y_train, w)\n",
    "        losses.append(l)\n",
    "        g = calculate_gradient(X, y, w)\n",
    "        w = weight_update(w, lr, g)\n",
    "        weights.append(w)\n",
    "    return weights, losses"
   ]
  },
  {
   "cell_type": "code",
   "execution_count": 34,
   "metadata": {},
   "outputs": [
    {
     "data": {
      "text/plain": [
       "array([3., 4.])"
      ]
     },
     "execution_count": 34,
     "metadata": {},
     "output_type": "execute_result"
    }
   ],
   "source": [
    "epochs = 10000\n",
    "weights, losses = gradient_descent(X_train, y_train, epochs)\n",
    "weights[-1]# last weight from the <epochs> trials."
   ]
  },
  {
   "cell_type": "code",
   "execution_count": 35,
   "metadata": {
    "scrolled": false
   },
   "outputs": [
    {
     "data": {
      "image/png": "[encoded data removed]",
      "text/plain": [
       "<Figure size 432x288 with 1 Axes>"
      ]
     },
     "metadata": {},
     "output_type": "display_data"
    }
   ],
   "source": [
    "def plot_learning_curves(losses):\n",
    "    plt.plot(losses)\n",
    "    \n",
    "plot_learning_curves(losses)"
   ]
  },
  {
   "cell_type": "markdown",
   "metadata": {},
   "source": [
    "#### Mini-batch gradient descent"
   ]
  },
  {
   "cell_type": "code",
   "execution_count": 36,
   "metadata": {
    "scrolled": true
   },
   "outputs": [
    {
     "data": {
      "text/plain": [
       "0.0"
      ]
     },
     "execution_count": 36,
     "metadata": {},
     "output_type": "execute_result"
    }
   ],
   "source": [
    "X_train, X_test, y_train, y_test = generate_examples()\n",
    "loss(X_train, y_train, np.array([3,4]))  #Since weight vector is (3,4), there's no loss"
   ]
  },
  {
   "cell_type": "code",
   "execution_count": 37,
   "metadata": {},
   "outputs": [],
   "source": [
    "t1, t2 = 200, 10000\n",
    "def learning_schedule(t):\n",
    "    return t1 / (t + t2)"
   ]
  },
  {
   "cell_type": "code",
   "execution_count": 38,
   "metadata": {},
   "outputs": [],
   "source": [
    "def mini_batch_gd(X, y, iterations, mini_batch_size):\n",
    "    t = 0\n",
    "    w = np.zeros(X.shape[1])  #initializing arbitrary values.\n",
    "    weights, losses = list(), list()\n",
    "\n",
    "    for iteration in range(iterations):\n",
    "        shuffled_indices = np.random.permutation(X.shape[0])\n",
    "        X_shuffled = X[shuffled_indices]\n",
    "        y_shuffled = y[shuffled_indices]\n",
    "\n",
    "        for i in range(0, X.shape[0], mini_batch_size):\n",
    "            t += 1\n",
    "            x1 = X_shuffled[i:i+mini_batch_size]\n",
    "            y1 = y_shuffled[i:i+mini_batch_size]\n",
    "\n",
    "            l = loss(x1, y1, w)\n",
    "            losses.append(l)\n",
    "\n",
    "            g = 2/mini_batch_size * calculate_gradient(x1, y1, w)\n",
    "            w = weight_update(w, learning_schedule(t), g)\n",
    "            weights.append(w)\n",
    "\n",
    "    return weights, losses"
   ]
  },
  {
   "cell_type": "code",
   "execution_count": 39,
   "metadata": {},
   "outputs": [],
   "source": [
    "mini_batch_size = 8\n",
    "iterations = 20\n",
    "\n",
    "X_train, X_test, y_train, y_test = generate_examples()\n",
    "weights, losses = mini_batch_gd(X_train, y_train, iterations, mini_batch_size)"
   ]
  },
  {
   "cell_type": "code",
   "execution_count": 40,
   "metadata": {
    "scrolled": false
   },
   "outputs": [
    {
     "data": {
      "image/png": "[encoded data removed]",
      "text/plain": [
       "<Figure size 432x288 with 1 Axes>"
      ]
     },
     "metadata": {},
     "output_type": "display_data"
    }
   ],
   "source": [
    "plot_learning_curves(losses)"
   ]
  },
  {
   "cell_type": "markdown",
   "metadata": {},
   "source": [
    "#### Stochastic Gradient Descent (SGD)"
   ]
  },
  {
   "cell_type": "code",
   "execution_count": 41,
   "metadata": {},
   "outputs": [],
   "source": [
    "t1, t2 = 200, 10000\n",
    "def learning_schedule(t):\n",
    "    return t1 / (t + t2)"
   ]
  },
  {
   "cell_type": "code",
   "execution_count": 42,
   "metadata": {},
   "outputs": [],
   "source": [
    "def sgd(X, y, iterations):\n",
    "    t = 0\n",
    "    w = np.zeros(X.shape[1])  #initializing arbitrary values.\n",
    "    weights, losses = list(), list()\n",
    "    \n",
    "    for iteration in range(iterations):\n",
    "        shuffled_indices = np.random.permutation(X.shape[0])\n",
    "        X_shuffled = X[shuffled_indices]\n",
    "        y_shuffled = y[shuffled_indices]\n",
    "\n",
    "        for i in range(0, X.shape[0]):\n",
    "            t += 1\n",
    "            x1 = X_shuffled[i:i+1]\n",
    "            y1 = y_shuffled[i:i+1]\n",
    "\n",
    "            l = loss(x1, y1, w)\n",
    "            losses.append(l)\n",
    "\n",
    "            g = 2/mini_batch_size * calculate_gradient(x1, y1, w)\n",
    "            w = weight_update(w, learning_schedule(t), g)\n",
    "            weights.append(w)\n",
    "\n",
    "    return weights, losses"
   ]
  },
  {
   "cell_type": "code",
   "execution_count": 43,
   "metadata": {},
   "outputs": [],
   "source": [
    "iterations = 20\n",
    "\n",
    "X_train, X_test, y_train, y_test = generate_examples()\n",
    "weights, losses = sgd(X_train, y_train, iterations)"
   ]
  },
  {
   "cell_type": "code",
   "execution_count": 44,
   "metadata": {
    "scrolled": true
   },
   "outputs": [
    {
     "data": {
      "image/png": "[encoded data removed]",
      "text/plain": [
       "<Figure size 432x288 with 1 Axes>"
      ]
     },
     "metadata": {},
     "output_type": "display_data"
    }
   ],
   "source": [
    "plot_learning_curves(losses)"
   ]
  },
  {
   "cell_type": "markdown",
   "metadata": {},
   "source": [
    "### Handling more features"
   ]
  },
  {
   "cell_type": "code",
   "execution_count": 45,
   "metadata": {},
   "outputs": [],
   "source": [
    "from sklearn.datasets import make_regression\n",
    "\n",
    "X, y, weights = make_regression(n_samples=200, n_features=10, n_informative=10, n_targets=1, \n",
    "                shuffle=True, coef=True, noise=0.5, random_state=0)"
   ]
  },
  {
   "cell_type": "code",
   "execution_count": 46,
   "metadata": {},
   "outputs": [],
   "source": [
    "X = add_dummy_feature(X)"
   ]
  },
  {
   "cell_type": "code",
   "execution_count": 47,
   "metadata": {},
   "outputs": [],
   "source": [
    "from sklearn.model_selection import train_test_split\n",
    "#42 is the seed, and allows same split to occur everytime the function is executed.\n",
    "X_train, X_test, y_train, y_test = train_test_split(X, y, test_size=0.2, random_state=42) "
   ]
  },
  {
   "cell_type": "code",
   "execution_count": 48,
   "metadata": {
    "scrolled": true
   },
   "outputs": [
    {
     "data": {
      "text/plain": [
       "((160, 11), (160,))"
      ]
     },
     "execution_count": 48,
     "metadata": {},
     "output_type": "execute_result"
    }
   ],
   "source": [
    "X_train.shape, y_train.shape"
   ]
  },
  {
   "cell_type": "code",
   "execution_count": 49,
   "metadata": {},
   "outputs": [
    {
     "data": {
      "text/plain": [
       "array([40.05104636, 10.32532207, 51.90989393,  6.18447832, 41.09157343,\n",
       "       28.46940664, 88.97621358,  9.68032193, 15.48694157, 44.96944303])"
      ]
     },
     "execution_count": 49,
     "metadata": {},
     "output_type": "execute_result"
    }
   ],
   "source": [
    "weights"
   ]
  },
  {
   "cell_type": "code",
   "execution_count": 50,
   "metadata": {},
   "outputs": [
    {
     "data": {
      "text/plain": [
       "array([4.30868690e-03, 4.00335228e+01, 1.03086790e+01, 5.19091277e+01,\n",
       "       6.29286567e+00, 4.11625781e+01, 2.84422862e+01, 8.89543306e+01,\n",
       "       9.75752481e+00, 1.54723974e+01, 4.49980952e+01])"
      ]
     },
     "execution_count": 50,
     "metadata": {},
     "output_type": "execute_result"
    }
   ],
   "source": [
    "normal_equation(X_train, y_train)"
   ]
  },
  {
   "cell_type": "code",
   "execution_count": 51,
   "metadata": {
    "scrolled": true
   },
   "outputs": [
    {
     "data": {
      "text/plain": [
       "array([4.30868690e-03, 4.00335228e+01, 1.03086790e+01, 5.19091277e+01,\n",
       "       6.29286567e+00, 4.11625781e+01, 2.84422862e+01, 8.89543306e+01,\n",
       "       9.75752481e+00, 1.54723974e+01, 4.49980952e+01])"
      ]
     },
     "execution_count": 51,
     "metadata": {},
     "output_type": "execute_result"
    }
   ],
   "source": [
    "weights, losses = gradient_descent(X_train, y_train, 10000)\n",
    "weights[-1]"
   ]
  },
  {
   "cell_type": "code",
   "execution_count": 52,
   "metadata": {
    "scrolled": false
   },
   "outputs": [
    {
     "data": {
      "image/png": "[encoded data removed]",
      "text/plain": [
       "<Figure size 432x288 with 1 Axes>"
      ]
     },
     "metadata": {},
     "output_type": "display_data"
    }
   ],
   "source": [
    "plot_learning_curves(losses)"
   ]
  },
  {
   "cell_type": "code",
   "execution_count": 53,
   "metadata": {
    "scrolled": false
   },
   "outputs": [
    {
     "data": {
      "text/plain": [
       "array([8.15677749e-04, 4.00316187e+01, 1.03096681e+01, 5.19128375e+01,\n",
       "       6.29174508e+00, 4.11619364e+01, 2.84410832e+01, 8.89532728e+01,\n",
       "       9.76876875e+00, 1.54762648e+01, 4.49939649e+01])"
      ]
     },
     "execution_count": 53,
     "metadata": {},
     "output_type": "execute_result"
    }
   ],
   "source": [
    "weights, losses = mini_batch_gd(X_train, y_train, 20, 10)\n",
    "weights[-1]"
   ]
  },
  {
   "cell_type": "code",
   "execution_count": 54,
   "metadata": {
    "scrolled": false
   },
   "outputs": [
    {
     "data": {
      "image/png": "[encoded data removed]",
      "text/plain": [
       "<Figure size 432x288 with 1 Axes>"
      ]
     },
     "metadata": {},
     "output_type": "display_data"
    }
   ],
   "source": [
    "plot_learning_curves(losses)"
   ]
  },
  {
   "cell_type": "code",
   "execution_count": 55,
   "metadata": {
    "scrolled": false
   },
   "outputs": [
    {
     "data": {
      "text/plain": [
       "array([1.04975408e-02, 4.00320232e+01, 1.03077735e+01, 5.19037746e+01,\n",
       "       6.29017721e+00, 4.11620958e+01, 2.84362518e+01, 8.89517365e+01,\n",
       "       9.75699833e+00, 1.54675197e+01, 4.49995631e+01])"
      ]
     },
     "execution_count": 55,
     "metadata": {},
     "output_type": "execute_result"
    }
   ],
   "source": [
    "weights, losses = sgd(X_train, y_train, 20)\n",
    "weights[-1]"
   ]
  },
  {
   "cell_type": "code",
   "execution_count": 56,
   "metadata": {
    "scrolled": false
   },
   "outputs": [
    {
     "data": {
      "image/png": "[encoded data removed]",
      "text/plain": [
       "<Figure size 432x288 with 1 Axes>"
      ]
     },
     "metadata": {},
     "output_type": "display_data"
    }
   ],
   "source": [
    "plot_learning_curves(losses)"
   ]
  }
 ],
 "metadata": {
  "kernelspec": {
   "display_name": "Python 3",
   "language": "python",
   "name": "python3"
  },
  "language_info": {
   "codemirror_mode": {
    "name": "ipython",
    "version": 3
   },
   "file_extension": ".py",
   "mimetype": "text/x-python",
   "name": "python",
   "nbconvert_exporter": "python",
   "pygments_lexer": "ipython3",
   "version": "3.7.4"
  }
 },
 "nbformat": 4,
 "nbformat_minor": 2
}
